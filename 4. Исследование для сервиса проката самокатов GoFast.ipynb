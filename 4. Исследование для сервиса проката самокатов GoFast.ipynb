{
 "cells": [
  {
   "cell_type": "markdown",
   "id": "bb8e51ec",
   "metadata": {},
   "source": [
    "# Исследование для сервиса проката самокатов GoFast"
   ]
  },
  {
   "cell_type": "markdown",
   "id": "c88bf076",
   "metadata": {},
   "source": [
    "## Описание данных"
   ]
  },
  {
   "cell_type": "markdown",
   "id": "ace3e654",
   "metadata": {},
   "source": [
    "Вы аналитик популярного сервиса аренды самокатов GoFast. Вам передали данные о некоторых пользователях из нескольких городов, а также об их поездках. Проанализируйте данные и проверьте некоторые гипотезы, которые могут помочь бизнесу вырасти.\n",
    "Чтобы совершать поездки по городу, пользователи сервиса GoFast пользуются мобильным приложением. Сервисом можно пользоваться:\n",
    "\n",
    "**без подписки**\n",
    "- абонентская плата отсутствует;\n",
    "- стоимость одной минуты поездки — 8 рублей;\n",
    "- стоимость старта (начала поездки) — 50 рублей;\n",
    "\n",
    "**с подпиской Ultra**\n",
    "- абонентская плата — 199 рублей в месяц;\n",
    "- стоимость одной минуты поездки — 6 рублей;\n",
    "- стоимость старта — бесплатно."
   ]
  },
  {
   "cell_type": "markdown",
   "id": "21a7555e",
   "metadata": {},
   "source": [
    "В основных данных есть информация о пользователях, их поездках и подписках.\\\n",
    "Пользователи — `users_go.csv`\n",
    "- `user_id`\tуникальный идентификатор пользователя\n",
    "- `name`\tимя пользователя\n",
    "- `age`\tвозраст\n",
    "- `city`\tгород\n",
    "- `subscription_type`\tтип подписки (free, ultra)"
   ]
  },
  {
   "cell_type": "markdown",
   "id": "192687b8",
   "metadata": {},
   "source": [
    "Поездки — `rides_go.csv`\n",
    "- `user_id`\tуникальный идентификатор пользователя\n",
    "- `distance`\tрасстояние, которое пользователь проехал в текущей сессии (в метрах)\n",
    "- `duration`\tпродолжительность сессии (в минутах) — время с того момента, как пользователь нажал кнопку «Начать поездку» до момента, как он нажал кнопку «Завершить поездку»\n",
    "- `date`\tдата совершения поездки\n"
   ]
  },
  {
   "cell_type": "markdown",
   "id": "4386a7c2",
   "metadata": {},
   "source": [
    "Подписки — `subscriptions_go.csv`\n",
    "- `subscription_type`\tтип подписки\n",
    "- `minute_price`\tстоимость одной минуты поездки по данной подписке\n",
    "- `start_ride_price`\tстоимость начала поездки\n",
    "- `subscription_fee`\tстоимость ежемесячного платежа"
   ]
  },
  {
   "cell_type": "markdown",
   "id": "1f5d9eea",
   "metadata": {},
   "source": [
    "## Загрузка данных"
   ]
  },
  {
   "cell_type": "markdown",
   "id": "e620a40b",
   "metadata": {},
   "source": [
    "**Загружаем необходимые библиотеки**"
   ]
  },
  {
   "cell_type": "code",
   "execution_count": 1,
   "id": "3dbd19c7",
   "metadata": {},
   "outputs": [],
   "source": [
    "import pandas as pd\n",
    "import matplotlib.pyplot as plt\n",
    "import numpy as np\n",
    "import scipy.stats as st\n",
    "from scipy.stats import binom, norm\n"
   ]
  },
  {
   "cell_type": "markdown",
   "id": "5b6a4aa9",
   "metadata": {},
   "source": [
    "**Открываем данные**"
   ]
  },
  {
   "cell_type": "code",
   "execution_count": 2,
   "id": "07dcb5de",
   "metadata": {
    "scrolled": false
   },
   "outputs": [],
   "source": [
    "try: \n",
    "    users_go = pd.read_csv('/datasets/users_go.csv')\n",
    "    riders_go = pd.read_csv('/datasets/rides_go.csv')\n",
    "    subscriptions_go = pd.read_csv('/datasets/subscriptions_go.csv')\n",
    "except:\n",
    "    users_go = pd.read_csv('c:\\\\python\\\\datasets\\\\users_go.csv')\n",
    "    riders_go = pd.read_csv('c:\\\\python\\\\datasets\\\\rides_go.csv')\n",
    "    subscriptions_go = pd.read_csv('c:\\\\python\\\\datasets\\\\subscriptions_go.csv')"
   ]
  },
  {
   "cell_type": "markdown",
   "id": "f727504d",
   "metadata": {},
   "source": [
    "Создадим функцию для вывода основной информации о датафрейме"
   ]
  },
  {
   "cell_type": "code",
   "execution_count": 3,
   "id": "61fb3c3f",
   "metadata": {},
   "outputs": [],
   "source": [
    "def information_data(data):\n",
    "    display ('Первые десять строк датафрейма:')\n",
    "    display (data.head(10))\n",
    "    display('Основная информация о датафрейме:')\n",
    "    display(data.info())\n",
    "    display('Количество пропусков:')\n",
    "    display(data.isna().sum())\n",
    "    display('Количество дубликатов:')\n",
    "    display(data.duplicated().sum())\n"
   ]
  },
  {
   "cell_type": "markdown",
   "id": "5ef66792",
   "metadata": {},
   "source": [
    "Ознакомимся с данными, представленными в датафрейме о пользователях `users_go`:"
   ]
  },
  {
   "cell_type": "code",
   "execution_count": 4,
   "id": "4505a2d7",
   "metadata": {},
   "outputs": [
    {
     "data": {
      "text/plain": [
       "'Первые десять строк датафрейма:'"
      ]
     },
     "metadata": {},
     "output_type": "display_data"
    },
    {
     "data": {
      "text/html": [
       "<div>\n",
       "<style scoped>\n",
       "    .dataframe tbody tr th:only-of-type {\n",
       "        vertical-align: middle;\n",
       "    }\n",
       "\n",
       "    .dataframe tbody tr th {\n",
       "        vertical-align: top;\n",
       "    }\n",
       "\n",
       "    .dataframe thead th {\n",
       "        text-align: right;\n",
       "    }\n",
       "</style>\n",
       "<table border=\"1\" class=\"dataframe\">\n",
       "  <thead>\n",
       "    <tr style=\"text-align: right;\">\n",
       "      <th></th>\n",
       "      <th>user_id</th>\n",
       "      <th>name</th>\n",
       "      <th>age</th>\n",
       "      <th>city</th>\n",
       "      <th>subscription_type</th>\n",
       "    </tr>\n",
       "  </thead>\n",
       "  <tbody>\n",
       "    <tr>\n",
       "      <th>0</th>\n",
       "      <td>1</td>\n",
       "      <td>Кира</td>\n",
       "      <td>22</td>\n",
       "      <td>Тюмень</td>\n",
       "      <td>ultra</td>\n",
       "    </tr>\n",
       "    <tr>\n",
       "      <th>1</th>\n",
       "      <td>2</td>\n",
       "      <td>Станислав</td>\n",
       "      <td>31</td>\n",
       "      <td>Омск</td>\n",
       "      <td>ultra</td>\n",
       "    </tr>\n",
       "    <tr>\n",
       "      <th>2</th>\n",
       "      <td>3</td>\n",
       "      <td>Алексей</td>\n",
       "      <td>20</td>\n",
       "      <td>Москва</td>\n",
       "      <td>ultra</td>\n",
       "    </tr>\n",
       "    <tr>\n",
       "      <th>3</th>\n",
       "      <td>4</td>\n",
       "      <td>Константин</td>\n",
       "      <td>26</td>\n",
       "      <td>Ростов-на-Дону</td>\n",
       "      <td>ultra</td>\n",
       "    </tr>\n",
       "    <tr>\n",
       "      <th>4</th>\n",
       "      <td>5</td>\n",
       "      <td>Адель</td>\n",
       "      <td>28</td>\n",
       "      <td>Омск</td>\n",
       "      <td>ultra</td>\n",
       "    </tr>\n",
       "    <tr>\n",
       "      <th>5</th>\n",
       "      <td>6</td>\n",
       "      <td>Регина</td>\n",
       "      <td>25</td>\n",
       "      <td>Краснодар</td>\n",
       "      <td>ultra</td>\n",
       "    </tr>\n",
       "    <tr>\n",
       "      <th>6</th>\n",
       "      <td>7</td>\n",
       "      <td>Игорь</td>\n",
       "      <td>23</td>\n",
       "      <td>Омск</td>\n",
       "      <td>ultra</td>\n",
       "    </tr>\n",
       "    <tr>\n",
       "      <th>7</th>\n",
       "      <td>8</td>\n",
       "      <td>Юрий</td>\n",
       "      <td>23</td>\n",
       "      <td>Краснодар</td>\n",
       "      <td>ultra</td>\n",
       "    </tr>\n",
       "    <tr>\n",
       "      <th>8</th>\n",
       "      <td>9</td>\n",
       "      <td>Ян</td>\n",
       "      <td>21</td>\n",
       "      <td>Пятигорск</td>\n",
       "      <td>ultra</td>\n",
       "    </tr>\n",
       "    <tr>\n",
       "      <th>9</th>\n",
       "      <td>10</td>\n",
       "      <td>Валерий</td>\n",
       "      <td>18</td>\n",
       "      <td>Екатеринбург</td>\n",
       "      <td>ultra</td>\n",
       "    </tr>\n",
       "  </tbody>\n",
       "</table>\n",
       "</div>"
      ],
      "text/plain": [
       "   user_id        name  age            city subscription_type\n",
       "0        1        Кира   22          Тюмень             ultra\n",
       "1        2   Станислав   31            Омск             ultra\n",
       "2        3     Алексей   20          Москва             ultra\n",
       "3        4  Константин   26  Ростов-на-Дону             ultra\n",
       "4        5       Адель   28            Омск             ultra\n",
       "5        6      Регина   25       Краснодар             ultra\n",
       "6        7       Игорь   23            Омск             ultra\n",
       "7        8        Юрий   23       Краснодар             ultra\n",
       "8        9          Ян   21       Пятигорск             ultra\n",
       "9       10     Валерий   18    Екатеринбург             ultra"
      ]
     },
     "metadata": {},
     "output_type": "display_data"
    },
    {
     "data": {
      "text/plain": [
       "'Основная информация о датафрейме:'"
      ]
     },
     "metadata": {},
     "output_type": "display_data"
    },
    {
     "name": "stdout",
     "output_type": "stream",
     "text": [
      "<class 'pandas.core.frame.DataFrame'>\n",
      "RangeIndex: 1565 entries, 0 to 1564\n",
      "Data columns (total 5 columns):\n",
      " #   Column             Non-Null Count  Dtype \n",
      "---  ------             --------------  ----- \n",
      " 0   user_id            1565 non-null   int64 \n",
      " 1   name               1565 non-null   object\n",
      " 2   age                1565 non-null   int64 \n",
      " 3   city               1565 non-null   object\n",
      " 4   subscription_type  1565 non-null   object\n",
      "dtypes: int64(2), object(3)\n",
      "memory usage: 61.3+ KB\n"
     ]
    },
    {
     "data": {
      "text/plain": [
       "None"
      ]
     },
     "metadata": {},
     "output_type": "display_data"
    },
    {
     "data": {
      "text/plain": [
       "'Количество пропусков:'"
      ]
     },
     "metadata": {},
     "output_type": "display_data"
    },
    {
     "data": {
      "text/plain": [
       "user_id              0\n",
       "name                 0\n",
       "age                  0\n",
       "city                 0\n",
       "subscription_type    0\n",
       "dtype: int64"
      ]
     },
     "metadata": {},
     "output_type": "display_data"
    },
    {
     "data": {
      "text/plain": [
       "'Количество дубликатов:'"
      ]
     },
     "metadata": {},
     "output_type": "display_data"
    },
    {
     "data": {
      "text/plain": [
       "31"
      ]
     },
     "metadata": {},
     "output_type": "display_data"
    }
   ],
   "source": [
    "information_data(users_go)"
   ]
  },
  {
   "cell_type": "markdown",
   "id": "46575fcc",
   "metadata": {},
   "source": [
    "Ознакомимся с данными, представленными в датафрейме о поездках `riders_go`:"
   ]
  },
  {
   "cell_type": "code",
   "execution_count": 5,
   "id": "13b0212a",
   "metadata": {
    "scrolled": false
   },
   "outputs": [
    {
     "data": {
      "text/plain": [
       "'Первые десять строк датафрейма:'"
      ]
     },
     "metadata": {},
     "output_type": "display_data"
    },
    {
     "data": {
      "text/html": [
       "<div>\n",
       "<style scoped>\n",
       "    .dataframe tbody tr th:only-of-type {\n",
       "        vertical-align: middle;\n",
       "    }\n",
       "\n",
       "    .dataframe tbody tr th {\n",
       "        vertical-align: top;\n",
       "    }\n",
       "\n",
       "    .dataframe thead th {\n",
       "        text-align: right;\n",
       "    }\n",
       "</style>\n",
       "<table border=\"1\" class=\"dataframe\">\n",
       "  <thead>\n",
       "    <tr style=\"text-align: right;\">\n",
       "      <th></th>\n",
       "      <th>user_id</th>\n",
       "      <th>distance</th>\n",
       "      <th>duration</th>\n",
       "      <th>date</th>\n",
       "    </tr>\n",
       "  </thead>\n",
       "  <tbody>\n",
       "    <tr>\n",
       "      <th>0</th>\n",
       "      <td>1</td>\n",
       "      <td>4409.919140</td>\n",
       "      <td>25.599769</td>\n",
       "      <td>2021-01-01</td>\n",
       "    </tr>\n",
       "    <tr>\n",
       "      <th>1</th>\n",
       "      <td>1</td>\n",
       "      <td>2617.592153</td>\n",
       "      <td>15.816871</td>\n",
       "      <td>2021-01-18</td>\n",
       "    </tr>\n",
       "    <tr>\n",
       "      <th>2</th>\n",
       "      <td>1</td>\n",
       "      <td>754.159807</td>\n",
       "      <td>6.232113</td>\n",
       "      <td>2021-04-20</td>\n",
       "    </tr>\n",
       "    <tr>\n",
       "      <th>3</th>\n",
       "      <td>1</td>\n",
       "      <td>2694.783254</td>\n",
       "      <td>18.511000</td>\n",
       "      <td>2021-08-11</td>\n",
       "    </tr>\n",
       "    <tr>\n",
       "      <th>4</th>\n",
       "      <td>1</td>\n",
       "      <td>4028.687306</td>\n",
       "      <td>26.265803</td>\n",
       "      <td>2021-08-28</td>\n",
       "    </tr>\n",
       "    <tr>\n",
       "      <th>5</th>\n",
       "      <td>1</td>\n",
       "      <td>2770.890808</td>\n",
       "      <td>16.650138</td>\n",
       "      <td>2021-10-09</td>\n",
       "    </tr>\n",
       "    <tr>\n",
       "      <th>6</th>\n",
       "      <td>1</td>\n",
       "      <td>3039.020292</td>\n",
       "      <td>14.927879</td>\n",
       "      <td>2021-10-19</td>\n",
       "    </tr>\n",
       "    <tr>\n",
       "      <th>7</th>\n",
       "      <td>1</td>\n",
       "      <td>2842.118050</td>\n",
       "      <td>23.117468</td>\n",
       "      <td>2021-11-06</td>\n",
       "    </tr>\n",
       "    <tr>\n",
       "      <th>8</th>\n",
       "      <td>1</td>\n",
       "      <td>3412.690668</td>\n",
       "      <td>15.238072</td>\n",
       "      <td>2021-11-14</td>\n",
       "    </tr>\n",
       "    <tr>\n",
       "      <th>9</th>\n",
       "      <td>1</td>\n",
       "      <td>748.690645</td>\n",
       "      <td>15.041884</td>\n",
       "      <td>2021-11-22</td>\n",
       "    </tr>\n",
       "  </tbody>\n",
       "</table>\n",
       "</div>"
      ],
      "text/plain": [
       "   user_id     distance   duration        date\n",
       "0        1  4409.919140  25.599769  2021-01-01\n",
       "1        1  2617.592153  15.816871  2021-01-18\n",
       "2        1   754.159807   6.232113  2021-04-20\n",
       "3        1  2694.783254  18.511000  2021-08-11\n",
       "4        1  4028.687306  26.265803  2021-08-28\n",
       "5        1  2770.890808  16.650138  2021-10-09\n",
       "6        1  3039.020292  14.927879  2021-10-19\n",
       "7        1  2842.118050  23.117468  2021-11-06\n",
       "8        1  3412.690668  15.238072  2021-11-14\n",
       "9        1   748.690645  15.041884  2021-11-22"
      ]
     },
     "metadata": {},
     "output_type": "display_data"
    },
    {
     "data": {
      "text/plain": [
       "'Основная информация о датафрейме:'"
      ]
     },
     "metadata": {},
     "output_type": "display_data"
    },
    {
     "name": "stdout",
     "output_type": "stream",
     "text": [
      "<class 'pandas.core.frame.DataFrame'>\n",
      "RangeIndex: 18068 entries, 0 to 18067\n",
      "Data columns (total 4 columns):\n",
      " #   Column    Non-Null Count  Dtype  \n",
      "---  ------    --------------  -----  \n",
      " 0   user_id   18068 non-null  int64  \n",
      " 1   distance  18068 non-null  float64\n",
      " 2   duration  18068 non-null  float64\n",
      " 3   date      18068 non-null  object \n",
      "dtypes: float64(2), int64(1), object(1)\n",
      "memory usage: 564.8+ KB\n"
     ]
    },
    {
     "data": {
      "text/plain": [
       "None"
      ]
     },
     "metadata": {},
     "output_type": "display_data"
    },
    {
     "data": {
      "text/plain": [
       "'Количество пропусков:'"
      ]
     },
     "metadata": {},
     "output_type": "display_data"
    },
    {
     "data": {
      "text/plain": [
       "user_id     0\n",
       "distance    0\n",
       "duration    0\n",
       "date        0\n",
       "dtype: int64"
      ]
     },
     "metadata": {},
     "output_type": "display_data"
    },
    {
     "data": {
      "text/plain": [
       "'Количество дубликатов:'"
      ]
     },
     "metadata": {},
     "output_type": "display_data"
    },
    {
     "data": {
      "text/plain": [
       "0"
      ]
     },
     "metadata": {},
     "output_type": "display_data"
    }
   ],
   "source": [
    "information_data(riders_go)"
   ]
  },
  {
   "cell_type": "markdown",
   "id": "a8515e59",
   "metadata": {},
   "source": [
    "Ознакомимся с данными, представленными в датафрейме о подписках `subscriptions_go`:"
   ]
  },
  {
   "cell_type": "code",
   "execution_count": 6,
   "id": "7901c99c",
   "metadata": {
    "scrolled": false
   },
   "outputs": [
    {
     "data": {
      "text/plain": [
       "'Первые десять строк датафрейма:'"
      ]
     },
     "metadata": {},
     "output_type": "display_data"
    },
    {
     "data": {
      "text/html": [
       "<div>\n",
       "<style scoped>\n",
       "    .dataframe tbody tr th:only-of-type {\n",
       "        vertical-align: middle;\n",
       "    }\n",
       "\n",
       "    .dataframe tbody tr th {\n",
       "        vertical-align: top;\n",
       "    }\n",
       "\n",
       "    .dataframe thead th {\n",
       "        text-align: right;\n",
       "    }\n",
       "</style>\n",
       "<table border=\"1\" class=\"dataframe\">\n",
       "  <thead>\n",
       "    <tr style=\"text-align: right;\">\n",
       "      <th></th>\n",
       "      <th>subscription_type</th>\n",
       "      <th>minute_price</th>\n",
       "      <th>start_ride_price</th>\n",
       "      <th>subscription_fee</th>\n",
       "    </tr>\n",
       "  </thead>\n",
       "  <tbody>\n",
       "    <tr>\n",
       "      <th>0</th>\n",
       "      <td>free</td>\n",
       "      <td>8</td>\n",
       "      <td>50</td>\n",
       "      <td>0</td>\n",
       "    </tr>\n",
       "    <tr>\n",
       "      <th>1</th>\n",
       "      <td>ultra</td>\n",
       "      <td>6</td>\n",
       "      <td>0</td>\n",
       "      <td>199</td>\n",
       "    </tr>\n",
       "  </tbody>\n",
       "</table>\n",
       "</div>"
      ],
      "text/plain": [
       "  subscription_type  minute_price  start_ride_price  subscription_fee\n",
       "0              free             8                50                 0\n",
       "1             ultra             6                 0               199"
      ]
     },
     "metadata": {},
     "output_type": "display_data"
    },
    {
     "data": {
      "text/plain": [
       "'Основная информация о датафрейме:'"
      ]
     },
     "metadata": {},
     "output_type": "display_data"
    },
    {
     "name": "stdout",
     "output_type": "stream",
     "text": [
      "<class 'pandas.core.frame.DataFrame'>\n",
      "RangeIndex: 2 entries, 0 to 1\n",
      "Data columns (total 4 columns):\n",
      " #   Column             Non-Null Count  Dtype \n",
      "---  ------             --------------  ----- \n",
      " 0   subscription_type  2 non-null      object\n",
      " 1   minute_price       2 non-null      int64 \n",
      " 2   start_ride_price   2 non-null      int64 \n",
      " 3   subscription_fee   2 non-null      int64 \n",
      "dtypes: int64(3), object(1)\n",
      "memory usage: 196.0+ bytes\n"
     ]
    },
    {
     "data": {
      "text/plain": [
       "None"
      ]
     },
     "metadata": {},
     "output_type": "display_data"
    },
    {
     "data": {
      "text/plain": [
       "'Количество пропусков:'"
      ]
     },
     "metadata": {},
     "output_type": "display_data"
    },
    {
     "data": {
      "text/plain": [
       "subscription_type    0\n",
       "minute_price         0\n",
       "start_ride_price     0\n",
       "subscription_fee     0\n",
       "dtype: int64"
      ]
     },
     "metadata": {},
     "output_type": "display_data"
    },
    {
     "data": {
      "text/plain": [
       "'Количество дубликатов:'"
      ]
     },
     "metadata": {},
     "output_type": "display_data"
    },
    {
     "data": {
      "text/plain": [
       "0"
      ]
     },
     "metadata": {},
     "output_type": "display_data"
    }
   ],
   "source": [
    "information_data(subscriptions_go)"
   ]
  },
  {
   "cell_type": "markdown",
   "id": "07a9ffa2",
   "metadata": {},
   "source": [
    "## Вывод"
   ]
  },
  {
   "cell_type": "markdown",
   "id": "be89e889",
   "metadata": {},
   "source": [
    "**Таким образом для проведения исследования нам представлено 3 различных датафрейма, которые содержат информацию о:**\n",
    "\n",
    "- пользователях сервиса \n",
    "- поездках\n",
    "- подписках\n",
    "\n",
    "**В результате первичного ознакомления с данными можно сказать следующее:**\n",
    "- датафрейм `users_go` содержит 1565 строк в 5 столбцах:\n",
    "\n",
    "1. `user_id`\tуникальный идентификатор пользователя\n",
    "2. `name`\tимя пользователя\n",
    "3. `age`\tвозраст\n",
    "4. `city`\tгород\n",
    "5.  `subscription_type`\tтип подписки (free, ultra)\\\n",
    "Не содержит пропусков и имеет 31 дублирующуюся строку. Дубликаты на этапе предобработки данных мы удалим. \n",
    "\n",
    "- датафрейм `riders_go` содержит 18068 строк в 4 столбцах:\n",
    "\n",
    "1. `user_id`\tуникальный идентификатор пользователя\n",
    "2. `distance`\tрасстояние, которое пользователь проехал в текущей сессии (в метрах)\n",
    "3. `duration`\tпродолжительность сессии (в минутах) — время с того момента, как пользователь нажал кнопку «Начать поездку» до момента, как он нажал кнопку «Завершить поездку»\n",
    "4. `date`\tдата совершения поездки\\\n",
    "Не содержит пропусков и дубликатов. На этапе предварительной обработки данных тип данных столбца `date` будет приведен к `datetime64` для удобства дальнейшей работы. \n",
    "\n",
    "- датафрейм `subscriptions_go` содержит информацию о тарифах с различными типами подписки, имеет 2 строки и 4 столбца:\n",
    "\n",
    "1. `subscription_type`\tтип подписки\n",
    "2. `minute_price`\tстоимость одной минуты поездки по данной подписке\n",
    "3. `start_ride_price`\tстоимость начала поездки\n",
    "4. `subscription_fee`\tстоимость ежемесячного платежа\\\n",
    "Пропусков и дубликатов нет. \n"
   ]
  },
  {
   "cell_type": "markdown",
   "id": "a6466b73",
   "metadata": {},
   "source": [
    "# Предобработка данных"
   ]
  },
  {
   "cell_type": "markdown",
   "id": "a415dc84",
   "metadata": {},
   "source": [
    "## Изменение типов данных"
   ]
  },
  {
   "cell_type": "markdown",
   "id": "198f568e",
   "metadata": {},
   "source": [
    "Изменим тип данных столбца `date` в датафрейме `riders_go`:"
   ]
  },
  {
   "cell_type": "code",
   "execution_count": 7,
   "id": "bd961760",
   "metadata": {},
   "outputs": [],
   "source": [
    "riders_go['date'] = pd.to_datetime(riders_go['date'], format='%Y-%m-%d')"
   ]
  },
  {
   "cell_type": "code",
   "execution_count": 8,
   "id": "8662b5f8",
   "metadata": {
    "scrolled": true
   },
   "outputs": [
    {
     "name": "stdout",
     "output_type": "stream",
     "text": [
      "<class 'pandas.core.frame.DataFrame'>\n",
      "RangeIndex: 18068 entries, 0 to 18067\n",
      "Data columns (total 4 columns):\n",
      " #   Column    Non-Null Count  Dtype         \n",
      "---  ------    --------------  -----         \n",
      " 0   user_id   18068 non-null  int64         \n",
      " 1   distance  18068 non-null  float64       \n",
      " 2   duration  18068 non-null  float64       \n",
      " 3   date      18068 non-null  datetime64[ns]\n",
      "dtypes: datetime64[ns](1), float64(2), int64(1)\n",
      "memory usage: 564.8 KB\n"
     ]
    }
   ],
   "source": [
    "riders_go.info() # проверяем результат"
   ]
  },
  {
   "cell_type": "markdown",
   "id": "083f984c",
   "metadata": {},
   "source": [
    "## Добавление нового столбца"
   ]
  },
  {
   "cell_type": "markdown",
   "id": "e0a446ef",
   "metadata": {},
   "source": [
    "**Добавим в датафрейм столбец с месяцем совершения поездки. Для этого используем метод assign.**"
   ]
  },
  {
   "cell_type": "code",
   "execution_count": 9,
   "id": "5e4e8c22",
   "metadata": {
    "scrolled": false
   },
   "outputs": [],
   "source": [
    "riders_go = riders_go.assign(month = riders_go['date'].dt.month)"
   ]
  },
  {
   "cell_type": "code",
   "execution_count": 10,
   "id": "6a5980ae",
   "metadata": {},
   "outputs": [
    {
     "name": "stdout",
     "output_type": "stream",
     "text": [
      "<class 'pandas.core.frame.DataFrame'>\n",
      "RangeIndex: 18068 entries, 0 to 18067\n",
      "Data columns (total 5 columns):\n",
      " #   Column    Non-Null Count  Dtype         \n",
      "---  ------    --------------  -----         \n",
      " 0   user_id   18068 non-null  int64         \n",
      " 1   distance  18068 non-null  float64       \n",
      " 2   duration  18068 non-null  float64       \n",
      " 3   date      18068 non-null  datetime64[ns]\n",
      " 4   month     18068 non-null  int32         \n",
      "dtypes: datetime64[ns](1), float64(2), int32(1), int64(1)\n",
      "memory usage: 635.3 KB\n"
     ]
    }
   ],
   "source": [
    "riders_go.info() # проверяем результат"
   ]
  },
  {
   "cell_type": "markdown",
   "id": "57a56150",
   "metadata": {},
   "source": [
    "**Проверим, за какой период имеются данные:**"
   ]
  },
  {
   "cell_type": "code",
   "execution_count": 11,
   "id": "be3aab88",
   "metadata": {},
   "outputs": [
    {
     "name": "stdout",
     "output_type": "stream",
     "text": [
      "В представленных данных имеется информация о поездках за период с 2021-01-01 по 2021-12-30\n"
     ]
    }
   ],
   "source": [
    "print('В представленных данных имеется информация о поездках за период с',\\\n",
    "      riders_go['date'].dt.date.min(), 'по', riders_go['date'].dt.date.max())"
   ]
  },
  {
   "cell_type": "markdown",
   "id": "58045822",
   "metadata": {},
   "source": [
    "**Посмотрим на дубликаты в таблице `users_go` и убедимся, что можно смело их удалить.**"
   ]
  },
  {
   "cell_type": "code",
   "execution_count": 12,
   "id": "de3f31c4",
   "metadata": {},
   "outputs": [
    {
     "data": {
      "text/html": [
       "<div>\n",
       "<style scoped>\n",
       "    .dataframe tbody tr th:only-of-type {\n",
       "        vertical-align: middle;\n",
       "    }\n",
       "\n",
       "    .dataframe tbody tr th {\n",
       "        vertical-align: top;\n",
       "    }\n",
       "\n",
       "    .dataframe thead th {\n",
       "        text-align: right;\n",
       "    }\n",
       "</style>\n",
       "<table border=\"1\" class=\"dataframe\">\n",
       "  <thead>\n",
       "    <tr style=\"text-align: right;\">\n",
       "      <th></th>\n",
       "      <th>user_id</th>\n",
       "      <th>name</th>\n",
       "      <th>age</th>\n",
       "      <th>city</th>\n",
       "      <th>subscription_type</th>\n",
       "    </tr>\n",
       "  </thead>\n",
       "  <tbody>\n",
       "    <tr>\n",
       "      <th>15</th>\n",
       "      <td>16</td>\n",
       "      <td>Амалия</td>\n",
       "      <td>27</td>\n",
       "      <td>Краснодар</td>\n",
       "      <td>ultra</td>\n",
       "    </tr>\n",
       "    <tr>\n",
       "      <th>1535</th>\n",
       "      <td>16</td>\n",
       "      <td>Амалия</td>\n",
       "      <td>27</td>\n",
       "      <td>Краснодар</td>\n",
       "      <td>ultra</td>\n",
       "    </tr>\n",
       "    <tr>\n",
       "      <th>42</th>\n",
       "      <td>43</td>\n",
       "      <td>Стефания</td>\n",
       "      <td>22</td>\n",
       "      <td>Омск</td>\n",
       "      <td>ultra</td>\n",
       "    </tr>\n",
       "    <tr>\n",
       "      <th>1539</th>\n",
       "      <td>43</td>\n",
       "      <td>Стефания</td>\n",
       "      <td>22</td>\n",
       "      <td>Омск</td>\n",
       "      <td>ultra</td>\n",
       "    </tr>\n",
       "    <tr>\n",
       "      <th>1563</th>\n",
       "      <td>47</td>\n",
       "      <td>Юрий</td>\n",
       "      <td>28</td>\n",
       "      <td>Тюмень</td>\n",
       "      <td>ultra</td>\n",
       "    </tr>\n",
       "    <tr>\n",
       "      <th>...</th>\n",
       "      <td>...</td>\n",
       "      <td>...</td>\n",
       "      <td>...</td>\n",
       "      <td>...</td>\n",
       "      <td>...</td>\n",
       "    </tr>\n",
       "    <tr>\n",
       "      <th>1554</th>\n",
       "      <td>1198</td>\n",
       "      <td>Демид</td>\n",
       "      <td>29</td>\n",
       "      <td>Ростов-на-Дону</td>\n",
       "      <td>free</td>\n",
       "    </tr>\n",
       "    <tr>\n",
       "      <th>1558</th>\n",
       "      <td>1237</td>\n",
       "      <td>Евгения</td>\n",
       "      <td>23</td>\n",
       "      <td>Тюмень</td>\n",
       "      <td>free</td>\n",
       "    </tr>\n",
       "    <tr>\n",
       "      <th>1236</th>\n",
       "      <td>1237</td>\n",
       "      <td>Евгения</td>\n",
       "      <td>23</td>\n",
       "      <td>Тюмень</td>\n",
       "      <td>free</td>\n",
       "    </tr>\n",
       "    <tr>\n",
       "      <th>1544</th>\n",
       "      <td>1245</td>\n",
       "      <td>Регина</td>\n",
       "      <td>27</td>\n",
       "      <td>Пятигорск</td>\n",
       "      <td>free</td>\n",
       "    </tr>\n",
       "    <tr>\n",
       "      <th>1244</th>\n",
       "      <td>1245</td>\n",
       "      <td>Регина</td>\n",
       "      <td>27</td>\n",
       "      <td>Пятигорск</td>\n",
       "      <td>free</td>\n",
       "    </tr>\n",
       "  </tbody>\n",
       "</table>\n",
       "<p>62 rows × 5 columns</p>\n",
       "</div>"
      ],
      "text/plain": [
       "      user_id      name  age            city subscription_type\n",
       "15         16    Амалия   27       Краснодар             ultra\n",
       "1535       16    Амалия   27       Краснодар             ultra\n",
       "42         43  Стефания   22            Омск             ultra\n",
       "1539       43  Стефания   22            Омск             ultra\n",
       "1563       47      Юрий   28          Тюмень             ultra\n",
       "...       ...       ...  ...             ...               ...\n",
       "1554     1198     Демид   29  Ростов-на-Дону              free\n",
       "1558     1237   Евгения   23          Тюмень              free\n",
       "1236     1237   Евгения   23          Тюмень              free\n",
       "1544     1245    Регина   27       Пятигорск              free\n",
       "1244     1245    Регина   27       Пятигорск              free\n",
       "\n",
       "[62 rows x 5 columns]"
      ]
     },
     "execution_count": 12,
     "metadata": {},
     "output_type": "execute_result"
    }
   ],
   "source": [
    "users_go[users_go.duplicated(keep=False)].sort_values(by='user_id')"
   ]
  },
  {
   "cell_type": "markdown",
   "id": "92cd293e",
   "metadata": {},
   "source": [
    "**Удаляем дубликаты и проверяем результат:**"
   ]
  },
  {
   "cell_type": "code",
   "execution_count": 13,
   "id": "ad9f36cd",
   "metadata": {},
   "outputs": [],
   "source": [
    "users_go.drop_duplicates(inplace=True)"
   ]
  },
  {
   "cell_type": "code",
   "execution_count": 14,
   "id": "7e195737",
   "metadata": {},
   "outputs": [
    {
     "data": {
      "text/plain": [
       "'Первые десять строк датафрейма:'"
      ]
     },
     "metadata": {},
     "output_type": "display_data"
    },
    {
     "data": {
      "text/html": [
       "<div>\n",
       "<style scoped>\n",
       "    .dataframe tbody tr th:only-of-type {\n",
       "        vertical-align: middle;\n",
       "    }\n",
       "\n",
       "    .dataframe tbody tr th {\n",
       "        vertical-align: top;\n",
       "    }\n",
       "\n",
       "    .dataframe thead th {\n",
       "        text-align: right;\n",
       "    }\n",
       "</style>\n",
       "<table border=\"1\" class=\"dataframe\">\n",
       "  <thead>\n",
       "    <tr style=\"text-align: right;\">\n",
       "      <th></th>\n",
       "      <th>user_id</th>\n",
       "      <th>name</th>\n",
       "      <th>age</th>\n",
       "      <th>city</th>\n",
       "      <th>subscription_type</th>\n",
       "    </tr>\n",
       "  </thead>\n",
       "  <tbody>\n",
       "    <tr>\n",
       "      <th>0</th>\n",
       "      <td>1</td>\n",
       "      <td>Кира</td>\n",
       "      <td>22</td>\n",
       "      <td>Тюмень</td>\n",
       "      <td>ultra</td>\n",
       "    </tr>\n",
       "    <tr>\n",
       "      <th>1</th>\n",
       "      <td>2</td>\n",
       "      <td>Станислав</td>\n",
       "      <td>31</td>\n",
       "      <td>Омск</td>\n",
       "      <td>ultra</td>\n",
       "    </tr>\n",
       "    <tr>\n",
       "      <th>2</th>\n",
       "      <td>3</td>\n",
       "      <td>Алексей</td>\n",
       "      <td>20</td>\n",
       "      <td>Москва</td>\n",
       "      <td>ultra</td>\n",
       "    </tr>\n",
       "    <tr>\n",
       "      <th>3</th>\n",
       "      <td>4</td>\n",
       "      <td>Константин</td>\n",
       "      <td>26</td>\n",
       "      <td>Ростов-на-Дону</td>\n",
       "      <td>ultra</td>\n",
       "    </tr>\n",
       "    <tr>\n",
       "      <th>4</th>\n",
       "      <td>5</td>\n",
       "      <td>Адель</td>\n",
       "      <td>28</td>\n",
       "      <td>Омск</td>\n",
       "      <td>ultra</td>\n",
       "    </tr>\n",
       "    <tr>\n",
       "      <th>5</th>\n",
       "      <td>6</td>\n",
       "      <td>Регина</td>\n",
       "      <td>25</td>\n",
       "      <td>Краснодар</td>\n",
       "      <td>ultra</td>\n",
       "    </tr>\n",
       "    <tr>\n",
       "      <th>6</th>\n",
       "      <td>7</td>\n",
       "      <td>Игорь</td>\n",
       "      <td>23</td>\n",
       "      <td>Омск</td>\n",
       "      <td>ultra</td>\n",
       "    </tr>\n",
       "    <tr>\n",
       "      <th>7</th>\n",
       "      <td>8</td>\n",
       "      <td>Юрий</td>\n",
       "      <td>23</td>\n",
       "      <td>Краснодар</td>\n",
       "      <td>ultra</td>\n",
       "    </tr>\n",
       "    <tr>\n",
       "      <th>8</th>\n",
       "      <td>9</td>\n",
       "      <td>Ян</td>\n",
       "      <td>21</td>\n",
       "      <td>Пятигорск</td>\n",
       "      <td>ultra</td>\n",
       "    </tr>\n",
       "    <tr>\n",
       "      <th>9</th>\n",
       "      <td>10</td>\n",
       "      <td>Валерий</td>\n",
       "      <td>18</td>\n",
       "      <td>Екатеринбург</td>\n",
       "      <td>ultra</td>\n",
       "    </tr>\n",
       "  </tbody>\n",
       "</table>\n",
       "</div>"
      ],
      "text/plain": [
       "   user_id        name  age            city subscription_type\n",
       "0        1        Кира   22          Тюмень             ultra\n",
       "1        2   Станислав   31            Омск             ultra\n",
       "2        3     Алексей   20          Москва             ultra\n",
       "3        4  Константин   26  Ростов-на-Дону             ultra\n",
       "4        5       Адель   28            Омск             ultra\n",
       "5        6      Регина   25       Краснодар             ultra\n",
       "6        7       Игорь   23            Омск             ultra\n",
       "7        8        Юрий   23       Краснодар             ultra\n",
       "8        9          Ян   21       Пятигорск             ultra\n",
       "9       10     Валерий   18    Екатеринбург             ultra"
      ]
     },
     "metadata": {},
     "output_type": "display_data"
    },
    {
     "data": {
      "text/plain": [
       "'Основная информация о датафрейме:'"
      ]
     },
     "metadata": {},
     "output_type": "display_data"
    },
    {
     "name": "stdout",
     "output_type": "stream",
     "text": [
      "<class 'pandas.core.frame.DataFrame'>\n",
      "Index: 1534 entries, 0 to 1533\n",
      "Data columns (total 5 columns):\n",
      " #   Column             Non-Null Count  Dtype \n",
      "---  ------             --------------  ----- \n",
      " 0   user_id            1534 non-null   int64 \n",
      " 1   name               1534 non-null   object\n",
      " 2   age                1534 non-null   int64 \n",
      " 3   city               1534 non-null   object\n",
      " 4   subscription_type  1534 non-null   object\n",
      "dtypes: int64(2), object(3)\n",
      "memory usage: 71.9+ KB\n"
     ]
    },
    {
     "data": {
      "text/plain": [
       "None"
      ]
     },
     "metadata": {},
     "output_type": "display_data"
    },
    {
     "data": {
      "text/plain": [
       "'Количество пропусков:'"
      ]
     },
     "metadata": {},
     "output_type": "display_data"
    },
    {
     "data": {
      "text/plain": [
       "user_id              0\n",
       "name                 0\n",
       "age                  0\n",
       "city                 0\n",
       "subscription_type    0\n",
       "dtype: int64"
      ]
     },
     "metadata": {},
     "output_type": "display_data"
    },
    {
     "data": {
      "text/plain": [
       "'Количество дубликатов:'"
      ]
     },
     "metadata": {},
     "output_type": "display_data"
    },
    {
     "data": {
      "text/plain": [
       "0"
      ]
     },
     "metadata": {},
     "output_type": "display_data"
    }
   ],
   "source": [
    "information_data(users_go)"
   ]
  },
  {
   "cell_type": "markdown",
   "id": "c6bb8770",
   "metadata": {},
   "source": [
    "## Вывод"
   ]
  },
  {
   "cell_type": "markdown",
   "id": "ba581714",
   "metadata": {},
   "source": [
    "На этапе предварительной обработки данных был приведен тип данных столбца `data` датафрейма `riders_go` к `datetime64`, в данный датафрейм был добавлен столбец с месяцем совершения поездки. Это пригодится в ходе дальнейшего анализа. \n",
    "Удалили строки-дубликаты в датафрейме `users_go`."
   ]
  },
  {
   "cell_type": "markdown",
   "id": "ae1a565b",
   "metadata": {},
   "source": [
    "#  Исследовательский анализ данных"
   ]
  },
  {
   "cell_type": "markdown",
   "id": "270964d4",
   "metadata": {},
   "source": [
    "Опишите и визуализируйте общую информацию о пользователях и поездках:"
   ]
  },
  {
   "cell_type": "markdown",
   "id": "973437bf",
   "metadata": {},
   "source": [
    "## частота встречаемости городов\n",
    "\n",
    "Посмотрим на уникальные значения столбца `city` в датафрейме `users_go`, отсортируем их по убыванию частоты."
   ]
  },
  {
   "cell_type": "code",
   "execution_count": 15,
   "id": "8bf128b7",
   "metadata": {},
   "outputs": [
    {
     "data": {
      "text/plain": [
       "city\n",
       "Пятигорск         219\n",
       "Екатеринбург      204\n",
       "Ростов-на-Дону    198\n",
       "Краснодар         193\n",
       "Сочи              189\n",
       "Омск              183\n",
       "Тюмень            180\n",
       "Москва            168\n",
       "Name: count, dtype: int64"
      ]
     },
     "execution_count": 15,
     "metadata": {},
     "output_type": "execute_result"
    }
   ],
   "source": [
    "users_go['city'].value_counts(ascending=False)"
   ]
  },
  {
   "cell_type": "markdown",
   "id": "b20af881",
   "metadata": {},
   "source": [
    "**Для наглядности построим график. Наибольшей популярностью сервис пользуется в Пятигорске и Екатеринбурге — пользователей из этих городов зарегистрировано более 200.**"
   ]
  },
  {
   "cell_type": "code",
   "execution_count": 16,
   "id": "4eb3010d",
   "metadata": {},
   "outputs": [
    {
     "data": {
      "image/png": "[encoded data removed]",
      "text/plain": [
       "<Figure size 1000x700 with 1 Axes>"
      ]
     },
     "metadata": {},
     "output_type": "display_data"
    }
   ],
   "source": [
    "plt.figure(figsize=(15,10))\n",
    "\n",
    "users_go.groupby('city')['city'].count().\\\n",
    "sort_values().plot(kind='barh', figsize=(10, 7), color='cornflowerblue')  \n",
    "\n",
    "plt.title('Частота встречаемости городов')\n",
    "plt.xlabel('Частота')\n",
    "plt.ylabel('Город')\n",
    "plt.show()"
   ]
  },
  {
   "cell_type": "markdown",
   "id": "c887b402",
   "metadata": {},
   "source": [
    "## соотношение количества пользователей с подпиской и без подписки\n"
   ]
  },
  {
   "cell_type": "code",
   "execution_count": 17,
   "id": "090b1955",
   "metadata": {
    "scrolled": true
   },
   "outputs": [
    {
     "data": {
      "text/plain": [
       "subscription_type\n",
       "free     835\n",
       "ultra    699\n",
       "Name: count, dtype: int64"
      ]
     },
     "execution_count": 17,
     "metadata": {},
     "output_type": "execute_result"
    }
   ],
   "source": [
    "users_go['subscription_type'].value_counts()"
   ]
  },
  {
   "cell_type": "code",
   "execution_count": 18,
   "id": "b0f6939c",
   "metadata": {},
   "outputs": [
    {
     "name": "stdout",
     "output_type": "stream",
     "text": [
      "Среди пользователей сервиса имеют платную подписку: 45.6 %\n",
      "Пользователей сервиса пользуются бесплатной версией: 54.4 %\n"
     ]
    }
   ],
   "source": [
    "print('Среди пользователей сервиса имеют платную подписку:', \n",
    "      round(len(users_go[users_go['subscription_type'] == 'ultra']) / \n",
    "            len(users_go) * 100, 1), '%')\n",
    "print('Пользователей сервиса пользуются бесплатной версией:', \n",
    "      round(len(users_go[users_go['subscription_type'] == 'free']) / \n",
    "            len(users_go) * 100, 1), '%')"
   ]
  },
  {
   "cell_type": "markdown",
   "id": "93a0f0bf",
   "metadata": {},
   "source": [
    "Для наглядности построим круговую диаграмму."
   ]
  },
  {
   "cell_type": "code",
   "execution_count": 19,
   "id": "e5d8db6a",
   "metadata": {},
   "outputs": [
    {
     "data": {
      "image/png": "[encoded data removed]",
      "text/plain": [
       "<Figure size 1000x700 with 1 Axes>"
      ]
     },
     "metadata": {},
     "output_type": "display_data"
    }
   ],
   "source": [
    "plt.figure(figsize=(10,7))\n",
    "\n",
    "users_go['subscription_type'].value_counts().plot(kind='pie', autopct='%1.1f%%', \n",
    "                                                 colors=['cornflowerblue', 'aquamarine'])\n",
    "\n",
    "plt.title('Распределение типов подписки')\n",
    "plt.ylabel('')\n",
    "plt.show();"
   ]
  },
  {
   "cell_type": "markdown",
   "id": "7c2263cc",
   "metadata": {},
   "source": [
    "**Таким образом немного меньше половины пользователей имеют подписку ultra.**"
   ]
  },
  {
   "cell_type": "markdown",
   "id": "ce76e0e8",
   "metadata": {},
   "source": [
    "## возраст пользователей\n"
   ]
  },
  {
   "cell_type": "markdown",
   "id": "b0646ca9",
   "metadata": {},
   "source": [
    "Посмотрим основные статистические характеристики столбца с возрастом пользователей, а потом построим гистограмму:"
   ]
  },
  {
   "cell_type": "code",
   "execution_count": 20,
   "id": "c074ffa7",
   "metadata": {},
   "outputs": [
    {
     "data": {
      "text/plain": [
       "count    1534.000000\n",
       "mean       24.903520\n",
       "std         4.572367\n",
       "min        12.000000\n",
       "25%        22.000000\n",
       "50%        25.000000\n",
       "75%        28.000000\n",
       "max        43.000000\n",
       "Name: age, dtype: float64"
      ]
     },
     "execution_count": 20,
     "metadata": {},
     "output_type": "execute_result"
    }
   ],
   "source": [
    "users_go['age'].describe()"
   ]
  },
  {
   "cell_type": "code",
   "execution_count": 21,
   "id": "ca79a9f0",
   "metadata": {},
   "outputs": [
    {
     "data": {
      "image/png": "[encoded data removed]",
      "text/plain": [
       "<Figure size 700x500 with 1 Axes>"
      ]
     },
     "metadata": {},
     "output_type": "display_data"
    }
   ],
   "source": [
    "plt.figure(figsize=(10, 7))\n",
    "users_go['age'].hist(color='cornflowerblue', figsize=(7, 5), bins=15)\n",
    "\n",
    "plt.title('Возраст пользователей')\n",
    "plt.xlabel('Возраст')\n",
    "plt.ylabel('Частота')\n",
    "plt.show();"
   ]
  },
  {
   "cell_type": "markdown",
   "id": "fd8051d9",
   "metadata": {},
   "source": [
    "**Видим, что в основном пользователями сервиса являются молодые люди в возрасте от 22 до 28 лет. Необычными являются значения больше 36 и меньше 13 лет.**"
   ]
  },
  {
   "cell_type": "markdown",
   "id": "2a3a3525",
   "metadata": {},
   "source": [
    "## расстояние, которое пользователь преодолел за одну поездку\n"
   ]
  },
  {
   "cell_type": "markdown",
   "id": "338bef2b",
   "metadata": {},
   "source": [
    "**Построим гистограмму, чтобы узнать, какое расстояние пользователи преодолевают за одну поездку.**"
   ]
  },
  {
   "cell_type": "code",
   "execution_count": 22,
   "id": "037d1c16",
   "metadata": {},
   "outputs": [
    {
     "data": {
      "image/png": "[encoded data removed]",
      "text/plain": [
       "<Figure size 1000x700 with 1 Axes>"
      ]
     },
     "metadata": {},
     "output_type": "display_data"
    }
   ],
   "source": [
    "plt.figure(figsize=(10, 7))\n",
    "riders_go['distance'].hist(bins=50, color='lightpink')\n",
    "plt.xlabel('Расстояние (м)')\n",
    "plt.ylabel('Частота')\n",
    "plt.title('Распределение расстояний на самокате');\n"
   ]
  },
  {
   "cell_type": "markdown",
   "id": "b2834f97",
   "metadata": {},
   "source": [
    "**Гистограмма \"распределение расстояний на самокате\" показывает, что расстояние поездок варьируется от 0 до 7000 метров. Большинство поездок находятся в диапазоне от 2000 до 4000 м, с пиком около 3000 м. Это означает, что наиболее часто встречающееся расстояние, которое пользователи преодолевают за одну поездку на самокате, составляет около 3000 м. Также наблюдается дополнительный пик в районе 600 м. Это может указывать на некоторое количество непродолжительных поездок. Возможно, это может быть связано с обнаруженной после старта поездки неисправностью самоката, а, возможно, непродолжительные поездки также пользуются спросом пользователей сервиса.**"
   ]
  },
  {
   "cell_type": "markdown",
   "id": "3c71d0f0",
   "metadata": {},
   "source": [
    "## продолжительность поездок"
   ]
  },
  {
   "cell_type": "markdown",
   "id": "bd1e863d",
   "metadata": {},
   "source": [
    "Построим гистограмму для визуализации продолжительности поездок на самокате"
   ]
  },
  {
   "cell_type": "code",
   "execution_count": 23,
   "id": "394fb266",
   "metadata": {},
   "outputs": [
    {
     "data": {
      "image/png": "[encoded data removed]",
      "text/plain": [
       "<Figure size 1000x700 with 1 Axes>"
      ]
     },
     "metadata": {},
     "output_type": "display_data"
    }
   ],
   "source": [
    "plt.figure(figsize=(10, 7))\n",
    "riders_go['duration'].hist(bins=50, color='teal');\n",
    "plt.xlabel('Время')\n",
    "plt.ylabel('Частота')\n",
    "plt.title('Распределение продолжительности поездок на самокате');"
   ]
  },
  {
   "cell_type": "markdown",
   "id": "828d224c",
   "metadata": {},
   "source": [
    "**На гистограмме видим, что продолжительность поездок варьируется от 0 до 40 минут. Большинство поездок находятся в диапазоне от примерно 15 до 25 минут, формируя колоколообразную кривую. Это означает, что наиболее часто встречающаяся продолжительность поездки на самокате составляет около 20 минут. Также присутствует всплеск в районе 1 минуты. Посмотрим на него поближе:** "
   ]
  },
  {
   "cell_type": "code",
   "execution_count": 24,
   "id": "a54b3f9c",
   "metadata": {
    "scrolled": false
   },
   "outputs": [
    {
     "data": {
      "text/html": [
       "<div>\n",
       "<style scoped>\n",
       "    .dataframe tbody tr th:only-of-type {\n",
       "        vertical-align: middle;\n",
       "    }\n",
       "\n",
       "    .dataframe tbody tr th {\n",
       "        vertical-align: top;\n",
       "    }\n",
       "\n",
       "    .dataframe thead th {\n",
       "        text-align: right;\n",
       "    }\n",
       "</style>\n",
       "<table border=\"1\" class=\"dataframe\">\n",
       "  <thead>\n",
       "    <tr style=\"text-align: right;\">\n",
       "      <th></th>\n",
       "      <th>user_id</th>\n",
       "      <th>distance</th>\n",
       "      <th>duration</th>\n",
       "      <th>date</th>\n",
       "      <th>month</th>\n",
       "    </tr>\n",
       "  </thead>\n",
       "  <tbody>\n",
       "    <tr>\n",
       "      <th>6531</th>\n",
       "      <td>701</td>\n",
       "      <td>4196.445201</td>\n",
       "      <td>0.5</td>\n",
       "      <td>2021-08-31</td>\n",
       "      <td>8</td>\n",
       "    </tr>\n",
       "    <tr>\n",
       "      <th>14615</th>\n",
       "      <td>1287</td>\n",
       "      <td>5944.789947</td>\n",
       "      <td>0.5</td>\n",
       "      <td>2021-12-09</td>\n",
       "      <td>12</td>\n",
       "    </tr>\n",
       "    <tr>\n",
       "      <th>14574</th>\n",
       "      <td>1285</td>\n",
       "      <td>6316.574814</td>\n",
       "      <td>0.5</td>\n",
       "      <td>2021-09-25</td>\n",
       "      <td>9</td>\n",
       "    </tr>\n",
       "    <tr>\n",
       "      <th>14417</th>\n",
       "      <td>1273</td>\n",
       "      <td>4178.876258</td>\n",
       "      <td>0.5</td>\n",
       "      <td>2021-04-30</td>\n",
       "      <td>4</td>\n",
       "    </tr>\n",
       "    <tr>\n",
       "      <th>14342</th>\n",
       "      <td>1268</td>\n",
       "      <td>4177.139336</td>\n",
       "      <td>0.5</td>\n",
       "      <td>2021-06-09</td>\n",
       "      <td>6</td>\n",
       "    </tr>\n",
       "    <tr>\n",
       "      <th>14178</th>\n",
       "      <td>1257</td>\n",
       "      <td>6120.067697</td>\n",
       "      <td>0.5</td>\n",
       "      <td>2021-03-16</td>\n",
       "      <td>3</td>\n",
       "    </tr>\n",
       "    <tr>\n",
       "      <th>13979</th>\n",
       "      <td>1243</td>\n",
       "      <td>5095.432818</td>\n",
       "      <td>0.5</td>\n",
       "      <td>2021-12-02</td>\n",
       "      <td>12</td>\n",
       "    </tr>\n",
       "    <tr>\n",
       "      <th>13976</th>\n",
       "      <td>1243</td>\n",
       "      <td>4434.740681</td>\n",
       "      <td>0.5</td>\n",
       "      <td>2021-05-31</td>\n",
       "      <td>5</td>\n",
       "    </tr>\n",
       "    <tr>\n",
       "      <th>13701</th>\n",
       "      <td>1224</td>\n",
       "      <td>6414.516026</td>\n",
       "      <td>0.5</td>\n",
       "      <td>2021-07-15</td>\n",
       "      <td>7</td>\n",
       "    </tr>\n",
       "    <tr>\n",
       "      <th>13698</th>\n",
       "      <td>1224</td>\n",
       "      <td>4430.510768</td>\n",
       "      <td>0.5</td>\n",
       "      <td>2021-01-15</td>\n",
       "      <td>1</td>\n",
       "    </tr>\n",
       "    <tr>\n",
       "      <th>14677</th>\n",
       "      <td>1293</td>\n",
       "      <td>4704.878192</td>\n",
       "      <td>0.5</td>\n",
       "      <td>2021-02-13</td>\n",
       "      <td>2</td>\n",
       "    </tr>\n",
       "    <tr>\n",
       "      <th>13608</th>\n",
       "      <td>1217</td>\n",
       "      <td>5905.524822</td>\n",
       "      <td>0.5</td>\n",
       "      <td>2021-09-27</td>\n",
       "      <td>9</td>\n",
       "    </tr>\n",
       "    <tr>\n",
       "      <th>13012</th>\n",
       "      <td>1176</td>\n",
       "      <td>4935.071045</td>\n",
       "      <td>0.5</td>\n",
       "      <td>2021-05-14</td>\n",
       "      <td>5</td>\n",
       "    </tr>\n",
       "    <tr>\n",
       "      <th>12967</th>\n",
       "      <td>1172</td>\n",
       "      <td>4907.140751</td>\n",
       "      <td>0.5</td>\n",
       "      <td>2021-12-19</td>\n",
       "      <td>12</td>\n",
       "    </tr>\n",
       "    <tr>\n",
       "      <th>12642</th>\n",
       "      <td>1150</td>\n",
       "      <td>5666.735492</td>\n",
       "      <td>0.5</td>\n",
       "      <td>2021-01-22</td>\n",
       "      <td>1</td>\n",
       "    </tr>\n",
       "  </tbody>\n",
       "</table>\n",
       "</div>"
      ],
      "text/plain": [
       "       user_id     distance  duration       date  month\n",
       "6531       701  4196.445201       0.5 2021-08-31      8\n",
       "14615     1287  5944.789947       0.5 2021-12-09     12\n",
       "14574     1285  6316.574814       0.5 2021-09-25      9\n",
       "14417     1273  4178.876258       0.5 2021-04-30      4\n",
       "14342     1268  4177.139336       0.5 2021-06-09      6\n",
       "14178     1257  6120.067697       0.5 2021-03-16      3\n",
       "13979     1243  5095.432818       0.5 2021-12-02     12\n",
       "13976     1243  4434.740681       0.5 2021-05-31      5\n",
       "13701     1224  6414.516026       0.5 2021-07-15      7\n",
       "13698     1224  4430.510768       0.5 2021-01-15      1\n",
       "14677     1293  4704.878192       0.5 2021-02-13      2\n",
       "13608     1217  5905.524822       0.5 2021-09-27      9\n",
       "13012     1176  4935.071045       0.5 2021-05-14      5\n",
       "12967     1172  4907.140751       0.5 2021-12-19     12\n",
       "12642     1150  5666.735492       0.5 2021-01-22      1"
      ]
     },
     "execution_count": 24,
     "metadata": {},
     "output_type": "execute_result"
    }
   ],
   "source": [
    "(riders_go[riders_go['duration'] < 2]).sort_values(by='duration').head(15)"
   ]
  },
  {
   "cell_type": "code",
   "execution_count": 25,
   "id": "3ed3bf39",
   "metadata": {},
   "outputs": [
    {
     "data": {
      "text/plain": [
       "95"
      ]
     },
     "execution_count": 25,
     "metadata": {},
     "output_type": "execute_result"
    }
   ],
   "source": [
    "len((riders_go[riders_go['duration'] < 1]).sort_values(by='duration'))"
   ]
  },
  {
   "cell_type": "markdown",
   "id": "95975d93",
   "metadata": {},
   "source": [
    "**В данных присутствует информация о поездках продолжительностью менее 1 минуты, однако за это время было преодолено расстояние в несколько тысяч метров, что выглядит как артефакт. Возможно, это связано с ошибкой при сборе данных. Всего в данных имеется 95 таких строк, оставим их без изменений, так как в дальнейшем при подсчете выручки удаление этих данных исказит результат исследования. Об артефакте в данных необходимо сообщить заказчику.**"
   ]
  },
  {
   "cell_type": "markdown",
   "id": "9e77b3bb",
   "metadata": {},
   "source": [
    "## Вывод"
   ]
  },
  {
   "cell_type": "markdown",
   "id": "18d906fc",
   "metadata": {},
   "source": [
    "На этапе исследовательского анализа данных мы поближе познакомились с данными о пользователях сервиса проката самокатов и совершенных поездках. \n",
    "\n",
    "**О пользователях:**\n",
    "Наибольшей популярностью сервис пользуется в Пятигорске и Екатеринбурге — зарегистрировано более 200 пользователей из этих городов. 45.6 % пользователей сервиса имеют платную подписку, 54.4 % клиентов пользуются бесплатной версией (без подписки). В  основном пользователями сервиса являются молодые люди в возрасте от 22 до 27 лет. Необычными являются значения больше 36 и меньше 13 лет.\n",
    "\n",
    "**О поездках:**\n",
    "Расстояние поездок варьируется от 0 до 7000 метров. Большинство поездок находятся в диапазоне от 2000 до 4000 м, с пиком около 3000 м. Это означает, что наиболее часто встречающееся расстояние, которое пользователи преодолевают за одну поездку на самокате, составляет около 3000 м. Также наблюдается дополнительный пик в районе 600 м. Это может указывать на некоторое количество непродолжительных поездок. Возможно, это может быть связано с обнаруженной после старта поездки неисправностью самоката, а, возможно, непродолжительные поездки также пользуются спросом пользователей сервиса.\n",
    "\n",
    "Продолжительность поездок варьируется от 0 до 40 минут. Большинство поездок находятся в диапазоне от примерно 15 до 25 минут. Это означает, что наиболее часто встречающаяся продолжительность поездки на самокате составляет около 20 минут. Также присутствует всплеск в районе 1 минуты. В данных присутствует информация о поездках продолжительностью менее 1 минуты, однако за это время было преодолено расстояние в несколько тысяч метров, что выглядит как артефакт. Возможно, это связано с ошибкой при сборе данных. Всего в данных имеется 95 таких строк, оставили без изменений, так как в дальнейшем при подсчете выручки удаление этих данных исказит результат исследования. Об артефакте в данных необходимо сообщить заказчику."
   ]
  },
  {
   "cell_type": "markdown",
   "id": "d3477b88",
   "metadata": {},
   "source": [
    "# Объединение данных"
   ]
  },
  {
   "cell_type": "markdown",
   "id": "05f2ef38",
   "metadata": {},
   "source": [
    "## Создание новых таблиц"
   ]
  },
  {
   "cell_type": "markdown",
   "id": "1373ba44",
   "metadata": {},
   "source": [
    "Объединим данные о пользователях, поездках и подписках в один датафрейм. Используем для этого метод merge().\n"
   ]
  },
  {
   "cell_type": "code",
   "execution_count": 26,
   "id": "9a3791d9",
   "metadata": {},
   "outputs": [
    {
     "data": {
      "text/plain": [
       "'Первые десять строк датафрейма:'"
      ]
     },
     "metadata": {},
     "output_type": "display_data"
    },
    {
     "data": {
      "text/html": [
       "<div>\n",
       "<style scoped>\n",
       "    .dataframe tbody tr th:only-of-type {\n",
       "        vertical-align: middle;\n",
       "    }\n",
       "\n",
       "    .dataframe tbody tr th {\n",
       "        vertical-align: top;\n",
       "    }\n",
       "\n",
       "    .dataframe thead th {\n",
       "        text-align: right;\n",
       "    }\n",
       "</style>\n",
       "<table border=\"1\" class=\"dataframe\">\n",
       "  <thead>\n",
       "    <tr style=\"text-align: right;\">\n",
       "      <th></th>\n",
       "      <th>user_id</th>\n",
       "      <th>name</th>\n",
       "      <th>age</th>\n",
       "      <th>city</th>\n",
       "      <th>subscription_type</th>\n",
       "      <th>distance</th>\n",
       "      <th>duration</th>\n",
       "      <th>date</th>\n",
       "      <th>month</th>\n",
       "      <th>minute_price</th>\n",
       "      <th>start_ride_price</th>\n",
       "      <th>subscription_fee</th>\n",
       "    </tr>\n",
       "  </thead>\n",
       "  <tbody>\n",
       "    <tr>\n",
       "      <th>0</th>\n",
       "      <td>1</td>\n",
       "      <td>Кира</td>\n",
       "      <td>22</td>\n",
       "      <td>Тюмень</td>\n",
       "      <td>ultra</td>\n",
       "      <td>4409.919140</td>\n",
       "      <td>25.599769</td>\n",
       "      <td>2021-01-01</td>\n",
       "      <td>1</td>\n",
       "      <td>6</td>\n",
       "      <td>0</td>\n",
       "      <td>199</td>\n",
       "    </tr>\n",
       "    <tr>\n",
       "      <th>1</th>\n",
       "      <td>1</td>\n",
       "      <td>Кира</td>\n",
       "      <td>22</td>\n",
       "      <td>Тюмень</td>\n",
       "      <td>ultra</td>\n",
       "      <td>2617.592153</td>\n",
       "      <td>15.816871</td>\n",
       "      <td>2021-01-18</td>\n",
       "      <td>1</td>\n",
       "      <td>6</td>\n",
       "      <td>0</td>\n",
       "      <td>199</td>\n",
       "    </tr>\n",
       "    <tr>\n",
       "      <th>2</th>\n",
       "      <td>1</td>\n",
       "      <td>Кира</td>\n",
       "      <td>22</td>\n",
       "      <td>Тюмень</td>\n",
       "      <td>ultra</td>\n",
       "      <td>754.159807</td>\n",
       "      <td>6.232113</td>\n",
       "      <td>2021-04-20</td>\n",
       "      <td>4</td>\n",
       "      <td>6</td>\n",
       "      <td>0</td>\n",
       "      <td>199</td>\n",
       "    </tr>\n",
       "    <tr>\n",
       "      <th>3</th>\n",
       "      <td>1</td>\n",
       "      <td>Кира</td>\n",
       "      <td>22</td>\n",
       "      <td>Тюмень</td>\n",
       "      <td>ultra</td>\n",
       "      <td>2694.783254</td>\n",
       "      <td>18.511000</td>\n",
       "      <td>2021-08-11</td>\n",
       "      <td>8</td>\n",
       "      <td>6</td>\n",
       "      <td>0</td>\n",
       "      <td>199</td>\n",
       "    </tr>\n",
       "    <tr>\n",
       "      <th>4</th>\n",
       "      <td>1</td>\n",
       "      <td>Кира</td>\n",
       "      <td>22</td>\n",
       "      <td>Тюмень</td>\n",
       "      <td>ultra</td>\n",
       "      <td>4028.687306</td>\n",
       "      <td>26.265803</td>\n",
       "      <td>2021-08-28</td>\n",
       "      <td>8</td>\n",
       "      <td>6</td>\n",
       "      <td>0</td>\n",
       "      <td>199</td>\n",
       "    </tr>\n",
       "    <tr>\n",
       "      <th>5</th>\n",
       "      <td>1</td>\n",
       "      <td>Кира</td>\n",
       "      <td>22</td>\n",
       "      <td>Тюмень</td>\n",
       "      <td>ultra</td>\n",
       "      <td>2770.890808</td>\n",
       "      <td>16.650138</td>\n",
       "      <td>2021-10-09</td>\n",
       "      <td>10</td>\n",
       "      <td>6</td>\n",
       "      <td>0</td>\n",
       "      <td>199</td>\n",
       "    </tr>\n",
       "    <tr>\n",
       "      <th>6</th>\n",
       "      <td>1</td>\n",
       "      <td>Кира</td>\n",
       "      <td>22</td>\n",
       "      <td>Тюмень</td>\n",
       "      <td>ultra</td>\n",
       "      <td>3039.020292</td>\n",
       "      <td>14.927879</td>\n",
       "      <td>2021-10-19</td>\n",
       "      <td>10</td>\n",
       "      <td>6</td>\n",
       "      <td>0</td>\n",
       "      <td>199</td>\n",
       "    </tr>\n",
       "    <tr>\n",
       "      <th>7</th>\n",
       "      <td>1</td>\n",
       "      <td>Кира</td>\n",
       "      <td>22</td>\n",
       "      <td>Тюмень</td>\n",
       "      <td>ultra</td>\n",
       "      <td>2842.118050</td>\n",
       "      <td>23.117468</td>\n",
       "      <td>2021-11-06</td>\n",
       "      <td>11</td>\n",
       "      <td>6</td>\n",
       "      <td>0</td>\n",
       "      <td>199</td>\n",
       "    </tr>\n",
       "    <tr>\n",
       "      <th>8</th>\n",
       "      <td>1</td>\n",
       "      <td>Кира</td>\n",
       "      <td>22</td>\n",
       "      <td>Тюмень</td>\n",
       "      <td>ultra</td>\n",
       "      <td>3412.690668</td>\n",
       "      <td>15.238072</td>\n",
       "      <td>2021-11-14</td>\n",
       "      <td>11</td>\n",
       "      <td>6</td>\n",
       "      <td>0</td>\n",
       "      <td>199</td>\n",
       "    </tr>\n",
       "    <tr>\n",
       "      <th>9</th>\n",
       "      <td>1</td>\n",
       "      <td>Кира</td>\n",
       "      <td>22</td>\n",
       "      <td>Тюмень</td>\n",
       "      <td>ultra</td>\n",
       "      <td>748.690645</td>\n",
       "      <td>15.041884</td>\n",
       "      <td>2021-11-22</td>\n",
       "      <td>11</td>\n",
       "      <td>6</td>\n",
       "      <td>0</td>\n",
       "      <td>199</td>\n",
       "    </tr>\n",
       "  </tbody>\n",
       "</table>\n",
       "</div>"
      ],
      "text/plain": [
       "   user_id  name  age    city subscription_type     distance   duration  \\\n",
       "0        1  Кира   22  Тюмень             ultra  4409.919140  25.599769   \n",
       "1        1  Кира   22  Тюмень             ultra  2617.592153  15.816871   \n",
       "2        1  Кира   22  Тюмень             ultra   754.159807   6.232113   \n",
       "3        1  Кира   22  Тюмень             ultra  2694.783254  18.511000   \n",
       "4        1  Кира   22  Тюмень             ultra  4028.687306  26.265803   \n",
       "5        1  Кира   22  Тюмень             ultra  2770.890808  16.650138   \n",
       "6        1  Кира   22  Тюмень             ultra  3039.020292  14.927879   \n",
       "7        1  Кира   22  Тюмень             ultra  2842.118050  23.117468   \n",
       "8        1  Кира   22  Тюмень             ultra  3412.690668  15.238072   \n",
       "9        1  Кира   22  Тюмень             ultra   748.690645  15.041884   \n",
       "\n",
       "        date  month  minute_price  start_ride_price  subscription_fee  \n",
       "0 2021-01-01      1             6                 0               199  \n",
       "1 2021-01-18      1             6                 0               199  \n",
       "2 2021-04-20      4             6                 0               199  \n",
       "3 2021-08-11      8             6                 0               199  \n",
       "4 2021-08-28      8             6                 0               199  \n",
       "5 2021-10-09     10             6                 0               199  \n",
       "6 2021-10-19     10             6                 0               199  \n",
       "7 2021-11-06     11             6                 0               199  \n",
       "8 2021-11-14     11             6                 0               199  \n",
       "9 2021-11-22     11             6                 0               199  "
      ]
     },
     "metadata": {},
     "output_type": "display_data"
    },
    {
     "data": {
      "text/plain": [
       "'Основная информация о датафрейме:'"
      ]
     },
     "metadata": {},
     "output_type": "display_data"
    },
    {
     "name": "stdout",
     "output_type": "stream",
     "text": [
      "<class 'pandas.core.frame.DataFrame'>\n",
      "RangeIndex: 18068 entries, 0 to 18067\n",
      "Data columns (total 12 columns):\n",
      " #   Column             Non-Null Count  Dtype         \n",
      "---  ------             --------------  -----         \n",
      " 0   user_id            18068 non-null  int64         \n",
      " 1   name               18068 non-null  object        \n",
      " 2   age                18068 non-null  int64         \n",
      " 3   city               18068 non-null  object        \n",
      " 4   subscription_type  18068 non-null  object        \n",
      " 5   distance           18068 non-null  float64       \n",
      " 6   duration           18068 non-null  float64       \n",
      " 7   date               18068 non-null  datetime64[ns]\n",
      " 8   month              18068 non-null  int32         \n",
      " 9   minute_price       18068 non-null  int64         \n",
      " 10  start_ride_price   18068 non-null  int64         \n",
      " 11  subscription_fee   18068 non-null  int64         \n",
      "dtypes: datetime64[ns](1), float64(2), int32(1), int64(5), object(3)\n",
      "memory usage: 1.6+ MB\n"
     ]
    },
    {
     "data": {
      "text/plain": [
       "None"
      ]
     },
     "metadata": {},
     "output_type": "display_data"
    },
    {
     "data": {
      "text/plain": [
       "'Количество пропусков:'"
      ]
     },
     "metadata": {},
     "output_type": "display_data"
    },
    {
     "data": {
      "text/plain": [
       "user_id              0\n",
       "name                 0\n",
       "age                  0\n",
       "city                 0\n",
       "subscription_type    0\n",
       "distance             0\n",
       "duration             0\n",
       "date                 0\n",
       "month                0\n",
       "minute_price         0\n",
       "start_ride_price     0\n",
       "subscription_fee     0\n",
       "dtype: int64"
      ]
     },
     "metadata": {},
     "output_type": "display_data"
    },
    {
     "data": {
      "text/plain": [
       "'Количество дубликатов:'"
      ]
     },
     "metadata": {},
     "output_type": "display_data"
    },
    {
     "data": {
      "text/plain": [
       "0"
      ]
     },
     "metadata": {},
     "output_type": "display_data"
    }
   ],
   "source": [
    "df = users_go.merge(riders_go, on='user_id', how='outer')\n",
    "df = df.merge(subscriptions_go, on='subscription_type', how='outer')\n",
    "information_data(df)"
   ]
  },
  {
   "cell_type": "markdown",
   "id": "3acaa327",
   "metadata": {},
   "source": [
    "**Создадим ещё два датафрейма из датафрейма df:**\n",
    "- c данными о пользователях без подписки;\n",
    "- с данными о пользователях с подпиской.\n"
   ]
  },
  {
   "cell_type": "code",
   "execution_count": 27,
   "id": "044b9a8a",
   "metadata": {},
   "outputs": [
    {
     "data": {
      "text/plain": [
       "'Первые десять строк датафрейма:'"
      ]
     },
     "metadata": {},
     "output_type": "display_data"
    },
    {
     "data": {
      "text/html": [
       "<div>\n",
       "<style scoped>\n",
       "    .dataframe tbody tr th:only-of-type {\n",
       "        vertical-align: middle;\n",
       "    }\n",
       "\n",
       "    .dataframe tbody tr th {\n",
       "        vertical-align: top;\n",
       "    }\n",
       "\n",
       "    .dataframe thead th {\n",
       "        text-align: right;\n",
       "    }\n",
       "</style>\n",
       "<table border=\"1\" class=\"dataframe\">\n",
       "  <thead>\n",
       "    <tr style=\"text-align: right;\">\n",
       "      <th></th>\n",
       "      <th>user_id</th>\n",
       "      <th>name</th>\n",
       "      <th>age</th>\n",
       "      <th>city</th>\n",
       "      <th>subscription_type</th>\n",
       "      <th>distance</th>\n",
       "      <th>duration</th>\n",
       "      <th>date</th>\n",
       "      <th>month</th>\n",
       "      <th>minute_price</th>\n",
       "      <th>start_ride_price</th>\n",
       "      <th>subscription_fee</th>\n",
       "    </tr>\n",
       "  </thead>\n",
       "  <tbody>\n",
       "    <tr>\n",
       "      <th>6500</th>\n",
       "      <td>700</td>\n",
       "      <td>Айдар</td>\n",
       "      <td>22</td>\n",
       "      <td>Омск</td>\n",
       "      <td>free</td>\n",
       "      <td>2515.690719</td>\n",
       "      <td>14.944286</td>\n",
       "      <td>2021-01-02</td>\n",
       "      <td>1</td>\n",
       "      <td>8</td>\n",
       "      <td>50</td>\n",
       "      <td>0</td>\n",
       "    </tr>\n",
       "    <tr>\n",
       "      <th>6501</th>\n",
       "      <td>700</td>\n",
       "      <td>Айдар</td>\n",
       "      <td>22</td>\n",
       "      <td>Омск</td>\n",
       "      <td>free</td>\n",
       "      <td>846.932642</td>\n",
       "      <td>16.234663</td>\n",
       "      <td>2021-02-01</td>\n",
       "      <td>2</td>\n",
       "      <td>8</td>\n",
       "      <td>50</td>\n",
       "      <td>0</td>\n",
       "    </tr>\n",
       "    <tr>\n",
       "      <th>6502</th>\n",
       "      <td>700</td>\n",
       "      <td>Айдар</td>\n",
       "      <td>22</td>\n",
       "      <td>Омск</td>\n",
       "      <td>free</td>\n",
       "      <td>4004.434142</td>\n",
       "      <td>20.016628</td>\n",
       "      <td>2021-02-04</td>\n",
       "      <td>2</td>\n",
       "      <td>8</td>\n",
       "      <td>50</td>\n",
       "      <td>0</td>\n",
       "    </tr>\n",
       "    <tr>\n",
       "      <th>6503</th>\n",
       "      <td>700</td>\n",
       "      <td>Айдар</td>\n",
       "      <td>22</td>\n",
       "      <td>Омск</td>\n",
       "      <td>free</td>\n",
       "      <td>1205.911290</td>\n",
       "      <td>9.782872</td>\n",
       "      <td>2021-02-10</td>\n",
       "      <td>2</td>\n",
       "      <td>8</td>\n",
       "      <td>50</td>\n",
       "      <td>0</td>\n",
       "    </tr>\n",
       "    <tr>\n",
       "      <th>6504</th>\n",
       "      <td>700</td>\n",
       "      <td>Айдар</td>\n",
       "      <td>22</td>\n",
       "      <td>Омск</td>\n",
       "      <td>free</td>\n",
       "      <td>3047.379435</td>\n",
       "      <td>17.427673</td>\n",
       "      <td>2021-02-14</td>\n",
       "      <td>2</td>\n",
       "      <td>8</td>\n",
       "      <td>50</td>\n",
       "      <td>0</td>\n",
       "    </tr>\n",
       "    <tr>\n",
       "      <th>6505</th>\n",
       "      <td>700</td>\n",
       "      <td>Айдар</td>\n",
       "      <td>22</td>\n",
       "      <td>Омск</td>\n",
       "      <td>free</td>\n",
       "      <td>4342.002254</td>\n",
       "      <td>22.368009</td>\n",
       "      <td>2021-02-23</td>\n",
       "      <td>2</td>\n",
       "      <td>8</td>\n",
       "      <td>50</td>\n",
       "      <td>0</td>\n",
       "    </tr>\n",
       "    <tr>\n",
       "      <th>6506</th>\n",
       "      <td>700</td>\n",
       "      <td>Айдар</td>\n",
       "      <td>22</td>\n",
       "      <td>Омск</td>\n",
       "      <td>free</td>\n",
       "      <td>3798.334905</td>\n",
       "      <td>18.243756</td>\n",
       "      <td>2021-03-03</td>\n",
       "      <td>3</td>\n",
       "      <td>8</td>\n",
       "      <td>50</td>\n",
       "      <td>0</td>\n",
       "    </tr>\n",
       "    <tr>\n",
       "      <th>6507</th>\n",
       "      <td>700</td>\n",
       "      <td>Айдар</td>\n",
       "      <td>22</td>\n",
       "      <td>Омск</td>\n",
       "      <td>free</td>\n",
       "      <td>2984.551206</td>\n",
       "      <td>15.424899</td>\n",
       "      <td>2021-04-09</td>\n",
       "      <td>4</td>\n",
       "      <td>8</td>\n",
       "      <td>50</td>\n",
       "      <td>0</td>\n",
       "    </tr>\n",
       "    <tr>\n",
       "      <th>6508</th>\n",
       "      <td>700</td>\n",
       "      <td>Айдар</td>\n",
       "      <td>22</td>\n",
       "      <td>Омск</td>\n",
       "      <td>free</td>\n",
       "      <td>3360.107141</td>\n",
       "      <td>16.765497</td>\n",
       "      <td>2021-06-12</td>\n",
       "      <td>6</td>\n",
       "      <td>8</td>\n",
       "      <td>50</td>\n",
       "      <td>0</td>\n",
       "    </tr>\n",
       "    <tr>\n",
       "      <th>6509</th>\n",
       "      <td>700</td>\n",
       "      <td>Айдар</td>\n",
       "      <td>22</td>\n",
       "      <td>Омск</td>\n",
       "      <td>free</td>\n",
       "      <td>2567.543847</td>\n",
       "      <td>11.312160</td>\n",
       "      <td>2021-06-23</td>\n",
       "      <td>6</td>\n",
       "      <td>8</td>\n",
       "      <td>50</td>\n",
       "      <td>0</td>\n",
       "    </tr>\n",
       "  </tbody>\n",
       "</table>\n",
       "</div>"
      ],
      "text/plain": [
       "      user_id   name  age  city subscription_type     distance   duration  \\\n",
       "6500      700  Айдар   22  Омск              free  2515.690719  14.944286   \n",
       "6501      700  Айдар   22  Омск              free   846.932642  16.234663   \n",
       "6502      700  Айдар   22  Омск              free  4004.434142  20.016628   \n",
       "6503      700  Айдар   22  Омск              free  1205.911290   9.782872   \n",
       "6504      700  Айдар   22  Омск              free  3047.379435  17.427673   \n",
       "6505      700  Айдар   22  Омск              free  4342.002254  22.368009   \n",
       "6506      700  Айдар   22  Омск              free  3798.334905  18.243756   \n",
       "6507      700  Айдар   22  Омск              free  2984.551206  15.424899   \n",
       "6508      700  Айдар   22  Омск              free  3360.107141  16.765497   \n",
       "6509      700  Айдар   22  Омск              free  2567.543847  11.312160   \n",
       "\n",
       "           date  month  minute_price  start_ride_price  subscription_fee  \n",
       "6500 2021-01-02      1             8                50                 0  \n",
       "6501 2021-02-01      2             8                50                 0  \n",
       "6502 2021-02-04      2             8                50                 0  \n",
       "6503 2021-02-10      2             8                50                 0  \n",
       "6504 2021-02-14      2             8                50                 0  \n",
       "6505 2021-02-23      2             8                50                 0  \n",
       "6506 2021-03-03      3             8                50                 0  \n",
       "6507 2021-04-09      4             8                50                 0  \n",
       "6508 2021-06-12      6             8                50                 0  \n",
       "6509 2021-06-23      6             8                50                 0  "
      ]
     },
     "metadata": {},
     "output_type": "display_data"
    },
    {
     "data": {
      "text/plain": [
       "'Основная информация о датафрейме:'"
      ]
     },
     "metadata": {},
     "output_type": "display_data"
    },
    {
     "name": "stdout",
     "output_type": "stream",
     "text": [
      "<class 'pandas.core.frame.DataFrame'>\n",
      "Index: 11568 entries, 6500 to 18067\n",
      "Data columns (total 12 columns):\n",
      " #   Column             Non-Null Count  Dtype         \n",
      "---  ------             --------------  -----         \n",
      " 0   user_id            11568 non-null  int64         \n",
      " 1   name               11568 non-null  object        \n",
      " 2   age                11568 non-null  int64         \n",
      " 3   city               11568 non-null  object        \n",
      " 4   subscription_type  11568 non-null  object        \n",
      " 5   distance           11568 non-null  float64       \n",
      " 6   duration           11568 non-null  float64       \n",
      " 7   date               11568 non-null  datetime64[ns]\n",
      " 8   month              11568 non-null  int32         \n",
      " 9   minute_price       11568 non-null  int64         \n",
      " 10  start_ride_price   11568 non-null  int64         \n",
      " 11  subscription_fee   11568 non-null  int64         \n",
      "dtypes: datetime64[ns](1), float64(2), int32(1), int64(5), object(3)\n",
      "memory usage: 1.1+ MB\n"
     ]
    },
    {
     "data": {
      "text/plain": [
       "None"
      ]
     },
     "metadata": {},
     "output_type": "display_data"
    },
    {
     "data": {
      "text/plain": [
       "'Количество пропусков:'"
      ]
     },
     "metadata": {},
     "output_type": "display_data"
    },
    {
     "data": {
      "text/plain": [
       "user_id              0\n",
       "name                 0\n",
       "age                  0\n",
       "city                 0\n",
       "subscription_type    0\n",
       "distance             0\n",
       "duration             0\n",
       "date                 0\n",
       "month                0\n",
       "minute_price         0\n",
       "start_ride_price     0\n",
       "subscription_fee     0\n",
       "dtype: int64"
      ]
     },
     "metadata": {},
     "output_type": "display_data"
    },
    {
     "data": {
      "text/plain": [
       "'Количество дубликатов:'"
      ]
     },
     "metadata": {},
     "output_type": "display_data"
    },
    {
     "data": {
      "text/plain": [
       "0"
      ]
     },
     "metadata": {},
     "output_type": "display_data"
    }
   ],
   "source": [
    "# создадим датафрейм с данными о пользователях без подписки\n",
    "subscription_free = df[df['subscription_type'] == 'free'] \n",
    "\n",
    "# просмотрим основную информацию о датафрейме\n",
    "information_data(subscription_free) "
   ]
  },
  {
   "cell_type": "code",
   "execution_count": 28,
   "id": "3e68e79b",
   "metadata": {},
   "outputs": [
    {
     "data": {
      "text/plain": [
       "'Первые десять строк датафрейма:'"
      ]
     },
     "metadata": {},
     "output_type": "display_data"
    },
    {
     "data": {
      "text/html": [
       "<div>\n",
       "<style scoped>\n",
       "    .dataframe tbody tr th:only-of-type {\n",
       "        vertical-align: middle;\n",
       "    }\n",
       "\n",
       "    .dataframe tbody tr th {\n",
       "        vertical-align: top;\n",
       "    }\n",
       "\n",
       "    .dataframe thead th {\n",
       "        text-align: right;\n",
       "    }\n",
       "</style>\n",
       "<table border=\"1\" class=\"dataframe\">\n",
       "  <thead>\n",
       "    <tr style=\"text-align: right;\">\n",
       "      <th></th>\n",
       "      <th>user_id</th>\n",
       "      <th>name</th>\n",
       "      <th>age</th>\n",
       "      <th>city</th>\n",
       "      <th>subscription_type</th>\n",
       "      <th>distance</th>\n",
       "      <th>duration</th>\n",
       "      <th>date</th>\n",
       "      <th>month</th>\n",
       "      <th>minute_price</th>\n",
       "      <th>start_ride_price</th>\n",
       "      <th>subscription_fee</th>\n",
       "    </tr>\n",
       "  </thead>\n",
       "  <tbody>\n",
       "    <tr>\n",
       "      <th>0</th>\n",
       "      <td>1</td>\n",
       "      <td>Кира</td>\n",
       "      <td>22</td>\n",
       "      <td>Тюмень</td>\n",
       "      <td>ultra</td>\n",
       "      <td>4409.919140</td>\n",
       "      <td>25.599769</td>\n",
       "      <td>2021-01-01</td>\n",
       "      <td>1</td>\n",
       "      <td>6</td>\n",
       "      <td>0</td>\n",
       "      <td>199</td>\n",
       "    </tr>\n",
       "    <tr>\n",
       "      <th>1</th>\n",
       "      <td>1</td>\n",
       "      <td>Кира</td>\n",
       "      <td>22</td>\n",
       "      <td>Тюмень</td>\n",
       "      <td>ultra</td>\n",
       "      <td>2617.592153</td>\n",
       "      <td>15.816871</td>\n",
       "      <td>2021-01-18</td>\n",
       "      <td>1</td>\n",
       "      <td>6</td>\n",
       "      <td>0</td>\n",
       "      <td>199</td>\n",
       "    </tr>\n",
       "    <tr>\n",
       "      <th>2</th>\n",
       "      <td>1</td>\n",
       "      <td>Кира</td>\n",
       "      <td>22</td>\n",
       "      <td>Тюмень</td>\n",
       "      <td>ultra</td>\n",
       "      <td>754.159807</td>\n",
       "      <td>6.232113</td>\n",
       "      <td>2021-04-20</td>\n",
       "      <td>4</td>\n",
       "      <td>6</td>\n",
       "      <td>0</td>\n",
       "      <td>199</td>\n",
       "    </tr>\n",
       "    <tr>\n",
       "      <th>3</th>\n",
       "      <td>1</td>\n",
       "      <td>Кира</td>\n",
       "      <td>22</td>\n",
       "      <td>Тюмень</td>\n",
       "      <td>ultra</td>\n",
       "      <td>2694.783254</td>\n",
       "      <td>18.511000</td>\n",
       "      <td>2021-08-11</td>\n",
       "      <td>8</td>\n",
       "      <td>6</td>\n",
       "      <td>0</td>\n",
       "      <td>199</td>\n",
       "    </tr>\n",
       "    <tr>\n",
       "      <th>4</th>\n",
       "      <td>1</td>\n",
       "      <td>Кира</td>\n",
       "      <td>22</td>\n",
       "      <td>Тюмень</td>\n",
       "      <td>ultra</td>\n",
       "      <td>4028.687306</td>\n",
       "      <td>26.265803</td>\n",
       "      <td>2021-08-28</td>\n",
       "      <td>8</td>\n",
       "      <td>6</td>\n",
       "      <td>0</td>\n",
       "      <td>199</td>\n",
       "    </tr>\n",
       "    <tr>\n",
       "      <th>5</th>\n",
       "      <td>1</td>\n",
       "      <td>Кира</td>\n",
       "      <td>22</td>\n",
       "      <td>Тюмень</td>\n",
       "      <td>ultra</td>\n",
       "      <td>2770.890808</td>\n",
       "      <td>16.650138</td>\n",
       "      <td>2021-10-09</td>\n",
       "      <td>10</td>\n",
       "      <td>6</td>\n",
       "      <td>0</td>\n",
       "      <td>199</td>\n",
       "    </tr>\n",
       "    <tr>\n",
       "      <th>6</th>\n",
       "      <td>1</td>\n",
       "      <td>Кира</td>\n",
       "      <td>22</td>\n",
       "      <td>Тюмень</td>\n",
       "      <td>ultra</td>\n",
       "      <td>3039.020292</td>\n",
       "      <td>14.927879</td>\n",
       "      <td>2021-10-19</td>\n",
       "      <td>10</td>\n",
       "      <td>6</td>\n",
       "      <td>0</td>\n",
       "      <td>199</td>\n",
       "    </tr>\n",
       "    <tr>\n",
       "      <th>7</th>\n",
       "      <td>1</td>\n",
       "      <td>Кира</td>\n",
       "      <td>22</td>\n",
       "      <td>Тюмень</td>\n",
       "      <td>ultra</td>\n",
       "      <td>2842.118050</td>\n",
       "      <td>23.117468</td>\n",
       "      <td>2021-11-06</td>\n",
       "      <td>11</td>\n",
       "      <td>6</td>\n",
       "      <td>0</td>\n",
       "      <td>199</td>\n",
       "    </tr>\n",
       "    <tr>\n",
       "      <th>8</th>\n",
       "      <td>1</td>\n",
       "      <td>Кира</td>\n",
       "      <td>22</td>\n",
       "      <td>Тюмень</td>\n",
       "      <td>ultra</td>\n",
       "      <td>3412.690668</td>\n",
       "      <td>15.238072</td>\n",
       "      <td>2021-11-14</td>\n",
       "      <td>11</td>\n",
       "      <td>6</td>\n",
       "      <td>0</td>\n",
       "      <td>199</td>\n",
       "    </tr>\n",
       "    <tr>\n",
       "      <th>9</th>\n",
       "      <td>1</td>\n",
       "      <td>Кира</td>\n",
       "      <td>22</td>\n",
       "      <td>Тюмень</td>\n",
       "      <td>ultra</td>\n",
       "      <td>748.690645</td>\n",
       "      <td>15.041884</td>\n",
       "      <td>2021-11-22</td>\n",
       "      <td>11</td>\n",
       "      <td>6</td>\n",
       "      <td>0</td>\n",
       "      <td>199</td>\n",
       "    </tr>\n",
       "  </tbody>\n",
       "</table>\n",
       "</div>"
      ],
      "text/plain": [
       "   user_id  name  age    city subscription_type     distance   duration  \\\n",
       "0        1  Кира   22  Тюмень             ultra  4409.919140  25.599769   \n",
       "1        1  Кира   22  Тюмень             ultra  2617.592153  15.816871   \n",
       "2        1  Кира   22  Тюмень             ultra   754.159807   6.232113   \n",
       "3        1  Кира   22  Тюмень             ultra  2694.783254  18.511000   \n",
       "4        1  Кира   22  Тюмень             ultra  4028.687306  26.265803   \n",
       "5        1  Кира   22  Тюмень             ultra  2770.890808  16.650138   \n",
       "6        1  Кира   22  Тюмень             ultra  3039.020292  14.927879   \n",
       "7        1  Кира   22  Тюмень             ultra  2842.118050  23.117468   \n",
       "8        1  Кира   22  Тюмень             ultra  3412.690668  15.238072   \n",
       "9        1  Кира   22  Тюмень             ultra   748.690645  15.041884   \n",
       "\n",
       "        date  month  minute_price  start_ride_price  subscription_fee  \n",
       "0 2021-01-01      1             6                 0               199  \n",
       "1 2021-01-18      1             6                 0               199  \n",
       "2 2021-04-20      4             6                 0               199  \n",
       "3 2021-08-11      8             6                 0               199  \n",
       "4 2021-08-28      8             6                 0               199  \n",
       "5 2021-10-09     10             6                 0               199  \n",
       "6 2021-10-19     10             6                 0               199  \n",
       "7 2021-11-06     11             6                 0               199  \n",
       "8 2021-11-14     11             6                 0               199  \n",
       "9 2021-11-22     11             6                 0               199  "
      ]
     },
     "metadata": {},
     "output_type": "display_data"
    },
    {
     "data": {
      "text/plain": [
       "'Основная информация о датафрейме:'"
      ]
     },
     "metadata": {},
     "output_type": "display_data"
    },
    {
     "name": "stdout",
     "output_type": "stream",
     "text": [
      "<class 'pandas.core.frame.DataFrame'>\n",
      "Index: 6500 entries, 0 to 6499\n",
      "Data columns (total 12 columns):\n",
      " #   Column             Non-Null Count  Dtype         \n",
      "---  ------             --------------  -----         \n",
      " 0   user_id            6500 non-null   int64         \n",
      " 1   name               6500 non-null   object        \n",
      " 2   age                6500 non-null   int64         \n",
      " 3   city               6500 non-null   object        \n",
      " 4   subscription_type  6500 non-null   object        \n",
      " 5   distance           6500 non-null   float64       \n",
      " 6   duration           6500 non-null   float64       \n",
      " 7   date               6500 non-null   datetime64[ns]\n",
      " 8   month              6500 non-null   int32         \n",
      " 9   minute_price       6500 non-null   int64         \n",
      " 10  start_ride_price   6500 non-null   int64         \n",
      " 11  subscription_fee   6500 non-null   int64         \n",
      "dtypes: datetime64[ns](1), float64(2), int32(1), int64(5), object(3)\n",
      "memory usage: 634.8+ KB\n"
     ]
    },
    {
     "data": {
      "text/plain": [
       "None"
      ]
     },
     "metadata": {},
     "output_type": "display_data"
    },
    {
     "data": {
      "text/plain": [
       "'Количество пропусков:'"
      ]
     },
     "metadata": {},
     "output_type": "display_data"
    },
    {
     "data": {
      "text/plain": [
       "user_id              0\n",
       "name                 0\n",
       "age                  0\n",
       "city                 0\n",
       "subscription_type    0\n",
       "distance             0\n",
       "duration             0\n",
       "date                 0\n",
       "month                0\n",
       "minute_price         0\n",
       "start_ride_price     0\n",
       "subscription_fee     0\n",
       "dtype: int64"
      ]
     },
     "metadata": {},
     "output_type": "display_data"
    },
    {
     "data": {
      "text/plain": [
       "'Количество дубликатов:'"
      ]
     },
     "metadata": {},
     "output_type": "display_data"
    },
    {
     "data": {
      "text/plain": [
       "0"
      ]
     },
     "metadata": {},
     "output_type": "display_data"
    }
   ],
   "source": [
    "# создадим датафрейм с данными о пользователях с подпиской ultra\n",
    "subscription_ultra = df[df['subscription_type'] == 'ultra'] \n",
    "\n",
    "# просмотрим основную информацию о датафрейме\n",
    "information_data(subscription_ultra) "
   ]
  },
  {
   "cell_type": "markdown",
   "id": "5584652d",
   "metadata": {},
   "source": [
    "## Визуализация информации о расстоянии и времени поездок для пользователей обеих категорий"
   ]
  },
  {
   "cell_type": "markdown",
   "id": "d642510a",
   "metadata": {},
   "source": [
    "**Построим гистограммы с информацией о расстоянии и продолжительности поездок пользователей без подписки**"
   ]
  },
  {
   "cell_type": "markdown",
   "id": "328d2cc4",
   "metadata": {},
   "source": [
    "Для начала создадим функцию, которая будет принимать в качестве аргументов датафрейм и названия столбцов, которые мы будем визуализировать. "
   ]
  },
  {
   "cell_type": "code",
   "execution_count": 29,
   "id": "2d8f58be",
   "metadata": {},
   "outputs": [
    {
     "data": {
      "image/png": "[encoded data removed]",
      "text/plain": [
       "<Figure size 1500x700 with 2 Axes>"
      ]
     },
     "metadata": {},
     "output_type": "display_data"
    }
   ],
   "source": [
    "def plot_histograms(df1, df2, column1, column2, title1, title2):\n",
    "    fig, axs = plt.subplots(1, 2, figsize=(15, 7))\n",
    "    \n",
    "    # Построение гистограммы для column1\n",
    "    axs[0].hist(df1[column1], bins=10, color='skyblue', edgecolor='black', alpha=0.5, label=title1)\n",
    "    axs[0].hist(df2[column1], bins=10, color='salmon', edgecolor='black', alpha=0.5, label=title2)\n",
    "    axs[0].set_ylabel('Частота')\n",
    "    axs[0].set_xlabel(column1)\n",
    "    axs[0].set_title('Гистограмма ' + column1)\n",
    "    axs[0].legend(loc='upper right')\n",
    "    \n",
    "    # Построение гистограммы для column2\n",
    "    axs[1].hist(df1[column2], bins=10, color='skyblue', edgecolor='black', alpha=0.5, label=title1)\n",
    "    axs[1].hist(df2[column2], bins=10, color='salmon', edgecolor='black', alpha=0.5, label=title2)\n",
    "    axs[1].set_xlabel(column2)\n",
    "    axs[1].set_ylabel('Частота')\n",
    "    axs[1].set_title('Гистограмма ' + column2)\n",
    "    axs[1].legend(loc='upper right')\n",
    "    \n",
    "    plt.tight_layout()\n",
    "    plt.show()\n",
    "\n",
    "plot_histograms(subscription_free, subscription_ultra, 'distance', 'duration',\\\n",
    "                'Без подписки', 'С подпиской ultra')"
   ]
  },
  {
   "cell_type": "markdown",
   "id": "b708490a",
   "metadata": {},
   "source": [
    "## Вывод"
   ]
  },
  {
   "cell_type": "markdown",
   "id": "c7fc0386",
   "metadata": {},
   "source": [
    "На данном этапе был создан объединенный датафрейм, содержащий данные о пользователях, поездках и подписках. На его основе было создано еще два датафрейма, содержащие информацию:\n",
    "\n",
    "- о пользователях без подписки;\n",
    "- о пользователях с подпиской.\n",
    "\n",
    "Построены гистограммы, чтобы проанализировать, как отличается расстояние и продолжительность поездки для пользователей с различным типом подписки. \n",
    "\n",
    "На гистограммах видно, что пользователи без подписки (free) за поездку преодолевают расстояние от 0 до 7000 метров, пик значений приходится на 2500-3500 метров; продолжительность поездки составляет от 0 до 35 минут, большиство поездок находятся в диапазоне от 15 до 20 минут. \n",
    "Пользователи с подпиской ultra за поездку преодолевают расстояние от 0 до 6000 метров, пик значений приходится на 2500 метров; продолжительность поездки составляет от 3 до 40 минут, большиство поездок находятся в диапазоне от 15 до 20 минут.\n",
    "Таким образом, пользователи без подписки за поездку преодолевают большее расстояние, а сами поездки имеют большую продолжительность. На гистограмме \"Статистика поездок пользователей с подпиской ultra\" также можно отметить, что много поездок имеют дистанцию до 2500 метров и небольшую продолжительность — до 10 минут. Это может быть связано с тем, что для подписчиков ultra старт поездки бесплатный. "
   ]
  },
  {
   "cell_type": "markdown",
   "id": "c558e14b",
   "metadata": {},
   "source": [
    "# Подсчёт выручки\n",
    "**Создайте датафрейм с агрегированными данными о поездках на основе датафрейма с объединёнными данными из шага 4: найдите суммарное расстояние, количество поездок и суммарное время для каждого пользователя за каждый месяц.**\n"
   ]
  },
  {
   "cell_type": "markdown",
   "id": "03635097",
   "metadata": {},
   "source": [
    "Для корректного подсчета выручки сначала округлим до целых минут продолжительность поездки в датафрейме `df`"
   ]
  },
  {
   "cell_type": "markdown",
   "id": "eecd23e2",
   "metadata": {},
   "source": [
    "## Создаем датафрейм с агрегированными данными"
   ]
  },
  {
   "cell_type": "markdown",
   "id": "74fd4533",
   "metadata": {},
   "source": [
    "Так как оплата поездки производится с округлением до целой минуты вверх, добавим в датафрейм df столбец duration_ceil с окгругленными значениями продолжительности поездки для корректного расчета выручки."
   ]
  },
  {
   "cell_type": "code",
   "execution_count": 30,
   "id": "a752054e",
   "metadata": {},
   "outputs": [],
   "source": [
    "df['duration_ceil'] = np.ceil(df['duration']).astype('int64') "
   ]
  },
  {
   "cell_type": "markdown",
   "id": "72b1fc09",
   "metadata": {},
   "source": [
    "Создаем сводную таблицу с суммарным расстоянием, количеством поездок и суммарным времем для каждого пользователя за каждый месяц."
   ]
  },
  {
   "cell_type": "code",
   "execution_count": 31,
   "id": "303de6ef",
   "metadata": {},
   "outputs": [],
   "source": [
    "revenue_data = df.pivot_table(index=['user_id', 'subscription_type',\n",
    "                                     'month', 'minute_price', 'start_ride_price', \n",
    "                                     'subscription_fee'], \n",
    "                              values=['distance', 'duration_ceil'], \n",
    "                              aggfunc={'distance': ['sum', 'count'], 'duration_ceil': 'sum'})\n"
   ]
  },
  {
   "cell_type": "code",
   "execution_count": 32,
   "id": "2889cdbd",
   "metadata": {
    "scrolled": false
   },
   "outputs": [],
   "source": [
    "# устраним двухуровневые названия столбцов\n",
    "\n",
    "revenue_data.columns = ['_'.join(col).replace(' ', '_') for col in revenue_data.columns.values] "
   ]
  },
  {
   "cell_type": "code",
   "execution_count": 33,
   "id": "10988f32",
   "metadata": {
    "scrolled": false
   },
   "outputs": [
    {
     "data": {
      "text/html": [
       "<div>\n",
       "<style scoped>\n",
       "    .dataframe tbody tr th:only-of-type {\n",
       "        vertical-align: middle;\n",
       "    }\n",
       "\n",
       "    .dataframe tbody tr th {\n",
       "        vertical-align: top;\n",
       "    }\n",
       "\n",
       "    .dataframe thead th {\n",
       "        text-align: right;\n",
       "    }\n",
       "</style>\n",
       "<table border=\"1\" class=\"dataframe\">\n",
       "  <thead>\n",
       "    <tr style=\"text-align: right;\">\n",
       "      <th></th>\n",
       "      <th>user_id</th>\n",
       "      <th>subscription_type</th>\n",
       "      <th>month</th>\n",
       "      <th>minute_price</th>\n",
       "      <th>start_ride_price</th>\n",
       "      <th>subscription_fee</th>\n",
       "      <th>num_rides</th>\n",
       "      <th>total_distance</th>\n",
       "      <th>total_duration</th>\n",
       "    </tr>\n",
       "  </thead>\n",
       "  <tbody>\n",
       "    <tr>\n",
       "      <th>0</th>\n",
       "      <td>1</td>\n",
       "      <td>ultra</td>\n",
       "      <td>1</td>\n",
       "      <td>6</td>\n",
       "      <td>0</td>\n",
       "      <td>199</td>\n",
       "      <td>2</td>\n",
       "      <td>7027.511294</td>\n",
       "      <td>42</td>\n",
       "    </tr>\n",
       "    <tr>\n",
       "      <th>1</th>\n",
       "      <td>1</td>\n",
       "      <td>ultra</td>\n",
       "      <td>4</td>\n",
       "      <td>6</td>\n",
       "      <td>0</td>\n",
       "      <td>199</td>\n",
       "      <td>1</td>\n",
       "      <td>754.159807</td>\n",
       "      <td>7</td>\n",
       "    </tr>\n",
       "    <tr>\n",
       "      <th>2</th>\n",
       "      <td>1</td>\n",
       "      <td>ultra</td>\n",
       "      <td>8</td>\n",
       "      <td>6</td>\n",
       "      <td>0</td>\n",
       "      <td>199</td>\n",
       "      <td>2</td>\n",
       "      <td>6723.470560</td>\n",
       "      <td>46</td>\n",
       "    </tr>\n",
       "    <tr>\n",
       "      <th>3</th>\n",
       "      <td>1</td>\n",
       "      <td>ultra</td>\n",
       "      <td>10</td>\n",
       "      <td>6</td>\n",
       "      <td>0</td>\n",
       "      <td>199</td>\n",
       "      <td>2</td>\n",
       "      <td>5809.911100</td>\n",
       "      <td>32</td>\n",
       "    </tr>\n",
       "    <tr>\n",
       "      <th>4</th>\n",
       "      <td>1</td>\n",
       "      <td>ultra</td>\n",
       "      <td>11</td>\n",
       "      <td>6</td>\n",
       "      <td>0</td>\n",
       "      <td>199</td>\n",
       "      <td>3</td>\n",
       "      <td>7003.499363</td>\n",
       "      <td>56</td>\n",
       "    </tr>\n",
       "    <tr>\n",
       "      <th>...</th>\n",
       "      <td>...</td>\n",
       "      <td>...</td>\n",
       "      <td>...</td>\n",
       "      <td>...</td>\n",
       "      <td>...</td>\n",
       "      <td>...</td>\n",
       "      <td>...</td>\n",
       "      <td>...</td>\n",
       "      <td>...</td>\n",
       "    </tr>\n",
       "    <tr>\n",
       "      <th>11326</th>\n",
       "      <td>1534</td>\n",
       "      <td>free</td>\n",
       "      <td>6</td>\n",
       "      <td>8</td>\n",
       "      <td>50</td>\n",
       "      <td>0</td>\n",
       "      <td>2</td>\n",
       "      <td>3409.468534</td>\n",
       "      <td>26</td>\n",
       "    </tr>\n",
       "    <tr>\n",
       "      <th>11327</th>\n",
       "      <td>1534</td>\n",
       "      <td>free</td>\n",
       "      <td>8</td>\n",
       "      <td>8</td>\n",
       "      <td>50</td>\n",
       "      <td>0</td>\n",
       "      <td>2</td>\n",
       "      <td>7622.453034</td>\n",
       "      <td>48</td>\n",
       "    </tr>\n",
       "    <tr>\n",
       "      <th>11328</th>\n",
       "      <td>1534</td>\n",
       "      <td>free</td>\n",
       "      <td>9</td>\n",
       "      <td>8</td>\n",
       "      <td>50</td>\n",
       "      <td>0</td>\n",
       "      <td>1</td>\n",
       "      <td>4928.173852</td>\n",
       "      <td>23</td>\n",
       "    </tr>\n",
       "    <tr>\n",
       "      <th>11329</th>\n",
       "      <td>1534</td>\n",
       "      <td>free</td>\n",
       "      <td>11</td>\n",
       "      <td>8</td>\n",
       "      <td>50</td>\n",
       "      <td>0</td>\n",
       "      <td>4</td>\n",
       "      <td>13350.015305</td>\n",
       "      <td>78</td>\n",
       "    </tr>\n",
       "    <tr>\n",
       "      <th>11330</th>\n",
       "      <td>1534</td>\n",
       "      <td>free</td>\n",
       "      <td>12</td>\n",
       "      <td>8</td>\n",
       "      <td>50</td>\n",
       "      <td>0</td>\n",
       "      <td>1</td>\n",
       "      <td>2371.711192</td>\n",
       "      <td>16</td>\n",
       "    </tr>\n",
       "  </tbody>\n",
       "</table>\n",
       "<p>11331 rows × 9 columns</p>\n",
       "</div>"
      ],
      "text/plain": [
       "       user_id subscription_type  month  minute_price  start_ride_price  \\\n",
       "0            1             ultra      1             6                 0   \n",
       "1            1             ultra      4             6                 0   \n",
       "2            1             ultra      8             6                 0   \n",
       "3            1             ultra     10             6                 0   \n",
       "4            1             ultra     11             6                 0   \n",
       "...        ...               ...    ...           ...               ...   \n",
       "11326     1534              free      6             8                50   \n",
       "11327     1534              free      8             8                50   \n",
       "11328     1534              free      9             8                50   \n",
       "11329     1534              free     11             8                50   \n",
       "11330     1534              free     12             8                50   \n",
       "\n",
       "       subscription_fee  num_rides  total_distance  total_duration  \n",
       "0                   199          2     7027.511294              42  \n",
       "1                   199          1      754.159807               7  \n",
       "2                   199          2     6723.470560              46  \n",
       "3                   199          2     5809.911100              32  \n",
       "4                   199          3     7003.499363              56  \n",
       "...                 ...        ...             ...             ...  \n",
       "11326                 0          2     3409.468534              26  \n",
       "11327                 0          2     7622.453034              48  \n",
       "11328                 0          1     4928.173852              23  \n",
       "11329                 0          4    13350.015305              78  \n",
       "11330                 0          1     2371.711192              16  \n",
       "\n",
       "[11331 rows x 9 columns]"
      ]
     },
     "execution_count": 33,
     "metadata": {},
     "output_type": "execute_result"
    }
   ],
   "source": [
    "revenue_data.rename(columns={ # переименуем столбцы\n",
    "    'distance_count': 'num_rides',\n",
    "    'distance_sum': 'total_distance',\n",
    "    'duration_ceil_sum': 'total_duration'\n",
    "}, inplace=True)\n",
    "revenue_data.reset_index(inplace=True)\n",
    "revenue_data"
   ]
  },
  {
   "cell_type": "markdown",
   "id": "fdf07ca4",
   "metadata": {},
   "source": [
    "## Добавляем столбец с помесячной выручкой"
   ]
  },
  {
   "cell_type": "markdown",
   "id": "2f510faf",
   "metadata": {},
   "source": [
    "В этот же датафрейм добавьте столбец с помесячной выручкой, которую принёс каждый пользователь. "
   ]
  },
  {
   "cell_type": "code",
   "execution_count": 34,
   "id": "0580808f",
   "metadata": {},
   "outputs": [
    {
     "data": {
      "text/html": [
       "<div>\n",
       "<style scoped>\n",
       "    .dataframe tbody tr th:only-of-type {\n",
       "        vertical-align: middle;\n",
       "    }\n",
       "\n",
       "    .dataframe tbody tr th {\n",
       "        vertical-align: top;\n",
       "    }\n",
       "\n",
       "    .dataframe thead th {\n",
       "        text-align: right;\n",
       "    }\n",
       "</style>\n",
       "<table border=\"1\" class=\"dataframe\">\n",
       "  <thead>\n",
       "    <tr style=\"text-align: right;\">\n",
       "      <th></th>\n",
       "      <th>user_id</th>\n",
       "      <th>month</th>\n",
       "      <th>subscription_type</th>\n",
       "      <th>month_revenue</th>\n",
       "    </tr>\n",
       "  </thead>\n",
       "  <tbody>\n",
       "    <tr>\n",
       "      <th>0</th>\n",
       "      <td>1</td>\n",
       "      <td>1</td>\n",
       "      <td>ultra</td>\n",
       "      <td>451</td>\n",
       "    </tr>\n",
       "    <tr>\n",
       "      <th>1</th>\n",
       "      <td>1</td>\n",
       "      <td>4</td>\n",
       "      <td>ultra</td>\n",
       "      <td>241</td>\n",
       "    </tr>\n",
       "    <tr>\n",
       "      <th>2</th>\n",
       "      <td>1</td>\n",
       "      <td>8</td>\n",
       "      <td>ultra</td>\n",
       "      <td>475</td>\n",
       "    </tr>\n",
       "    <tr>\n",
       "      <th>3</th>\n",
       "      <td>1</td>\n",
       "      <td>10</td>\n",
       "      <td>ultra</td>\n",
       "      <td>391</td>\n",
       "    </tr>\n",
       "    <tr>\n",
       "      <th>4</th>\n",
       "      <td>1</td>\n",
       "      <td>11</td>\n",
       "      <td>ultra</td>\n",
       "      <td>535</td>\n",
       "    </tr>\n",
       "    <tr>\n",
       "      <th>...</th>\n",
       "      <td>...</td>\n",
       "      <td>...</td>\n",
       "      <td>...</td>\n",
       "      <td>...</td>\n",
       "    </tr>\n",
       "    <tr>\n",
       "      <th>11326</th>\n",
       "      <td>1534</td>\n",
       "      <td>6</td>\n",
       "      <td>free</td>\n",
       "      <td>308</td>\n",
       "    </tr>\n",
       "    <tr>\n",
       "      <th>11327</th>\n",
       "      <td>1534</td>\n",
       "      <td>8</td>\n",
       "      <td>free</td>\n",
       "      <td>484</td>\n",
       "    </tr>\n",
       "    <tr>\n",
       "      <th>11328</th>\n",
       "      <td>1534</td>\n",
       "      <td>9</td>\n",
       "      <td>free</td>\n",
       "      <td>234</td>\n",
       "    </tr>\n",
       "    <tr>\n",
       "      <th>11329</th>\n",
       "      <td>1534</td>\n",
       "      <td>11</td>\n",
       "      <td>free</td>\n",
       "      <td>824</td>\n",
       "    </tr>\n",
       "    <tr>\n",
       "      <th>11330</th>\n",
       "      <td>1534</td>\n",
       "      <td>12</td>\n",
       "      <td>free</td>\n",
       "      <td>178</td>\n",
       "    </tr>\n",
       "  </tbody>\n",
       "</table>\n",
       "<p>11331 rows × 4 columns</p>\n",
       "</div>"
      ],
      "text/plain": [
       "       user_id  month subscription_type  month_revenue\n",
       "0            1      1             ultra            451\n",
       "1            1      4             ultra            241\n",
       "2            1      8             ultra            475\n",
       "3            1     10             ultra            391\n",
       "4            1     11             ultra            535\n",
       "...        ...    ...               ...            ...\n",
       "11326     1534      6              free            308\n",
       "11327     1534      8              free            484\n",
       "11328     1534      9              free            234\n",
       "11329     1534     11              free            824\n",
       "11330     1534     12              free            178\n",
       "\n",
       "[11331 rows x 4 columns]"
      ]
     },
     "execution_count": 34,
     "metadata": {},
     "output_type": "execute_result"
    }
   ],
   "source": [
    "revenue_data = revenue_data.assign(month_revenue = revenue_data['minute_price']\n",
    "                                   * revenue_data['total_duration'] +\n",
    "                                   revenue_data['start_ride_price'] \n",
    "                                   * revenue_data['num_rides'] + \n",
    "                                   revenue_data['subscription_fee'])\n",
    "\n",
    "# проверяем результат\n",
    "revenue_data[['user_id', 'month', 'subscription_type', 'month_revenue']]"
   ]
  },
  {
   "cell_type": "markdown",
   "id": "132a4a99",
   "metadata": {},
   "source": [
    "На данном этапе был создан датафрейм с агрегированными данными, содержащими суммарное расстояние, количество поездок и суммарное время для каждого пользователя за каждый месяц. В датафрейм добавили столбец с помесячной выручкой, которую принес каждый пользователь, с учетом подписки. Этот столбец пригодится нам на следующем этапе для проверки гипотез."
   ]
  },
  {
   "cell_type": "markdown",
   "id": "855166be",
   "metadata": {},
   "source": [
    "# Проверка гипотез"
   ]
  },
  {
   "cell_type": "markdown",
   "id": "beba6616",
   "metadata": {},
   "source": [
    "Продакт-менеджеры сервиса хотят увеличить количество пользователей с подпиской. Для этого они будут проводить различные акции, но сначала нужно выяснить несколько важных моментов.\n",
    "\n",
    "## гипотеза 1 \n",
    "\n",
    "Важно понять, тратят ли пользователи с подпиской больше времени на поездки? Если да, то пользователи с подпиской могут быть «выгоднее» для компании. Проверьте гипотезу. Используйте исходные данные о продолжительности каждой сессии — отдельно для подписчиков и тех, у кого нет подписки.\n"
   ]
  },
  {
   "cell_type": "markdown",
   "id": "b7e98282",
   "metadata": {},
   "source": [
    "Нулевая гипотеза (H0): Средняя продолжительность поездок пользователей с подпиской ultra равна средней продолжительности поездок пользователей без подписки. Это означает, что нет статистически значимых различий между этими двумя группами.\n",
    "\n",
    "Альтернативная гипотеза (H1): Средняя продолжительность поездок пользователей с подпиской ultra больше средней продолжительности поездок пользователей без подписки. Это означает, что есть статистически значимые различия между этими двуми группами.\n",
    "\n",
    "Для проверки гипотезы используем статистический тест для проверки гипотезы о равенстве средних двух генеральных совокупностей, метод `scipy.stats.ttest_ind()`."
   ]
  },
  {
   "cell_type": "code",
   "execution_count": 35,
   "id": "882127b6",
   "metadata": {
    "scrolled": true
   },
   "outputs": [
    {
     "name": "stdout",
     "output_type": "stream",
     "text": [
      "p-value: 1.2804098316645618e-34\n",
      "Отвергаем нулевую гипотезу\n"
     ]
    }
   ],
   "source": [
    "# задаём уровень значимости\n",
    "alpha = 0.05\n",
    "\n",
    "# продолжительность поездки первой группы пользователей (с подпиской)\n",
    "first_group_total = subscription_ultra['duration']\n",
    "# продолжительность поездки второй группы пользователей (без подписки)\n",
    "second_group_total = subscription_free['duration']\n",
    "# проводим ttest для двух выборок, в качестве альтернативной используем одностороннюю гипотезу «больше»\n",
    "results = st.ttest_ind(first_group_total, second_group_total, alternative='greater')\n",
    "\n",
    "print(f'p-value: {results.pvalue}')\n",
    "\n",
    "# проверяем p-value\n",
    "if results.pvalue < alpha:\n",
    "    print('Отвергаем нулевую гипотезу')\n",
    "else:\n",
    "    print('Нет оснований отвергнуть нулевую гипотезу')"
   ]
  },
  {
   "cell_type": "markdown",
   "id": "589606b9",
   "metadata": {},
   "source": [
    "Выведем среднюю продолжительность поездки для пользователей с различными типами подписки."
   ]
  },
  {
   "cell_type": "code",
   "execution_count": 36,
   "id": "344b61f7",
   "metadata": {},
   "outputs": [
    {
     "name": "stdout",
     "output_type": "stream",
     "text": [
      "Средняя продолжительность поездки для пользователей с подпиской ultra составляет: 18.54 минут\n",
      "Средняя продолжительность поездки для пользователей без подписки составляет: 17.39 минут\n"
     ]
    }
   ],
   "source": [
    "print('Средняя продолжительность поездки для пользователей с подпиской ultra составляет:',\\\n",
    "     round(first_group_total.mean(), 2), 'минут')\n",
    "print('Средняя продолжительность поездки для пользователей без подписки составляет:',\\\n",
    "     round(second_group_total.mean(), 2), 'минут')"
   ]
  },
  {
   "cell_type": "markdown",
   "id": "60767846",
   "metadata": {},
   "source": [
    "p-value оказалось меньше уровня значимости, поэтому мы отвергли нулевую гипотезу в пользу альтернативной, что означает, что существуют статистически значимые различия между продолжительностью поездок пользователей с разными подписками. Альтернативная гипотеза не отвергается: средняя продолжительность поездок пользователей с подпиской ultra больше средней продолжительности поездок пользователей без подписки. Это означает, что есть статистически значимые различия между этими двуми группами."
   ]
  },
  {
   "cell_type": "markdown",
   "id": "d531e33a",
   "metadata": {},
   "source": [
    "## гипотеза 2\n",
    "\n",
    "Расстояние одной поездки в 3130 метров — оптимальное с точки зрения износа самоката. Можно ли сказать, что расстояние, которое проезжают пользователи с подпиской за одну поездку, не превышает 3130 метров? Проверьте гипотезу и сделайте выводы.\n",
    "\n"
   ]
  },
  {
   "cell_type": "markdown",
   "id": "0bc66543",
   "metadata": {},
   "source": [
    "Нулевая гипотеза (H0): Расстояние одной поездки пользователей с подпиской ultra не превышает 3130 метров.\n",
    "\n",
    "Альтернативная гипотеза (H1): Расстояние одной поездки пользователей с подпиской ultra больше 3130 метров.\n",
    "\n",
    "Для проверки гипотезы будем использовать односторонний статистический тест, метод `scipy.stats.ttest_1samp()`."
   ]
  },
  {
   "cell_type": "code",
   "execution_count": 37,
   "id": "1092a79f",
   "metadata": {
    "scrolled": true
   },
   "outputs": [
    {
     "name": "stdout",
     "output_type": "stream",
     "text": [
      "p-value: 0.9195368847849785\n",
      "Нет оснований отвергнуть нулевую гипотезу\n"
     ]
    }
   ],
   "source": [
    "# задаём уровень значимости\n",
    "alpha = 0.05\n",
    "distance_ultra = df[df['subscription_type'] == 'ultra']['distance']\n",
    "interested_value = 3130\n",
    "results = st.ttest_1samp(distance_ultra, interested_value, alternative='greater')\n",
    "print(f'p-value: {results.pvalue}')\n",
    "\n",
    "# проверяем p-value\n",
    "if results.pvalue < alpha:\n",
    "    print('Отвергаем нулевую гипотезу')\n",
    "else:\n",
    "    print('Нет оснований отвергнуть нулевую гипотезу')"
   ]
  },
  {
   "cell_type": "markdown",
   "id": "cb843cd8",
   "metadata": {},
   "source": [
    "Полученное значение p-value превышает установленный уровень значимости. Это означает, что у нас нет достаточных оснований для отвержения нулевой гипотезы. Таким образом, результат теста показывает, что среднее расстояние, которое проезжают пользователи с подпиской ultra за одну поездку, не превышает 3130 метров."
   ]
  },
  {
   "cell_type": "markdown",
   "id": "aee622c1",
   "metadata": {},
   "source": [
    "## гипотеза 3\n",
    "\n",
    "Проверьте гипотезу о том, будет ли помесячная выручка от пользователей с подпиской по месяцам выше, чем выручка от пользователей без подписки. Сделайте вывод. \n"
   ]
  },
  {
   "cell_type": "markdown",
   "id": "2a04d7b7",
   "metadata": {},
   "source": [
    "Нулевая гипотеза (H0): Помесячная выручка от пользователей с подпиской ultra равна выручке от пользователей без подписки. Это означает, что нет статистически значимых различий между этими двумя группами.\n",
    "\n",
    "Альтернативная гипотеза (H1): Помесячная выручка от пользователей с подпиской ultra больше, чем  выручка от пользователей без подписки (free). Это означает, что есть статистически значимые различия между этими двуми группами.\n",
    "\n",
    "Для проверки гипотезы используем статистический тест для проверки гипотезы о равенстве средних двух генеральных совокупностей, метод `scipy.stats.ttest_ind()` с односторонней альтернативой \"greater\"."
   ]
  },
  {
   "cell_type": "code",
   "execution_count": 38,
   "id": "290d8ab6",
   "metadata": {},
   "outputs": [
    {
     "name": "stdout",
     "output_type": "stream",
     "text": [
      "p-значение: 1.8850394384715216e-31\n",
      "Отвергаем нулевую гипотезу\n"
     ]
    }
   ],
   "source": [
    "alpha = 0.05 # задаём уровень значимости\n",
    "revenue_ultra = revenue_data[revenue_data['subscription_type'] == 'ultra']['month_revenue']\n",
    "revenue_free = revenue_data[revenue_data['subscription_type'] == 'free']['month_revenue']\n",
    "\n",
    "results = st.ttest_ind(revenue_ultra, revenue_free, alternative='greater')\n",
    "\n",
    "print('p-значение:', results.pvalue)\n",
    "\n",
    "if results.pvalue < alpha:\n",
    "    print('Отвергаем нулевую гипотезу')\n",
    "else:\n",
    "    print('Не получилось отвергнуть нулевую гипотезу') \n"
   ]
  },
  {
   "cell_type": "markdown",
   "id": "3f0f9f4d",
   "metadata": {},
   "source": [
    "Выведем среднюю помесячную выручку пользователей с различными типами подписки. "
   ]
  },
  {
   "cell_type": "code",
   "execution_count": 39,
   "id": "98b6bcab",
   "metadata": {},
   "outputs": [
    {
     "name": "stdout",
     "output_type": "stream",
     "text": [
      "Средняя помесячная выручка пользователей с подпиской ultra составляет: 362.79 рублей\n",
      "Средняя помесячная выручка пользователей без подписки составляет: 328.64 рублей\n"
     ]
    }
   ],
   "source": [
    "print('Средняя помесячная выручка пользователей с подпиской ultra составляет:',\\\n",
    "     round(revenue_ultra.mean(), 2), 'рублей')\n",
    "print('Средняя помесячная выручка пользователей без подписки составляет:',\\\n",
    "     round(revenue_free.mean(), 2), 'рублей')"
   ]
  },
  {
   "cell_type": "markdown",
   "id": "757bdb49",
   "metadata": {},
   "source": [
    "Полученное значение p-value меньше уровня значимости α=0.05. Это означает, что мы отвергаем нулевую гипотезу в пользу альтернативной. То есть, средняя помесячная выручка от пользователей с подпиской ultra статистически значимо больше средней помесячной выручки от пользователей без подписки (free)."
   ]
  },
  {
   "cell_type": "markdown",
   "id": "238671fd",
   "metadata": {},
   "source": [
    "## теоретический вопрос"
   ]
  },
  {
   "cell_type": "markdown",
   "id": "b4744002",
   "metadata": {},
   "source": [
    "Представьте такую ситуацию: техническая команда сервиса обновила сервера, с которыми взаимодействует мобильное приложение. Она надеется, что из-за этого количество обращений в техподдержку значимо снизилось. Некоторый файл содержит для каждого пользователя данные о количестве обращений до обновления и после него. Какой тест вам понадобился бы для проверки этой гипотезы?"
   ]
  },
  {
   "cell_type": "markdown",
   "id": "363a49a7",
   "metadata": {},
   "source": [
    "В данном случае воспользуемся методом `scipy.stats.ttest_rel()` для проверки гипотез о равенстве средних для зависимых (парных) выборок. Он подходит для ситуаций, когда необходимо анализировать одну генеральную совокупность, с которой произошли некоторые изменения: проверяется, равны ли средние совокупности до и после этого изменения."
   ]
  },
  {
   "cell_type": "markdown",
   "id": "8b57fe6c",
   "metadata": {},
   "source": [
    "# Распределения"
   ]
  },
  {
   "cell_type": "markdown",
   "id": "06e44aaa",
   "metadata": {},
   "source": [
    "## акция с раздачей промокодов"
   ]
  },
  {
   "cell_type": "markdown",
   "id": "68e88f9b",
   "metadata": {},
   "source": [
    "Отделу маркетинга GoFast поставили задачу: нужно провести акцию с раздачей промокодов на один бесплатный месяц подписки, в рамках которой как минимум 100 существующих клиентов должны продлить эту подписку. То есть по завершении периода действия подписки пользователь может либо отказаться от неё, либо продлить, совершив соответствующий платёж. \n",
    "Эта акция уже проводилась ранее и по итогу выяснилось, что после бесплатного пробного периода подписку продлевают 10 % пользователей. Выясните, какое минимальное количество промокодов нужно разослать, чтобы вероятность не выполнить план была примерно 5 %. Подберите параметры распределения, описывающего эту ситуацию, постройте график распределения и сформулируйте ответ на вопрос о количестве промокодов.\n"
   ]
  },
  {
   "cell_type": "code",
   "execution_count": 40,
   "id": "b3e0bee9",
   "metadata": {},
   "outputs": [
    {
     "name": "stdout",
     "output_type": "stream",
     "text": [
      "Минимальное количество промокодов, которое нужно разослать: 1172\n"
     ]
    }
   ],
   "source": [
    "p = 0.1  # вероятность продления подписки\n",
    "target = 100  # целевое количество продлений подписки\n",
    "alpha = 0.05  # вероятность не выполнить план\n",
    "\n",
    "# начинаем с некоторого начального значения n\n",
    "n = target\n",
    "\n",
    "# увеличиваем n, пока вероятность получить меньше target \"успехов\" не станет меньше alpha\n",
    "while binom.cdf(target, n, p) > alpha:\n",
    "    n += 1\n",
    "\n",
    "print(f'Минимальное количество промокодов, которое нужно разослать: {n}')"
   ]
  },
  {
   "cell_type": "code",
   "execution_count": 41,
   "id": "87150605",
   "metadata": {},
   "outputs": [
    {
     "data": {
      "image/png": "[encoded data removed]",
      "text/plain": [
       "<Figure size 1000x600 with 1 Axes>"
      ]
     },
     "metadata": {},
     "output_type": "display_data"
    }
   ],
   "source": [
    "# значения на оси x\n",
    "x = np.arange(binom.ppf(0.01, n, p), binom.ppf(0.99, n, p))\n",
    "\n",
    "# строим график pmf\n",
    "plt.figure(figsize=(10,6))\n",
    "plt.plot(x, binom.pmf(x, n, p), 'bo', ms=8, label='binom pmf')\n",
    "plt.vlines(x, 0, binom.pmf(x, n, p), colors='b', lw=5, alpha=0.5)\n",
    "plt.xlabel('Количество пользователей, продливших подписку')\n",
    "plt.ylabel('Вероятность')\n",
    "plt.title('Биномиальное распределение')\n",
    "plt.show()"
   ]
  },
  {
   "cell_type": "markdown",
   "id": "a373fe66",
   "metadata": {},
   "source": [
    "## рассылка клиентам push-уведомлений"
   ]
  },
  {
   "cell_type": "markdown",
   "id": "7801ce03",
   "metadata": {},
   "source": [
    "Отдел маркетинга рассылает клиентам push-уведомления в мобильном приложении. Клиенты могут открыть его или не открывать. Известно, что уведомления открывают около 40 % получивших клиентов. Отдел планирует разослать 1 млн уведомлений. С помощью аппроксимации постройте примерный график распределения и оцените вероятность того, что уведомление откроют не более 399,5 тыс. пользователей.\n",
    "Эта ситуация тоже описывается биномиальным распределением. Но считать каждое отдельное значение достаточно долго. Вы можете воспользоваться нормальной аппроксимацией биномиального распределения и cdf() для быстрой оценки."
   ]
  },
  {
   "cell_type": "code",
   "execution_count": 42,
   "id": "552bddcf",
   "metadata": {},
   "outputs": [
    {
     "name": "stdout",
     "output_type": "stream",
     "text": [
      "Вероятность, что уведомление откроют не более 399500 пользователей:  15.0 %\n"
     ]
    }
   ],
   "source": [
    "# параметры распределения\n",
    "n = 1000000  # количество уведомлений\n",
    "p = 0.4  # вероятность открытия уведомления\n",
    "\n",
    "# параметры нормального распределения\n",
    "mu = n * p\n",
    "sigma = np.sqrt(n * p * (1 - p))\n",
    "\n",
    "# значение, которое мы проверяем\n",
    "x = 399500\n",
    "\n",
    "# вычисляем вероятность получить не более x \"успехов\"\n",
    "prob = norm.cdf(x, mu, sigma)\n",
    "\n",
    "print(f'Вероятность, что уведомление откроют не более {x} пользователей: ', round(prob, 2) * 100, '%')"
   ]
  },
  {
   "cell_type": "markdown",
   "id": "b28e72b7",
   "metadata": {},
   "source": [
    "**Вывод**\n",
    "\n",
    "Для успешного проведения акции с раздачей промокодов на один бесплатный месяц подписки, в рамках которой как минимум 100 существующих клиентов должны продлить эту подписку, нужно разослать как минимум 1172 промокодов. \n",
    "\n",
    "При рассылке клиентам 1 млн push-уведомлений в мобильном приложении вероятность, что уведомление откроют не более 399500 пользователей составяет 15 %. "
   ]
  },
  {
   "cell_type": "markdown",
   "id": "81fd7382",
   "metadata": {},
   "source": [
    "# Общий вывод"
   ]
  },
  {
   "cell_type": "markdown",
   "id": "1fd17555",
   "metadata": {},
   "source": [
    "В ходе работы над проектом были проанализированы данные о некоторых пользователях сервиса аренды самокатов GoFast, проверено 3 гипотезы, которые могут помочь бизнесу вырасти. Чтобы совершать поездки по городу, пользователи сервиса GoFast пользуются мобильным приложением. \n",
    "\n",
    "\n",
    "**Для проведения исследования нам представлено 3 датафрейма, которые содержат информацию о:**\n",
    "\n",
    "- пользователях сервиса `users_go.csv`. Не содержит пропусков и имеет 31 дублирующуюся строку. Дубликаты на этапе предобработки данных были удалены. \n",
    "- поездках `rides_go.csv`. Не содержит пропусков и дубликатов. На этапе предварительной обработки данных тип данных столбца date  приведен к datetime64 для удобства дальнейшей работы. \n",
    "- подписках `subscriptions_go.csv`. Пропусков и дубликатов нет. "
   ]
  },
  {
   "cell_type": "markdown",
   "id": "3fed5486",
   "metadata": {},
   "source": [
    "На этапе исследовательского анализа данных мы познакомились с данными о пользователях сервиса проката самокатов и совершенных поездках. \n",
    "\n",
    "**О пользователях:**\n",
    "Наибольшей популярностью в представленной выборке сервис пользуется в Пятигорске и Екатеринбурге — зарегистрировано более 200 пользователей из этих городов. 45.6 % пользователей сервиса имеют платную подписку, 54.4 % пользователей сервиса пользуются бесплатной версией (без подписки). В  основном пользователями сервиса являются молодые люди в возрасте от 22 до 28 лет. Необычными являются значения больше 36 и меньше 13 лет.\n",
    "\n",
    "**О поездках:**\n",
    "Расстояние поездок варьируется от 0 до 7000 метров. Большинство поездок находятся в диапазоне от 2000 до 4000 м, с пиком около 3000 м. Это означает, что наиболее часто встречающееся расстояние, которое пользователи преодолевают за одну поездку на самокате, составляет около 3000 м. Также наблюдается дополнительный пик в районе 600 м. Это может указывать на некоторое количество непродолжительных поездок. Возможно, это может быть связано с обнаруженной после старта поездки неисправностью самоката, а, возможно, непродолжительные поездки также пользуются спросом пользователей сервиса.\n",
    "\n",
    "Продолжительность поездок варьируется от 0 до 40 минут. Большинство поездок находятся в диапазоне от примерно 15 до 25 минут. Это означает, что наиболее часто встречающаяся продолжительность поездки на самокате составляет около 20 минут. Также присутствует всплеск в районе 1 минуты. В данных присутствует информация о поездках продолжительностью менее 1 минуты, однако за это время было преодолено расстояние в несколько тысяч метров, что выглядит как артефакт. Возможно, это связано с ошибкой при сборе данных. Всего в данных имеется 95 таких строк, оставили без изменений, так как в дальнейшем при подсчете выручки удаление этих данных исказит результат исследования. Об артефакте в данных необходимо сообщить заказчику."
   ]
  },
  {
   "cell_type": "markdown",
   "id": "dce867f3",
   "metadata": {},
   "source": [
    "**Различия в поведении пользователей с подпиской ultra и без подписки**\n",
    "\n",
    "- Для сравнения поведения пользователей были построены гистограммы. Пользователи без подписки (free) за поездку преодолевают расстояние от 0 до 7000 метров, пик значений приходится на 2500-3500 метров; продолжительность поездки составляет от 0 до 35 минут, большиство поездок находятся в диапазоне от 15 до 20 минут. \n",
    "\n",
    "- Пользователи с подпиской ultra за поездку преодолевают расстояние от 0 до 6000 метров, пик значений приходится на 2500 метров; продолжительность поездки составляет от 3 до 40 минут, большиство поездок находятся в диапазоне от 15 до 20 минут.\n",
    "Таким образом, пользователи без подписки за поездку преодолевают большее расстояние, а сами поездки имеют большую продолжительность. Также можно отметить, что много поездок имеют дистанцию до 2500 метров и небольшую продолжительность — до 10 минут. Это может быть связано с тем, что для подписчиков ultra старт поездки бесплатный. "
   ]
  },
  {
   "cell_type": "markdown",
   "id": "84611609",
   "metadata": {},
   "source": [
    "Для проверки гипотез был создан датафрейм revenue_data с агрегированными данными о продолжительности, расстоянии и количестве поездок для каждого пользователя в месяц. Также посчитали помесячную выручку, которую принес каждый пользователь, с учетом наличия или отсутствия подписки. \n",
    "Было проверено несколько гипотез, из них не были отвергнуты следующие:\n",
    "1. *тратят ли пользователи с подпиской больше времени на поездки*\\\n",
    "Средняя продолжительность поездок пользователей с подпиской ultra больше средней продолжительности поездок пользователей без подписки. В ходе анализа продолжительности поездок пользователей с разными типами подписки мы обнаружили, что на гистограмме продолжительности видно, что пользователи без подписки совершают более длительные поездки. Однако стоит учитывать, что результаты статистических тестов могут быть влиянием случайности и других факторов. Объем выборки и контекст задачи также играют важную роль в интерпретации результатов.\\\n",
    "Средняя продолжительность поездки для пользователей с подпиской ultra составляет 18.54 минут, без подписки — 17.39 минут.\n",
    "\n",
    "2. *расстояние, которое проезжают пользователи с подпиской за одну поездку, не превышает 3130 метров*\\\n",
    "Расстояние одной поездки пользователей с подпиской ultra не превышает 3130 метров.\n",
    "\n",
    "3. *помесячная выручка от пользователей с подпиской по месяцам выше, чем выручка от пользователей без подписки*\\\n",
    "Помесячная выручка от пользователей с подпиской ultra больше, чем выручка от пользователей без подписки (free).\\\n",
    "Средняя помесячная выручка пользователей с подпиской ultra составляет 362.79 рублей, без подписки — 328.64 рублей.\n"
   ]
  },
  {
   "cell_type": "markdown",
   "id": "5c025154",
   "metadata": {},
   "source": [
    "Для успешного проведения акции с раздачей промокодов на один бесплатный месяц подписки, в рамках которой как минимум 100 существующих клиентов должны продлить эту подписку, нужно разослать как минимум 1172 промокодов. \n",
    "\n",
    "При рассылке клиентам 1 млн push-уведомлений в мобильном приложении вероятность, что уведомление откроют не более 399500 пользователей составяет 15 %. "
   ]
  }
 ],
 "metadata": {
  "ExecuteTimeLog": [
   {
    "duration": 1229,
    "start_time": "2024-03-17T20:57:09.791Z"
   },
   {
    "duration": 200,
    "start_time": "2024-03-17T20:57:11.022Z"
   },
   {
    "duration": 3,
    "start_time": "2024-03-17T20:57:11.224Z"
   },
   {
    "duration": 31,
    "start_time": "2024-03-17T20:57:11.228Z"
   },
   {
    "duration": 23,
    "start_time": "2024-03-17T20:57:11.261Z"
   },
   {
    "duration": 19,
    "start_time": "2024-03-17T20:57:11.301Z"
   },
   {
    "duration": 6,
    "start_time": "2024-03-17T20:57:11.321Z"
   },
   {
    "duration": 21,
    "start_time": "2024-03-17T20:57:11.328Z"
   },
   {
    "duration": 4,
    "start_time": "2024-03-17T20:57:11.350Z"
   },
   {
    "duration": 9,
    "start_time": "2024-03-17T20:57:11.355Z"
   },
   {
    "duration": 37,
    "start_time": "2024-03-17T20:57:11.365Z"
   },
   {
    "duration": 5,
    "start_time": "2024-03-17T20:57:11.403Z"
   },
   {
    "duration": 33,
    "start_time": "2024-03-17T20:57:11.410Z"
   },
   {
    "duration": 4,
    "start_time": "2024-03-17T20:57:11.445Z"
   },
   {
    "duration": 160,
    "start_time": "2024-03-17T20:57:11.451Z"
   },
   {
    "duration": 5,
    "start_time": "2024-03-17T20:57:11.613Z"
   },
   {
    "duration": 6,
    "start_time": "2024-03-17T20:57:11.619Z"
   },
   {
    "duration": 16,
    "start_time": "2024-03-17T20:57:11.627Z"
   },
   {
    "duration": 111,
    "start_time": "2024-03-17T20:57:11.644Z"
   },
   {
    "duration": 160,
    "start_time": "2024-03-17T20:57:11.757Z"
   },
   {
    "duration": 160,
    "start_time": "2024-03-17T20:57:11.919Z"
   },
   {
    "duration": 23,
    "start_time": "2024-03-17T20:57:12.081Z"
   },
   {
    "duration": 5,
    "start_time": "2024-03-17T20:57:12.106Z"
   },
   {
    "duration": 47,
    "start_time": "2024-03-17T20:57:12.112Z"
   },
   {
    "duration": 61,
    "start_time": "2024-03-17T20:57:12.160Z"
   },
   {
    "duration": 36,
    "start_time": "2024-03-17T20:57:12.222Z"
   },
   {
    "duration": 42,
    "start_time": "2024-03-17T20:57:12.259Z"
   },
   {
    "duration": 411,
    "start_time": "2024-03-17T20:57:12.303Z"
   },
   {
    "duration": 352,
    "start_time": "2024-03-17T20:57:12.715Z"
   },
   {
    "duration": 4,
    "start_time": "2024-03-17T20:57:13.068Z"
   },
   {
    "duration": 35,
    "start_time": "2024-03-17T20:57:13.073Z"
   },
   {
    "duration": 3,
    "start_time": "2024-03-17T20:57:13.109Z"
   },
   {
    "duration": 24,
    "start_time": "2024-03-17T20:57:13.114Z"
   },
   {
    "duration": 3,
    "start_time": "2024-03-17T20:57:13.140Z"
   },
   {
    "duration": 40,
    "start_time": "2024-03-17T20:57:13.144Z"
   },
   {
    "duration": 10,
    "start_time": "2024-03-17T20:57:13.185Z"
   },
   {
    "duration": 6,
    "start_time": "2024-03-17T20:57:13.201Z"
   },
   {
    "duration": 8,
    "start_time": "2024-03-17T20:57:13.208Z"
   },
   {
    "duration": 137,
    "start_time": "2024-03-17T20:57:13.218Z"
   },
   {
    "duration": 141,
    "start_time": "2024-03-17T20:57:13.357Z"
   },
   {
    "duration": 4,
    "start_time": "2024-03-17T20:57:13.504Z"
   },
   {
    "duration": 205,
    "start_time": "2024-03-17T20:57:13.509Z"
   },
   {
    "duration": 42,
    "start_time": "2024-03-18T10:51:26.447Z"
   },
   {
    "duration": 1214,
    "start_time": "2024-03-18T10:51:29.388Z"
   },
   {
    "duration": 194,
    "start_time": "2024-03-18T10:51:30.604Z"
   },
   {
    "duration": 3,
    "start_time": "2024-03-18T10:51:30.800Z"
   },
   {
    "duration": 57,
    "start_time": "2024-03-18T10:51:30.805Z"
   },
   {
    "duration": 63,
    "start_time": "2024-03-18T10:51:30.863Z"
   },
   {
    "duration": 112,
    "start_time": "2024-03-18T10:51:30.928Z"
   },
   {
    "duration": 86,
    "start_time": "2024-03-18T10:51:31.042Z"
   },
   {
    "duration": 72,
    "start_time": "2024-03-18T10:51:31.129Z"
   },
   {
    "duration": 28,
    "start_time": "2024-03-18T10:51:31.202Z"
   },
   {
    "duration": 39,
    "start_time": "2024-03-18T10:51:31.232Z"
   },
   {
    "duration": 43,
    "start_time": "2024-03-18T10:51:31.272Z"
   },
   {
    "duration": 22,
    "start_time": "2024-03-18T10:51:31.317Z"
   },
   {
    "duration": 74,
    "start_time": "2024-03-18T10:51:31.340Z"
   },
   {
    "duration": 32,
    "start_time": "2024-03-18T10:51:31.415Z"
   },
   {
    "duration": 222,
    "start_time": "2024-03-18T10:51:31.448Z"
   },
   {
    "duration": 4,
    "start_time": "2024-03-18T10:51:31.671Z"
   },
   {
    "duration": 44,
    "start_time": "2024-03-18T10:51:31.677Z"
   },
   {
    "duration": 40,
    "start_time": "2024-03-18T10:51:31.722Z"
   },
   {
    "duration": 127,
    "start_time": "2024-03-18T10:51:31.763Z"
   },
   {
    "duration": 154,
    "start_time": "2024-03-18T10:51:31.892Z"
   },
   {
    "duration": 162,
    "start_time": "2024-03-18T10:51:32.047Z"
   },
   {
    "duration": 10,
    "start_time": "2024-03-18T10:51:32.211Z"
   },
   {
    "duration": 25,
    "start_time": "2024-03-18T10:51:32.222Z"
   },
   {
    "duration": 73,
    "start_time": "2024-03-18T10:51:32.248Z"
   },
   {
    "duration": 32,
    "start_time": "2024-03-18T10:51:32.323Z"
   },
   {
    "duration": 60,
    "start_time": "2024-03-18T10:51:32.357Z"
   },
   {
    "duration": 4,
    "start_time": "2024-03-18T10:51:32.418Z"
   },
   {
    "duration": 452,
    "start_time": "2024-03-18T10:51:32.425Z"
   },
   {
    "duration": 399,
    "start_time": "2024-03-18T10:51:32.878Z"
   },
   {
    "duration": 4,
    "start_time": "2024-03-18T10:51:33.279Z"
   },
   {
    "duration": 36,
    "start_time": "2024-03-18T10:51:33.284Z"
   },
   {
    "duration": 4,
    "start_time": "2024-03-18T10:51:33.322Z"
   },
   {
    "duration": 17,
    "start_time": "2024-03-18T10:51:33.327Z"
   },
   {
    "duration": 3,
    "start_time": "2024-03-18T10:51:33.346Z"
   },
   {
    "duration": 29,
    "start_time": "2024-03-18T10:51:33.350Z"
   },
   {
    "duration": 23,
    "start_time": "2024-03-18T10:51:33.381Z"
   },
   {
    "duration": 7,
    "start_time": "2024-03-18T10:51:33.405Z"
   },
   {
    "duration": 9,
    "start_time": "2024-03-18T10:51:33.414Z"
   },
   {
    "duration": 144,
    "start_time": "2024-03-18T10:51:33.424Z"
   },
   {
    "duration": 247,
    "start_time": "2024-03-18T10:51:33.570Z"
   },
   {
    "duration": 125,
    "start_time": "2024-03-18T10:51:33.819Z"
   },
   {
    "duration": 3,
    "start_time": "2024-03-18T10:51:33.945Z"
   },
   {
    "duration": 154,
    "start_time": "2024-03-18T10:51:33.949Z"
   },
   {
    "duration": 86,
    "start_time": "2024-03-18T10:52:34.909Z"
   },
   {
    "duration": 361,
    "start_time": "2024-03-18T10:53:02.669Z"
   },
   {
    "duration": 597,
    "start_time": "2024-03-18T10:54:54.125Z"
   },
   {
    "duration": 172,
    "start_time": "2024-03-18T15:01:55.572Z"
   },
   {
    "duration": 1351,
    "start_time": "2024-03-18T17:54:39.095Z"
   },
   {
    "duration": 202,
    "start_time": "2024-03-18T17:54:40.448Z"
   },
   {
    "duration": 4,
    "start_time": "2024-03-18T17:54:40.652Z"
   },
   {
    "duration": 62,
    "start_time": "2024-03-18T17:54:40.657Z"
   },
   {
    "duration": 46,
    "start_time": "2024-03-18T17:54:40.722Z"
   },
   {
    "duration": 22,
    "start_time": "2024-03-18T17:54:40.769Z"
   },
   {
    "duration": 7,
    "start_time": "2024-03-18T17:54:40.793Z"
   },
   {
    "duration": 18,
    "start_time": "2024-03-18T17:54:40.801Z"
   },
   {
    "duration": 41,
    "start_time": "2024-03-18T17:54:40.821Z"
   },
   {
    "duration": 23,
    "start_time": "2024-03-18T17:54:40.865Z"
   },
   {
    "duration": 16,
    "start_time": "2024-03-18T17:54:40.890Z"
   },
   {
    "duration": 5,
    "start_time": "2024-03-18T17:54:40.907Z"
   },
   {
    "duration": 56,
    "start_time": "2024-03-18T17:54:40.914Z"
   },
   {
    "duration": 7,
    "start_time": "2024-03-18T17:54:40.974Z"
   },
   {
    "duration": 210,
    "start_time": "2024-03-18T17:54:40.983Z"
   },
   {
    "duration": 6,
    "start_time": "2024-03-18T17:54:41.195Z"
   },
   {
    "duration": 34,
    "start_time": "2024-03-18T17:54:41.202Z"
   },
   {
    "duration": 11,
    "start_time": "2024-03-18T17:54:41.238Z"
   },
   {
    "duration": 134,
    "start_time": "2024-03-18T17:54:41.250Z"
   },
   {
    "duration": 226,
    "start_time": "2024-03-18T17:54:41.386Z"
   },
   {
    "duration": 214,
    "start_time": "2024-03-18T17:54:41.613Z"
   },
   {
    "duration": 19,
    "start_time": "2024-03-18T17:54:41.829Z"
   },
   {
    "duration": 26,
    "start_time": "2024-03-18T17:54:41.859Z"
   },
   {
    "duration": 68,
    "start_time": "2024-03-18T17:54:41.888Z"
   },
   {
    "duration": 40,
    "start_time": "2024-03-18T17:54:41.957Z"
   },
   {
    "duration": 80,
    "start_time": "2024-03-18T17:54:41.999Z"
   },
   {
    "duration": 8,
    "start_time": "2024-03-18T17:54:42.081Z"
   },
   {
    "duration": 487,
    "start_time": "2024-03-18T17:54:42.090Z"
   },
   {
    "duration": 489,
    "start_time": "2024-03-18T17:54:42.578Z"
   },
   {
    "duration": 4,
    "start_time": "2024-03-18T17:54:43.069Z"
   },
   {
    "duration": 33,
    "start_time": "2024-03-18T17:54:43.075Z"
   },
   {
    "duration": 4,
    "start_time": "2024-03-18T17:54:43.109Z"
   },
   {
    "duration": 43,
    "start_time": "2024-03-18T17:54:43.114Z"
   },
   {
    "duration": 3,
    "start_time": "2024-03-18T17:54:43.161Z"
   },
   {
    "duration": 30,
    "start_time": "2024-03-18T17:54:43.166Z"
   },
   {
    "duration": 11,
    "start_time": "2024-03-18T17:54:43.198Z"
   },
   {
    "duration": 9,
    "start_time": "2024-03-18T17:54:43.211Z"
   },
   {
    "duration": 9,
    "start_time": "2024-03-18T17:54:43.222Z"
   },
   {
    "duration": 168,
    "start_time": "2024-03-18T17:54:43.233Z"
   },
   {
    "duration": 323,
    "start_time": "2024-03-18T17:54:43.402Z"
   },
   {
    "duration": 159,
    "start_time": "2024-03-18T17:54:43.729Z"
   },
   {
    "duration": 5,
    "start_time": "2024-03-18T17:54:43.890Z"
   },
   {
    "duration": 196,
    "start_time": "2024-03-18T17:54:43.896Z"
   },
   {
    "duration": 134,
    "start_time": "2024-03-18T18:03:16.041Z"
   },
   {
    "duration": 164,
    "start_time": "2024-03-18T18:03:16.576Z"
   },
   {
    "duration": 13,
    "start_time": "2024-03-18T18:34:14.466Z"
   },
   {
    "duration": 12,
    "start_time": "2024-03-18T18:36:01.999Z"
   },
   {
    "duration": 12,
    "start_time": "2024-03-18T18:36:06.619Z"
   },
   {
    "duration": 5,
    "start_time": "2024-03-18T18:42:30.968Z"
   },
   {
    "duration": 117,
    "start_time": "2024-03-18T18:42:34.375Z"
   },
   {
    "duration": 3,
    "start_time": "2024-03-18T18:42:36.138Z"
   },
   {
    "duration": 45,
    "start_time": "2024-03-18T18:43:10.747Z"
   },
   {
    "duration": 5,
    "start_time": "2024-03-18T18:43:12.160Z"
   },
   {
    "duration": 24,
    "start_time": "2024-03-18T18:43:14.043Z"
   },
   {
    "duration": 5,
    "start_time": "2024-03-18T18:44:41.472Z"
   },
   {
    "duration": 17,
    "start_time": "2024-03-18T18:45:17.054Z"
   },
   {
    "duration": 4,
    "start_time": "2024-03-18T18:45:23.605Z"
   },
   {
    "duration": 22,
    "start_time": "2024-03-18T18:45:50.759Z"
   },
   {
    "duration": 4,
    "start_time": "2024-03-18T18:45:56.147Z"
   },
   {
    "duration": 35,
    "start_time": "2024-03-18T18:45:57.182Z"
   },
   {
    "duration": 4,
    "start_time": "2024-03-18T18:45:57.718Z"
   },
   {
    "duration": 17,
    "start_time": "2024-03-18T18:45:58.806Z"
   },
   {
    "duration": 11,
    "start_time": "2024-03-18T18:46:08.062Z"
   },
   {
    "duration": 1208,
    "start_time": "2024-03-18T19:07:34.801Z"
   },
   {
    "duration": 76,
    "start_time": "2024-03-18T19:07:36.011Z"
   },
   {
    "duration": 4,
    "start_time": "2024-03-18T19:07:36.089Z"
   },
   {
    "duration": 62,
    "start_time": "2024-03-18T19:07:36.094Z"
   },
   {
    "duration": 38,
    "start_time": "2024-03-18T19:07:36.158Z"
   },
   {
    "duration": 23,
    "start_time": "2024-03-18T19:07:36.198Z"
   },
   {
    "duration": 11,
    "start_time": "2024-03-18T19:07:36.258Z"
   },
   {
    "duration": 16,
    "start_time": "2024-03-18T19:07:36.271Z"
   },
   {
    "duration": 5,
    "start_time": "2024-03-18T19:07:36.288Z"
   },
   {
    "duration": 10,
    "start_time": "2024-03-18T19:07:36.295Z"
   },
   {
    "duration": 13,
    "start_time": "2024-03-18T19:07:36.306Z"
   },
   {
    "duration": 38,
    "start_time": "2024-03-18T19:07:36.321Z"
   },
   {
    "duration": 29,
    "start_time": "2024-03-18T19:07:36.361Z"
   },
   {
    "duration": 5,
    "start_time": "2024-03-18T19:07:36.393Z"
   },
   {
    "duration": 211,
    "start_time": "2024-03-18T19:07:36.400Z"
   },
   {
    "duration": 6,
    "start_time": "2024-03-18T19:07:36.613Z"
   },
   {
    "duration": 8,
    "start_time": "2024-03-18T19:07:36.620Z"
   },
   {
    "duration": 31,
    "start_time": "2024-03-18T19:07:36.629Z"
   },
   {
    "duration": 161,
    "start_time": "2024-03-18T19:07:36.663Z"
   },
   {
    "duration": 286,
    "start_time": "2024-03-18T19:07:36.826Z"
   },
   {
    "duration": 241,
    "start_time": "2024-03-18T19:07:37.114Z"
   },
   {
    "duration": 19,
    "start_time": "2024-03-18T19:07:37.359Z"
   },
   {
    "duration": 8,
    "start_time": "2024-03-18T19:07:37.380Z"
   },
   {
    "duration": 92,
    "start_time": "2024-03-18T19:07:37.390Z"
   },
   {
    "duration": 76,
    "start_time": "2024-03-18T19:07:37.484Z"
   },
   {
    "duration": 107,
    "start_time": "2024-03-18T19:07:37.562Z"
   },
   {
    "duration": 7,
    "start_time": "2024-03-18T19:07:37.671Z"
   },
   {
    "duration": 907,
    "start_time": "2024-03-18T19:07:37.680Z"
   },
   {
    "duration": 807,
    "start_time": "2024-03-18T19:07:38.589Z"
   },
   {
    "duration": 5,
    "start_time": "2024-03-18T19:07:39.398Z"
   },
   {
    "duration": 36,
    "start_time": "2024-03-18T19:07:39.459Z"
   },
   {
    "duration": 3,
    "start_time": "2024-03-18T19:07:39.497Z"
   },
   {
    "duration": 75,
    "start_time": "2024-03-18T19:07:39.502Z"
   },
   {
    "duration": 3,
    "start_time": "2024-03-18T19:07:39.580Z"
   },
   {
    "duration": 27,
    "start_time": "2024-03-18T19:07:39.585Z"
   },
   {
    "duration": 54,
    "start_time": "2024-03-18T19:07:39.613Z"
   },
   {
    "duration": 13,
    "start_time": "2024-03-18T19:07:39.670Z"
   },
   {
    "duration": 14,
    "start_time": "2024-03-18T19:07:39.685Z"
   },
   {
    "duration": 157,
    "start_time": "2024-03-18T19:07:39.701Z"
   },
   {
    "duration": 176,
    "start_time": "2024-03-18T19:07:39.860Z"
   },
   {
    "duration": 4,
    "start_time": "2024-03-18T19:07:40.040Z"
   },
   {
    "duration": 13,
    "start_time": "2024-03-18T19:08:41.647Z"
   },
   {
    "duration": 4,
    "start_time": "2024-03-18T19:15:17.281Z"
   },
   {
    "duration": 3,
    "start_time": "2024-03-18T19:15:26.806Z"
   },
   {
    "duration": 243,
    "start_time": "2024-03-18T19:21:06.837Z"
   },
   {
    "duration": 179,
    "start_time": "2024-03-18T19:21:21.168Z"
   },
   {
    "duration": 383,
    "start_time": "2024-03-18T19:28:04.004Z"
   },
   {
    "duration": 207,
    "start_time": "2024-03-18T19:28:09.587Z"
   },
   {
    "duration": 1504,
    "start_time": "2024-03-18T19:48:47.972Z"
   },
   {
    "duration": 111,
    "start_time": "2024-03-18T19:48:49.479Z"
   },
   {
    "duration": 3,
    "start_time": "2024-03-18T19:48:49.592Z"
   },
   {
    "duration": 87,
    "start_time": "2024-03-18T19:48:49.597Z"
   },
   {
    "duration": 89,
    "start_time": "2024-03-18T19:48:49.685Z"
   },
   {
    "duration": 24,
    "start_time": "2024-03-18T19:48:49.776Z"
   },
   {
    "duration": 60,
    "start_time": "2024-03-18T19:48:49.801Z"
   },
   {
    "duration": 17,
    "start_time": "2024-03-18T19:48:49.863Z"
   },
   {
    "duration": 5,
    "start_time": "2024-03-18T19:48:49.882Z"
   },
   {
    "duration": 10,
    "start_time": "2024-03-18T19:48:49.888Z"
   },
   {
    "duration": 79,
    "start_time": "2024-03-18T19:48:49.899Z"
   },
   {
    "duration": 5,
    "start_time": "2024-03-18T19:48:49.980Z"
   },
   {
    "duration": 87,
    "start_time": "2024-03-18T19:48:49.986Z"
   },
   {
    "duration": 7,
    "start_time": "2024-03-18T19:48:50.077Z"
   },
   {
    "duration": 406,
    "start_time": "2024-03-18T19:48:50.085Z"
   },
   {
    "duration": 5,
    "start_time": "2024-03-18T19:48:50.492Z"
   },
   {
    "duration": 64,
    "start_time": "2024-03-18T19:48:50.499Z"
   },
   {
    "duration": 21,
    "start_time": "2024-03-18T19:48:50.565Z"
   },
   {
    "duration": 206,
    "start_time": "2024-03-18T19:48:50.587Z"
   },
   {
    "duration": 223,
    "start_time": "2024-03-18T19:48:50.795Z"
   },
   {
    "duration": 227,
    "start_time": "2024-03-18T19:48:51.019Z"
   },
   {
    "duration": 23,
    "start_time": "2024-03-18T19:48:51.247Z"
   },
   {
    "duration": 9,
    "start_time": "2024-03-18T19:48:51.274Z"
   },
   {
    "duration": 87,
    "start_time": "2024-03-18T19:48:51.285Z"
   },
   {
    "duration": 61,
    "start_time": "2024-03-18T19:48:51.375Z"
   },
   {
    "duration": 68,
    "start_time": "2024-03-18T19:48:51.438Z"
   },
   {
    "duration": 4,
    "start_time": "2024-03-18T19:48:51.508Z"
   },
   {
    "duration": 467,
    "start_time": "2024-03-18T19:48:51.514Z"
   },
   {
    "duration": 484,
    "start_time": "2024-03-18T19:48:51.983Z"
   },
   {
    "duration": 6,
    "start_time": "2024-03-18T19:48:52.470Z"
   },
   {
    "duration": 31,
    "start_time": "2024-03-18T19:48:52.477Z"
   },
   {
    "duration": 3,
    "start_time": "2024-03-18T19:48:52.510Z"
   },
   {
    "duration": 45,
    "start_time": "2024-03-18T19:48:52.515Z"
   },
   {
    "duration": 7,
    "start_time": "2024-03-18T19:48:52.562Z"
   },
   {
    "duration": 42,
    "start_time": "2024-03-18T19:48:52.571Z"
   },
   {
    "duration": 11,
    "start_time": "2024-03-18T19:48:52.614Z"
   },
   {
    "duration": 9,
    "start_time": "2024-03-18T19:48:52.627Z"
   },
   {
    "duration": 22,
    "start_time": "2024-03-18T19:48:52.637Z"
   },
   {
    "duration": 176,
    "start_time": "2024-03-18T19:48:52.661Z"
   },
   {
    "duration": 180,
    "start_time": "2024-03-18T19:48:52.838Z"
   },
   {
    "duration": 5,
    "start_time": "2024-03-18T19:48:53.022Z"
   },
   {
    "duration": 1104,
    "start_time": "2024-03-19T00:49:44.615Z"
   },
   {
    "duration": 72,
    "start_time": "2024-03-19T00:49:45.721Z"
   },
   {
    "duration": 4,
    "start_time": "2024-03-19T00:49:45.794Z"
   },
   {
    "duration": 35,
    "start_time": "2024-03-19T00:49:45.800Z"
   },
   {
    "duration": 47,
    "start_time": "2024-03-19T00:49:45.837Z"
   },
   {
    "duration": 24,
    "start_time": "2024-03-19T00:49:45.885Z"
   },
   {
    "duration": 6,
    "start_time": "2024-03-19T00:49:45.911Z"
   },
   {
    "duration": 19,
    "start_time": "2024-03-19T00:49:45.918Z"
   },
   {
    "duration": 36,
    "start_time": "2024-03-19T00:49:45.939Z"
   },
   {
    "duration": 24,
    "start_time": "2024-03-19T00:49:45.978Z"
   },
   {
    "duration": 36,
    "start_time": "2024-03-19T00:49:46.003Z"
   },
   {
    "duration": 5,
    "start_time": "2024-03-19T00:49:46.041Z"
   },
   {
    "duration": 30,
    "start_time": "2024-03-19T00:49:46.048Z"
   },
   {
    "duration": 5,
    "start_time": "2024-03-19T00:49:46.080Z"
   },
   {
    "duration": 204,
    "start_time": "2024-03-19T00:49:46.087Z"
   },
   {
    "duration": 6,
    "start_time": "2024-03-19T00:49:46.292Z"
   },
   {
    "duration": 14,
    "start_time": "2024-03-19T00:49:46.300Z"
   },
   {
    "duration": 14,
    "start_time": "2024-03-19T00:49:46.316Z"
   },
   {
    "duration": 142,
    "start_time": "2024-03-19T00:49:46.332Z"
   },
   {
    "duration": 203,
    "start_time": "2024-03-19T00:49:46.476Z"
   },
   {
    "duration": 209,
    "start_time": "2024-03-19T00:49:46.681Z"
   },
   {
    "duration": 14,
    "start_time": "2024-03-19T00:49:46.892Z"
   },
   {
    "duration": 5,
    "start_time": "2024-03-19T00:49:46.907Z"
   },
   {
    "duration": 75,
    "start_time": "2024-03-19T00:49:46.914Z"
   },
   {
    "duration": 38,
    "start_time": "2024-03-19T00:49:46.991Z"
   },
   {
    "duration": 70,
    "start_time": "2024-03-19T00:49:47.031Z"
   },
   {
    "duration": 5,
    "start_time": "2024-03-19T00:49:47.102Z"
   },
   {
    "duration": 438,
    "start_time": "2024-03-19T00:49:47.110Z"
   },
   {
    "duration": 447,
    "start_time": "2024-03-19T00:49:47.550Z"
   },
   {
    "duration": 5,
    "start_time": "2024-03-19T00:49:47.999Z"
   },
   {
    "duration": 51,
    "start_time": "2024-03-19T00:49:48.005Z"
   },
   {
    "duration": 3,
    "start_time": "2024-03-19T00:49:48.058Z"
   },
   {
    "duration": 24,
    "start_time": "2024-03-19T00:49:48.063Z"
   },
   {
    "duration": 2,
    "start_time": "2024-03-19T00:49:48.089Z"
   },
   {
    "duration": 44,
    "start_time": "2024-03-19T00:49:48.093Z"
   },
   {
    "duration": 10,
    "start_time": "2024-03-19T00:49:48.139Z"
   },
   {
    "duration": 14,
    "start_time": "2024-03-19T00:49:48.150Z"
   },
   {
    "duration": 17,
    "start_time": "2024-03-19T00:49:48.166Z"
   },
   {
    "duration": 146,
    "start_time": "2024-03-19T00:49:48.184Z"
   },
   {
    "duration": 166,
    "start_time": "2024-03-19T00:49:48.332Z"
   },
   {
    "duration": 6,
    "start_time": "2024-03-19T00:49:48.499Z"
   },
   {
    "duration": 223,
    "start_time": "2024-03-19T00:52:48.431Z"
   },
   {
    "duration": 152,
    "start_time": "2024-03-19T00:52:55.222Z"
   },
   {
    "duration": 6,
    "start_time": "2024-03-19T00:58:37.533Z"
   },
   {
    "duration": 1144,
    "start_time": "2024-03-19T01:04:03.692Z"
   },
   {
    "duration": 72,
    "start_time": "2024-03-19T01:04:04.838Z"
   },
   {
    "duration": 4,
    "start_time": "2024-03-19T01:04:04.911Z"
   },
   {
    "duration": 40,
    "start_time": "2024-03-19T01:04:04.918Z"
   },
   {
    "duration": 33,
    "start_time": "2024-03-19T01:04:04.959Z"
   },
   {
    "duration": 24,
    "start_time": "2024-03-19T01:04:04.993Z"
   },
   {
    "duration": 7,
    "start_time": "2024-03-19T01:04:05.019Z"
   },
   {
    "duration": 49,
    "start_time": "2024-03-19T01:04:05.027Z"
   },
   {
    "duration": 6,
    "start_time": "2024-03-19T01:04:05.078Z"
   },
   {
    "duration": 11,
    "start_time": "2024-03-19T01:04:05.086Z"
   },
   {
    "duration": 16,
    "start_time": "2024-03-19T01:04:05.099Z"
   },
   {
    "duration": 6,
    "start_time": "2024-03-19T01:04:05.117Z"
   },
   {
    "duration": 60,
    "start_time": "2024-03-19T01:04:05.125Z"
   },
   {
    "duration": 5,
    "start_time": "2024-03-19T01:04:05.186Z"
   },
   {
    "duration": 197,
    "start_time": "2024-03-19T01:04:05.192Z"
   },
   {
    "duration": 5,
    "start_time": "2024-03-19T01:04:05.391Z"
   },
   {
    "duration": 8,
    "start_time": "2024-03-19T01:04:05.397Z"
   },
   {
    "duration": 13,
    "start_time": "2024-03-19T01:04:05.406Z"
   },
   {
    "duration": 131,
    "start_time": "2024-03-19T01:04:05.421Z"
   },
   {
    "duration": 195,
    "start_time": "2024-03-19T01:04:05.554Z"
   },
   {
    "duration": 195,
    "start_time": "2024-03-19T01:04:05.751Z"
   },
   {
    "duration": 13,
    "start_time": "2024-03-19T01:04:05.947Z"
   },
   {
    "duration": 15,
    "start_time": "2024-03-19T01:04:05.961Z"
   },
   {
    "duration": 52,
    "start_time": "2024-03-19T01:04:05.977Z"
   },
   {
    "duration": 72,
    "start_time": "2024-03-19T01:04:06.031Z"
   },
   {
    "duration": 37,
    "start_time": "2024-03-19T01:04:06.105Z"
   },
   {
    "duration": 4,
    "start_time": "2024-03-19T01:04:06.174Z"
   },
   {
    "duration": 436,
    "start_time": "2024-03-19T01:04:06.182Z"
   },
   {
    "duration": 463,
    "start_time": "2024-03-19T01:04:06.619Z"
   },
   {
    "duration": 5,
    "start_time": "2024-03-19T01:04:07.083Z"
   },
   {
    "duration": 32,
    "start_time": "2024-03-19T01:04:07.090Z"
   },
   {
    "duration": 4,
    "start_time": "2024-03-19T01:04:07.124Z"
   },
   {
    "duration": 26,
    "start_time": "2024-03-19T01:04:07.129Z"
   },
   {
    "duration": 17,
    "start_time": "2024-03-19T01:04:07.156Z"
   },
   {
    "duration": 24,
    "start_time": "2024-03-19T01:04:07.175Z"
   },
   {
    "duration": 10,
    "start_time": "2024-03-19T01:04:07.201Z"
   },
   {
    "duration": 7,
    "start_time": "2024-03-19T01:04:07.212Z"
   },
   {
    "duration": 11,
    "start_time": "2024-03-19T01:04:07.221Z"
   },
   {
    "duration": 155,
    "start_time": "2024-03-19T01:04:07.234Z"
   },
   {
    "duration": 173,
    "start_time": "2024-03-19T01:04:07.390Z"
   },
   {
    "duration": 9,
    "start_time": "2024-03-19T01:04:07.565Z"
   },
   {
    "duration": 1460,
    "start_time": "2024-03-19T07:19:48.673Z"
   },
   {
    "duration": 199,
    "start_time": "2024-03-19T07:19:50.135Z"
   },
   {
    "duration": 4,
    "start_time": "2024-03-19T07:19:50.336Z"
   },
   {
    "duration": 51,
    "start_time": "2024-03-19T07:19:50.342Z"
   },
   {
    "duration": 31,
    "start_time": "2024-03-19T07:19:50.395Z"
   },
   {
    "duration": 59,
    "start_time": "2024-03-19T07:19:50.428Z"
   },
   {
    "duration": 8,
    "start_time": "2024-03-19T07:19:50.493Z"
   },
   {
    "duration": 26,
    "start_time": "2024-03-19T07:19:50.502Z"
   },
   {
    "duration": 6,
    "start_time": "2024-03-19T07:19:50.529Z"
   },
   {
    "duration": 26,
    "start_time": "2024-03-19T07:19:50.537Z"
   },
   {
    "duration": 33,
    "start_time": "2024-03-19T07:19:50.564Z"
   },
   {
    "duration": 8,
    "start_time": "2024-03-19T07:19:50.599Z"
   },
   {
    "duration": 41,
    "start_time": "2024-03-19T07:19:50.609Z"
   },
   {
    "duration": 6,
    "start_time": "2024-03-19T07:19:50.652Z"
   },
   {
    "duration": 213,
    "start_time": "2024-03-19T07:19:50.660Z"
   },
   {
    "duration": 19,
    "start_time": "2024-03-19T07:19:50.875Z"
   },
   {
    "duration": 25,
    "start_time": "2024-03-19T07:19:50.895Z"
   },
   {
    "duration": 9,
    "start_time": "2024-03-19T07:19:50.922Z"
   },
   {
    "duration": 140,
    "start_time": "2024-03-19T07:19:50.933Z"
   },
   {
    "duration": 240,
    "start_time": "2024-03-19T07:19:51.074Z"
   },
   {
    "duration": 222,
    "start_time": "2024-03-19T07:19:51.316Z"
   },
   {
    "duration": 13,
    "start_time": "2024-03-19T07:19:51.540Z"
   },
   {
    "duration": 42,
    "start_time": "2024-03-19T07:19:51.554Z"
   },
   {
    "duration": 69,
    "start_time": "2024-03-19T07:19:51.598Z"
   },
   {
    "duration": 54,
    "start_time": "2024-03-19T07:19:51.668Z"
   },
   {
    "duration": 36,
    "start_time": "2024-03-19T07:19:51.724Z"
   },
   {
    "duration": 15,
    "start_time": "2024-03-19T07:19:51.782Z"
   },
   {
    "duration": 519,
    "start_time": "2024-03-19T07:19:51.800Z"
   },
   {
    "duration": 486,
    "start_time": "2024-03-19T07:19:52.321Z"
   },
   {
    "duration": 4,
    "start_time": "2024-03-19T07:19:52.809Z"
   },
   {
    "duration": 47,
    "start_time": "2024-03-19T07:19:52.815Z"
   },
   {
    "duration": 3,
    "start_time": "2024-03-19T07:19:52.863Z"
   },
   {
    "duration": 29,
    "start_time": "2024-03-19T07:19:52.868Z"
   },
   {
    "duration": 9,
    "start_time": "2024-03-19T07:19:52.899Z"
   },
   {
    "duration": 43,
    "start_time": "2024-03-19T07:19:52.910Z"
   },
   {
    "duration": 16,
    "start_time": "2024-03-19T07:19:52.955Z"
   },
   {
    "duration": 25,
    "start_time": "2024-03-19T07:19:52.973Z"
   },
   {
    "duration": 33,
    "start_time": "2024-03-19T07:19:53.000Z"
   },
   {
    "duration": 180,
    "start_time": "2024-03-19T07:19:53.034Z"
   },
   {
    "duration": 184,
    "start_time": "2024-03-19T07:19:53.216Z"
   },
   {
    "duration": 5,
    "start_time": "2024-03-19T07:19:53.402Z"
   },
   {
    "duration": 10,
    "start_time": "2024-03-19T07:22:43.269Z"
   },
   {
    "duration": 5,
    "start_time": "2024-03-19T07:40:33.402Z"
   },
   {
    "duration": 104,
    "start_time": "2024-03-19T07:45:52.690Z"
   },
   {
    "duration": 7,
    "start_time": "2024-03-19T07:53:59.028Z"
   },
   {
    "duration": 6,
    "start_time": "2024-03-19T07:54:12.844Z"
   },
   {
    "duration": 6,
    "start_time": "2024-03-19T07:54:18.819Z"
   },
   {
    "duration": 73,
    "start_time": "2024-03-19T07:54:25.220Z"
   },
   {
    "duration": 5,
    "start_time": "2024-03-19T07:54:32.852Z"
   },
   {
    "duration": 70,
    "start_time": "2024-03-19T07:55:13.068Z"
   },
   {
    "duration": 75,
    "start_time": "2024-03-19T07:55:38.868Z"
   },
   {
    "duration": 68,
    "start_time": "2024-03-19T07:56:32.333Z"
   },
   {
    "duration": 65,
    "start_time": "2024-03-19T07:56:34.557Z"
   },
   {
    "duration": 104,
    "start_time": "2024-03-19T07:57:41.716Z"
   },
   {
    "duration": 73,
    "start_time": "2024-03-19T07:58:29.847Z"
   },
   {
    "duration": 71,
    "start_time": "2024-03-19T07:58:41.525Z"
   },
   {
    "duration": 5,
    "start_time": "2024-03-19T07:58:45.150Z"
   },
   {
    "duration": 379,
    "start_time": "2024-03-19T08:19:18.709Z"
   },
   {
    "duration": 178,
    "start_time": "2024-03-19T08:19:42.746Z"
   },
   {
    "duration": 168,
    "start_time": "2024-03-19T08:20:09.114Z"
   },
   {
    "duration": 451,
    "start_time": "2024-03-19T08:24:51.421Z"
   },
   {
    "duration": 439,
    "start_time": "2024-03-19T08:28:48.997Z"
   },
   {
    "duration": 420,
    "start_time": "2024-03-19T08:29:09.454Z"
   },
   {
    "duration": 7,
    "start_time": "2024-03-19T08:30:05.166Z"
   },
   {
    "duration": 1121,
    "start_time": "2024-03-19T08:33:06.847Z"
   },
   {
    "duration": 14,
    "start_time": "2024-03-19T08:33:10.999Z"
   },
   {
    "duration": 447,
    "start_time": "2024-03-19T08:34:25.949Z"
   },
   {
    "duration": 25,
    "start_time": "2024-03-19T08:34:45.878Z"
   },
   {
    "duration": 493,
    "start_time": "2024-03-19T08:35:18.956Z"
   },
   {
    "duration": 11,
    "start_time": "2024-03-19T08:35:39.888Z"
   },
   {
    "duration": 105,
    "start_time": "2024-03-19T08:39:14.036Z"
   },
   {
    "duration": 85,
    "start_time": "2024-03-19T08:39:22.562Z"
   },
   {
    "duration": 83,
    "start_time": "2024-03-19T08:39:30.146Z"
   },
   {
    "duration": 109,
    "start_time": "2024-03-19T08:40:29.590Z"
   },
   {
    "duration": 137,
    "start_time": "2024-03-19T08:43:02.896Z"
   },
   {
    "duration": 97,
    "start_time": "2024-03-19T08:43:12.202Z"
   },
   {
    "duration": 103,
    "start_time": "2024-03-19T08:47:11.159Z"
   },
   {
    "duration": 97,
    "start_time": "2024-03-19T08:47:22.351Z"
   },
   {
    "duration": 140,
    "start_time": "2024-03-19T08:47:28.673Z"
   },
   {
    "duration": 96,
    "start_time": "2024-03-19T08:47:34.599Z"
   },
   {
    "duration": 112,
    "start_time": "2024-03-19T08:48:08.735Z"
   },
   {
    "duration": 111,
    "start_time": "2024-03-19T08:48:21.776Z"
   },
   {
    "duration": 99,
    "start_time": "2024-03-19T08:48:36.583Z"
   },
   {
    "duration": 100,
    "start_time": "2024-03-19T08:48:49.223Z"
   },
   {
    "duration": 8,
    "start_time": "2024-03-19T08:49:18.935Z"
   },
   {
    "duration": 282,
    "start_time": "2024-03-19T08:49:37.352Z"
   },
   {
    "duration": 248,
    "start_time": "2024-03-19T08:49:48.919Z"
   },
   {
    "duration": 282,
    "start_time": "2024-03-19T08:50:00.966Z"
   },
   {
    "duration": 306,
    "start_time": "2024-03-19T08:50:22.279Z"
   },
   {
    "duration": 171,
    "start_time": "2024-03-19T09:11:03.842Z"
   },
   {
    "duration": 163,
    "start_time": "2024-03-19T09:15:07.564Z"
   },
   {
    "duration": 162,
    "start_time": "2024-03-19T09:15:31.965Z"
   },
   {
    "duration": 170,
    "start_time": "2024-03-19T09:15:39.301Z"
   },
   {
    "duration": 171,
    "start_time": "2024-03-19T09:15:46.181Z"
   },
   {
    "duration": 169,
    "start_time": "2024-03-19T09:31:10.986Z"
   },
   {
    "duration": 162,
    "start_time": "2024-03-19T09:32:05.449Z"
   },
   {
    "duration": 177,
    "start_time": "2024-03-19T09:32:12.473Z"
   },
   {
    "duration": 173,
    "start_time": "2024-03-19T09:32:28.264Z"
   },
   {
    "duration": 166,
    "start_time": "2024-03-19T09:33:25.017Z"
   },
   {
    "duration": 170,
    "start_time": "2024-03-19T09:33:36.353Z"
   },
   {
    "duration": 222,
    "start_time": "2024-03-19T09:34:01.378Z"
   },
   {
    "duration": 180,
    "start_time": "2024-03-19T09:34:06.024Z"
   },
   {
    "duration": 73,
    "start_time": "2024-03-19T09:34:09.849Z"
   },
   {
    "duration": 172,
    "start_time": "2024-03-19T09:34:12.561Z"
   },
   {
    "duration": 287,
    "start_time": "2024-03-19T09:34:19.434Z"
   },
   {
    "duration": 160,
    "start_time": "2024-03-19T09:34:21.705Z"
   },
   {
    "duration": 270,
    "start_time": "2024-03-19T10:16:37.500Z"
   },
   {
    "duration": 156,
    "start_time": "2024-03-19T10:16:47.458Z"
   },
   {
    "duration": 145,
    "start_time": "2024-03-19T10:17:16.891Z"
   },
   {
    "duration": 62,
    "start_time": "2024-03-19T10:21:11.369Z"
   },
   {
    "duration": 178,
    "start_time": "2024-03-19T10:27:29.641Z"
   },
   {
    "duration": 163,
    "start_time": "2024-03-19T10:27:38.721Z"
   },
   {
    "duration": 172,
    "start_time": "2024-03-19T10:28:01.593Z"
   },
   {
    "duration": 96,
    "start_time": "2024-03-19T10:28:28.256Z"
   },
   {
    "duration": 190,
    "start_time": "2024-03-19T10:28:31.176Z"
   },
   {
    "duration": 289,
    "start_time": "2024-03-19T10:30:16.114Z"
   },
   {
    "duration": 170,
    "start_time": "2024-03-19T10:30:21.490Z"
   },
   {
    "duration": 157,
    "start_time": "2024-03-19T10:32:42.690Z"
   },
   {
    "duration": 163,
    "start_time": "2024-03-19T10:32:54.914Z"
   },
   {
    "duration": 162,
    "start_time": "2024-03-19T10:32:59.600Z"
   },
   {
    "duration": 161,
    "start_time": "2024-03-19T10:33:04.528Z"
   },
   {
    "duration": 162,
    "start_time": "2024-03-19T10:33:17.265Z"
   },
   {
    "duration": 90,
    "start_time": "2024-03-19T10:35:15.539Z"
   },
   {
    "duration": 4,
    "start_time": "2024-03-19T10:41:06.221Z"
   },
   {
    "duration": 21,
    "start_time": "2024-03-19T10:41:41.435Z"
   },
   {
    "duration": 20,
    "start_time": "2024-03-19T10:42:20.956Z"
   },
   {
    "duration": 114,
    "start_time": "2024-03-19T10:43:14.461Z"
   },
   {
    "duration": 3,
    "start_time": "2024-03-19T10:43:27.944Z"
   },
   {
    "duration": 84,
    "start_time": "2024-03-19T10:43:27.949Z"
   },
   {
    "duration": 4,
    "start_time": "2024-03-19T10:43:28.035Z"
   },
   {
    "duration": 37,
    "start_time": "2024-03-19T10:43:28.040Z"
   },
   {
    "duration": 33,
    "start_time": "2024-03-19T10:43:28.079Z"
   },
   {
    "duration": 28,
    "start_time": "2024-03-19T10:43:28.113Z"
   },
   {
    "duration": 12,
    "start_time": "2024-03-19T10:43:31.557Z"
   },
   {
    "duration": 10,
    "start_time": "2024-03-19T10:48:44.447Z"
   },
   {
    "duration": 11,
    "start_time": "2024-03-19T10:48:46.437Z"
   },
   {
    "duration": 8,
    "start_time": "2024-03-19T10:48:51.289Z"
   },
   {
    "duration": 4,
    "start_time": "2024-03-19T10:49:43.738Z"
   },
   {
    "duration": 67,
    "start_time": "2024-03-19T10:49:43.746Z"
   },
   {
    "duration": 4,
    "start_time": "2024-03-19T10:49:43.815Z"
   },
   {
    "duration": 35,
    "start_time": "2024-03-19T10:49:43.820Z"
   },
   {
    "duration": 53,
    "start_time": "2024-03-19T10:49:43.857Z"
   },
   {
    "duration": 69,
    "start_time": "2024-03-19T10:49:43.913Z"
   },
   {
    "duration": 10,
    "start_time": "2024-03-19T10:49:43.984Z"
   },
   {
    "duration": 15,
    "start_time": "2024-03-19T10:49:43.996Z"
   },
   {
    "duration": 6,
    "start_time": "2024-03-19T10:49:44.013Z"
   },
   {
    "duration": 14,
    "start_time": "2024-03-19T10:49:44.020Z"
   },
   {
    "duration": 4,
    "start_time": "2024-03-19T10:49:44.036Z"
   },
   {
    "duration": 4,
    "start_time": "2024-03-19T10:49:49.045Z"
   },
   {
    "duration": 1214,
    "start_time": "2024-03-19T10:50:01.660Z"
   },
   {
    "duration": 74,
    "start_time": "2024-03-19T10:50:02.876Z"
   },
   {
    "duration": 6,
    "start_time": "2024-03-19T10:50:02.952Z"
   },
   {
    "duration": 59,
    "start_time": "2024-03-19T10:50:02.960Z"
   },
   {
    "duration": 72,
    "start_time": "2024-03-19T10:50:03.020Z"
   },
   {
    "duration": 29,
    "start_time": "2024-03-19T10:50:03.095Z"
   },
   {
    "duration": 7,
    "start_time": "2024-03-19T10:50:03.126Z"
   },
   {
    "duration": 54,
    "start_time": "2024-03-19T10:50:03.135Z"
   },
   {
    "duration": 7,
    "start_time": "2024-03-19T10:50:03.191Z"
   },
   {
    "duration": 17,
    "start_time": "2024-03-19T10:50:03.200Z"
   },
   {
    "duration": 14,
    "start_time": "2024-03-19T10:50:03.220Z"
   },
   {
    "duration": 51,
    "start_time": "2024-03-19T10:50:03.235Z"
   },
   {
    "duration": 12,
    "start_time": "2024-03-19T10:50:03.288Z"
   },
   {
    "duration": 55,
    "start_time": "2024-03-19T10:50:03.302Z"
   },
   {
    "duration": 7,
    "start_time": "2024-03-19T10:50:03.359Z"
   },
   {
    "duration": 221,
    "start_time": "2024-03-19T10:50:03.368Z"
   },
   {
    "duration": 6,
    "start_time": "2024-03-19T10:50:03.591Z"
   },
   {
    "duration": 21,
    "start_time": "2024-03-19T10:50:03.598Z"
   },
   {
    "duration": 151,
    "start_time": "2024-03-19T10:50:03.620Z"
   },
   {
    "duration": 15,
    "start_time": "2024-03-19T10:50:03.773Z"
   },
   {
    "duration": 187,
    "start_time": "2024-03-19T10:50:03.790Z"
   },
   {
    "duration": 215,
    "start_time": "2024-03-19T10:50:03.979Z"
   },
   {
    "duration": 230,
    "start_time": "2024-03-19T10:50:04.196Z"
   },
   {
    "duration": 14,
    "start_time": "2024-03-19T10:50:04.428Z"
   },
   {
    "duration": 7,
    "start_time": "2024-03-19T10:50:04.444Z"
   },
   {
    "duration": 99,
    "start_time": "2024-03-19T10:50:04.453Z"
   },
   {
    "duration": 72,
    "start_time": "2024-03-19T10:50:04.554Z"
   },
   {
    "duration": 77,
    "start_time": "2024-03-19T10:50:04.630Z"
   },
   {
    "duration": 6,
    "start_time": "2024-03-19T10:50:04.709Z"
   },
   {
    "duration": 466,
    "start_time": "2024-03-19T10:50:04.718Z"
   },
   {
    "duration": 449,
    "start_time": "2024-03-19T10:50:05.186Z"
   },
   {
    "duration": 5,
    "start_time": "2024-03-19T10:50:05.636Z"
   },
   {
    "duration": 48,
    "start_time": "2024-03-19T10:50:05.642Z"
   },
   {
    "duration": 4,
    "start_time": "2024-03-19T10:50:05.691Z"
   },
   {
    "duration": 27,
    "start_time": "2024-03-19T10:50:05.697Z"
   },
   {
    "duration": 16,
    "start_time": "2024-03-19T10:50:05.725Z"
   },
   {
    "duration": 140,
    "start_time": "2024-03-19T10:50:05.743Z"
   },
   {
    "duration": 12,
    "start_time": "2024-03-19T10:50:05.885Z"
   },
   {
    "duration": 23,
    "start_time": "2024-03-19T10:50:05.900Z"
   },
   {
    "duration": 16,
    "start_time": "2024-03-19T10:50:05.925Z"
   },
   {
    "duration": 173,
    "start_time": "2024-03-19T10:50:05.942Z"
   },
   {
    "duration": 181,
    "start_time": "2024-03-19T10:50:06.117Z"
   },
   {
    "duration": 5,
    "start_time": "2024-03-19T10:50:06.300Z"
   },
   {
    "duration": 3,
    "start_time": "2024-03-19T10:53:09.831Z"
   },
   {
    "duration": 24,
    "start_time": "2024-03-19T10:53:14.774Z"
   },
   {
    "duration": 7,
    "start_time": "2024-03-19T10:53:18.847Z"
   },
   {
    "duration": 15,
    "start_time": "2024-03-19T10:53:42.664Z"
   },
   {
    "duration": 8,
    "start_time": "2024-03-19T10:53:46.198Z"
   },
   {
    "duration": 89,
    "start_time": "2024-03-19T10:54:20.974Z"
   },
   {
    "duration": 7,
    "start_time": "2024-03-19T10:54:52.663Z"
   },
   {
    "duration": 8,
    "start_time": "2024-03-19T11:03:03.748Z"
   },
   {
    "duration": 28,
    "start_time": "2024-03-19T13:49:37.997Z"
   },
   {
    "duration": 3,
    "start_time": "2024-03-19T13:51:35.392Z"
   },
   {
    "duration": 101,
    "start_time": "2024-03-19T13:51:35.397Z"
   },
   {
    "duration": 4,
    "start_time": "2024-03-19T13:51:35.500Z"
   },
   {
    "duration": 37,
    "start_time": "2024-03-19T13:51:35.505Z"
   },
   {
    "duration": 42,
    "start_time": "2024-03-19T13:51:35.544Z"
   },
   {
    "duration": 26,
    "start_time": "2024-03-19T13:51:35.587Z"
   },
   {
    "duration": 25,
    "start_time": "2024-03-19T13:51:35.614Z"
   },
   {
    "duration": 31,
    "start_time": "2024-03-19T13:51:35.641Z"
   },
   {
    "duration": 10,
    "start_time": "2024-03-19T13:51:35.852Z"
   },
   {
    "duration": 179,
    "start_time": "2024-03-19T13:51:35.865Z"
   },
   {
    "duration": 0,
    "start_time": "2024-03-19T13:51:36.047Z"
   },
   {
    "duration": 0,
    "start_time": "2024-03-19T13:51:36.049Z"
   },
   {
    "duration": 0,
    "start_time": "2024-03-19T13:51:36.050Z"
   },
   {
    "duration": 0,
    "start_time": "2024-03-19T13:51:36.052Z"
   },
   {
    "duration": 0,
    "start_time": "2024-03-19T13:51:36.053Z"
   },
   {
    "duration": 0,
    "start_time": "2024-03-19T13:51:36.054Z"
   },
   {
    "duration": 0,
    "start_time": "2024-03-19T13:51:36.056Z"
   },
   {
    "duration": 0,
    "start_time": "2024-03-19T13:51:36.082Z"
   },
   {
    "duration": 0,
    "start_time": "2024-03-19T13:51:36.083Z"
   },
   {
    "duration": 0,
    "start_time": "2024-03-19T13:51:36.085Z"
   },
   {
    "duration": 0,
    "start_time": "2024-03-19T13:51:36.086Z"
   },
   {
    "duration": 0,
    "start_time": "2024-03-19T13:51:36.087Z"
   },
   {
    "duration": 0,
    "start_time": "2024-03-19T13:51:36.088Z"
   },
   {
    "duration": 0,
    "start_time": "2024-03-19T13:51:36.089Z"
   },
   {
    "duration": 0,
    "start_time": "2024-03-19T13:51:36.091Z"
   },
   {
    "duration": 0,
    "start_time": "2024-03-19T13:51:36.092Z"
   },
   {
    "duration": 0,
    "start_time": "2024-03-19T13:51:36.093Z"
   },
   {
    "duration": 0,
    "start_time": "2024-03-19T13:51:36.094Z"
   },
   {
    "duration": 0,
    "start_time": "2024-03-19T13:51:36.095Z"
   },
   {
    "duration": 0,
    "start_time": "2024-03-19T13:51:36.097Z"
   },
   {
    "duration": 0,
    "start_time": "2024-03-19T13:51:36.098Z"
   },
   {
    "duration": 0,
    "start_time": "2024-03-19T13:51:36.102Z"
   },
   {
    "duration": 0,
    "start_time": "2024-03-19T13:51:36.108Z"
   },
   {
    "duration": 0,
    "start_time": "2024-03-19T13:51:36.110Z"
   },
   {
    "duration": 0,
    "start_time": "2024-03-19T13:51:36.112Z"
   },
   {
    "duration": 0,
    "start_time": "2024-03-19T13:51:36.113Z"
   },
   {
    "duration": 0,
    "start_time": "2024-03-19T13:51:36.114Z"
   },
   {
    "duration": 0,
    "start_time": "2024-03-19T13:51:36.116Z"
   },
   {
    "duration": 17,
    "start_time": "2024-03-19T13:51:44.092Z"
   },
   {
    "duration": 19,
    "start_time": "2024-03-19T13:57:39.479Z"
   },
   {
    "duration": 12,
    "start_time": "2024-03-19T13:57:40.094Z"
   },
   {
    "duration": 7,
    "start_time": "2024-03-19T13:57:41.503Z"
   },
   {
    "duration": 11,
    "start_time": "2024-03-19T13:57:42.438Z"
   },
   {
    "duration": 8,
    "start_time": "2024-03-19T13:58:16.172Z"
   },
   {
    "duration": 15,
    "start_time": "2024-03-19T13:58:16.182Z"
   },
   {
    "duration": 6,
    "start_time": "2024-03-19T13:58:16.199Z"
   },
   {
    "duration": 7,
    "start_time": "2024-03-19T13:58:16.207Z"
   },
   {
    "duration": 11,
    "start_time": "2024-03-19T13:58:16.215Z"
   },
   {
    "duration": 14,
    "start_time": "2024-03-19T13:58:16.227Z"
   },
   {
    "duration": 23,
    "start_time": "2024-03-19T13:58:16.242Z"
   },
   {
    "duration": 39,
    "start_time": "2024-03-19T13:58:16.282Z"
   },
   {
    "duration": 6,
    "start_time": "2024-03-19T13:58:16.323Z"
   },
   {
    "duration": 206,
    "start_time": "2024-03-19T13:58:16.330Z"
   },
   {
    "duration": 6,
    "start_time": "2024-03-19T13:58:16.537Z"
   },
   {
    "duration": 17,
    "start_time": "2024-03-19T13:58:16.544Z"
   },
   {
    "duration": 102,
    "start_time": "2024-03-19T13:58:16.563Z"
   },
   {
    "duration": 16,
    "start_time": "2024-03-19T13:58:16.667Z"
   },
   {
    "duration": 170,
    "start_time": "2024-03-19T13:58:16.684Z"
   },
   {
    "duration": 216,
    "start_time": "2024-03-19T13:58:16.856Z"
   },
   {
    "duration": 228,
    "start_time": "2024-03-19T13:58:17.074Z"
   },
   {
    "duration": 15,
    "start_time": "2024-03-19T13:58:17.305Z"
   },
   {
    "duration": 9,
    "start_time": "2024-03-19T13:58:17.321Z"
   },
   {
    "duration": 79,
    "start_time": "2024-03-19T13:58:17.332Z"
   },
   {
    "duration": 81,
    "start_time": "2024-03-19T13:58:17.413Z"
   },
   {
    "duration": 44,
    "start_time": "2024-03-19T13:58:17.496Z"
   },
   {
    "duration": 5,
    "start_time": "2024-03-19T13:58:17.542Z"
   },
   {
    "duration": 489,
    "start_time": "2024-03-19T13:58:17.550Z"
   },
   {
    "duration": 486,
    "start_time": "2024-03-19T13:58:18.040Z"
   },
   {
    "duration": 5,
    "start_time": "2024-03-19T13:58:18.527Z"
   },
   {
    "duration": 36,
    "start_time": "2024-03-19T13:58:18.534Z"
   },
   {
    "duration": 4,
    "start_time": "2024-03-19T13:58:18.582Z"
   },
   {
    "duration": 28,
    "start_time": "2024-03-19T13:58:18.588Z"
   },
   {
    "duration": 3,
    "start_time": "2024-03-19T13:58:18.617Z"
   },
   {
    "duration": 4,
    "start_time": "2024-03-19T13:58:18.622Z"
   },
   {
    "duration": 22,
    "start_time": "2024-03-19T13:58:18.627Z"
   },
   {
    "duration": 12,
    "start_time": "2024-03-19T13:58:18.650Z"
   },
   {
    "duration": 26,
    "start_time": "2024-03-19T13:58:18.663Z"
   },
   {
    "duration": 11,
    "start_time": "2024-03-19T13:58:18.691Z"
   },
   {
    "duration": 173,
    "start_time": "2024-03-19T13:58:18.704Z"
   },
   {
    "duration": 172,
    "start_time": "2024-03-19T13:58:18.878Z"
   },
   {
    "duration": 4,
    "start_time": "2024-03-19T13:58:19.052Z"
   },
   {
    "duration": 1147,
    "start_time": "2024-03-19T14:03:53.090Z"
   },
   {
    "duration": 18,
    "start_time": "2024-03-19T14:04:31.067Z"
   },
   {
    "duration": 16,
    "start_time": "2024-03-19T14:04:45.402Z"
   },
   {
    "duration": 7,
    "start_time": "2024-03-19T14:21:41.911Z"
   },
   {
    "duration": 8,
    "start_time": "2024-03-19T14:23:02.367Z"
   },
   {
    "duration": 8,
    "start_time": "2024-03-19T14:23:13.840Z"
   },
   {
    "duration": 4,
    "start_time": "2024-03-19T14:27:19.464Z"
   },
   {
    "duration": 4,
    "start_time": "2024-03-19T14:27:28.896Z"
   },
   {
    "duration": 71,
    "start_time": "2024-03-19T14:29:34.040Z"
   },
   {
    "duration": 13,
    "start_time": "2024-03-19T14:29:40.648Z"
   },
   {
    "duration": 4,
    "start_time": "2024-03-19T14:29:45.753Z"
   },
   {
    "duration": 3,
    "start_time": "2024-03-19T14:29:59.057Z"
   },
   {
    "duration": 6,
    "start_time": "2024-03-19T14:31:59.809Z"
   },
   {
    "duration": 7,
    "start_time": "2024-03-19T14:35:11.483Z"
   },
   {
    "duration": 5,
    "start_time": "2024-03-19T14:51:35.808Z"
   },
   {
    "duration": 1458,
    "start_time": "2024-03-19T16:58:45.553Z"
   },
   {
    "duration": 287,
    "start_time": "2024-03-19T16:58:47.013Z"
   },
   {
    "duration": 4,
    "start_time": "2024-03-19T16:58:47.302Z"
   },
   {
    "duration": 46,
    "start_time": "2024-03-19T16:58:47.308Z"
   },
   {
    "duration": 48,
    "start_time": "2024-03-19T16:58:47.356Z"
   },
   {
    "duration": 24,
    "start_time": "2024-03-19T16:58:47.405Z"
   },
   {
    "duration": 7,
    "start_time": "2024-03-19T16:58:47.430Z"
   },
   {
    "duration": 25,
    "start_time": "2024-03-19T16:58:47.439Z"
   },
   {
    "duration": 29,
    "start_time": "2024-03-19T16:58:47.466Z"
   },
   {
    "duration": 25,
    "start_time": "2024-03-19T16:58:47.496Z"
   },
   {
    "duration": 25,
    "start_time": "2024-03-19T16:58:47.523Z"
   },
   {
    "duration": 20,
    "start_time": "2024-03-19T16:58:47.550Z"
   },
   {
    "duration": 5,
    "start_time": "2024-03-19T16:58:47.572Z"
   },
   {
    "duration": 41,
    "start_time": "2024-03-19T16:58:47.580Z"
   },
   {
    "duration": 5,
    "start_time": "2024-03-19T16:58:47.623Z"
   },
   {
    "duration": 213,
    "start_time": "2024-03-19T16:58:47.630Z"
   },
   {
    "duration": 7,
    "start_time": "2024-03-19T16:58:47.845Z"
   },
   {
    "duration": 31,
    "start_time": "2024-03-19T16:58:47.853Z"
   },
   {
    "duration": 106,
    "start_time": "2024-03-19T16:58:47.886Z"
   },
   {
    "duration": 9,
    "start_time": "2024-03-19T16:58:47.994Z"
   },
   {
    "duration": 180,
    "start_time": "2024-03-19T16:58:48.005Z"
   },
   {
    "duration": 246,
    "start_time": "2024-03-19T16:58:48.187Z"
   },
   {
    "duration": 244,
    "start_time": "2024-03-19T16:58:48.435Z"
   },
   {
    "duration": 20,
    "start_time": "2024-03-19T16:58:48.681Z"
   },
   {
    "duration": 6,
    "start_time": "2024-03-19T16:58:48.703Z"
   },
   {
    "duration": 92,
    "start_time": "2024-03-19T16:58:48.711Z"
   },
   {
    "duration": 47,
    "start_time": "2024-03-19T16:58:48.805Z"
   },
   {
    "duration": 73,
    "start_time": "2024-03-19T16:58:48.854Z"
   },
   {
    "duration": 4,
    "start_time": "2024-03-19T16:58:48.929Z"
   },
   {
    "duration": 527,
    "start_time": "2024-03-19T16:58:48.935Z"
   },
   {
    "duration": 491,
    "start_time": "2024-03-19T16:58:49.464Z"
   },
   {
    "duration": 4,
    "start_time": "2024-03-19T16:58:49.957Z"
   },
   {
    "duration": 39,
    "start_time": "2024-03-19T16:58:49.963Z"
   },
   {
    "duration": 3,
    "start_time": "2024-03-19T16:58:50.004Z"
   },
   {
    "duration": 30,
    "start_time": "2024-03-19T16:58:50.009Z"
   },
   {
    "duration": 178,
    "start_time": "2024-03-19T16:58:50.040Z"
   },
   {
    "duration": 5,
    "start_time": "2024-03-19T16:58:50.220Z"
   },
   {
    "duration": 11,
    "start_time": "2024-03-19T16:58:50.227Z"
   },
   {
    "duration": 52,
    "start_time": "2024-03-19T16:58:50.240Z"
   },
   {
    "duration": 13,
    "start_time": "2024-03-19T16:58:50.294Z"
   },
   {
    "duration": 7,
    "start_time": "2024-03-19T16:58:50.311Z"
   },
   {
    "duration": 213,
    "start_time": "2024-03-19T16:58:50.320Z"
   },
   {
    "duration": 185,
    "start_time": "2024-03-19T16:58:50.535Z"
   },
   {
    "duration": 5,
    "start_time": "2024-03-19T16:58:50.723Z"
   },
   {
    "duration": 15,
    "start_time": "2024-03-19T16:59:27.683Z"
   },
   {
    "duration": 5,
    "start_time": "2024-03-19T16:59:59.185Z"
   },
   {
    "duration": 4,
    "start_time": "2024-03-19T17:00:06.485Z"
   },
   {
    "duration": 6,
    "start_time": "2024-03-19T17:00:18.468Z"
   },
   {
    "duration": 101,
    "start_time": "2024-03-19T17:05:43.004Z"
   },
   {
    "duration": 1239,
    "start_time": "2024-03-19T17:06:00.003Z"
   },
   {
    "duration": 74,
    "start_time": "2024-03-19T17:06:01.245Z"
   },
   {
    "duration": 4,
    "start_time": "2024-03-19T17:06:01.321Z"
   },
   {
    "duration": 140,
    "start_time": "2024-03-19T17:06:01.327Z"
   },
   {
    "duration": 116,
    "start_time": "2024-03-19T17:06:01.469Z"
   },
   {
    "duration": 41,
    "start_time": "2024-03-19T17:06:01.587Z"
   },
   {
    "duration": 155,
    "start_time": "2024-03-19T17:06:01.630Z"
   },
   {
    "duration": 0,
    "start_time": "2024-03-19T17:06:01.788Z"
   },
   {
    "duration": 0,
    "start_time": "2024-03-19T17:06:01.790Z"
   },
   {
    "duration": 0,
    "start_time": "2024-03-19T17:06:01.792Z"
   },
   {
    "duration": 0,
    "start_time": "2024-03-19T17:06:01.793Z"
   },
   {
    "duration": 0,
    "start_time": "2024-03-19T17:06:01.794Z"
   },
   {
    "duration": 0,
    "start_time": "2024-03-19T17:06:01.795Z"
   },
   {
    "duration": 0,
    "start_time": "2024-03-19T17:06:01.796Z"
   },
   {
    "duration": 0,
    "start_time": "2024-03-19T17:06:01.797Z"
   },
   {
    "duration": 0,
    "start_time": "2024-03-19T17:06:01.799Z"
   },
   {
    "duration": 0,
    "start_time": "2024-03-19T17:06:01.800Z"
   },
   {
    "duration": 0,
    "start_time": "2024-03-19T17:06:01.801Z"
   },
   {
    "duration": 0,
    "start_time": "2024-03-19T17:06:01.803Z"
   },
   {
    "duration": 0,
    "start_time": "2024-03-19T17:06:01.804Z"
   },
   {
    "duration": 0,
    "start_time": "2024-03-19T17:06:01.805Z"
   },
   {
    "duration": 0,
    "start_time": "2024-03-19T17:06:01.807Z"
   },
   {
    "duration": 0,
    "start_time": "2024-03-19T17:06:01.808Z"
   },
   {
    "duration": 0,
    "start_time": "2024-03-19T17:06:01.809Z"
   },
   {
    "duration": 0,
    "start_time": "2024-03-19T17:06:01.810Z"
   },
   {
    "duration": 0,
    "start_time": "2024-03-19T17:06:01.811Z"
   },
   {
    "duration": 0,
    "start_time": "2024-03-19T17:06:01.813Z"
   },
   {
    "duration": 0,
    "start_time": "2024-03-19T17:06:01.814Z"
   },
   {
    "duration": 0,
    "start_time": "2024-03-19T17:06:01.815Z"
   },
   {
    "duration": 0,
    "start_time": "2024-03-19T17:06:01.816Z"
   },
   {
    "duration": 0,
    "start_time": "2024-03-19T17:06:01.817Z"
   },
   {
    "duration": 0,
    "start_time": "2024-03-19T17:06:01.819Z"
   },
   {
    "duration": 0,
    "start_time": "2024-03-19T17:06:01.820Z"
   },
   {
    "duration": 0,
    "start_time": "2024-03-19T17:06:01.821Z"
   },
   {
    "duration": 0,
    "start_time": "2024-03-19T17:06:01.822Z"
   },
   {
    "duration": 0,
    "start_time": "2024-03-19T17:06:01.823Z"
   },
   {
    "duration": 0,
    "start_time": "2024-03-19T17:06:01.824Z"
   },
   {
    "duration": 0,
    "start_time": "2024-03-19T17:06:01.825Z"
   },
   {
    "duration": 0,
    "start_time": "2024-03-19T17:06:01.826Z"
   },
   {
    "duration": 0,
    "start_time": "2024-03-19T17:06:01.892Z"
   },
   {
    "duration": 0,
    "start_time": "2024-03-19T17:06:01.893Z"
   },
   {
    "duration": 0,
    "start_time": "2024-03-19T17:06:01.894Z"
   },
   {
    "duration": 0,
    "start_time": "2024-03-19T17:06:01.896Z"
   },
   {
    "duration": 0,
    "start_time": "2024-03-19T17:06:01.897Z"
   },
   {
    "duration": 0,
    "start_time": "2024-03-19T17:06:01.898Z"
   },
   {
    "duration": 14,
    "start_time": "2024-03-19T17:09:27.800Z"
   },
   {
    "duration": 13,
    "start_time": "2024-03-19T17:09:30.291Z"
   },
   {
    "duration": 4,
    "start_time": "2024-03-19T17:09:55.841Z"
   },
   {
    "duration": 89,
    "start_time": "2024-03-19T17:09:55.847Z"
   },
   {
    "duration": 4,
    "start_time": "2024-03-19T17:09:55.937Z"
   },
   {
    "duration": 75,
    "start_time": "2024-03-19T17:09:55.943Z"
   },
   {
    "duration": 73,
    "start_time": "2024-03-19T17:09:56.020Z"
   },
   {
    "duration": 26,
    "start_time": "2024-03-19T17:09:56.095Z"
   },
   {
    "duration": 23,
    "start_time": "2024-03-19T17:09:56.123Z"
   },
   {
    "duration": 44,
    "start_time": "2024-03-19T17:09:56.148Z"
   },
   {
    "duration": 8,
    "start_time": "2024-03-19T17:10:11.998Z"
   },
   {
    "duration": 6,
    "start_time": "2024-03-19T17:10:47.784Z"
   },
   {
    "duration": 1225,
    "start_time": "2024-03-19T17:11:27.575Z"
   },
   {
    "duration": 72,
    "start_time": "2024-03-19T17:11:28.803Z"
   },
   {
    "duration": 4,
    "start_time": "2024-03-19T17:11:28.877Z"
   },
   {
    "duration": 50,
    "start_time": "2024-03-19T17:11:28.883Z"
   },
   {
    "duration": 57,
    "start_time": "2024-03-19T17:11:28.936Z"
   },
   {
    "duration": 27,
    "start_time": "2024-03-19T17:11:28.995Z"
   },
   {
    "duration": 21,
    "start_time": "2024-03-19T17:11:29.024Z"
   },
   {
    "duration": 15,
    "start_time": "2024-03-19T17:11:29.047Z"
   },
   {
    "duration": 7,
    "start_time": "2024-03-19T17:11:29.064Z"
   },
   {
    "duration": 6,
    "start_time": "2024-03-19T17:11:29.092Z"
   },
   {
    "duration": 30,
    "start_time": "2024-03-19T17:11:29.100Z"
   },
   {
    "duration": 28,
    "start_time": "2024-03-19T17:11:29.132Z"
   },
   {
    "duration": 16,
    "start_time": "2024-03-19T17:11:29.162Z"
   },
   {
    "duration": 14,
    "start_time": "2024-03-19T17:11:29.181Z"
   },
   {
    "duration": 38,
    "start_time": "2024-03-19T17:11:29.196Z"
   },
   {
    "duration": 5,
    "start_time": "2024-03-19T17:11:29.236Z"
   },
   {
    "duration": 207,
    "start_time": "2024-03-19T17:11:29.243Z"
   },
   {
    "duration": 6,
    "start_time": "2024-03-19T17:11:29.452Z"
   },
   {
    "duration": 27,
    "start_time": "2024-03-19T17:11:29.460Z"
   },
   {
    "duration": 107,
    "start_time": "2024-03-19T17:11:29.489Z"
   },
   {
    "duration": 9,
    "start_time": "2024-03-19T17:11:29.598Z"
   },
   {
    "duration": 189,
    "start_time": "2024-03-19T17:11:29.608Z"
   },
   {
    "duration": 233,
    "start_time": "2024-03-19T17:11:29.799Z"
   },
   {
    "duration": 246,
    "start_time": "2024-03-19T17:11:30.034Z"
   },
   {
    "duration": 19,
    "start_time": "2024-03-19T17:11:30.282Z"
   },
   {
    "duration": 191,
    "start_time": "2024-03-19T17:11:30.303Z"
   },
   {
    "duration": 326,
    "start_time": "2024-03-19T17:11:30.496Z"
   },
   {
    "duration": 521,
    "start_time": "2024-03-19T17:11:30.824Z"
   },
   {
    "duration": 232,
    "start_time": "2024-03-19T17:11:31.346Z"
   },
   {
    "duration": 167,
    "start_time": "2024-03-19T17:11:31.579Z"
   },
   {
    "duration": 566,
    "start_time": "2024-03-19T17:11:31.749Z"
   },
   {
    "duration": 516,
    "start_time": "2024-03-19T17:11:32.317Z"
   },
   {
    "duration": 4,
    "start_time": "2024-03-19T17:11:32.835Z"
   },
   {
    "duration": 49,
    "start_time": "2024-03-19T17:11:32.841Z"
   },
   {
    "duration": 3,
    "start_time": "2024-03-19T17:11:32.892Z"
   },
   {
    "duration": 62,
    "start_time": "2024-03-19T17:11:32.897Z"
   },
   {
    "duration": 152,
    "start_time": "2024-03-19T17:11:32.961Z"
   },
   {
    "duration": 6,
    "start_time": "2024-03-19T17:11:33.114Z"
   },
   {
    "duration": 17,
    "start_time": "2024-03-19T17:11:33.122Z"
   },
   {
    "duration": 8,
    "start_time": "2024-03-19T17:11:33.141Z"
   },
   {
    "duration": 10,
    "start_time": "2024-03-19T17:11:33.153Z"
   },
   {
    "duration": 10,
    "start_time": "2024-03-19T17:11:33.164Z"
   },
   {
    "duration": 167,
    "start_time": "2024-03-19T17:11:33.175Z"
   },
   {
    "duration": 179,
    "start_time": "2024-03-19T17:11:33.343Z"
   },
   {
    "duration": 5,
    "start_time": "2024-03-19T17:11:33.524Z"
   },
   {
    "duration": 26,
    "start_time": "2024-03-19T17:11:45.623Z"
   },
   {
    "duration": 13,
    "start_time": "2024-03-19T17:11:47.187Z"
   },
   {
    "duration": 12,
    "start_time": "2024-03-19T17:15:53.118Z"
   },
   {
    "duration": 6,
    "start_time": "2024-03-19T17:15:55.644Z"
   },
   {
    "duration": 104,
    "start_time": "2024-03-19T17:19:52.144Z"
   },
   {
    "duration": 9,
    "start_time": "2024-03-19T17:21:41.386Z"
   },
   {
    "duration": 13,
    "start_time": "2024-03-19T17:21:42.439Z"
   },
   {
    "duration": 6,
    "start_time": "2024-03-19T17:21:50.072Z"
   },
   {
    "duration": 6,
    "start_time": "2024-03-19T17:21:56.743Z"
   },
   {
    "duration": 15,
    "start_time": "2024-03-19T17:22:00.130Z"
   },
   {
    "duration": 12,
    "start_time": "2024-03-19T17:24:58.380Z"
   },
   {
    "duration": 8,
    "start_time": "2024-03-19T17:36:23.439Z"
   },
   {
    "duration": 1564,
    "start_time": "2024-03-19T17:46:15.668Z"
   },
   {
    "duration": 22,
    "start_time": "2024-03-19T17:46:48.418Z"
   },
   {
    "duration": 20,
    "start_time": "2024-03-19T17:47:40.868Z"
   },
   {
    "duration": 20,
    "start_time": "2024-03-19T17:52:03.812Z"
   },
   {
    "duration": 20,
    "start_time": "2024-03-19T17:55:11.390Z"
   },
   {
    "duration": 11,
    "start_time": "2024-03-19T18:06:49.597Z"
   },
   {
    "duration": 1229,
    "start_time": "2024-03-19T18:13:18.508Z"
   },
   {
    "duration": 80,
    "start_time": "2024-03-19T18:13:19.739Z"
   },
   {
    "duration": 4,
    "start_time": "2024-03-19T18:13:19.821Z"
   },
   {
    "duration": 40,
    "start_time": "2024-03-19T18:13:19.827Z"
   },
   {
    "duration": 56,
    "start_time": "2024-03-19T18:13:19.868Z"
   },
   {
    "duration": 27,
    "start_time": "2024-03-19T18:13:19.926Z"
   },
   {
    "duration": 17,
    "start_time": "2024-03-19T18:13:19.994Z"
   },
   {
    "duration": 32,
    "start_time": "2024-03-19T18:13:20.013Z"
   },
   {
    "duration": 5,
    "start_time": "2024-03-19T18:13:20.047Z"
   },
   {
    "duration": 15,
    "start_time": "2024-03-19T18:13:20.055Z"
   },
   {
    "duration": 24,
    "start_time": "2024-03-19T18:13:20.072Z"
   },
   {
    "duration": 20,
    "start_time": "2024-03-19T18:13:20.099Z"
   },
   {
    "duration": 5,
    "start_time": "2024-03-19T18:13:20.121Z"
   },
   {
    "duration": 35,
    "start_time": "2024-03-19T18:13:20.127Z"
   },
   {
    "duration": 5,
    "start_time": "2024-03-19T18:13:20.164Z"
   },
   {
    "duration": 232,
    "start_time": "2024-03-19T18:13:20.170Z"
   },
   {
    "duration": 6,
    "start_time": "2024-03-19T18:13:20.406Z"
   },
   {
    "duration": 13,
    "start_time": "2024-03-19T18:13:20.414Z"
   },
   {
    "duration": 101,
    "start_time": "2024-03-19T18:13:20.429Z"
   },
   {
    "duration": 8,
    "start_time": "2024-03-19T18:13:20.532Z"
   },
   {
    "duration": 183,
    "start_time": "2024-03-19T18:13:20.541Z"
   },
   {
    "duration": 251,
    "start_time": "2024-03-19T18:13:20.725Z"
   },
   {
    "duration": 249,
    "start_time": "2024-03-19T18:13:20.978Z"
   },
   {
    "duration": 19,
    "start_time": "2024-03-19T18:13:21.229Z"
   },
   {
    "duration": 8,
    "start_time": "2024-03-19T18:13:21.249Z"
   },
   {
    "duration": 91,
    "start_time": "2024-03-19T18:13:21.259Z"
   },
   {
    "duration": 81,
    "start_time": "2024-03-19T18:13:21.352Z"
   },
   {
    "duration": 75,
    "start_time": "2024-03-19T18:13:21.437Z"
   },
   {
    "duration": 6,
    "start_time": "2024-03-19T18:13:21.514Z"
   },
   {
    "duration": 504,
    "start_time": "2024-03-19T18:13:21.521Z"
   },
   {
    "duration": 537,
    "start_time": "2024-03-19T18:13:22.027Z"
   },
   {
    "duration": 6,
    "start_time": "2024-03-19T18:13:22.566Z"
   },
   {
    "duration": 51,
    "start_time": "2024-03-19T18:13:22.575Z"
   },
   {
    "duration": 4,
    "start_time": "2024-03-19T18:13:22.628Z"
   },
   {
    "duration": 19,
    "start_time": "2024-03-19T18:13:22.633Z"
   },
   {
    "duration": 127,
    "start_time": "2024-03-19T18:13:22.654Z"
   },
   {
    "duration": 16,
    "start_time": "2024-03-19T18:13:22.791Z"
   },
   {
    "duration": 5,
    "start_time": "2024-03-19T18:13:22.809Z"
   },
   {
    "duration": 8,
    "start_time": "2024-03-19T18:13:22.816Z"
   },
   {
    "duration": 10,
    "start_time": "2024-03-19T18:13:22.825Z"
   },
   {
    "duration": 8,
    "start_time": "2024-03-19T18:13:22.836Z"
   },
   {
    "duration": 178,
    "start_time": "2024-03-19T18:13:22.845Z"
   },
   {
    "duration": 193,
    "start_time": "2024-03-19T18:13:23.024Z"
   },
   {
    "duration": 5,
    "start_time": "2024-03-19T18:13:23.219Z"
   },
   {
    "duration": 559,
    "start_time": "2024-03-19T18:28:02.463Z"
   },
   {
    "duration": 590,
    "start_time": "2024-03-19T18:32:15.324Z"
   },
   {
    "duration": 1281,
    "start_time": "2024-03-19T18:39:06.924Z"
   },
   {
    "duration": 72,
    "start_time": "2024-03-19T18:39:08.208Z"
   },
   {
    "duration": 3,
    "start_time": "2024-03-19T18:39:08.282Z"
   },
   {
    "duration": 47,
    "start_time": "2024-03-19T18:39:08.287Z"
   },
   {
    "duration": 63,
    "start_time": "2024-03-19T18:39:08.337Z"
   },
   {
    "duration": 35,
    "start_time": "2024-03-19T18:39:08.402Z"
   },
   {
    "duration": 8,
    "start_time": "2024-03-19T18:39:08.438Z"
   },
   {
    "duration": 45,
    "start_time": "2024-03-19T18:39:08.447Z"
   },
   {
    "duration": 6,
    "start_time": "2024-03-19T18:39:08.494Z"
   },
   {
    "duration": 16,
    "start_time": "2024-03-19T18:39:08.504Z"
   },
   {
    "duration": 14,
    "start_time": "2024-03-19T18:39:08.522Z"
   },
   {
    "duration": 16,
    "start_time": "2024-03-19T18:39:08.537Z"
   },
   {
    "duration": 40,
    "start_time": "2024-03-19T18:39:08.555Z"
   },
   {
    "duration": 36,
    "start_time": "2024-03-19T18:39:08.596Z"
   },
   {
    "duration": 6,
    "start_time": "2024-03-19T18:39:08.634Z"
   },
   {
    "duration": 233,
    "start_time": "2024-03-19T18:39:08.642Z"
   },
   {
    "duration": 6,
    "start_time": "2024-03-19T18:39:08.877Z"
   },
   {
    "duration": 13,
    "start_time": "2024-03-19T18:39:08.885Z"
   },
   {
    "duration": 113,
    "start_time": "2024-03-19T18:39:08.900Z"
   },
   {
    "duration": 9,
    "start_time": "2024-03-19T18:39:09.015Z"
   },
   {
    "duration": 169,
    "start_time": "2024-03-19T18:39:09.026Z"
   },
   {
    "duration": 234,
    "start_time": "2024-03-19T18:39:09.197Z"
   },
   {
    "duration": 224,
    "start_time": "2024-03-19T18:39:09.433Z"
   },
   {
    "duration": 15,
    "start_time": "2024-03-19T18:39:09.659Z"
   },
   {
    "duration": 6,
    "start_time": "2024-03-19T18:39:09.692Z"
   },
   {
    "duration": 106,
    "start_time": "2024-03-19T18:39:09.700Z"
   },
   {
    "duration": 85,
    "start_time": "2024-03-19T18:39:09.808Z"
   },
   {
    "duration": 46,
    "start_time": "2024-03-19T18:39:09.896Z"
   },
   {
    "duration": 602,
    "start_time": "2024-03-19T18:39:09.944Z"
   },
   {
    "duration": 5,
    "start_time": "2024-03-19T18:39:10.547Z"
   },
   {
    "duration": 55,
    "start_time": "2024-03-19T18:39:10.554Z"
   },
   {
    "duration": 4,
    "start_time": "2024-03-19T18:39:10.611Z"
   },
   {
    "duration": 19,
    "start_time": "2024-03-19T18:39:10.616Z"
   },
   {
    "duration": 21,
    "start_time": "2024-03-19T18:39:10.637Z"
   },
   {
    "duration": 6,
    "start_time": "2024-03-19T18:39:10.660Z"
   },
   {
    "duration": 27,
    "start_time": "2024-03-19T18:39:10.668Z"
   },
   {
    "duration": 11,
    "start_time": "2024-03-19T18:39:10.697Z"
   },
   {
    "duration": 10,
    "start_time": "2024-03-19T18:39:10.710Z"
   },
   {
    "duration": 6,
    "start_time": "2024-03-19T18:39:10.722Z"
   },
   {
    "duration": 199,
    "start_time": "2024-03-19T18:39:10.730Z"
   },
   {
    "duration": 205,
    "start_time": "2024-03-19T18:39:10.931Z"
   },
   {
    "duration": 6,
    "start_time": "2024-03-19T18:39:11.139Z"
   },
   {
    "duration": 225,
    "start_time": "2024-03-19T18:41:14.102Z"
   },
   {
    "duration": 315,
    "start_time": "2024-03-19T18:41:21.600Z"
   },
   {
    "duration": 1107,
    "start_time": "2024-03-20T00:54:33.916Z"
   },
   {
    "duration": 69,
    "start_time": "2024-03-20T00:54:35.025Z"
   },
   {
    "duration": 4,
    "start_time": "2024-03-20T00:54:35.095Z"
   },
   {
    "duration": 39,
    "start_time": "2024-03-20T00:54:35.102Z"
   },
   {
    "duration": 60,
    "start_time": "2024-03-20T00:54:35.143Z"
   },
   {
    "duration": 23,
    "start_time": "2024-03-20T00:54:35.205Z"
   },
   {
    "duration": 6,
    "start_time": "2024-03-20T00:54:35.230Z"
   },
   {
    "duration": 22,
    "start_time": "2024-03-20T00:54:35.237Z"
   },
   {
    "duration": 5,
    "start_time": "2024-03-20T00:54:35.260Z"
   },
   {
    "duration": 12,
    "start_time": "2024-03-20T00:54:35.293Z"
   },
   {
    "duration": 32,
    "start_time": "2024-03-20T00:54:35.306Z"
   },
   {
    "duration": 28,
    "start_time": "2024-03-20T00:54:35.340Z"
   },
   {
    "duration": 4,
    "start_time": "2024-03-20T00:54:35.370Z"
   },
   {
    "duration": 39,
    "start_time": "2024-03-20T00:54:35.375Z"
   },
   {
    "duration": 4,
    "start_time": "2024-03-20T00:54:35.416Z"
   },
   {
    "duration": 172,
    "start_time": "2024-03-20T00:54:35.422Z"
   },
   {
    "duration": 5,
    "start_time": "2024-03-20T00:54:35.595Z"
   },
   {
    "duration": 44,
    "start_time": "2024-03-20T00:54:35.601Z"
   },
   {
    "duration": 86,
    "start_time": "2024-03-20T00:54:35.646Z"
   },
   {
    "duration": 7,
    "start_time": "2024-03-20T00:54:35.734Z"
   },
   {
    "duration": 143,
    "start_time": "2024-03-20T00:54:35.742Z"
   },
   {
    "duration": 213,
    "start_time": "2024-03-20T00:54:35.887Z"
   },
   {
    "duration": 220,
    "start_time": "2024-03-20T00:54:36.101Z"
   },
   {
    "duration": 11,
    "start_time": "2024-03-20T00:54:36.323Z"
   },
   {
    "duration": 15,
    "start_time": "2024-03-20T00:54:36.336Z"
   },
   {
    "duration": 64,
    "start_time": "2024-03-20T00:54:36.353Z"
   },
   {
    "duration": 41,
    "start_time": "2024-03-20T00:54:36.418Z"
   },
   {
    "duration": 63,
    "start_time": "2024-03-20T00:54:36.462Z"
   },
   {
    "duration": 491,
    "start_time": "2024-03-20T00:54:36.526Z"
   },
   {
    "duration": 3,
    "start_time": "2024-03-20T00:54:37.019Z"
   },
   {
    "duration": 60,
    "start_time": "2024-03-20T00:54:37.024Z"
   },
   {
    "duration": 7,
    "start_time": "2024-03-20T00:54:37.085Z"
   },
   {
    "duration": 37,
    "start_time": "2024-03-20T00:54:37.093Z"
   },
   {
    "duration": 31,
    "start_time": "2024-03-20T00:54:37.132Z"
   },
   {
    "duration": 5,
    "start_time": "2024-03-20T00:54:37.165Z"
   },
   {
    "duration": 30,
    "start_time": "2024-03-20T00:54:37.171Z"
   },
   {
    "duration": 22,
    "start_time": "2024-03-20T00:54:37.202Z"
   },
   {
    "duration": 21,
    "start_time": "2024-03-20T00:54:37.225Z"
   },
   {
    "duration": 18,
    "start_time": "2024-03-20T00:54:37.247Z"
   },
   {
    "duration": 133,
    "start_time": "2024-03-20T00:54:37.266Z"
   },
   {
    "duration": 175,
    "start_time": "2024-03-20T00:54:37.400Z"
   },
   {
    "duration": 4,
    "start_time": "2024-03-20T00:54:37.577Z"
   },
   {
    "duration": 95,
    "start_time": "2024-03-20T00:56:34.621Z"
   },
   {
    "duration": 23,
    "start_time": "2024-03-20T00:56:42.720Z"
   },
   {
    "duration": 93,
    "start_time": "2024-03-20T00:56:53.959Z"
   },
   {
    "duration": 5,
    "start_time": "2024-03-20T00:57:38.593Z"
   },
   {
    "duration": 6,
    "start_time": "2024-03-20T00:58:55.983Z"
   },
   {
    "duration": 4,
    "start_time": "2024-03-20T01:00:45.596Z"
   },
   {
    "duration": 26,
    "start_time": "2024-03-20T01:00:46.982Z"
   },
   {
    "duration": 3,
    "start_time": "2024-03-20T01:00:47.359Z"
   },
   {
    "duration": 15,
    "start_time": "2024-03-20T01:00:47.710Z"
   },
   {
    "duration": 25,
    "start_time": "2024-03-20T01:00:50.575Z"
   },
   {
    "duration": 7,
    "start_time": "2024-03-20T01:01:09.320Z"
   },
   {
    "duration": 6,
    "start_time": "2024-03-20T01:02:02.901Z"
   },
   {
    "duration": 7,
    "start_time": "2024-03-20T01:02:04.812Z"
   },
   {
    "duration": 1139,
    "start_time": "2024-03-20T01:06:08.408Z"
   },
   {
    "duration": 67,
    "start_time": "2024-03-20T01:06:09.549Z"
   },
   {
    "duration": 3,
    "start_time": "2024-03-20T01:06:09.618Z"
   },
   {
    "duration": 28,
    "start_time": "2024-03-20T01:06:09.622Z"
   },
   {
    "duration": 47,
    "start_time": "2024-03-20T01:06:09.652Z"
   },
   {
    "duration": 21,
    "start_time": "2024-03-20T01:06:09.700Z"
   },
   {
    "duration": 7,
    "start_time": "2024-03-20T01:06:09.722Z"
   },
   {
    "duration": 11,
    "start_time": "2024-03-20T01:06:09.730Z"
   },
   {
    "duration": 5,
    "start_time": "2024-03-20T01:06:09.742Z"
   },
   {
    "duration": 46,
    "start_time": "2024-03-20T01:06:09.748Z"
   },
   {
    "duration": 23,
    "start_time": "2024-03-20T01:06:09.796Z"
   },
   {
    "duration": 5,
    "start_time": "2024-03-20T01:06:09.820Z"
   },
   {
    "duration": 14,
    "start_time": "2024-03-20T01:06:09.827Z"
   },
   {
    "duration": 27,
    "start_time": "2024-03-20T01:06:09.843Z"
   },
   {
    "duration": 16,
    "start_time": "2024-03-20T01:06:09.872Z"
   },
   {
    "duration": 32,
    "start_time": "2024-03-20T01:06:09.890Z"
   },
   {
    "duration": 5,
    "start_time": "2024-03-20T01:06:09.923Z"
   },
   {
    "duration": 176,
    "start_time": "2024-03-20T01:06:09.929Z"
   },
   {
    "duration": 5,
    "start_time": "2024-03-20T01:06:10.107Z"
   },
   {
    "duration": 61,
    "start_time": "2024-03-20T01:06:10.113Z"
   },
   {
    "duration": 139,
    "start_time": "2024-03-20T01:06:10.176Z"
   },
   {
    "duration": 7,
    "start_time": "2024-03-20T01:06:10.317Z"
   },
   {
    "duration": 152,
    "start_time": "2024-03-20T01:06:10.326Z"
   },
   {
    "duration": 217,
    "start_time": "2024-03-20T01:06:10.480Z"
   },
   {
    "duration": 210,
    "start_time": "2024-03-20T01:06:10.699Z"
   },
   {
    "duration": 12,
    "start_time": "2024-03-20T01:06:10.911Z"
   },
   {
    "duration": 28,
    "start_time": "2024-03-20T01:06:10.925Z"
   },
   {
    "duration": 70,
    "start_time": "2024-03-20T01:06:10.954Z"
   },
   {
    "duration": 36,
    "start_time": "2024-03-20T01:06:11.026Z"
   },
   {
    "duration": 61,
    "start_time": "2024-03-20T01:06:11.064Z"
   },
   {
    "duration": 496,
    "start_time": "2024-03-20T01:06:11.126Z"
   },
   {
    "duration": 4,
    "start_time": "2024-03-20T01:06:11.623Z"
   },
   {
    "duration": 43,
    "start_time": "2024-03-20T01:06:11.628Z"
   },
   {
    "duration": 2,
    "start_time": "2024-03-20T01:06:11.673Z"
   },
   {
    "duration": 24,
    "start_time": "2024-03-20T01:06:11.677Z"
   },
   {
    "duration": 17,
    "start_time": "2024-03-20T01:06:11.703Z"
   },
   {
    "duration": 12,
    "start_time": "2024-03-20T01:06:11.722Z"
   },
   {
    "duration": 9,
    "start_time": "2024-03-20T01:06:11.735Z"
   },
   {
    "duration": 19,
    "start_time": "2024-03-20T01:06:11.746Z"
   },
   {
    "duration": 17,
    "start_time": "2024-03-20T01:06:11.766Z"
   },
   {
    "duration": 4,
    "start_time": "2024-03-20T01:06:11.786Z"
   },
   {
    "duration": 135,
    "start_time": "2024-03-20T01:06:11.792Z"
   },
   {
    "duration": 149,
    "start_time": "2024-03-20T01:06:11.929Z"
   },
   {
    "duration": 5,
    "start_time": "2024-03-20T01:06:12.080Z"
   },
   {
    "duration": 45,
    "start_time": "2024-03-20T06:25:28.326Z"
   },
   {
    "duration": 1291,
    "start_time": "2024-03-20T06:25:31.871Z"
   },
   {
    "duration": 199,
    "start_time": "2024-03-20T06:25:33.163Z"
   },
   {
    "duration": 5,
    "start_time": "2024-03-20T06:25:33.364Z"
   },
   {
    "duration": 54,
    "start_time": "2024-03-20T06:25:33.371Z"
   },
   {
    "duration": 48,
    "start_time": "2024-03-20T06:25:33.426Z"
   },
   {
    "duration": 30,
    "start_time": "2024-03-20T06:25:33.476Z"
   },
   {
    "duration": 8,
    "start_time": "2024-03-20T06:25:33.508Z"
   },
   {
    "duration": 32,
    "start_time": "2024-03-20T06:25:33.518Z"
   },
   {
    "duration": 13,
    "start_time": "2024-03-20T06:25:33.552Z"
   },
   {
    "duration": 78,
    "start_time": "2024-03-20T06:25:33.567Z"
   },
   {
    "duration": 10,
    "start_time": "2024-03-20T06:25:53.115Z"
   },
   {
    "duration": 3,
    "start_time": "2024-03-20T06:26:07.392Z"
   },
   {
    "duration": 81,
    "start_time": "2024-03-20T06:26:07.398Z"
   },
   {
    "duration": 4,
    "start_time": "2024-03-20T06:26:07.481Z"
   },
   {
    "duration": 49,
    "start_time": "2024-03-20T06:26:07.486Z"
   },
   {
    "duration": 26,
    "start_time": "2024-03-20T06:26:07.537Z"
   },
   {
    "duration": 29,
    "start_time": "2024-03-20T06:26:07.565Z"
   },
   {
    "duration": 8,
    "start_time": "2024-03-20T06:26:07.595Z"
   },
   {
    "duration": 20,
    "start_time": "2024-03-20T06:26:07.604Z"
   },
   {
    "duration": 5,
    "start_time": "2024-03-20T06:26:10.396Z"
   },
   {
    "duration": 18,
    "start_time": "2024-03-20T06:26:12.388Z"
   },
   {
    "duration": 18,
    "start_time": "2024-03-20T06:26:24.709Z"
   },
   {
    "duration": 17,
    "start_time": "2024-03-20T06:26:49.460Z"
   },
   {
    "duration": 12,
    "start_time": "2024-03-20T06:43:55.423Z"
   },
   {
    "duration": 2,
    "start_time": "2024-03-20T06:44:07.992Z"
   },
   {
    "duration": 83,
    "start_time": "2024-03-20T06:44:07.998Z"
   },
   {
    "duration": 3,
    "start_time": "2024-03-20T06:44:08.083Z"
   },
   {
    "duration": 38,
    "start_time": "2024-03-20T06:44:08.087Z"
   },
   {
    "duration": 39,
    "start_time": "2024-03-20T06:44:08.127Z"
   },
   {
    "duration": 21,
    "start_time": "2024-03-20T06:44:08.168Z"
   },
   {
    "duration": 6,
    "start_time": "2024-03-20T06:44:08.191Z"
   },
   {
    "duration": 14,
    "start_time": "2024-03-20T06:44:08.199Z"
   },
   {
    "duration": 8,
    "start_time": "2024-03-20T06:44:08.215Z"
   },
   {
    "duration": 51,
    "start_time": "2024-03-20T06:44:08.224Z"
   },
   {
    "duration": 27,
    "start_time": "2024-03-20T06:44:08.278Z"
   },
   {
    "duration": 5,
    "start_time": "2024-03-20T06:44:08.307Z"
   },
   {
    "duration": 33,
    "start_time": "2024-03-20T06:44:08.314Z"
   },
   {
    "duration": 21,
    "start_time": "2024-03-20T06:44:08.348Z"
   },
   {
    "duration": 4,
    "start_time": "2024-03-20T06:44:08.371Z"
   },
   {
    "duration": 28,
    "start_time": "2024-03-20T06:44:08.377Z"
   },
   {
    "duration": 4,
    "start_time": "2024-03-20T06:44:08.407Z"
   },
   {
    "duration": 187,
    "start_time": "2024-03-20T06:44:08.413Z"
   },
   {
    "duration": 5,
    "start_time": "2024-03-20T06:44:08.602Z"
   },
   {
    "duration": 9,
    "start_time": "2024-03-20T06:44:08.609Z"
   },
   {
    "duration": 101,
    "start_time": "2024-03-20T06:44:08.620Z"
   },
   {
    "duration": 8,
    "start_time": "2024-03-20T06:44:08.722Z"
   },
   {
    "duration": 153,
    "start_time": "2024-03-20T06:44:08.731Z"
   },
   {
    "duration": 215,
    "start_time": "2024-03-20T06:44:08.885Z"
   },
   {
    "duration": 222,
    "start_time": "2024-03-20T06:44:09.102Z"
   },
   {
    "duration": 12,
    "start_time": "2024-03-20T06:44:09.326Z"
   },
   {
    "duration": 20,
    "start_time": "2024-03-20T06:44:09.339Z"
   },
   {
    "duration": 63,
    "start_time": "2024-03-20T06:44:09.360Z"
   },
   {
    "duration": 70,
    "start_time": "2024-03-20T06:44:09.427Z"
   },
   {
    "duration": 35,
    "start_time": "2024-03-20T06:44:09.499Z"
   },
   {
    "duration": 580,
    "start_time": "2024-03-20T06:44:09.535Z"
   },
   {
    "duration": 4,
    "start_time": "2024-03-20T06:44:10.116Z"
   },
   {
    "duration": 35,
    "start_time": "2024-03-20T06:44:10.122Z"
   },
   {
    "duration": 6,
    "start_time": "2024-03-20T06:44:10.159Z"
   },
   {
    "duration": 19,
    "start_time": "2024-03-20T06:44:10.167Z"
   },
   {
    "duration": 19,
    "start_time": "2024-03-20T06:44:10.187Z"
   },
   {
    "duration": 5,
    "start_time": "2024-03-20T06:44:10.207Z"
   },
   {
    "duration": 7,
    "start_time": "2024-03-20T06:44:10.214Z"
   },
   {
    "duration": 11,
    "start_time": "2024-03-20T06:44:10.223Z"
   },
   {
    "duration": 36,
    "start_time": "2024-03-20T06:44:10.236Z"
   },
   {
    "duration": 31,
    "start_time": "2024-03-20T06:44:10.274Z"
   },
   {
    "duration": 136,
    "start_time": "2024-03-20T06:44:10.307Z"
   },
   {
    "duration": 173,
    "start_time": "2024-03-20T06:44:10.444Z"
   },
   {
    "duration": 4,
    "start_time": "2024-03-20T06:44:10.619Z"
   },
   {
    "duration": 33,
    "start_time": "2024-03-20T06:46:32.414Z"
   },
   {
    "duration": 4,
    "start_time": "2024-03-20T06:46:34.476Z"
   },
   {
    "duration": 18,
    "start_time": "2024-03-20T06:46:35.685Z"
   },
   {
    "duration": 27,
    "start_time": "2024-03-20T06:47:22.382Z"
   },
   {
    "duration": 18,
    "start_time": "2024-03-20T06:48:16.070Z"
   },
   {
    "duration": 18,
    "start_time": "2024-03-20T06:48:30.111Z"
   },
   {
    "duration": 1149,
    "start_time": "2024-03-20T07:50:49.812Z"
   },
   {
    "duration": 78,
    "start_time": "2024-03-20T07:50:50.962Z"
   },
   {
    "duration": 4,
    "start_time": "2024-03-20T07:50:51.042Z"
   },
   {
    "duration": 34,
    "start_time": "2024-03-20T07:50:51.049Z"
   },
   {
    "duration": 40,
    "start_time": "2024-03-20T07:50:51.085Z"
   },
   {
    "duration": 24,
    "start_time": "2024-03-20T07:50:51.126Z"
   },
   {
    "duration": 10,
    "start_time": "2024-03-20T07:50:51.166Z"
   },
   {
    "duration": 19,
    "start_time": "2024-03-20T07:50:51.178Z"
   },
   {
    "duration": 6,
    "start_time": "2024-03-20T07:50:51.199Z"
   },
   {
    "duration": 70,
    "start_time": "2024-03-20T07:50:51.209Z"
   },
   {
    "duration": 30,
    "start_time": "2024-03-20T07:50:51.280Z"
   },
   {
    "duration": 6,
    "start_time": "2024-03-20T07:50:51.311Z"
   },
   {
    "duration": 18,
    "start_time": "2024-03-20T07:50:51.318Z"
   },
   {
    "duration": 35,
    "start_time": "2024-03-20T07:50:51.337Z"
   },
   {
    "duration": 6,
    "start_time": "2024-03-20T07:50:51.374Z"
   },
   {
    "duration": 33,
    "start_time": "2024-03-20T07:50:51.381Z"
   },
   {
    "duration": 53,
    "start_time": "2024-03-20T07:50:51.416Z"
   },
   {
    "duration": 247,
    "start_time": "2024-03-20T07:50:51.471Z"
   },
   {
    "duration": 5,
    "start_time": "2024-03-20T07:50:51.719Z"
   },
   {
    "duration": 10,
    "start_time": "2024-03-20T07:50:51.726Z"
   },
   {
    "duration": 100,
    "start_time": "2024-03-20T07:50:51.737Z"
   },
   {
    "duration": 8,
    "start_time": "2024-03-20T07:50:51.838Z"
   },
   {
    "duration": 153,
    "start_time": "2024-03-20T07:50:51.848Z"
   },
   {
    "duration": 211,
    "start_time": "2024-03-20T07:50:52.003Z"
   },
   {
    "duration": 223,
    "start_time": "2024-03-20T07:50:52.215Z"
   },
   {
    "duration": 12,
    "start_time": "2024-03-20T07:50:52.439Z"
   },
   {
    "duration": 14,
    "start_time": "2024-03-20T07:50:52.453Z"
   },
   {
    "duration": 55,
    "start_time": "2024-03-20T07:50:52.470Z"
   },
   {
    "duration": 74,
    "start_time": "2024-03-20T07:50:52.526Z"
   },
   {
    "duration": 80,
    "start_time": "2024-03-20T07:50:52.602Z"
   },
   {
    "duration": 718,
    "start_time": "2024-03-20T07:50:52.684Z"
   },
   {
    "duration": 6,
    "start_time": "2024-03-20T07:50:53.403Z"
   },
   {
    "duration": 44,
    "start_time": "2024-03-20T07:50:53.465Z"
   },
   {
    "duration": 56,
    "start_time": "2024-03-20T07:50:53.510Z"
   },
   {
    "duration": 21,
    "start_time": "2024-03-20T07:50:53.568Z"
   },
   {
    "duration": 14,
    "start_time": "2024-03-20T07:50:53.591Z"
   },
   {
    "duration": 5,
    "start_time": "2024-03-20T07:50:53.607Z"
   },
   {
    "duration": 5,
    "start_time": "2024-03-20T07:50:53.665Z"
   },
   {
    "duration": 15,
    "start_time": "2024-03-20T07:50:53.672Z"
   },
   {
    "duration": 10,
    "start_time": "2024-03-20T07:50:53.689Z"
   },
   {
    "duration": 5,
    "start_time": "2024-03-20T07:50:53.701Z"
   },
   {
    "duration": 298,
    "start_time": "2024-03-20T07:50:53.708Z"
   },
   {
    "duration": 359,
    "start_time": "2024-03-20T07:50:54.008Z"
   },
   {
    "duration": 6,
    "start_time": "2024-03-20T07:50:54.370Z"
   },
   {
    "duration": 1260,
    "start_time": "2024-03-20T15:02:55.199Z"
   },
   {
    "duration": 195,
    "start_time": "2024-03-20T15:02:56.465Z"
   },
   {
    "duration": 4,
    "start_time": "2024-03-20T15:02:56.662Z"
   },
   {
    "duration": 60,
    "start_time": "2024-03-20T15:02:56.669Z"
   },
   {
    "duration": 44,
    "start_time": "2024-03-20T15:02:56.730Z"
   },
   {
    "duration": 25,
    "start_time": "2024-03-20T15:02:56.775Z"
   },
   {
    "duration": 10,
    "start_time": "2024-03-20T15:02:56.802Z"
   },
   {
    "duration": 19,
    "start_time": "2024-03-20T15:02:56.813Z"
   },
   {
    "duration": 45,
    "start_time": "2024-03-20T15:02:56.834Z"
   },
   {
    "duration": 52,
    "start_time": "2024-03-20T15:02:56.883Z"
   },
   {
    "duration": 57,
    "start_time": "2024-03-20T15:02:56.937Z"
   },
   {
    "duration": 23,
    "start_time": "2024-03-20T15:02:56.996Z"
   },
   {
    "duration": 60,
    "start_time": "2024-03-20T15:02:57.020Z"
   },
   {
    "duration": 43,
    "start_time": "2024-03-20T15:02:57.082Z"
   },
   {
    "duration": 37,
    "start_time": "2024-03-20T15:02:57.126Z"
   },
   {
    "duration": 49,
    "start_time": "2024-03-20T15:02:57.164Z"
   },
   {
    "duration": 15,
    "start_time": "2024-03-20T15:02:57.215Z"
   },
   {
    "duration": 174,
    "start_time": "2024-03-20T15:02:57.231Z"
   },
   {
    "duration": 5,
    "start_time": "2024-03-20T15:02:57.406Z"
   },
   {
    "duration": 46,
    "start_time": "2024-03-20T15:02:57.413Z"
   },
   {
    "duration": 119,
    "start_time": "2024-03-20T15:02:57.460Z"
   },
   {
    "duration": 7,
    "start_time": "2024-03-20T15:02:57.581Z"
   },
   {
    "duration": 149,
    "start_time": "2024-03-20T15:02:57.590Z"
   },
   {
    "duration": 213,
    "start_time": "2024-03-20T15:02:57.740Z"
   },
   {
    "duration": 210,
    "start_time": "2024-03-20T15:02:57.955Z"
   },
   {
    "duration": 11,
    "start_time": "2024-03-20T15:02:58.167Z"
   },
   {
    "duration": 29,
    "start_time": "2024-03-20T15:02:58.180Z"
   },
   {
    "duration": 61,
    "start_time": "2024-03-20T15:02:58.212Z"
   },
   {
    "duration": 39,
    "start_time": "2024-03-20T15:02:58.275Z"
   },
   {
    "duration": 63,
    "start_time": "2024-03-20T15:02:58.316Z"
   },
   {
    "duration": 582,
    "start_time": "2024-03-20T15:02:58.380Z"
   },
   {
    "duration": 5,
    "start_time": "2024-03-20T15:02:58.967Z"
   },
   {
    "duration": 54,
    "start_time": "2024-03-20T15:02:58.973Z"
   },
   {
    "duration": 3,
    "start_time": "2024-03-20T15:02:59.028Z"
   },
   {
    "duration": 30,
    "start_time": "2024-03-20T15:02:59.032Z"
   },
   {
    "duration": 31,
    "start_time": "2024-03-20T15:02:59.064Z"
   },
   {
    "duration": 6,
    "start_time": "2024-03-20T15:02:59.097Z"
   },
   {
    "duration": 31,
    "start_time": "2024-03-20T15:02:59.105Z"
   },
   {
    "duration": 21,
    "start_time": "2024-03-20T15:02:59.138Z"
   },
   {
    "duration": 39,
    "start_time": "2024-03-20T15:02:59.161Z"
   },
   {
    "duration": 20,
    "start_time": "2024-03-20T15:02:59.201Z"
   },
   {
    "duration": 147,
    "start_time": "2024-03-20T15:02:59.223Z"
   },
   {
    "duration": 155,
    "start_time": "2024-03-20T15:02:59.371Z"
   },
   {
    "duration": 4,
    "start_time": "2024-03-20T15:02:59.528Z"
   },
   {
    "duration": 8,
    "start_time": "2024-03-20T15:05:00.403Z"
   }
  ],
  "kernelspec": {
   "display_name": "Python 3 (ipykernel)",
   "language": "python",
   "name": "python3"
  },
  "language_info": {
   "codemirror_mode": {
    "name": "ipython",
    "version": 3
   },
   "file_extension": ".py",
   "mimetype": "text/x-python",
   "name": "python",
   "nbconvert_exporter": "python",
   "pygments_lexer": "ipython3",
   "version": "3.11.5"
  },
  "toc": {
   "base_numbering": 1,
   "nav_menu": {},
   "number_sections": true,
   "sideBar": true,
   "skip_h1_title": false,
   "title_cell": "Table of Contents",
   "title_sidebar": "Contents",
   "toc_cell": false,
   "toc_position": {
    "height": "636px",
    "left": "24px",
    "top": "257.133px",
    "width": "307.2px"
   },
   "toc_section_display": true,
   "toc_window_display": true
  }
 },
 "nbformat": 4,
 "nbformat_minor": 5
}
