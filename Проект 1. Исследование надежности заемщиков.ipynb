{
 "cells": [
  {
   "cell_type": "markdown",
   "id": "0754e177",
   "metadata": {},
   "source": [
    "<div style=\"border:solid Chocolate 2px; padding: 40px\">\n",
    "\n",
    "<b>Галина, приветствую!</b>\n",
    "\n",
    "Буду рада с тобой познакомиться. Меня зовут Евгения Маракова и я буду ревьюером твоего проекта. Если ты не против, то предлагаю общаться на \"ты\":) Если удобнее на \"вы\", то нет проблем, только скажи об этом.\n",
    "\n",
    "В процессе работы ты встретишь комментарии <font color='green'>зеленого</font>, <font color='gold'>желтого</font> и <font color='red'>красного</font> цветов. Что они значат, смотри ниже:\n",
    "    <br/>\n",
    "\n",
    "<div class=\"alert alert-success\">\n",
    "<h2> Комментарий ревьюера <a class=\"tocSkip\"> </h2>\n",
    "\n",
    "<b>Отлично!✅:</b> Решение на этом шаге является полностью правильным.\n",
    "</div>\n",
    "\n",
    "<br/>\n",
    "\n",
    "<div class=\"alert alert-warning\">\n",
    "    <h2> Комментарий ревьюера <a class=\"tocSkip\"> </h2>\n",
    "    \n",
    "<b>Можно лучше⚠️:</b> Решение на этом шаге станет еще лучше, если внести небольшие коррективы.\n",
    "</div>\n",
    "\n",
    "\n",
    "<br/>\n",
    "<div class=\"alert alert-block alert-danger\">\n",
    "<h2> Комментарий ревьюера <a class=\"tocSkip\"></h2>\n",
    "\n",
    "    \n",
    "<b>Необходимо исправить❌:</b>\n",
    " Решение на этом шаге требует существенной переработки и внесения правок. Напоминаю, что проект не может быть принят с первого раза, если ревью содержит комментарии, рекомендующие доработать шаги.\n",
    "</div>\n",
    "    \n",
    "Увидев мой комментарий, не удаляй его, он будет очень полезен в случае повторной проверки работы😊\n",
    "    \n",
    "Свой комментарий помечай так, как показано ниже, тогда нам будет легче вести диалог, а мне выполнить повторную проверку проекта.\n",
    "    <div class=\"alert alert-info\"> <b>Комментарий студента: </b> </div>\n",
    "    \n"
   ]
  },
  {
   "cell_type": "markdown",
   "id": "8595d7ca",
   "metadata": {
    "deletable": false,
    "editable": false,
    "id": "c81daeeb"
   },
   "source": [
    "# Исследование надежности заемщиков\n"
   ]
  },
  {
   "cell_type": "markdown",
   "id": "bed95b9a",
   "metadata": {
    "deletable": false,
    "editable": false,
    "id": "827c20bf"
   },
   "source": [
    "Во второй части проекта вы выполните шаги 3 и 4. Их вручную проверит ревьюер.\n",
    "Чтобы вам не пришлось писать код заново для шагов 1 и 2, мы добавили авторские решения в ячейки с кодом. \n",
    "\n"
   ]
  },
  {
   "cell_type": "markdown",
   "id": "d7df0653",
   "metadata": {
    "deletable": false,
    "editable": false,
    "id": "744d7639"
   },
   "source": [
    "## Откройте таблицу и изучите общую информацию о данных"
   ]
  },
  {
   "cell_type": "markdown",
   "id": "b5e12310",
   "metadata": {
    "deletable": false,
    "editable": false,
    "id": "e7a14c31"
   },
   "source": [
    "**Задание 1. Импортируйте библиотеку pandas. Считайте данные из csv-файла в датафрейм и сохраните в переменную `data`. Путь к файлу:**\n",
    "\n",
    "`/datasets/data.csv`"
   ]
  },
  {
   "cell_type": "code",
   "execution_count": 215,
   "id": "98f625ea",
   "metadata": {
    "deletable": false,
    "id": "7bcf75c9"
   },
   "outputs": [],
   "source": [
    "import pandas as pd\n",
    "\n",
    "try:\n",
    "    data = pd.read_csv('/datasets/data.csv')\n",
    "except:\n",
    "    data = pd.read_csv('https://code.s3.yandex.net/datasets/data.csv')"
   ]
  },
  {
   "cell_type": "markdown",
   "id": "d03eaf5b",
   "metadata": {
    "deletable": false,
    "editable": false,
    "id": "b8038fe3"
   },
   "source": [
    "**Задание 2. Выведите первые 20 строчек датафрейма `data` на экран.**"
   ]
  },
  {
   "cell_type": "code",
   "execution_count": 216,
   "id": "baee7723",
   "metadata": {
    "deletable": false,
    "id": "2a7cab99",
    "outputId": "1a8f3ef2-d323-4ec2-ddf7-89670b5944c4"
   },
   "outputs": [
    {
     "data": {
      "text/html": [
       "<div>\n",
       "<style scoped>\n",
       "    .dataframe tbody tr th:only-of-type {\n",
       "        vertical-align: middle;\n",
       "    }\n",
       "\n",
       "    .dataframe tbody tr th {\n",
       "        vertical-align: top;\n",
       "    }\n",
       "\n",
       "    .dataframe thead th {\n",
       "        text-align: right;\n",
       "    }\n",
       "</style>\n",
       "<table border=\"1\" class=\"dataframe\">\n",
       "  <thead>\n",
       "    <tr style=\"text-align: right;\">\n",
       "      <th></th>\n",
       "      <th>children</th>\n",
       "      <th>days_employed</th>\n",
       "      <th>dob_years</th>\n",
       "      <th>education</th>\n",
       "      <th>education_id</th>\n",
       "      <th>family_status</th>\n",
       "      <th>family_status_id</th>\n",
       "      <th>gender</th>\n",
       "      <th>income_type</th>\n",
       "      <th>debt</th>\n",
       "      <th>total_income</th>\n",
       "      <th>purpose</th>\n",
       "    </tr>\n",
       "  </thead>\n",
       "  <tbody>\n",
       "    <tr>\n",
       "      <th>0</th>\n",
       "      <td>1</td>\n",
       "      <td>-8437.673028</td>\n",
       "      <td>42</td>\n",
       "      <td>высшее</td>\n",
       "      <td>0</td>\n",
       "      <td>женат / замужем</td>\n",
       "      <td>0</td>\n",
       "      <td>F</td>\n",
       "      <td>сотрудник</td>\n",
       "      <td>0</td>\n",
       "      <td>253875.639453</td>\n",
       "      <td>покупка жилья</td>\n",
       "    </tr>\n",
       "    <tr>\n",
       "      <th>1</th>\n",
       "      <td>1</td>\n",
       "      <td>-4024.803754</td>\n",
       "      <td>36</td>\n",
       "      <td>среднее</td>\n",
       "      <td>1</td>\n",
       "      <td>женат / замужем</td>\n",
       "      <td>0</td>\n",
       "      <td>F</td>\n",
       "      <td>сотрудник</td>\n",
       "      <td>0</td>\n",
       "      <td>112080.014102</td>\n",
       "      <td>приобретение автомобиля</td>\n",
       "    </tr>\n",
       "    <tr>\n",
       "      <th>2</th>\n",
       "      <td>0</td>\n",
       "      <td>-5623.422610</td>\n",
       "      <td>33</td>\n",
       "      <td>Среднее</td>\n",
       "      <td>1</td>\n",
       "      <td>женат / замужем</td>\n",
       "      <td>0</td>\n",
       "      <td>M</td>\n",
       "      <td>сотрудник</td>\n",
       "      <td>0</td>\n",
       "      <td>145885.952297</td>\n",
       "      <td>покупка жилья</td>\n",
       "    </tr>\n",
       "    <tr>\n",
       "      <th>3</th>\n",
       "      <td>3</td>\n",
       "      <td>-4124.747207</td>\n",
       "      <td>32</td>\n",
       "      <td>среднее</td>\n",
       "      <td>1</td>\n",
       "      <td>женат / замужем</td>\n",
       "      <td>0</td>\n",
       "      <td>M</td>\n",
       "      <td>сотрудник</td>\n",
       "      <td>0</td>\n",
       "      <td>267628.550329</td>\n",
       "      <td>дополнительное образование</td>\n",
       "    </tr>\n",
       "    <tr>\n",
       "      <th>4</th>\n",
       "      <td>0</td>\n",
       "      <td>340266.072047</td>\n",
       "      <td>53</td>\n",
       "      <td>среднее</td>\n",
       "      <td>1</td>\n",
       "      <td>гражданский брак</td>\n",
       "      <td>1</td>\n",
       "      <td>F</td>\n",
       "      <td>пенсионер</td>\n",
       "      <td>0</td>\n",
       "      <td>158616.077870</td>\n",
       "      <td>сыграть свадьбу</td>\n",
       "    </tr>\n",
       "    <tr>\n",
       "      <th>5</th>\n",
       "      <td>0</td>\n",
       "      <td>-926.185831</td>\n",
       "      <td>27</td>\n",
       "      <td>высшее</td>\n",
       "      <td>0</td>\n",
       "      <td>гражданский брак</td>\n",
       "      <td>1</td>\n",
       "      <td>M</td>\n",
       "      <td>компаньон</td>\n",
       "      <td>0</td>\n",
       "      <td>255763.565419</td>\n",
       "      <td>покупка жилья</td>\n",
       "    </tr>\n",
       "    <tr>\n",
       "      <th>6</th>\n",
       "      <td>0</td>\n",
       "      <td>-2879.202052</td>\n",
       "      <td>43</td>\n",
       "      <td>высшее</td>\n",
       "      <td>0</td>\n",
       "      <td>женат / замужем</td>\n",
       "      <td>0</td>\n",
       "      <td>F</td>\n",
       "      <td>компаньон</td>\n",
       "      <td>0</td>\n",
       "      <td>240525.971920</td>\n",
       "      <td>операции с жильем</td>\n",
       "    </tr>\n",
       "    <tr>\n",
       "      <th>7</th>\n",
       "      <td>0</td>\n",
       "      <td>-152.779569</td>\n",
       "      <td>50</td>\n",
       "      <td>СРЕДНЕЕ</td>\n",
       "      <td>1</td>\n",
       "      <td>женат / замужем</td>\n",
       "      <td>0</td>\n",
       "      <td>M</td>\n",
       "      <td>сотрудник</td>\n",
       "      <td>0</td>\n",
       "      <td>135823.934197</td>\n",
       "      <td>образование</td>\n",
       "    </tr>\n",
       "    <tr>\n",
       "      <th>8</th>\n",
       "      <td>2</td>\n",
       "      <td>-6929.865299</td>\n",
       "      <td>35</td>\n",
       "      <td>ВЫСШЕЕ</td>\n",
       "      <td>0</td>\n",
       "      <td>гражданский брак</td>\n",
       "      <td>1</td>\n",
       "      <td>F</td>\n",
       "      <td>сотрудник</td>\n",
       "      <td>0</td>\n",
       "      <td>95856.832424</td>\n",
       "      <td>на проведение свадьбы</td>\n",
       "    </tr>\n",
       "    <tr>\n",
       "      <th>9</th>\n",
       "      <td>0</td>\n",
       "      <td>-2188.756445</td>\n",
       "      <td>41</td>\n",
       "      <td>среднее</td>\n",
       "      <td>1</td>\n",
       "      <td>женат / замужем</td>\n",
       "      <td>0</td>\n",
       "      <td>M</td>\n",
       "      <td>сотрудник</td>\n",
       "      <td>0</td>\n",
       "      <td>144425.938277</td>\n",
       "      <td>покупка жилья для семьи</td>\n",
       "    </tr>\n",
       "    <tr>\n",
       "      <th>10</th>\n",
       "      <td>2</td>\n",
       "      <td>-4171.483647</td>\n",
       "      <td>36</td>\n",
       "      <td>высшее</td>\n",
       "      <td>0</td>\n",
       "      <td>женат / замужем</td>\n",
       "      <td>0</td>\n",
       "      <td>M</td>\n",
       "      <td>компаньон</td>\n",
       "      <td>0</td>\n",
       "      <td>113943.491460</td>\n",
       "      <td>покупка недвижимости</td>\n",
       "    </tr>\n",
       "    <tr>\n",
       "      <th>11</th>\n",
       "      <td>0</td>\n",
       "      <td>-792.701887</td>\n",
       "      <td>40</td>\n",
       "      <td>среднее</td>\n",
       "      <td>1</td>\n",
       "      <td>женат / замужем</td>\n",
       "      <td>0</td>\n",
       "      <td>F</td>\n",
       "      <td>сотрудник</td>\n",
       "      <td>0</td>\n",
       "      <td>77069.234271</td>\n",
       "      <td>покупка коммерческой недвижимости</td>\n",
       "    </tr>\n",
       "    <tr>\n",
       "      <th>12</th>\n",
       "      <td>0</td>\n",
       "      <td>NaN</td>\n",
       "      <td>65</td>\n",
       "      <td>среднее</td>\n",
       "      <td>1</td>\n",
       "      <td>гражданский брак</td>\n",
       "      <td>1</td>\n",
       "      <td>M</td>\n",
       "      <td>пенсионер</td>\n",
       "      <td>0</td>\n",
       "      <td>NaN</td>\n",
       "      <td>сыграть свадьбу</td>\n",
       "    </tr>\n",
       "    <tr>\n",
       "      <th>13</th>\n",
       "      <td>0</td>\n",
       "      <td>-1846.641941</td>\n",
       "      <td>54</td>\n",
       "      <td>неоконченное высшее</td>\n",
       "      <td>2</td>\n",
       "      <td>женат / замужем</td>\n",
       "      <td>0</td>\n",
       "      <td>F</td>\n",
       "      <td>сотрудник</td>\n",
       "      <td>0</td>\n",
       "      <td>130458.228857</td>\n",
       "      <td>приобретение автомобиля</td>\n",
       "    </tr>\n",
       "    <tr>\n",
       "      <th>14</th>\n",
       "      <td>0</td>\n",
       "      <td>-1844.956182</td>\n",
       "      <td>56</td>\n",
       "      <td>высшее</td>\n",
       "      <td>0</td>\n",
       "      <td>гражданский брак</td>\n",
       "      <td>1</td>\n",
       "      <td>F</td>\n",
       "      <td>компаньон</td>\n",
       "      <td>1</td>\n",
       "      <td>165127.911772</td>\n",
       "      <td>покупка жилой недвижимости</td>\n",
       "    </tr>\n",
       "    <tr>\n",
       "      <th>15</th>\n",
       "      <td>1</td>\n",
       "      <td>-972.364419</td>\n",
       "      <td>26</td>\n",
       "      <td>среднее</td>\n",
       "      <td>1</td>\n",
       "      <td>женат / замужем</td>\n",
       "      <td>0</td>\n",
       "      <td>F</td>\n",
       "      <td>сотрудник</td>\n",
       "      <td>0</td>\n",
       "      <td>116820.904450</td>\n",
       "      <td>строительство собственной недвижимости</td>\n",
       "    </tr>\n",
       "    <tr>\n",
       "      <th>16</th>\n",
       "      <td>0</td>\n",
       "      <td>-1719.934226</td>\n",
       "      <td>35</td>\n",
       "      <td>среднее</td>\n",
       "      <td>1</td>\n",
       "      <td>женат / замужем</td>\n",
       "      <td>0</td>\n",
       "      <td>F</td>\n",
       "      <td>сотрудник</td>\n",
       "      <td>0</td>\n",
       "      <td>289202.704229</td>\n",
       "      <td>недвижимость</td>\n",
       "    </tr>\n",
       "    <tr>\n",
       "      <th>17</th>\n",
       "      <td>0</td>\n",
       "      <td>-2369.999720</td>\n",
       "      <td>33</td>\n",
       "      <td>высшее</td>\n",
       "      <td>0</td>\n",
       "      <td>гражданский брак</td>\n",
       "      <td>1</td>\n",
       "      <td>M</td>\n",
       "      <td>сотрудник</td>\n",
       "      <td>0</td>\n",
       "      <td>90410.586745</td>\n",
       "      <td>строительство недвижимости</td>\n",
       "    </tr>\n",
       "    <tr>\n",
       "      <th>18</th>\n",
       "      <td>0</td>\n",
       "      <td>400281.136913</td>\n",
       "      <td>53</td>\n",
       "      <td>среднее</td>\n",
       "      <td>1</td>\n",
       "      <td>вдовец / вдова</td>\n",
       "      <td>2</td>\n",
       "      <td>F</td>\n",
       "      <td>пенсионер</td>\n",
       "      <td>0</td>\n",
       "      <td>56823.777243</td>\n",
       "      <td>на покупку подержанного автомобиля</td>\n",
       "    </tr>\n",
       "    <tr>\n",
       "      <th>19</th>\n",
       "      <td>0</td>\n",
       "      <td>-10038.818549</td>\n",
       "      <td>48</td>\n",
       "      <td>СРЕДНЕЕ</td>\n",
       "      <td>1</td>\n",
       "      <td>в разводе</td>\n",
       "      <td>3</td>\n",
       "      <td>F</td>\n",
       "      <td>сотрудник</td>\n",
       "      <td>0</td>\n",
       "      <td>242831.107982</td>\n",
       "      <td>на покупку своего автомобиля</td>\n",
       "    </tr>\n",
       "  </tbody>\n",
       "</table>\n",
       "</div>"
      ],
      "text/plain": [
       "    children  days_employed  dob_years            education  education_id  \\\n",
       "0          1   -8437.673028         42               высшее             0   \n",
       "1          1   -4024.803754         36              среднее             1   \n",
       "2          0   -5623.422610         33              Среднее             1   \n",
       "3          3   -4124.747207         32              среднее             1   \n",
       "4          0  340266.072047         53              среднее             1   \n",
       "5          0    -926.185831         27               высшее             0   \n",
       "6          0   -2879.202052         43               высшее             0   \n",
       "7          0    -152.779569         50              СРЕДНЕЕ             1   \n",
       "8          2   -6929.865299         35               ВЫСШЕЕ             0   \n",
       "9          0   -2188.756445         41              среднее             1   \n",
       "10         2   -4171.483647         36               высшее             0   \n",
       "11         0    -792.701887         40              среднее             1   \n",
       "12         0            NaN         65              среднее             1   \n",
       "13         0   -1846.641941         54  неоконченное высшее             2   \n",
       "14         0   -1844.956182         56               высшее             0   \n",
       "15         1    -972.364419         26              среднее             1   \n",
       "16         0   -1719.934226         35              среднее             1   \n",
       "17         0   -2369.999720         33               высшее             0   \n",
       "18         0  400281.136913         53              среднее             1   \n",
       "19         0  -10038.818549         48              СРЕДНЕЕ             1   \n",
       "\n",
       "       family_status  family_status_id gender income_type  debt  \\\n",
       "0    женат / замужем                 0      F   сотрудник     0   \n",
       "1    женат / замужем                 0      F   сотрудник     0   \n",
       "2    женат / замужем                 0      M   сотрудник     0   \n",
       "3    женат / замужем                 0      M   сотрудник     0   \n",
       "4   гражданский брак                 1      F   пенсионер     0   \n",
       "5   гражданский брак                 1      M   компаньон     0   \n",
       "6    женат / замужем                 0      F   компаньон     0   \n",
       "7    женат / замужем                 0      M   сотрудник     0   \n",
       "8   гражданский брак                 1      F   сотрудник     0   \n",
       "9    женат / замужем                 0      M   сотрудник     0   \n",
       "10   женат / замужем                 0      M   компаньон     0   \n",
       "11   женат / замужем                 0      F   сотрудник     0   \n",
       "12  гражданский брак                 1      M   пенсионер     0   \n",
       "13   женат / замужем                 0      F   сотрудник     0   \n",
       "14  гражданский брак                 1      F   компаньон     1   \n",
       "15   женат / замужем                 0      F   сотрудник     0   \n",
       "16   женат / замужем                 0      F   сотрудник     0   \n",
       "17  гражданский брак                 1      M   сотрудник     0   \n",
       "18    вдовец / вдова                 2      F   пенсионер     0   \n",
       "19         в разводе                 3      F   сотрудник     0   \n",
       "\n",
       "     total_income                                 purpose  \n",
       "0   253875.639453                           покупка жилья  \n",
       "1   112080.014102                 приобретение автомобиля  \n",
       "2   145885.952297                           покупка жилья  \n",
       "3   267628.550329              дополнительное образование  \n",
       "4   158616.077870                         сыграть свадьбу  \n",
       "5   255763.565419                           покупка жилья  \n",
       "6   240525.971920                       операции с жильем  \n",
       "7   135823.934197                             образование  \n",
       "8    95856.832424                   на проведение свадьбы  \n",
       "9   144425.938277                 покупка жилья для семьи  \n",
       "10  113943.491460                    покупка недвижимости  \n",
       "11   77069.234271       покупка коммерческой недвижимости  \n",
       "12            NaN                         сыграть свадьбу  \n",
       "13  130458.228857                 приобретение автомобиля  \n",
       "14  165127.911772              покупка жилой недвижимости  \n",
       "15  116820.904450  строительство собственной недвижимости  \n",
       "16  289202.704229                            недвижимость  \n",
       "17   90410.586745              строительство недвижимости  \n",
       "18   56823.777243      на покупку подержанного автомобиля  \n",
       "19  242831.107982            на покупку своего автомобиля  "
      ]
     },
     "execution_count": 216,
     "metadata": {},
     "output_type": "execute_result"
    }
   ],
   "source": [
    "data.head(20)"
   ]
  },
  {
   "cell_type": "markdown",
   "id": "81566881",
   "metadata": {
    "deletable": false,
    "editable": false,
    "id": "1c12e233"
   },
   "source": [
    "**Задание 3. Выведите основную информацию о датафрейме с помощью метода `info()`.**"
   ]
  },
  {
   "cell_type": "code",
   "execution_count": 217,
   "id": "cc6f1c20",
   "metadata": {
    "deletable": false,
    "id": "2b757bca",
    "outputId": "15376089-8dad-46c9-b520-c05248d43158"
   },
   "outputs": [
    {
     "name": "stdout",
     "output_type": "stream",
     "text": [
      "<class 'pandas.core.frame.DataFrame'>\n",
      "RangeIndex: 21525 entries, 0 to 21524\n",
      "Data columns (total 12 columns):\n",
      " #   Column            Non-Null Count  Dtype  \n",
      "---  ------            --------------  -----  \n",
      " 0   children          21525 non-null  int64  \n",
      " 1   days_employed     19351 non-null  float64\n",
      " 2   dob_years         21525 non-null  int64  \n",
      " 3   education         21525 non-null  object \n",
      " 4   education_id      21525 non-null  int64  \n",
      " 5   family_status     21525 non-null  object \n",
      " 6   family_status_id  21525 non-null  int64  \n",
      " 7   gender            21525 non-null  object \n",
      " 8   income_type       21525 non-null  object \n",
      " 9   debt              21525 non-null  int64  \n",
      " 10  total_income      19351 non-null  float64\n",
      " 11  purpose           21525 non-null  object \n",
      "dtypes: float64(2), int64(5), object(5)\n",
      "memory usage: 2.0+ MB\n"
     ]
    }
   ],
   "source": [
    "data.info()"
   ]
  },
  {
   "cell_type": "markdown",
   "id": "99f64ed8",
   "metadata": {
    "deletable": false,
    "editable": false,
    "id": "333ec665"
   },
   "source": [
    "## Предобработка данных"
   ]
  },
  {
   "cell_type": "markdown",
   "id": "e4711f43",
   "metadata": {
    "deletable": false,
    "editable": false,
    "id": "02d92d53"
   },
   "source": [
    "### Удаление пропусков"
   ]
  },
  {
   "cell_type": "markdown",
   "id": "0c2b2d22",
   "metadata": {
    "deletable": false,
    "editable": false,
    "id": "cd84967c"
   },
   "source": [
    "**Задание 4. Выведите количество пропущенных значений для каждого столбца. Используйте комбинацию двух методов.**"
   ]
  },
  {
   "cell_type": "code",
   "execution_count": 218,
   "id": "578b4c8d",
   "metadata": {
    "deletable": false,
    "id": "7f9b2309",
    "outputId": "81f4d817-781c-465c-ed15-91ce4446810d"
   },
   "outputs": [
    {
     "data": {
      "text/plain": [
       "children               0\n",
       "days_employed       2174\n",
       "dob_years              0\n",
       "education              0\n",
       "education_id           0\n",
       "family_status          0\n",
       "family_status_id       0\n",
       "gender                 0\n",
       "income_type            0\n",
       "debt                   0\n",
       "total_income        2174\n",
       "purpose                0\n",
       "dtype: int64"
      ]
     },
     "execution_count": 218,
     "metadata": {},
     "output_type": "execute_result"
    }
   ],
   "source": [
    "data.isna().sum()"
   ]
  },
  {
   "cell_type": "markdown",
   "id": "5eb92018",
   "metadata": {
    "deletable": false,
    "editable": false,
    "id": "db86e27b"
   },
   "source": [
    "**Задание 5. В двух столбцах есть пропущенные значения. Один из них — `days_employed`. Пропуски в этом столбце вы обработаете на следующем этапе. Другой столбец с пропущенными значениями — `total_income` — хранит данные о доходах. На сумму дохода сильнее всего влияет тип занятости, поэтому заполнить пропуски в этом столбце нужно медианным значением по каждому типу из столбца `income_type`. Например, у человека с типом занятости `сотрудник` пропуск в столбце `total_income` должен быть заполнен медианным доходом среди всех записей с тем же типом.**"
   ]
  },
  {
   "cell_type": "code",
   "execution_count": 219,
   "id": "4b6c9eed",
   "metadata": {
    "deletable": false,
    "id": "42006a93"
   },
   "outputs": [],
   "source": [
    "for t in data['income_type'].unique():\n",
    "    data.loc[(data['income_type'] == t) & (data['total_income'].isna()), 'total_income'] = \\\n",
    "    data.loc[(data['income_type'] == t), 'total_income'].median()"
   ]
  },
  {
   "cell_type": "markdown",
   "id": "e373bfbd",
   "metadata": {
    "deletable": false,
    "editable": false,
    "id": "89da5ece"
   },
   "source": [
    "### Обработка аномальных значений"
   ]
  },
  {
   "cell_type": "markdown",
   "id": "b97af36b",
   "metadata": {
    "deletable": false,
    "editable": false,
    "id": "57964554"
   },
   "source": [
    "**Задание 6. В данных могут встречаться артефакты (аномалии) — значения, которые не отражают действительность и появились по какой-то ошибке. таким артефактом будет отрицательное количество дней трудового стажа в столбце `days_employed`. Для реальных данных это нормально. Обработайте значения в этом столбце: замените все отрицательные значения положительными с помощью метода `abs()`.**"
   ]
  },
  {
   "cell_type": "code",
   "execution_count": 220,
   "id": "92043a88",
   "metadata": {
    "deletable": false,
    "id": "f6f055bf"
   },
   "outputs": [],
   "source": [
    "data['days_employed'] = data['days_employed'].abs()"
   ]
  },
  {
   "cell_type": "markdown",
   "id": "9533be0a",
   "metadata": {
    "deletable": false,
    "editable": false,
    "id": "6107dd2f"
   },
   "source": [
    "**Задание 7. Для каждого типа занятости выведите медианное значение трудового стажа `days_employed` в днях.**"
   ]
  },
  {
   "cell_type": "code",
   "execution_count": 221,
   "id": "6eaf7b69",
   "metadata": {
    "deletable": false,
    "id": "85a5faf6",
    "outputId": "801ef80e-522b-4668-f34e-565af7432bcf"
   },
   "outputs": [
    {
     "data": {
      "text/plain": [
       "income_type\n",
       "безработный        366413.652744\n",
       "в декрете            3296.759962\n",
       "госслужащий          2689.368353\n",
       "компаньон            1547.382223\n",
       "пенсионер          365213.306266\n",
       "предприниматель       520.848083\n",
       "сотрудник            1574.202821\n",
       "студент               578.751554\n",
       "Name: days_employed, dtype: float64"
      ]
     },
     "execution_count": 221,
     "metadata": {},
     "output_type": "execute_result"
    }
   ],
   "source": [
    "data.groupby('income_type')['days_employed'].agg('median')"
   ]
  },
  {
   "cell_type": "markdown",
   "id": "65190e60",
   "metadata": {
    "deletable": false,
    "editable": false,
    "id": "38d1a030"
   },
   "source": [
    "У двух типов (безработные и пенсионеры) получатся аномально большие значения. Исправить такие значения сложно, поэтому оставьте их как есть. Тем более этот столбец не понадобится вам для исследования."
   ]
  },
  {
   "cell_type": "markdown",
   "id": "d0396f64",
   "metadata": {
    "deletable": false,
    "editable": false,
    "id": "d8a9f147"
   },
   "source": [
    "**Задание 8. Выведите перечень уникальных значений столбца `children`.**"
   ]
  },
  {
   "cell_type": "code",
   "execution_count": 222,
   "id": "8fc25495",
   "metadata": {
    "deletable": false,
    "id": "ef5056eb",
    "outputId": "6975b15c-7f95-4697-d16d-a0c79b657b03"
   },
   "outputs": [
    {
     "data": {
      "text/plain": [
       "array([ 1,  0,  3,  2, -1,  4, 20,  5])"
      ]
     },
     "execution_count": 222,
     "metadata": {},
     "output_type": "execute_result"
    }
   ],
   "source": [
    "data['children'].unique()"
   ]
  },
  {
   "cell_type": "markdown",
   "id": "02c3cab6",
   "metadata": {
    "deletable": false,
    "editable": false,
    "id": "40b9ebf2"
   },
   "source": [
    "**Задание 9. В столбце `children` есть два аномальных значения. Удалите строки, в которых встречаются такие аномальные значения из датафрейма `data`.**"
   ]
  },
  {
   "cell_type": "code",
   "execution_count": 223,
   "id": "c8e5c97b",
   "metadata": {
    "deletable": false,
    "id": "3ff9801d"
   },
   "outputs": [],
   "source": [
    "data = data[(data['children'] != -1) & (data['children'] != 20)]"
   ]
  },
  {
   "cell_type": "markdown",
   "id": "15981c0b",
   "metadata": {
    "deletable": false,
    "editable": false,
    "id": "bbc4d0ce"
   },
   "source": [
    "**Задание 10. Ещё раз выведите перечень уникальных значений столбца `children`, чтобы убедиться, что артефакты удалены.**"
   ]
  },
  {
   "cell_type": "code",
   "execution_count": 224,
   "id": "a949a32f",
   "metadata": {
    "deletable": false,
    "id": "ad4fa8b7",
    "outputId": "b2097101-d49d-44d9-901b-32a65c9463d1"
   },
   "outputs": [
    {
     "data": {
      "text/plain": [
       "array([1, 0, 3, 2, 4, 5])"
      ]
     },
     "execution_count": 224,
     "metadata": {},
     "output_type": "execute_result"
    }
   ],
   "source": [
    "data['children'].unique()"
   ]
  },
  {
   "cell_type": "markdown",
   "id": "e90582c0",
   "metadata": {
    "deletable": false,
    "editable": false,
    "id": "75440b63"
   },
   "source": [
    "### Удаление пропусков (продолжение)"
   ]
  },
  {
   "cell_type": "markdown",
   "id": "c4809d52",
   "metadata": {
    "deletable": false,
    "editable": false,
    "id": "f4ea573f"
   },
   "source": [
    "**Задание 11. Заполните пропуски в столбце `days_employed` медианными значениями по каждого типа занятости `income_type`.**"
   ]
  },
  {
   "cell_type": "code",
   "execution_count": 225,
   "id": "075de5fd",
   "metadata": {
    "deletable": false,
    "id": "af6b1a7e"
   },
   "outputs": [],
   "source": [
    "for t in data['income_type'].unique():\n",
    "    data.loc[(data['income_type'] == t) & (data['days_employed'].isna()), 'days_employed'] = \\\n",
    "    data.loc[(data['income_type'] == t), 'days_employed'].median()"
   ]
  },
  {
   "cell_type": "markdown",
   "id": "06cf3271",
   "metadata": {
    "deletable": false,
    "editable": false,
    "id": "2753f40d"
   },
   "source": [
    "**Задание 12. Убедитесь, что все пропуски заполнены. Проверьте себя и ещё раз выведите количество пропущенных значений для каждого столбца с помощью двух методов.**"
   ]
  },
  {
   "cell_type": "code",
   "execution_count": 226,
   "id": "f1619a51",
   "metadata": {
    "deletable": false,
    "id": "55f78bc2",
    "outputId": "8da1e4e1-358e-4e87-98c9-f261bce0a7b2"
   },
   "outputs": [
    {
     "data": {
      "text/plain": [
       "children            0\n",
       "days_employed       0\n",
       "dob_years           0\n",
       "education           0\n",
       "education_id        0\n",
       "family_status       0\n",
       "family_status_id    0\n",
       "gender              0\n",
       "income_type         0\n",
       "debt                0\n",
       "total_income        0\n",
       "purpose             0\n",
       "dtype: int64"
      ]
     },
     "execution_count": 226,
     "metadata": {},
     "output_type": "execute_result"
    }
   ],
   "source": [
    "data.isna().sum()"
   ]
  },
  {
   "cell_type": "markdown",
   "id": "fc9cb767",
   "metadata": {
    "deletable": false,
    "editable": false,
    "id": "ddc81e43"
   },
   "source": [
    "### Изменение типов данных"
   ]
  },
  {
   "cell_type": "markdown",
   "id": "6b66e5e2",
   "metadata": {
    "deletable": false,
    "editable": false,
    "id": "42d19d24"
   },
   "source": [
    "**Задание 13. Замените вещественный тип данных в столбце `total_income` на целочисленный с помощью метода `astype()`.**"
   ]
  },
  {
   "cell_type": "code",
   "execution_count": 227,
   "id": "c3c5534f",
   "metadata": {
    "deletable": false,
    "id": "920b65ad"
   },
   "outputs": [],
   "source": [
    "data['total_income'] = data['total_income'].astype(int)"
   ]
  },
  {
   "cell_type": "markdown",
   "id": "a2f370c1",
   "metadata": {
    "deletable": false,
    "editable": false,
    "id": "80c420ba"
   },
   "source": [
    "### Обработка дубликатов"
   ]
  },
  {
   "cell_type": "markdown",
   "id": "282e2cce",
   "metadata": {
    "deletable": false,
    "editable": false
   },
   "source": [
    "**Задание 14. Обработайте неявные дубликаты в столбце `education`. В этом столбце есть одни и те же значения, но записанные по-разному: с использованием заглавных и строчных букв. Приведите их к нижнему регистру. Проверьте остальные столбцы.**"
   ]
  },
  {
   "cell_type": "code",
   "execution_count": 228,
   "id": "64273946",
   "metadata": {
    "deletable": false
   },
   "outputs": [],
   "source": [
    "data['education'] = data['education'].str.lower()"
   ]
  },
  {
   "cell_type": "markdown",
   "id": "aaecabb6",
   "metadata": {
    "deletable": false,
    "editable": false,
    "id": "dc587695"
   },
   "source": [
    "**Задание 15. Выведите на экран количество строк-дубликатов в данных. Если такие строки присутствуют, удалите их.**"
   ]
  },
  {
   "cell_type": "code",
   "execution_count": 229,
   "id": "b7aee8a2",
   "metadata": {
    "deletable": false,
    "id": "3ee445e4",
    "outputId": "9684deba-1934-42d1-99e1-cda61740f822"
   },
   "outputs": [
    {
     "data": {
      "text/plain": [
       "71"
      ]
     },
     "execution_count": 229,
     "metadata": {},
     "output_type": "execute_result"
    }
   ],
   "source": [
    "data.duplicated().sum()"
   ]
  },
  {
   "cell_type": "code",
   "execution_count": 230,
   "id": "f6434942",
   "metadata": {
    "deletable": false,
    "id": "8575fe05"
   },
   "outputs": [],
   "source": [
    "data = data.drop_duplicates()"
   ]
  },
  {
   "cell_type": "markdown",
   "id": "d2564d20",
   "metadata": {
    "deletable": false,
    "editable": false,
    "id": "9904cf55"
   },
   "source": [
    "### Категоризация данных"
   ]
  },
  {
   "cell_type": "markdown",
   "id": "b514af20",
   "metadata": {
    "deletable": false,
    "editable": false,
    "id": "72fcc8a2"
   },
   "source": [
    "**Задание 16. На основании диапазонов, указанных ниже, создайте в датафрейме `data` столбец `total_income_category` с категориями:**\n",
    "\n",
    "- 0–30000 — `'E'`;\n",
    "- 30001–50000 — `'D'`;\n",
    "- 50001–200000 — `'C'`;\n",
    "- 200001–1000000 — `'B'`;\n",
    "- 1000001 и выше — `'A'`.\n",
    "\n",
    "\n",
    "**Например, кредитополучателю с доходом 25000 нужно назначить категорию `'E'`, а клиенту, получающему 235000, — `'B'`. Используйте собственную функцию с именем `categorize_income()` и метод `apply()`.**"
   ]
  },
  {
   "cell_type": "code",
   "execution_count": 231,
   "id": "cb0075e1",
   "metadata": {
    "deletable": false,
    "id": "e1771346"
   },
   "outputs": [],
   "source": [
    "def categorize_income(income):\n",
    "    try:\n",
    "        if 0 <= income <= 30000:\n",
    "            return 'E'\n",
    "        elif 30001 <= income <= 50000:\n",
    "            return 'D'\n",
    "        elif 50001 <= income <= 200000:\n",
    "            return 'C'\n",
    "        elif 200001 <= income <= 1000000:\n",
    "            return 'B'\n",
    "        elif income >= 1000001:\n",
    "            return 'A'\n",
    "    except:\n",
    "        pass"
   ]
  },
  {
   "cell_type": "code",
   "execution_count": 232,
   "id": "eb43d6ca",
   "metadata": {
    "deletable": false,
    "id": "d5f3586d"
   },
   "outputs": [],
   "source": [
    "data['total_income_category'] = data['total_income'].apply(categorize_income)"
   ]
  },
  {
   "cell_type": "markdown",
   "id": "afd5b48c",
   "metadata": {
    "deletable": false,
    "editable": false,
    "id": "dde49b5c"
   },
   "source": [
    "**Задание 17. Выведите на экран перечень уникальных целей взятия кредита из столбца `purpose`.**"
   ]
  },
  {
   "cell_type": "code",
   "execution_count": 233,
   "id": "6c1b2f7a",
   "metadata": {
    "deletable": false,
    "id": "f67ce9b3",
    "outputId": "673c12d9-7d7e-4ae0-9812-c622c89dd244"
   },
   "outputs": [
    {
     "data": {
      "text/plain": [
       "array(['покупка жилья', 'приобретение автомобиля',\n",
       "       'дополнительное образование', 'сыграть свадьбу',\n",
       "       'операции с жильем', 'образование', 'на проведение свадьбы',\n",
       "       'покупка жилья для семьи', 'покупка недвижимости',\n",
       "       'покупка коммерческой недвижимости', 'покупка жилой недвижимости',\n",
       "       'строительство собственной недвижимости', 'недвижимость',\n",
       "       'строительство недвижимости', 'на покупку подержанного автомобиля',\n",
       "       'на покупку своего автомобиля',\n",
       "       'операции с коммерческой недвижимостью',\n",
       "       'строительство жилой недвижимости', 'жилье',\n",
       "       'операции со своей недвижимостью', 'автомобили',\n",
       "       'заняться образованием', 'сделка с подержанным автомобилем',\n",
       "       'получение образования', 'автомобиль', 'свадьба',\n",
       "       'получение дополнительного образования', 'покупка своего жилья',\n",
       "       'операции с недвижимостью', 'получение высшего образования',\n",
       "       'свой автомобиль', 'сделка с автомобилем',\n",
       "       'профильное образование', 'высшее образование',\n",
       "       'покупка жилья для сдачи', 'на покупку автомобиля', 'ремонт жилью',\n",
       "       'заняться высшим образованием'], dtype=object)"
      ]
     },
     "execution_count": 233,
     "metadata": {},
     "output_type": "execute_result"
    }
   ],
   "source": [
    "data['purpose'].unique()"
   ]
  },
  {
   "cell_type": "markdown",
   "id": "8cb8e836",
   "metadata": {
    "deletable": false,
    "editable": false,
    "id": "85d0aef0"
   },
   "source": [
    "**Задание 18. Создайте функцию, которая на основании данных из столбца `purpose` сформирует новый столбец `purpose_category`, в который войдут следующие категории:**\n",
    "\n",
    "- `'операции с автомобилем'`,\n",
    "- `'операции с недвижимостью'`,\n",
    "- `'проведение свадьбы'`,\n",
    "- `'получение образования'`.\n",
    "\n",
    "**Например, если в столбце `purpose` находится подстрока `'на покупку автомобиля'`, то в столбце `purpose_category` должна появиться строка `'операции с автомобилем'`.**\n",
    "\n",
    "**Используйте собственную функцию с именем `categorize_purpose()` и метод `apply()`. Изучите данные в столбце `purpose` и определите, какие подстроки помогут вам правильно определить категорию.**"
   ]
  },
  {
   "cell_type": "code",
   "execution_count": 234,
   "id": "3cde8144",
   "metadata": {
    "deletable": false,
    "id": "e149fab4"
   },
   "outputs": [],
   "source": [
    "def categorize_purpose(row):\n",
    "    try:\n",
    "        if 'автом' in row:\n",
    "            return 'операции с автомобилем'\n",
    "        elif 'жил' in row or 'недвиж' in row:\n",
    "            return 'операции с недвижимостью'\n",
    "        elif 'свад' in row:\n",
    "            return 'проведение свадьбы'\n",
    "        elif 'образов' in row:\n",
    "            return 'получение образования'\n",
    "    except:\n",
    "        return 'нет категории'"
   ]
  },
  {
   "cell_type": "code",
   "execution_count": 235,
   "id": "e28dadb7",
   "metadata": {
    "deletable": false,
    "id": "bf36e69b"
   },
   "outputs": [],
   "source": [
    "data['purpose_category'] = data['purpose'].apply(categorize_purpose)"
   ]
  },
  {
   "cell_type": "markdown",
   "id": "235b09bc",
   "metadata": {},
   "source": [
    "<div class=\"alert alert-success\">\n",
    "<h2> Комментарий ревьюера <a class=\"tocSkip\"> </h2>\n",
    "\n",
    "<b>Отлично!✅:</b> Галя, молодец, отлично выполнила предобработку!\n",
    "</div>"
   ]
  },
  {
   "cell_type": "markdown",
   "id": "5bb4d7bd",
   "metadata": {
    "deletable": false,
    "editable": false,
    "id": "09b242bf"
   },
   "source": [
    "### Шаг 3. Исследуйте данные и ответьте на вопросы"
   ]
  },
  {
   "cell_type": "markdown",
   "id": "a22b9bff",
   "metadata": {
    "deletable": false,
    "editable": false,
    "id": "c5d66278"
   },
   "source": [
    "#### 3.1 Есть ли зависимость между количеством детей и возвратом кредита в срок?"
   ]
  },
  {
   "cell_type": "markdown",
   "id": "7d01beeb",
   "metadata": {
    "deletable": false,
    "id": "2cacfc4a"
   },
   "source": [
    "**Для наглядного отражения зависимостей будем строить графики, импортируем библиотеки matplotlib и numpy.**"
   ]
  },
  {
   "cell_type": "code",
   "execution_count": 236,
   "id": "34c1ac3b",
   "metadata": {},
   "outputs": [],
   "source": [
    "import matplotlib.pyplot as plt\n",
    "import numpy as np"
   ]
  },
  {
   "cell_type": "markdown",
   "id": "f18a5b0b",
   "metadata": {},
   "source": [
    "**Составим сводную таблицу: количество детей, всего кредитополучателей, всего должников, доля должников. Сгруппируем данные по количеству детей и рассчитаем среднее значение в графе debt, чтобы получить среднее значение наличия задолженностей по кредитам. Чем ближе к 1, тем больше задолженностей у клиентов с соответвующим количеством детей.**"
   ]
  },
  {
   "cell_type": "code",
   "execution_count": 237,
   "id": "eb159d4f",
   "metadata": {},
   "outputs": [
    {
     "data": {
      "text/html": [
       "<div>\n",
       "<style scoped>\n",
       "    .dataframe tbody tr th:only-of-type {\n",
       "        vertical-align: middle;\n",
       "    }\n",
       "\n",
       "    .dataframe tbody tr th {\n",
       "        vertical-align: top;\n",
       "    }\n",
       "\n",
       "    .dataframe thead th {\n",
       "        text-align: right;\n",
       "    }\n",
       "</style>\n",
       "<table border=\"1\" class=\"dataframe\">\n",
       "  <thead>\n",
       "    <tr style=\"text-align: right;\">\n",
       "      <th></th>\n",
       "      <th>Всего кредитополучателей</th>\n",
       "      <th>Всего должников</th>\n",
       "      <th>Доля должников</th>\n",
       "    </tr>\n",
       "    <tr>\n",
       "      <th>children</th>\n",
       "      <th></th>\n",
       "      <th></th>\n",
       "      <th></th>\n",
       "    </tr>\n",
       "  </thead>\n",
       "  <tbody>\n",
       "    <tr>\n",
       "      <th>0</th>\n",
       "      <td>14091</td>\n",
       "      <td>1063</td>\n",
       "      <td>7.54</td>\n",
       "    </tr>\n",
       "    <tr>\n",
       "      <th>1</th>\n",
       "      <td>4808</td>\n",
       "      <td>444</td>\n",
       "      <td>9.23</td>\n",
       "    </tr>\n",
       "    <tr>\n",
       "      <th>2</th>\n",
       "      <td>2052</td>\n",
       "      <td>194</td>\n",
       "      <td>9.45</td>\n",
       "    </tr>\n",
       "    <tr>\n",
       "      <th>3</th>\n",
       "      <td>330</td>\n",
       "      <td>27</td>\n",
       "      <td>8.18</td>\n",
       "    </tr>\n",
       "    <tr>\n",
       "      <th>4</th>\n",
       "      <td>41</td>\n",
       "      <td>4</td>\n",
       "      <td>9.76</td>\n",
       "    </tr>\n",
       "    <tr>\n",
       "      <th>5</th>\n",
       "      <td>9</td>\n",
       "      <td>0</td>\n",
       "      <td>0.00</td>\n",
       "    </tr>\n",
       "  </tbody>\n",
       "</table>\n",
       "</div>"
      ],
      "text/plain": [
       "          Всего кредитополучателей  Всего должников  Доля должников\n",
       "children                                                           \n",
       "0                            14091             1063            7.54\n",
       "1                             4808              444            9.23\n",
       "2                             2052              194            9.45\n",
       "3                              330               27            8.18\n",
       "4                               41                4            9.76\n",
       "5                                9                0            0.00"
      ]
     },
     "execution_count": 237,
     "metadata": {},
     "output_type": "execute_result"
    }
   ],
   "source": [
    "children_depend = pd.DataFrame()\n",
    "children_depend['Всего кредитополучателей'] = data.groupby('children')['debt'].count()\n",
    "children_depend['Всего должников'] = data.groupby('children')['debt'].sum()\n",
    "children_depend['Доля должников'] = data.groupby('children')['debt'].mean()\n",
    "children_depend['Доля должников'] = children_depend['Доля должников'].apply(lambda x: round(x * 100, 2)) # приведем полученные данные к процентным значениям\n",
    "children_depend"
   ]
  },
  {
   "cell_type": "markdown",
   "id": "6c2fe8d0",
   "metadata": {},
   "source": [
    "Для наглядности построим график:"
   ]
  },
  {
   "cell_type": "code",
   "execution_count": 238,
   "id": "961707ac",
   "metadata": {
    "scrolled": true
   },
   "outputs": [
    {
     "data": {
      "text/plain": [
       "[<matplotlib.lines.Line2D at 0x7f7bdd421670>]"
      ]
     },
     "execution_count": 238,
     "metadata": {},
     "output_type": "execute_result"
    },
    {
     "data": {
      "image/png": "[encoded data removed]",
      "text/plain": [
       "<Figure size 432x288 with 1 Axes>"
      ]
     },
     "metadata": {
      "needs_background": "light"
     },
     "output_type": "display_data"
    }
   ],
   "source": [
    "plt.title('Зависимость между количеством детей и возвратом кредита в срок')\n",
    "plt.xlabel('количество детей')\n",
    "plt.ylabel('доля должников')\n",
    "plt.plot(children_depend['Доля должников'])"
   ]
  },
  {
   "cell_type": "markdown",
   "id": "66737870",
   "metadata": {},
   "source": [
    "<div class=\"alert alert-success\">\n",
    "<h2> Комментарий ревьюера <a class=\"tocSkip\"> </h2>\n",
    "\n",
    "<b>Отлично!✅:</b> Здорово, что наполнила проект визуализациями!\n",
    "\n",
    "</div>"
   ]
  },
  {
   "cell_type": "markdown",
   "id": "212f643a",
   "metadata": {},
   "source": [
    "<div class=\"alert alert-warning\">\n",
    "    <h2> Комментарий ревьюера <a class=\"tocSkip\"> </h2>\n",
    "    \n",
    "<b>Можно лучше⚠️:</b> Рекомендую у графиков подписывать название и оси. Это помогает заказчику лучше ориентироваться в результатах, а также показывает, в каких измерениях представлены данные. Пожалуйста, подправь оформление графиков во всем проекте. Данный источник тебе в этом поможет: https://python-graph-gallery.com/4-add-title-and-axis-label/\n",
    "</div> \n",
    "    "
   ]
  },
  {
   "cell_type": "markdown",
   "id": "134fdcda",
   "metadata": {},
   "source": [
    "<br/>\n",
    "<div class=\"alert alert-block alert-danger\">\n",
    "<h2> Комментарий ревьюера <a class=\"tocSkip\"></h2>\n",
    "\n",
    "    \n",
    "<b>Необходимо исправить❌:</b>\n",
    " Будет лучше если представишь данные в одной сводной таблице: категория/всего кредитополучателей/всего должников/доля должников. Так даже анализировать будет легче:)\n",
    "</div>"
   ]
  },
  {
   "cell_type": "markdown",
   "id": "89f83d62",
   "metadata": {},
   "source": [
    "<div class=\"alert alert-success\">\n",
    "<h2> Комментарий ревьюера v2<a class=\"tocSkip\"> </h2>\n",
    "\n",
    "<b>Отлично!✅:</b> Умничка, и табличку и график отлично дополнила!\n",
    "</div>"
   ]
  },
  {
   "cell_type": "markdown",
   "id": "d779d7b7",
   "metadata": {
    "deletable": false,
    "id": "3a6b99ec"
   },
   "source": [
    "**Вывод: \n",
    "наличие задолженностей по кредитам среди клиентов без детей и клиентов, у которых до четырех детей, незначительно варьируется — от 7,5% до 9,8%. Среди самых многочисленных категорий клиентов — без детей, с 1 и 2 детьми — с ростом количества детей наблюдается рост доли просрочек. Задолженностей у клиентов с 5 детьми нет, но таких клиентов у банка всего 9. Также по графику видно, что клиенты, у которых трое детей, реже имеют задолженности по кредиту, чем семьи с двумя детьми. Наибольшее количество должников среди клиентов, у которых четверо детей. Таким образом прямой завимости между количеством детей и возвратом кредита в срок не прослеживается.** "
   ]
  },
  {
   "cell_type": "markdown",
   "id": "87a3bd21",
   "metadata": {},
   "source": [
    "<div class=\"alert alert-warning\">\n",
    "    <h2> Комментарий ревьюера <a class=\"tocSkip\"> </h2>\n",
    "    \n",
    "<b>Можно лучше⚠️:</b> Ты правильно обратила внимание на то, что выборки несбалансированны и сложно сделать общий вывод. Поэтому лучше, для выявления зависимости, сравнить самые многочисленные категории - семьи с 0, 1 и 2 детьми. У тебя не хватает общего вывода, если мы все обобщим то, что наблюдаем с ростом количества детей в семьях?\n",
    "</div>"
   ]
  },
  {
   "cell_type": "markdown",
   "id": "ca625b6b",
   "metadata": {
    "deletable": false,
    "editable": false,
    "id": "97be82ca"
   },
   "source": [
    "#### 3.2 Есть ли зависимость между семейным положением и возвратом кредита в срок?"
   ]
  },
  {
   "cell_type": "markdown",
   "id": "de901656",
   "metadata": {},
   "source": [
    "**В данных, предоставленных банком, уже имеется категоризация клиентов по семейному положению. Чтобы проанализировать наличие зависимости между семейным положением и возвратом кредита в срок, сгруппируем данные по категории семейного положения и рассчитаем среднее значение в графе debt:**"
   ]
  },
  {
   "cell_type": "code",
   "execution_count": 239,
   "id": "a0354716",
   "metadata": {},
   "outputs": [
    {
     "data": {
      "text/html": [
       "<div>\n",
       "<style scoped>\n",
       "    .dataframe tbody tr th:only-of-type {\n",
       "        vertical-align: middle;\n",
       "    }\n",
       "\n",
       "    .dataframe tbody tr th {\n",
       "        vertical-align: top;\n",
       "    }\n",
       "\n",
       "    .dataframe thead th {\n",
       "        text-align: right;\n",
       "    }\n",
       "</style>\n",
       "<table border=\"1\" class=\"dataframe\">\n",
       "  <thead>\n",
       "    <tr style=\"text-align: right;\">\n",
       "      <th></th>\n",
       "      <th>Категория</th>\n",
       "      <th>Всего кредитополучателей</th>\n",
       "      <th>Всего должников</th>\n",
       "      <th>Доля должников</th>\n",
       "    </tr>\n",
       "    <tr>\n",
       "      <th>family_status_id</th>\n",
       "      <th></th>\n",
       "      <th></th>\n",
       "      <th></th>\n",
       "      <th></th>\n",
       "    </tr>\n",
       "  </thead>\n",
       "  <tbody>\n",
       "    <tr>\n",
       "      <th>0</th>\n",
       "      <td>[женат / замужем]</td>\n",
       "      <td>12261</td>\n",
       "      <td>927</td>\n",
       "      <td>7.56</td>\n",
       "    </tr>\n",
       "    <tr>\n",
       "      <th>1</th>\n",
       "      <td>[гражданский брак]</td>\n",
       "      <td>4134</td>\n",
       "      <td>385</td>\n",
       "      <td>9.31</td>\n",
       "    </tr>\n",
       "    <tr>\n",
       "      <th>2</th>\n",
       "      <td>[вдовец / вдова]</td>\n",
       "      <td>951</td>\n",
       "      <td>63</td>\n",
       "      <td>6.62</td>\n",
       "    </tr>\n",
       "    <tr>\n",
       "      <th>3</th>\n",
       "      <td>[в разводе]</td>\n",
       "      <td>1189</td>\n",
       "      <td>84</td>\n",
       "      <td>7.06</td>\n",
       "    </tr>\n",
       "    <tr>\n",
       "      <th>4</th>\n",
       "      <td>[Не женат / не замужем]</td>\n",
       "      <td>2796</td>\n",
       "      <td>273</td>\n",
       "      <td>9.76</td>\n",
       "    </tr>\n",
       "  </tbody>\n",
       "</table>\n",
       "</div>"
      ],
      "text/plain": [
       "                                Категория  Всего кредитополучателей  \\\n",
       "family_status_id                                                      \n",
       "0                       [женат / замужем]                     12261   \n",
       "1                      [гражданский брак]                      4134   \n",
       "2                        [вдовец / вдова]                       951   \n",
       "3                             [в разводе]                      1189   \n",
       "4                 [Не женат / не замужем]                      2796   \n",
       "\n",
       "                  Всего должников  Доля должников  \n",
       "family_status_id                                   \n",
       "0                             927            7.56  \n",
       "1                             385            9.31  \n",
       "2                              63            6.62  \n",
       "3                              84            7.06  \n",
       "4                             273            9.76  "
      ]
     },
     "execution_count": 239,
     "metadata": {},
     "output_type": "execute_result"
    }
   ],
   "source": [
    "family_stat_depend = pd.DataFrame()\n",
    "family_stat_depend['Категория'] = data.groupby('family_status_id')['family_status'].unique()\n",
    "family_stat_depend['Всего кредитополучателей'] = data.groupby('family_status_id')['debt'].count()\n",
    "family_stat_depend['Всего должников'] = data.groupby('family_status_id')['debt'].sum()\n",
    "family_stat_depend['Доля должников'] = data.groupby('family_status_id')['debt'].mean()\n",
    "family_stat_depend['Доля должников'] = family_stat_depend['Доля должников'].apply(lambda x: round(x * 100, 2)) # приведем полученные данные к процентным значениям\n",
    "family_stat_depend"
   ]
  },
  {
   "cell_type": "markdown",
   "id": "c4924280",
   "metadata": {},
   "source": [
    "<br/>\n",
    "<div class=\"alert alert-block alert-danger\">\n",
    "<h2> Комментарий ревьюера <a class=\"tocSkip\"></h2>\n",
    "\n",
    "    \n",
    "<b>Необходимо исправить❌:</b>\n",
    " Галя, также, как и выше, необходимо объеденить данные в общую сводную таблицу. Откорректируй, пожалуйста, данный недочет во всей работе.\n",
    "</div>"
   ]
  },
  {
   "cell_type": "markdown",
   "id": "e9552f17",
   "metadata": {},
   "source": [
    "<div class=\"alert alert-success\">\n",
    "<h2> Комментарий ревьюера v2<a class=\"tocSkip\"> </h2>\n",
    "\n",
    "<b>Отлично!✅:</b> Принято!\n",
    "</div>"
   ]
  },
  {
   "cell_type": "markdown",
   "id": "d24f887c",
   "metadata": {},
   "source": [
    "Построим график: "
   ]
  },
  {
   "cell_type": "code",
   "execution_count": 240,
   "id": "2b1a0da3",
   "metadata": {
    "deletable": false,
    "id": "dc3f7ee8"
   },
   "outputs": [
    {
     "data": {
      "text/plain": [
       "[<matplotlib.lines.Line2D at 0x7f7bdd3a2760>]"
      ]
     },
     "execution_count": 240,
     "metadata": {},
     "output_type": "execute_result"
    },
    {
     "data": {
      "image/png": "[encoded data removed]",
      "text/plain": [
       "<Figure size 432x288 with 1 Axes>"
      ]
     },
     "metadata": {
      "needs_background": "light"
     },
     "output_type": "display_data"
    }
   ],
   "source": [
    "plt.title('Зависимость между семейным положением и возвратом кредита в срок')\n",
    "plt.xlabel('категория')\n",
    "plt.ylabel('доля должников')\n",
    "plt.xticks(np.arange(0, 5, step=1)) # изменим шаг на оси x \n",
    "plt.plot(family_stat_depend['Доля должников'])"
   ]
  },
  {
   "cell_type": "markdown",
   "id": "834bd932",
   "metadata": {
    "deletable": false,
    "id": "1cef7837"
   },
   "source": [
    "**Вывод: на графике сразу заметны выдающиеся значения — наибольшее число должников среди неженатых/незамужних клиентов и клиентов, живущих гражданским браком; меньше — среди женатых/замужних, разведенных и наименьшее количество среди вдовцов/вдов. Таким образом семейное положение влияет на возврат кредита в срок.**\n",
    "\n"
   ]
  },
  {
   "cell_type": "markdown",
   "id": "496c138c",
   "metadata": {},
   "source": [
    "<div class=\"alert alert-success\">\n",
    "<h2> Комментарий ревьюера <a class=\"tocSkip\"> </h2>\n",
    "\n",
    "<b>Отлично!✅:</b> Можем сказать, что заемщики состоящие или состоявшие в браке реже допускают просрочку!\n",
    "\n",
    "</div>"
   ]
  },
  {
   "cell_type": "markdown",
   "id": "41f31775",
   "metadata": {
    "deletable": false,
    "editable": false,
    "id": "1e8b2fca"
   },
   "source": [
    "#### 3.3 Есть ли зависимость между уровнем дохода и возвратом кредита в срок?"
   ]
  },
  {
   "cell_type": "markdown",
   "id": "ca4a04a0",
   "metadata": {},
   "source": [
    "**Ранее мы категоризировали клиентов банка в зависимости от их дохода следующим образом:**"
   ]
  },
  {
   "cell_type": "markdown",
   "id": "0c305038",
   "metadata": {},
   "source": [
    "- 1000001 и выше — 'A';\n",
    "- 200001–1000000 — 'B';\n",
    "- 50001–200000 — 'C';\n",
    "- 30001–50000 — 'D';\n",
    "- 0–30000 — 'E'."
   ]
  },
  {
   "cell_type": "markdown",
   "id": "7b59f23d",
   "metadata": {},
   "source": [
    "**Составим сводную таблицу: категория, всего кредитополучателей, всего должников, доля должников. Сгруппируем данные столбца total_income_category и посчитаем среднее значение в столбце debt:**"
   ]
  },
  {
   "cell_type": "code",
   "execution_count": 241,
   "id": "48878b6d",
   "metadata": {
    "deletable": false,
    "id": "cd7e3720",
    "scrolled": true
   },
   "outputs": [
    {
     "data": {
      "text/html": [
       "<div>\n",
       "<style scoped>\n",
       "    .dataframe tbody tr th:only-of-type {\n",
       "        vertical-align: middle;\n",
       "    }\n",
       "\n",
       "    .dataframe tbody tr th {\n",
       "        vertical-align: top;\n",
       "    }\n",
       "\n",
       "    .dataframe thead th {\n",
       "        text-align: right;\n",
       "    }\n",
       "</style>\n",
       "<table border=\"1\" class=\"dataframe\">\n",
       "  <thead>\n",
       "    <tr style=\"text-align: right;\">\n",
       "      <th></th>\n",
       "      <th>Всего кредитополучателей</th>\n",
       "      <th>Всего должников</th>\n",
       "      <th>Доля должников</th>\n",
       "    </tr>\n",
       "    <tr>\n",
       "      <th>total_income_category</th>\n",
       "      <th></th>\n",
       "      <th></th>\n",
       "      <th></th>\n",
       "    </tr>\n",
       "  </thead>\n",
       "  <tbody>\n",
       "    <tr>\n",
       "      <th>A</th>\n",
       "      <td>25</td>\n",
       "      <td>2</td>\n",
       "      <td>8.00</td>\n",
       "    </tr>\n",
       "    <tr>\n",
       "      <th>B</th>\n",
       "      <td>5014</td>\n",
       "      <td>354</td>\n",
       "      <td>7.06</td>\n",
       "    </tr>\n",
       "    <tr>\n",
       "      <th>C</th>\n",
       "      <td>15921</td>\n",
       "      <td>1353</td>\n",
       "      <td>8.50</td>\n",
       "    </tr>\n",
       "    <tr>\n",
       "      <th>D</th>\n",
       "      <td>349</td>\n",
       "      <td>21</td>\n",
       "      <td>6.02</td>\n",
       "    </tr>\n",
       "    <tr>\n",
       "      <th>E</th>\n",
       "      <td>22</td>\n",
       "      <td>2</td>\n",
       "      <td>9.09</td>\n",
       "    </tr>\n",
       "  </tbody>\n",
       "</table>\n",
       "</div>"
      ],
      "text/plain": [
       "                       Всего кредитополучателей  Всего должников  \\\n",
       "total_income_category                                              \n",
       "A                                            25                2   \n",
       "B                                          5014              354   \n",
       "C                                         15921             1353   \n",
       "D                                           349               21   \n",
       "E                                            22                2   \n",
       "\n",
       "                       Доля должников  \n",
       "total_income_category                  \n",
       "A                                8.00  \n",
       "B                                7.06  \n",
       "C                                8.50  \n",
       "D                                6.02  \n",
       "E                                9.09  "
      ]
     },
     "execution_count": 241,
     "metadata": {},
     "output_type": "execute_result"
    }
   ],
   "source": [
    "income_depend = pd.DataFrame()\n",
    "income_depend['Всего кредитополучателей'] = data.groupby('total_income_category')['debt'].count()\n",
    "income_depend['Всего должников'] = data.groupby('total_income_category')['debt'].sum()\n",
    "income_depend['Доля должников'] = data.groupby('total_income_category')['debt'].mean()\n",
    "income_depend['Доля должников'] = income_depend['Доля должников'].apply(lambda x: round(x * 100, 2)) # приведем полученные данные к процентным значениям\n",
    "income_depend\n"
   ]
  },
  {
   "cell_type": "markdown",
   "id": "b8015596",
   "metadata": {},
   "source": [
    "Построим график:"
   ]
  },
  {
   "cell_type": "code",
   "execution_count": 242,
   "id": "d2540ca7",
   "metadata": {},
   "outputs": [
    {
     "data": {
      "text/plain": [
       "<AxesSubplot:title={'center':'Зависимость между уровнем дохода и возвратом кредита в срок'}, xlabel='total_income_category', ylabel='доля должников'>"
      ]
     },
     "execution_count": 242,
     "metadata": {},
     "output_type": "execute_result"
    },
    {
     "data": {
      "image/png": "[encoded data removed]",
      "text/plain": [
       "<Figure size 432x288 with 1 Axes>"
      ]
     },
     "metadata": {
      "needs_background": "light"
     },
     "output_type": "display_data"
    }
   ],
   "source": [
    "plt.title('Зависимость между уровнем дохода и возвратом кредита в срок')\n",
    "plt.xlabel('категория')\n",
    "plt.ylabel('доля должников')\n",
    "income_depend['Доля должников'].plot.bar()"
   ]
  },
  {
   "cell_type": "markdown",
   "id": "ba6c3959",
   "metadata": {
    "deletable": false,
    "id": "e8593def"
   },
   "source": [
    "**Вывод: \n",
    "из таблицы видно, что категории кредитополучателей А и Е немногочисленные: клиентов в этих категориях 25 и 22 соответственно. К категории D относится всего 349 клиентов. Сравнивая самые многочисленные категории — В (доход от 200 тысяч до 1 миллиона) и С (доход от 50 до 200 тысяч), наблюдаем: среди клиентов категории В — с более высоким уровнем доходов — доля должников меньше, чем в категории С.** "
   ]
  },
  {
   "cell_type": "markdown",
   "id": "ca6a605d",
   "metadata": {},
   "source": [
    "<div class=\"alert alert-warning\">\n",
    "    <h2> Комментарий ревьюера <a class=\"tocSkip\"> </h2>\n",
    "    \n",
    "<b>Можно лучше⚠️:</b> Да ты что:))) Стоит обратить внимание на несбалансированность выборок. Сравни, пожалуйста, две самые многочисленные выборки B и C для выявления зависимости.\n",
    "</div>"
   ]
  },
  {
   "cell_type": "markdown",
   "id": "0993817c",
   "metadata": {},
   "source": [
    "<div class=\"alert alert-success\">\n",
    "<h2> Комментарий ревьюера v2<a class=\"tocSkip\"> </h2>\n",
    "\n",
    "<b>Отлично!✅:</b> Таким образом, чем выше доход, тем надежнее заемщик!\n",
    "</div>"
   ]
  },
  {
   "cell_type": "markdown",
   "id": "c2afe431",
   "metadata": {
    "deletable": false,
    "editable": false,
    "id": "99ecbd1f"
   },
   "source": [
    "#### 3.4 Как разные цели кредита влияют на его возврат в срок?"
   ]
  },
  {
   "cell_type": "code",
   "execution_count": 245,
   "id": "f4dfe653",
   "metadata": {
    "deletable": false,
    "id": "2b687290"
   },
   "outputs": [
    {
     "data": {
      "text/html": [
       "<div>\n",
       "<style scoped>\n",
       "    .dataframe tbody tr th:only-of-type {\n",
       "        vertical-align: middle;\n",
       "    }\n",
       "\n",
       "    .dataframe tbody tr th {\n",
       "        vertical-align: top;\n",
       "    }\n",
       "\n",
       "    .dataframe thead th {\n",
       "        text-align: right;\n",
       "    }\n",
       "</style>\n",
       "<table border=\"1\" class=\"dataframe\">\n",
       "  <thead>\n",
       "    <tr style=\"text-align: right;\">\n",
       "      <th></th>\n",
       "      <th>Всего кредитополучателей</th>\n",
       "      <th>Всего должников</th>\n",
       "      <th>Доля должников</th>\n",
       "    </tr>\n",
       "    <tr>\n",
       "      <th>purpose_category</th>\n",
       "      <th></th>\n",
       "      <th></th>\n",
       "      <th></th>\n",
       "    </tr>\n",
       "  </thead>\n",
       "  <tbody>\n",
       "    <tr>\n",
       "      <th>операции с автомобилем</th>\n",
       "      <td>4279</td>\n",
       "      <td>400</td>\n",
       "      <td>9.35</td>\n",
       "    </tr>\n",
       "    <tr>\n",
       "      <th>операции с недвижимостью</th>\n",
       "      <td>10751</td>\n",
       "      <td>780</td>\n",
       "      <td>7.26</td>\n",
       "    </tr>\n",
       "    <tr>\n",
       "      <th>получение образования</th>\n",
       "      <td>3988</td>\n",
       "      <td>369</td>\n",
       "      <td>9.25</td>\n",
       "    </tr>\n",
       "    <tr>\n",
       "      <th>проведение свадьбы</th>\n",
       "      <td>2313</td>\n",
       "      <td>183</td>\n",
       "      <td>7.91</td>\n",
       "    </tr>\n",
       "  </tbody>\n",
       "</table>\n",
       "</div>"
      ],
      "text/plain": [
       "                          Всего кредитополучателей  Всего должников  \\\n",
       "purpose_category                                                      \n",
       "операции с автомобилем                        4279              400   \n",
       "операции с недвижимостью                     10751              780   \n",
       "получение образования                         3988              369   \n",
       "проведение свадьбы                            2313              183   \n",
       "\n",
       "                          Доля должников  \n",
       "purpose_category                          \n",
       "операции с автомобилем              9.35  \n",
       "операции с недвижимостью            7.26  \n",
       "получение образования               9.25  \n",
       "проведение свадьбы                  7.91  "
      ]
     },
     "execution_count": 245,
     "metadata": {},
     "output_type": "execute_result"
    }
   ],
   "source": [
    "purpose_depend = pd.DataFrame()\n",
    "purpose_depend['Всего кредитополучателей'] = data.groupby('purpose_category')['debt'].count()\n",
    "purpose_depend['Всего должников'] = data.groupby('purpose_category')['debt'].sum()\n",
    "purpose_depend['Доля должников'] = data.groupby('purpose_category')['debt'].mean()\n",
    "purpose_depend['Доля должников'] = purpose_depend['Доля должников'].apply(lambda x: round(x * 100, 2)) # приведем полученные данные к процентным значениям\n",
    "purpose_depend"
   ]
  },
  {
   "cell_type": "code",
   "execution_count": 244,
   "id": "186bfd2f",
   "metadata": {},
   "outputs": [
    {
     "data": {
      "text/plain": [
       "<AxesSubplot:title={'center':'Влияние цели кредита на его возврат в срок'}, xlabel='purpose_category', ylabel='доля должников'>"
      ]
     },
     "execution_count": 244,
     "metadata": {},
     "output_type": "execute_result"
    },
    {
     "data": {
      "image/png": "[encoded data removed]",
      "text/plain": [
       "<Figure size 432x288 with 1 Axes>"
      ]
     },
     "metadata": {
      "needs_background": "light"
     },
     "output_type": "display_data"
    }
   ],
   "source": [
    "plt.title('Влияние цели кредита на его возврат в срок')\n",
    "plt.ylabel('доля должников')\n",
    "purpose_depend['Доля должников'].plot.bar()"
   ]
  },
  {
   "cell_type": "markdown",
   "id": "2a715647",
   "metadata": {
    "deletable": false,
    "id": "b4bb2ce6"
   },
   "source": [
    "**Вывод: наибольшее число задолженностей по кредитам на операции с автомобилем, примерно такое же количество задолженностей по кредитам на образование; меньше — по кредитам на проведление свадьбы и операции с недвижимостью.** "
   ]
  },
  {
   "cell_type": "markdown",
   "id": "4d4950fc",
   "metadata": {},
   "source": [
    "<div class=\"alert alert-success\">\n",
    "<h2> Комментарий ревьюера <a class=\"tocSkip\"> </h2>\n",
    "\n",
    "<b>Отлично!✅:</b> Умница, верно определила более и менее рискованные для банка категории заемщиков по целям кредита!\n",
    "</div>"
   ]
  },
  {
   "cell_type": "markdown",
   "id": "b8e57ad3",
   "metadata": {
    "deletable": false,
    "editable": false,
    "id": "09c3ac4c"
   },
   "source": [
    "#### 3.5 Приведите возможные причины появления пропусков в исходных данных."
   ]
  },
  {
   "cell_type": "markdown",
   "id": "ec8da189",
   "metadata": {
    "deletable": false,
    "id": "9da2ceda"
   },
   "source": [
    "*В исходных данных пропуски были в графах total_income и days_employed. Возможно, эти данные не предоставили клиенты банка при заполнении анкеты: например, если человек не работает, то он не сможет указать свой доход. Если поле не является обязательным для заполнения, то его могли просто пропустить. Другой возможной причиной могут быть ошибки при обработке или выгрузке данных.*"
   ]
  },
  {
   "cell_type": "markdown",
   "id": "44b57d97",
   "metadata": {},
   "source": [
    "<div class=\"alert alert-success\">\n",
    "<h2> Комментарий ревьюера <a class=\"tocSkip\"> </h2>\n",
    "\n",
    "<b>Отлично!✅:</b> Совершенно верно, на пропуски в данных, в основном, оказывают влияние человеческий и технический факторы!\n",
    "</div>"
   ]
  },
  {
   "cell_type": "markdown",
   "id": "51ac401f",
   "metadata": {
    "deletable": false,
    "editable": false,
    "id": "7b0487d6"
   },
   "source": [
    "#### 3.6 Объясните, почему заполнить пропуски медианным значением — лучшее решение для количественных переменных."
   ]
  },
  {
   "cell_type": "markdown",
   "id": "4829f33c",
   "metadata": {
    "deletable": false,
    "id": "7ecf2b8e"
   },
   "source": [
    "*Для пропусков в количественных переменных лучше использовать медианное значение, так как среднее значение может неточно отражать положение вещей. Например, в данных банка у большого количества клиентов было указано количество отработанных дней более 300 тысяч, что составляет 821 год. Заполнение пропусков в этом столбце средним значением привело бы к искажению результатов.* "
   ]
  },
  {
   "cell_type": "markdown",
   "id": "fbe60617",
   "metadata": {},
   "source": [
    "<div class=\"alert alert-success\">\n",
    "<h2> Комментарий ревьюера <a class=\"tocSkip\"> </h2>\n",
    "\n",
    "<b>Отлично!✅:</b> Умничка, правильно, медиана менее чувствительна к выбросам!\n",
    "</div>"
   ]
  },
  {
   "cell_type": "markdown",
   "id": "93806e75",
   "metadata": {
    "deletable": false,
    "editable": false,
    "id": "6db5255a"
   },
   "source": [
    "### Шаг 4: общий вывод."
   ]
  },
  {
   "cell_type": "markdown",
   "id": "4f243fa0",
   "metadata": {
    "deletable": false,
    "id": "bad65432"
   },
   "source": [
    "**Предварительная обработка данных**\n",
    "\n",
    "В ходе работы над проектом были изучены данные, предоставленные банком:\n",
    "- children — количество детей в семье\n",
    "- days_employed — общий трудовой стаж в днях\n",
    "- dob_years — возраст клиента в годах\n",
    "- education — уровень образования клиента\n",
    "- education_id — идентификатор уровня образования\n",
    "- family_status — семейное положение\n",
    "- family_status_id — идентификатор семейного положения\n",
    "- gender — пол клиента\n",
    "- income_type — тип занятости\n",
    "- debt — имел ли задолженность по возврату кредитов\n",
    "- total_income — ежемесячный доход\n",
    "- purpose — цель получения кредита\n",
    "\n",
    "*Устранение пропусков и аномальных значений*\n",
    "\n",
    "В ходе предварительной обработки в данных были обнаружены и устранены дубликаты, а также пропуски в столбцах total_income и days_employed. Пропуски в данных могли появиться вследствие того, что эти данные не предоставили клиенты при заполнении анкеты: например, если человек не работает, то он не сможет указать свой доход. Если поле не является обязательным для заполнения, то его могли просто пропустить. Другой возможной причиной могут быть ошибки при обработке или выгрузке данных. Пропуски в столбцах total_income и days_employed были заменены медианными значениями по соответстующей категории клиентов. \n",
    "В столбце days_employed в двух категориях клиентов — безработные и пенсионеры — были обнаружены аномальные значения: указано количество отработанных дней более 300 тысяч, что составляет 821 год. Строки с такими значениями были оставлены без изменений. Также в столбце days_employed обнаруженные отрицательные значения были заменены на положительные. Обнаружены и устранены путем удаления строк аномальные значения в столбце children — -1 и 20. \n",
    "\n",
    "*Категоризация данных*\n",
    "\n",
    "Была произведена категоризация кредитополучателей по размеру дохода:\n",
    "- 0–30000 — E;\n",
    "- 30001–50000 — D;\n",
    "- 50001–200000 — C;\n",
    "- 200001–1000000 — В;\n",
    "- 1000001 и выше — A.\n",
    "\n",
    "Столбец total_income_category был добавлен в исходный DataFrame.\n",
    "\n",
    "Также была произведена категоризация целей кредита, добавлен столбец purpose_category: \n",
    "\n",
    "- операции с автомобилем,\n",
    "- операции с недвижимостью,\n",
    "- проведение свадьбы,\n",
    "- получение образования. \n",
    "\n",
    "**Исследование данных**\n",
    "\n",
    "Были исследованы данные с целью получения ответа на вопросы: \n",
    "1. Есть ли зависимость между количеством детей и возвратом кредита в срок?\n",
    "2. Есть ли зависимость между семейным положением и возвратом кредита в срок?\n",
    "3. Есть ли зависимость между уровнем дохода и возвратом кредита в срок?\n",
    "4. Как разные цели кредита влияют на его возврат в срок?\n",
    "\n",
    "\n",
    "1. Наличие задолженностей по кредитам среди клиентов без детей и клиентов, у которых до четырех детей, незначительно варьируется — от 7,5% до 9,8%. Среди самых многочисленных категорий клиентов — без детей, с 1 и 2 детьми — с ростом количества детей наблюдается рост доли просрочек. Задолженностей у клиентов с 5 детьми нет, но таких клиентов у банка всего 9. Клиенты, у которых трое детей, реже имеют задолженности по кредиту, чем семьи с двумя детьми. Наибольшее количество должников среди клиентов, у которых четверо детей. Таким образом прямой завимости между количеством детей и возвратом кредита в срок не прослеживается. Полученные значения неоднозначные, возможно, стоит расширить выборку и повторно изучить этот вопрос.\n",
    "\n",
    "2. Наибольшее число должников среди неженатых/незамужних клиентов и клиентов, живущих гражданским браком; меньше — среди женатых/замужних, разведенных и наименьшее количество среди вдовцов/вдов. Таким образом семейное положение влияет на возврат кредита в срок.\n",
    "\n",
    "3. Категории кредитополучателей А и Е немногочисленные: клиентов в этих категориях 25 и 22 соответственно. К категории D относится всего 349 клиентов. Сравнивая самые многочисленные категории — В (доход от 200 тысяч до 1 миллиона) и С (доход от 50 до 200 тысяч), наблюдаем: среди клиентов категории В — с более высоким уровнем доходов — доля должников меньше, чем в категории С. Выборка несбалансирована, но прослеживается зависимость между уровнем дохода и возвратом кредита в срок в категориях В и С.\n",
    "\n",
    "4. Наибольшее число задолженностей по кредитам на операции с автомобилем, примерно такое же количество задолженностей по кредитам на образование; меньше — по кредитам на проведление свадьбы и операции с недвижимостью.\n",
    "\n",
    "Таким образом, изучив полученные данные, можно сделать следующие выводы:\n",
    "среди клиентов без детей, с 1 и 2 детьми прослеживается рост количества задолженностей по кредитам. По остальным категориям (3, 4 и 5 детей) данные несбалансированы, сделать однозначный вывод не представляется возможным. Семейное положение влияет на возврат кредита в срок — чаще всего должниками оказываются неженатые/незамужние клиенты, и клиенты, живующие в гражданском браке. Уровень дохода влияет на возврат кредита в срок, зависимость прослеживается только среди клиентов категории В и С: среди клиентов с более высоким уровнем дохода доля должников меньше. Остальные категории слишком малочисленны для анализа. Цель кредита влияет на возврат кредита в срок: нибольшее число задолженностей по кредитам на операции с автомобилем и на образование.\n",
    "\n",
    "Был выявлен ряд проблем, затрудняющих проведение анализа: \n",
    "- несбалансированные выборки по доходам клиентов и количеству детей. Для более точного анализа нужны сбалансированные выборки;\n",
    "- пропуски в столбцах total_income и days_employed. Пропуски могли возникнуть вследствие того, что клиенты не указали информацию при заполнении анкеты, если эти поля не являются обязательными, а также при выгрузке данных;\n",
    "- аномальные значения в столбцах days_employed и children. Выбросы в данных могут появляться например из-за ошибок ввода, если не предъявляются требования к формату, а также при выгрузке данных. "
   ]
  },
  {
   "cell_type": "markdown",
   "id": "9f88ee49",
   "metadata": {},
   "source": [
    "<br/>\n",
    "<div class=\"alert alert-block alert-danger\">\n",
    "<h2> Комментарий ревьюера <a class=\"tocSkip\"></h2>\n",
    "<b>Необходимо исправить❌:</b>\n",
    "Галина, общий вывод - обязательный и важный элемент работы. Его нужно сформулировать, взяв основные результаты из всех шагов проекта. Начать нужно с того, с какими данными мы работали и какие действия провели на этапе предобработки, а закончить выявленными при ответе на вопросы зависимостями и рекомендациями заказчику по улучшению сбора данных и скоринга. Заказчик, зачастую, читает только общий вывод исследования - поэтому он должен быть максимально информативным. \n",
    "</div>"
   ]
  },
  {
   "cell_type": "markdown",
   "id": "2541d0c9",
   "metadata": {},
   "source": [
    "<div class=\"alert alert-success\">\n",
    "<h2> Комментарий ревьюера v2<a class=\"tocSkip\"> </h2>\n",
    "\n",
    "<b>Отлично!✅:</b> Галина, добрый вечер! Молодец, оперативно и верно доработала проект. Благодарю за обратную связь, работа принята, удачи в обучении!)\n",
    "</div>"
   ]
  },
  {
   "cell_type": "markdown",
   "id": "a8757ebd",
   "metadata": {},
   "source": [
    "<div style=\"border:solid Chocolate 2px; padding: 40px\">\n",
    "Галина, давай подведем итоги. Ты большая молодец, что старалась и проделала такую большую работу. Шаг 1 и 2 ты выполнила без проблем, что очень хорошо:)\n",
    "    \n",
    "    Разберем над чем стоит поработать:\n",
    "    \n",
    "    1. Необходимо объединить данные в сводные таблицы. Для этого можно использовать метод groupby() или pivot_table().\n",
    "    \n",
    "    2. Оформить общий вывод.\n",
    "    \n",
    "    3. Рекомендую:\n",
    "    - подписать оси и названия у графиков;\n",
    "    - учитывать несбалансированность выборок.\n",
    "    \n",
    "    Пересмотри работу и исправь ошибки. Обязательно пиши, если я могу тебе еще чем-то помочь. Удачи!)\n",
    "    \n",
    "    🐈Спасибо за ревью и полезные материалы по построению графиков! Я решила в сводных таблицах сделать заголовки на кириллице, видела, что в лабораториях встречались такие, плюс так удобнее для восприятия. Но если правильнее будет сделать в змеином регистре, то исправлю.\n",
    "  "
   ]
  },
  {
   "cell_type": "markdown",
   "id": "fec6aeaa",
   "metadata": {},
   "source": [
    "<div class=\"alert alert-success\">\n",
    "<h2> Комментарий ревьюера v2<a class=\"tocSkip\"> </h2>\n",
    "\n",
    "<b>Отлично!✅:</b> Ты что, конечно, лучше когда представлено все по-русски:)\n",
    "</div>"
   ]
  },
  {
   "cell_type": "code",
   "execution_count": null,
   "id": "0c83083d",
   "metadata": {},
   "outputs": [],
   "source": []
  }
 ],
 "metadata": {
  "ExecuteTimeLog": [
   {
    "duration": 630,
    "start_time": "2024-01-05T18:46:05.918Z"
   },
   {
    "duration": 20,
    "start_time": "2024-01-05T18:46:06.550Z"
   },
   {
    "duration": 14,
    "start_time": "2024-01-05T18:46:06.572Z"
   },
   {
    "duration": 9,
    "start_time": "2024-01-05T18:46:06.587Z"
   },
   {
    "duration": 34,
    "start_time": "2024-01-05T18:46:06.598Z"
   },
   {
    "duration": 3,
    "start_time": "2024-01-05T18:46:06.634Z"
   },
   {
    "duration": 31,
    "start_time": "2024-01-05T18:46:06.638Z"
   },
   {
    "duration": 4,
    "start_time": "2024-01-05T18:46:06.670Z"
   },
   {
    "duration": 12,
    "start_time": "2024-01-05T18:46:06.675Z"
   },
   {
    "duration": 5,
    "start_time": "2024-01-05T18:46:06.688Z"
   },
   {
    "duration": 36,
    "start_time": "2024-01-05T18:46:06.694Z"
   },
   {
    "duration": 9,
    "start_time": "2024-01-05T18:46:06.732Z"
   },
   {
    "duration": 5,
    "start_time": "2024-01-05T18:46:06.764Z"
   },
   {
    "duration": 12,
    "start_time": "2024-01-05T18:46:06.772Z"
   },
   {
    "duration": 20,
    "start_time": "2024-01-05T18:46:06.785Z"
   },
   {
    "duration": 16,
    "start_time": "2024-01-05T18:46:06.806Z"
   },
   {
    "duration": 3,
    "start_time": "2024-01-05T18:46:06.824Z"
   },
   {
    "duration": 38,
    "start_time": "2024-01-05T18:46:06.828Z"
   },
   {
    "duration": 5,
    "start_time": "2024-01-05T18:46:06.868Z"
   },
   {
    "duration": 16,
    "start_time": "2024-01-05T18:46:06.875Z"
   },
   {
    "duration": 19,
    "start_time": "2024-01-05T18:46:06.892Z"
   },
   {
    "duration": 424,
    "start_time": "2024-01-05T18:46:06.912Z"
   },
   {
    "duration": 7,
    "start_time": "2024-01-05T18:46:15.778Z"
   },
   {
    "duration": 116,
    "start_time": "2024-01-05T18:49:14.477Z"
   },
   {
    "duration": 5,
    "start_time": "2024-01-05T19:03:24.417Z"
   },
   {
    "duration": 11,
    "start_time": "2024-01-05T20:05:34.896Z"
   },
   {
    "duration": 6,
    "start_time": "2024-01-05T20:20:52.976Z"
   },
   {
    "duration": 118,
    "start_time": "2024-01-05T20:22:26.376Z"
   },
   {
    "duration": 48,
    "start_time": "2024-01-08T12:39:46.410Z"
   },
   {
    "duration": 685,
    "start_time": "2024-01-08T12:39:52.969Z"
   },
   {
    "duration": 21,
    "start_time": "2024-01-08T12:39:53.656Z"
   },
   {
    "duration": 15,
    "start_time": "2024-01-08T12:39:53.678Z"
   },
   {
    "duration": 15,
    "start_time": "2024-01-08T12:39:53.694Z"
   },
   {
    "duration": 33,
    "start_time": "2024-01-08T12:39:53.711Z"
   },
   {
    "duration": 11,
    "start_time": "2024-01-08T12:39:53.755Z"
   },
   {
    "duration": 10,
    "start_time": "2024-01-08T12:39:53.767Z"
   },
   {
    "duration": 3,
    "start_time": "2024-01-08T12:39:53.779Z"
   },
   {
    "duration": 9,
    "start_time": "2024-01-08T12:39:53.784Z"
   },
   {
    "duration": 4,
    "start_time": "2024-01-08T12:39:53.794Z"
   },
   {
    "duration": 35,
    "start_time": "2024-01-08T12:39:53.800Z"
   },
   {
    "duration": 32,
    "start_time": "2024-01-08T12:39:53.837Z"
   },
   {
    "duration": 3,
    "start_time": "2024-01-08T12:39:53.871Z"
   },
   {
    "duration": 15,
    "start_time": "2024-01-08T12:39:53.876Z"
   },
   {
    "duration": 19,
    "start_time": "2024-01-08T12:39:53.893Z"
   },
   {
    "duration": 16,
    "start_time": "2024-01-08T12:39:53.913Z"
   },
   {
    "duration": 35,
    "start_time": "2024-01-08T12:39:53.931Z"
   },
   {
    "duration": 16,
    "start_time": "2024-01-08T12:39:53.967Z"
   },
   {
    "duration": 5,
    "start_time": "2024-01-08T12:39:53.985Z"
   },
   {
    "duration": 3,
    "start_time": "2024-01-08T12:39:53.992Z"
   },
   {
    "duration": 15,
    "start_time": "2024-01-08T12:39:53.997Z"
   },
   {
    "duration": 397,
    "start_time": "2024-01-08T12:39:54.014Z"
   },
   {
    "duration": 9,
    "start_time": "2024-01-08T12:40:00.684Z"
   },
   {
    "duration": 101,
    "start_time": "2024-01-08T12:40:07.388Z"
   },
   {
    "duration": 80,
    "start_time": "2024-01-08T13:03:13.958Z"
   },
   {
    "duration": 15,
    "start_time": "2024-01-08T13:03:14.040Z"
   },
   {
    "duration": 26,
    "start_time": "2024-01-08T13:03:14.056Z"
   },
   {
    "duration": 10,
    "start_time": "2024-01-08T13:03:14.083Z"
   },
   {
    "duration": 34,
    "start_time": "2024-01-08T13:03:14.095Z"
   },
   {
    "duration": 4,
    "start_time": "2024-01-08T13:03:14.131Z"
   },
   {
    "duration": 33,
    "start_time": "2024-01-08T13:03:14.136Z"
   },
   {
    "duration": 5,
    "start_time": "2024-01-08T13:03:14.170Z"
   },
   {
    "duration": 9,
    "start_time": "2024-01-08T13:03:14.177Z"
   },
   {
    "duration": 5,
    "start_time": "2024-01-08T13:03:14.188Z"
   },
   {
    "duration": 35,
    "start_time": "2024-01-08T13:03:14.195Z"
   },
   {
    "duration": 34,
    "start_time": "2024-01-08T13:03:14.232Z"
   },
   {
    "duration": 4,
    "start_time": "2024-01-08T13:03:14.267Z"
   },
   {
    "duration": 11,
    "start_time": "2024-01-08T13:03:14.273Z"
   },
   {
    "duration": 18,
    "start_time": "2024-01-08T13:03:14.286Z"
   },
   {
    "duration": 17,
    "start_time": "2024-01-08T13:03:14.306Z"
   },
   {
    "duration": 4,
    "start_time": "2024-01-08T13:03:14.324Z"
   },
   {
    "duration": 50,
    "start_time": "2024-01-08T13:03:14.329Z"
   },
   {
    "duration": 5,
    "start_time": "2024-01-08T13:03:14.381Z"
   },
   {
    "duration": 5,
    "start_time": "2024-01-08T13:03:14.387Z"
   },
   {
    "duration": 12,
    "start_time": "2024-01-08T13:03:14.393Z"
   },
   {
    "duration": 4,
    "start_time": "2024-01-08T13:03:14.406Z"
   },
   {
    "duration": 7,
    "start_time": "2024-01-08T13:03:14.411Z"
   },
   {
    "duration": 109,
    "start_time": "2024-01-08T13:03:14.420Z"
   },
   {
    "duration": 5,
    "start_time": "2024-01-08T13:03:14.531Z"
   },
   {
    "duration": 21,
    "start_time": "2024-01-08T13:03:14.537Z"
   },
   {
    "duration": 9,
    "start_time": "2024-01-08T13:03:14.559Z"
   },
   {
    "duration": 36,
    "start_time": "2024-01-08T13:03:27.644Z"
   },
   {
    "duration": 114,
    "start_time": "2024-01-08T13:03:40.764Z"
   },
   {
    "duration": 95,
    "start_time": "2024-01-08T13:22:16.917Z"
   },
   {
    "duration": 160,
    "start_time": "2024-01-08T13:22:40.394Z"
   },
   {
    "duration": 12,
    "start_time": "2024-01-08T13:34:26.776Z"
   },
   {
    "duration": 115,
    "start_time": "2024-01-08T13:34:56.967Z"
   },
   {
    "duration": 12,
    "start_time": "2024-01-08T13:45:41.797Z"
   },
   {
    "duration": 125,
    "start_time": "2024-01-08T13:46:01.095Z"
   },
   {
    "duration": 11,
    "start_time": "2024-01-08T13:47:10.248Z"
   },
   {
    "duration": 935,
    "start_time": "2024-01-08T13:47:23.273Z"
   },
   {
    "duration": 9,
    "start_time": "2024-01-08T13:47:58.835Z"
   },
   {
    "duration": 12,
    "start_time": "2024-01-08T13:48:22.450Z"
   },
   {
    "duration": 3,
    "start_time": "2024-01-08T13:49:24.983Z"
   },
   {
    "duration": 76,
    "start_time": "2024-01-08T14:02:54.457Z"
   },
   {
    "duration": 16,
    "start_time": "2024-01-08T14:02:54.535Z"
   },
   {
    "duration": 20,
    "start_time": "2024-01-08T14:02:54.552Z"
   },
   {
    "duration": 10,
    "start_time": "2024-01-08T14:02:54.574Z"
   },
   {
    "duration": 36,
    "start_time": "2024-01-08T14:02:54.587Z"
   },
   {
    "duration": 4,
    "start_time": "2024-01-08T14:02:54.624Z"
   },
   {
    "duration": 19,
    "start_time": "2024-01-08T14:02:54.629Z"
   },
   {
    "duration": 19,
    "start_time": "2024-01-08T14:02:54.649Z"
   },
   {
    "duration": 18,
    "start_time": "2024-01-08T14:02:54.669Z"
   },
   {
    "duration": 9,
    "start_time": "2024-01-08T14:02:54.688Z"
   },
   {
    "duration": 38,
    "start_time": "2024-01-08T14:02:54.698Z"
   },
   {
    "duration": 11,
    "start_time": "2024-01-08T14:02:54.737Z"
   },
   {
    "duration": 16,
    "start_time": "2024-01-08T14:02:54.749Z"
   },
   {
    "duration": 10,
    "start_time": "2024-01-08T14:02:54.768Z"
   },
   {
    "duration": 22,
    "start_time": "2024-01-08T14:02:54.780Z"
   },
   {
    "duration": 19,
    "start_time": "2024-01-08T14:02:54.804Z"
   },
   {
    "duration": 4,
    "start_time": "2024-01-08T14:02:54.825Z"
   },
   {
    "duration": 35,
    "start_time": "2024-01-08T14:02:54.831Z"
   },
   {
    "duration": 6,
    "start_time": "2024-01-08T14:02:54.867Z"
   },
   {
    "duration": 4,
    "start_time": "2024-01-08T14:02:54.874Z"
   },
   {
    "duration": 13,
    "start_time": "2024-01-08T14:02:54.879Z"
   },
   {
    "duration": 6,
    "start_time": "2024-01-08T14:02:54.894Z"
   },
   {
    "duration": 10,
    "start_time": "2024-01-08T14:02:54.901Z"
   },
   {
    "duration": 175,
    "start_time": "2024-01-08T14:02:54.913Z"
   },
   {
    "duration": 5,
    "start_time": "2024-01-08T14:02:55.090Z"
   },
   {
    "duration": 13,
    "start_time": "2024-01-08T14:02:55.096Z"
   },
   {
    "duration": 6,
    "start_time": "2024-01-08T14:02:55.111Z"
   },
   {
    "duration": 125,
    "start_time": "2024-01-08T14:02:55.118Z"
   },
   {
    "duration": 22,
    "start_time": "2024-01-08T14:02:55.245Z"
   },
   {
    "duration": 108,
    "start_time": "2024-01-08T14:02:55.268Z"
   },
   {
    "duration": 9,
    "start_time": "2024-01-08T14:02:55.378Z"
   },
   {
    "duration": 136,
    "start_time": "2024-01-08T14:02:55.388Z"
   },
   {
    "duration": 4,
    "start_time": "2024-01-08T14:36:57.119Z"
   },
   {
    "duration": 83,
    "start_time": "2024-01-08T15:27:10.857Z"
   },
   {
    "duration": 16,
    "start_time": "2024-01-08T15:27:10.942Z"
   },
   {
    "duration": 17,
    "start_time": "2024-01-08T15:27:10.960Z"
   },
   {
    "duration": 11,
    "start_time": "2024-01-08T15:27:10.979Z"
   },
   {
    "duration": 35,
    "start_time": "2024-01-08T15:27:10.991Z"
   },
   {
    "duration": 3,
    "start_time": "2024-01-08T15:27:11.028Z"
   },
   {
    "duration": 35,
    "start_time": "2024-01-08T15:27:11.033Z"
   },
   {
    "duration": 4,
    "start_time": "2024-01-08T15:27:11.070Z"
   },
   {
    "duration": 6,
    "start_time": "2024-01-08T15:27:11.076Z"
   },
   {
    "duration": 5,
    "start_time": "2024-01-08T15:27:11.085Z"
   },
   {
    "duration": 37,
    "start_time": "2024-01-08T15:27:11.091Z"
   },
   {
    "duration": 42,
    "start_time": "2024-01-08T15:27:11.130Z"
   },
   {
    "duration": 4,
    "start_time": "2024-01-08T15:27:11.174Z"
   },
   {
    "duration": 18,
    "start_time": "2024-01-08T15:27:11.180Z"
   },
   {
    "duration": 31,
    "start_time": "2024-01-08T15:27:11.200Z"
   },
   {
    "duration": 42,
    "start_time": "2024-01-08T15:27:11.233Z"
   },
   {
    "duration": 5,
    "start_time": "2024-01-08T15:27:11.276Z"
   },
   {
    "duration": 12,
    "start_time": "2024-01-08T15:27:11.283Z"
   },
   {
    "duration": 5,
    "start_time": "2024-01-08T15:27:11.296Z"
   },
   {
    "duration": 3,
    "start_time": "2024-01-08T15:27:11.303Z"
   },
   {
    "duration": 12,
    "start_time": "2024-01-08T15:27:11.308Z"
   },
   {
    "duration": 4,
    "start_time": "2024-01-08T15:27:11.321Z"
   },
   {
    "duration": 9,
    "start_time": "2024-01-08T15:27:11.326Z"
   },
   {
    "duration": 138,
    "start_time": "2024-01-08T15:27:11.336Z"
   },
   {
    "duration": 6,
    "start_time": "2024-01-08T15:27:11.475Z"
   },
   {
    "duration": 15,
    "start_time": "2024-01-08T15:27:11.482Z"
   },
   {
    "duration": 7,
    "start_time": "2024-01-08T15:27:11.498Z"
   },
   {
    "duration": 119,
    "start_time": "2024-01-08T15:27:11.508Z"
   },
   {
    "duration": 9,
    "start_time": "2024-01-08T15:27:11.629Z"
   },
   {
    "duration": 128,
    "start_time": "2024-01-08T15:27:11.640Z"
   },
   {
    "duration": 9,
    "start_time": "2024-01-08T15:27:11.770Z"
   },
   {
    "duration": 134,
    "start_time": "2024-01-08T15:27:11.780Z"
   },
   {
    "duration": 200,
    "start_time": "2024-01-08T17:10:49.140Z"
   },
   {
    "duration": 16,
    "start_time": "2024-01-08T17:25:57.922Z"
   },
   {
    "duration": 11,
    "start_time": "2024-01-08T17:27:53.289Z"
   },
   {
    "duration": 27,
    "start_time": "2024-01-08T17:29:14.458Z"
   },
   {
    "duration": 23,
    "start_time": "2024-01-08T17:29:44.821Z"
   },
   {
    "duration": 13,
    "start_time": "2024-01-08T17:30:59.541Z"
   },
   {
    "duration": 11,
    "start_time": "2024-01-08T17:31:08.140Z"
   },
   {
    "duration": 12,
    "start_time": "2024-01-08T17:31:28.992Z"
   },
   {
    "duration": 8,
    "start_time": "2024-01-08T17:31:32.619Z"
   },
   {
    "duration": 8,
    "start_time": "2024-01-08T17:31:36.100Z"
   },
   {
    "duration": 74,
    "start_time": "2024-01-08T17:50:51.386Z"
   },
   {
    "duration": 16,
    "start_time": "2024-01-08T17:50:51.462Z"
   },
   {
    "duration": 22,
    "start_time": "2024-01-08T17:50:51.480Z"
   },
   {
    "duration": 16,
    "start_time": "2024-01-08T17:50:51.505Z"
   },
   {
    "duration": 57,
    "start_time": "2024-01-08T17:50:51.523Z"
   },
   {
    "duration": 4,
    "start_time": "2024-01-08T17:50:51.581Z"
   },
   {
    "duration": 9,
    "start_time": "2024-01-08T17:50:51.587Z"
   },
   {
    "duration": 4,
    "start_time": "2024-01-08T17:50:51.597Z"
   },
   {
    "duration": 20,
    "start_time": "2024-01-08T17:50:51.603Z"
   },
   {
    "duration": 5,
    "start_time": "2024-01-08T17:50:51.625Z"
   },
   {
    "duration": 53,
    "start_time": "2024-01-08T17:50:51.631Z"
   },
   {
    "duration": 10,
    "start_time": "2024-01-08T17:50:51.686Z"
   },
   {
    "duration": 5,
    "start_time": "2024-01-08T17:50:51.697Z"
   },
   {
    "duration": 16,
    "start_time": "2024-01-08T17:50:51.703Z"
   },
   {
    "duration": 24,
    "start_time": "2024-01-08T17:50:51.720Z"
   },
   {
    "duration": 33,
    "start_time": "2024-01-08T17:50:51.745Z"
   },
   {
    "duration": 5,
    "start_time": "2024-01-08T17:50:51.779Z"
   },
   {
    "duration": 12,
    "start_time": "2024-01-08T17:50:51.785Z"
   },
   {
    "duration": 7,
    "start_time": "2024-01-08T17:50:51.798Z"
   },
   {
    "duration": 3,
    "start_time": "2024-01-08T17:50:51.807Z"
   },
   {
    "duration": 10,
    "start_time": "2024-01-08T17:50:51.812Z"
   },
   {
    "duration": 3,
    "start_time": "2024-01-08T17:50:51.823Z"
   },
   {
    "duration": 25,
    "start_time": "2024-01-08T17:50:54.697Z"
   },
   {
    "duration": 11,
    "start_time": "2024-01-08T17:51:10.034Z"
   },
   {
    "duration": 12,
    "start_time": "2024-01-08T17:51:13.856Z"
   },
   {
    "duration": 9,
    "start_time": "2024-01-08T17:51:19.427Z"
   },
   {
    "duration": 9,
    "start_time": "2024-01-08T17:51:23.677Z"
   },
   {
    "duration": 1150,
    "start_time": "2024-01-08T18:19:30.768Z"
   },
   {
    "duration": 16,
    "start_time": "2024-01-08T18:19:56.321Z"
   },
   {
    "duration": 136,
    "start_time": "2024-01-08T18:21:17.086Z"
   },
   {
    "duration": 129,
    "start_time": "2024-01-08T18:21:43.242Z"
   },
   {
    "duration": 4,
    "start_time": "2024-01-08T18:22:51.965Z"
   },
   {
    "duration": 121,
    "start_time": "2024-01-08T18:22:55.388Z"
   },
   {
    "duration": 15,
    "start_time": "2024-01-08T18:45:16.681Z"
   },
   {
    "duration": 14,
    "start_time": "2024-01-08T18:45:33.566Z"
   },
   {
    "duration": 20,
    "start_time": "2024-01-08T18:46:43.120Z"
   },
   {
    "duration": 120,
    "start_time": "2024-01-08T18:52:07.299Z"
   },
   {
    "duration": 26,
    "start_time": "2024-01-08T18:55:24.096Z"
   },
   {
    "duration": 105,
    "start_time": "2024-01-08T18:58:35.077Z"
   },
   {
    "duration": 114,
    "start_time": "2024-01-08T19:02:57.983Z"
   },
   {
    "duration": 117,
    "start_time": "2024-01-08T19:04:10.022Z"
   },
   {
    "duration": 76,
    "start_time": "2024-01-08T19:04:37.367Z"
   },
   {
    "duration": 15,
    "start_time": "2024-01-08T19:04:37.445Z"
   },
   {
    "duration": 23,
    "start_time": "2024-01-08T19:04:37.462Z"
   },
   {
    "duration": 16,
    "start_time": "2024-01-08T19:04:37.487Z"
   },
   {
    "duration": 34,
    "start_time": "2024-01-08T19:04:37.505Z"
   },
   {
    "duration": 26,
    "start_time": "2024-01-08T19:04:37.541Z"
   },
   {
    "duration": 11,
    "start_time": "2024-01-08T19:04:37.568Z"
   },
   {
    "duration": 4,
    "start_time": "2024-01-08T19:04:37.581Z"
   },
   {
    "duration": 6,
    "start_time": "2024-01-08T19:04:37.586Z"
   },
   {
    "duration": 5,
    "start_time": "2024-01-08T19:04:37.593Z"
   },
   {
    "duration": 36,
    "start_time": "2024-01-08T19:04:37.600Z"
   },
   {
    "duration": 11,
    "start_time": "2024-01-08T19:04:37.665Z"
   },
   {
    "duration": 4,
    "start_time": "2024-01-08T19:04:37.678Z"
   },
   {
    "duration": 12,
    "start_time": "2024-01-08T19:04:37.686Z"
   },
   {
    "duration": 21,
    "start_time": "2024-01-08T19:04:37.699Z"
   },
   {
    "duration": 47,
    "start_time": "2024-01-08T19:04:37.722Z"
   },
   {
    "duration": 4,
    "start_time": "2024-01-08T19:04:37.771Z"
   },
   {
    "duration": 14,
    "start_time": "2024-01-08T19:04:37.776Z"
   },
   {
    "duration": 7,
    "start_time": "2024-01-08T19:04:37.791Z"
   },
   {
    "duration": 3,
    "start_time": "2024-01-08T19:04:37.800Z"
   },
   {
    "duration": 10,
    "start_time": "2024-01-08T19:04:37.805Z"
   },
   {
    "duration": 3,
    "start_time": "2024-01-08T19:04:37.816Z"
   },
   {
    "duration": 49,
    "start_time": "2024-01-08T19:04:37.821Z"
   },
   {
    "duration": 133,
    "start_time": "2024-01-08T19:04:37.872Z"
   },
   {
    "duration": 20,
    "start_time": "2024-01-08T19:04:38.006Z"
   },
   {
    "duration": 145,
    "start_time": "2024-01-08T19:04:38.028Z"
   },
   {
    "duration": 18,
    "start_time": "2024-01-08T19:04:38.175Z"
   },
   {
    "duration": 112,
    "start_time": "2024-01-08T19:04:42.668Z"
   },
   {
    "duration": 146,
    "start_time": "2024-01-08T19:05:08.695Z"
   },
   {
    "duration": 196,
    "start_time": "2024-01-08T19:05:16.157Z"
   },
   {
    "duration": 20,
    "start_time": "2024-01-08T19:20:12.998Z"
   },
   {
    "duration": 298,
    "start_time": "2024-01-08T19:21:31.398Z"
   },
   {
    "duration": 134,
    "start_time": "2024-01-08T19:21:54.925Z"
   },
   {
    "duration": 90,
    "start_time": "2024-01-08T19:22:58.307Z"
   },
   {
    "duration": 15,
    "start_time": "2024-01-08T19:22:58.399Z"
   },
   {
    "duration": 15,
    "start_time": "2024-01-08T19:22:58.416Z"
   },
   {
    "duration": 10,
    "start_time": "2024-01-08T19:22:58.432Z"
   },
   {
    "duration": 35,
    "start_time": "2024-01-08T19:22:58.466Z"
   },
   {
    "duration": 3,
    "start_time": "2024-01-08T19:22:58.503Z"
   },
   {
    "duration": 20,
    "start_time": "2024-01-08T19:22:58.507Z"
   },
   {
    "duration": 5,
    "start_time": "2024-01-08T19:22:58.528Z"
   },
   {
    "duration": 6,
    "start_time": "2024-01-08T19:22:58.534Z"
   },
   {
    "duration": 4,
    "start_time": "2024-01-08T19:22:58.541Z"
   },
   {
    "duration": 35,
    "start_time": "2024-01-08T19:22:58.565Z"
   },
   {
    "duration": 10,
    "start_time": "2024-01-08T19:22:58.601Z"
   },
   {
    "duration": 9,
    "start_time": "2024-01-08T19:22:58.612Z"
   },
   {
    "duration": 18,
    "start_time": "2024-01-08T19:22:58.623Z"
   },
   {
    "duration": 32,
    "start_time": "2024-01-08T19:22:58.642Z"
   },
   {
    "duration": 16,
    "start_time": "2024-01-08T19:22:58.675Z"
   },
   {
    "duration": 4,
    "start_time": "2024-01-08T19:22:58.692Z"
   },
   {
    "duration": 11,
    "start_time": "2024-01-08T19:22:58.697Z"
   },
   {
    "duration": 12,
    "start_time": "2024-01-08T19:22:58.710Z"
   },
   {
    "duration": 4,
    "start_time": "2024-01-08T19:22:58.723Z"
   },
   {
    "duration": 10,
    "start_time": "2024-01-08T19:22:58.728Z"
   },
   {
    "duration": 25,
    "start_time": "2024-01-08T19:22:58.740Z"
   },
   {
    "duration": 15,
    "start_time": "2024-01-08T19:22:58.767Z"
   },
   {
    "duration": 158,
    "start_time": "2024-01-08T19:22:58.783Z"
   },
   {
    "duration": 26,
    "start_time": "2024-01-08T19:22:58.943Z"
   },
   {
    "duration": 129,
    "start_time": "2024-01-08T19:22:58.970Z"
   },
   {
    "duration": 18,
    "start_time": "2024-01-08T19:22:59.101Z"
   },
   {
    "duration": 135,
    "start_time": "2024-01-08T19:22:59.120Z"
   },
   {
    "duration": 21,
    "start_time": "2024-01-08T19:22:59.264Z"
   },
   {
    "duration": 133,
    "start_time": "2024-01-08T19:22:59.287Z"
   },
   {
    "duration": 23,
    "start_time": "2024-01-08T20:32:49.315Z"
   }
  ],
  "colab": {
   "name": "dpp_template_part2.ipynb",
   "provenance": []
  },
  "kernelspec": {
   "display_name": "Python 3 (ipykernel)",
   "language": "python",
   "name": "python3"
  },
  "language_info": {
   "codemirror_mode": {
    "name": "ipython",
    "version": 3
   },
   "file_extension": ".py",
   "mimetype": "text/x-python",
   "name": "python",
   "nbconvert_exporter": "python",
   "pygments_lexer": "ipython3",
   "version": "3.9.5"
  },
  "toc": {
   "base_numbering": 1,
   "nav_menu": {},
   "number_sections": true,
   "sideBar": true,
   "skip_h1_title": true,
   "title_cell": "Table of Contents",
   "title_sidebar": "Contents",
   "toc_cell": false,
   "toc_position": {},
   "toc_section_display": true,
   "toc_window_display": false
  }
 },
 "nbformat": 4,
 "nbformat_minor": 5
}
