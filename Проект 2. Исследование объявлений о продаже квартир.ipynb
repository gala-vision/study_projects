{
 "cells": [
  {
   "cell_type": "markdown",
   "metadata": {
    "id": "-VFbjcb3Awb7"
   },
   "source": [
    "# Исследование объявлений о продаже квартир\n",
    "\n",
    "В вашем распоряжении данные сервиса Яндекс Недвижимость — архив объявлений о продаже квартир в Санкт-Петербурге и соседних населённых пунктах за несколько лет. Вам нужно научиться определять рыночную стоимость объектов недвижимости. Для этого проведите исследовательский анализ данных и установите параметры, влияющие на цену объектов. Это позволит построить автоматизированную систему: она отследит аномалии и мошенническую деятельность.\n",
    "\n",
    "По каждой квартире на продажу доступны два вида данных. Первые вписаны пользователем, вторые — получены автоматически на основе картографических данных. Например, расстояние до центра, аэропорта и других объектов — эти данные автоматически получены из геосервисов. Количество парков и водоёмов также заполняется без участия пользователя."
   ]
  },
  {
   "cell_type": "markdown",
   "metadata": {
    "id": "aeFLH07FAwb9"
   },
   "source": [
    "## Откройте файл с данными и изучите общую информацию"
   ]
  },
  {
   "cell_type": "code",
   "execution_count": 84,
   "metadata": {},
   "outputs": [
    {
     "ename": "NameError",
     "evalue": "name 'warnings' is not defined",
     "output_type": "error",
     "traceback": [
      "\u001b[1;31m---------------------------------------------------------------------------\u001b[0m",
      "\u001b[1;31mNameError\u001b[0m                                 Traceback (most recent call last)",
      "Cell \u001b[1;32mIn[84], line 7\u001b[0m\n\u001b[0;32m      5\u001b[0m \u001b[38;5;28;01mimport\u001b[39;00m \u001b[38;5;21;01mnumpy\u001b[39;00m \u001b[38;5;28;01mas\u001b[39;00m \u001b[38;5;21;01mnp\u001b[39;00m\n\u001b[0;32m      6\u001b[0m \u001b[38;5;28;01mimport\u001b[39;00m \u001b[38;5;21;01mseaborn\u001b[39;00m \u001b[38;5;28;01mas\u001b[39;00m \u001b[38;5;21;01msns\u001b[39;00m\n\u001b[1;32m----> 7\u001b[0m warnings\u001b[38;5;241m.\u001b[39msimplefilter(\u001b[38;5;124m\"\u001b[39m\u001b[38;5;124mignore\u001b[39m\u001b[38;5;124m\"\u001b[39m)\n\u001b[0;32m      8\u001b[0m pd\u001b[38;5;241m.\u001b[39mset_option(\u001b[38;5;124m'\u001b[39m\u001b[38;5;124mdisplay.float_format\u001b[39m\u001b[38;5;124m'\u001b[39m, \u001b[38;5;124m'\u001b[39m\u001b[38;5;132;01m{:.2f}\u001b[39;00m\u001b[38;5;124m'\u001b[39m\u001b[38;5;241m.\u001b[39mformat)\n",
      "\u001b[1;31mNameError\u001b[0m: name 'warnings' is not defined"
     ]
    }
   ],
   "source": [
    "import pandas as pd\n",
    "pd.set_option('display.max_columns', None) # служебная строка для печати всех столбцов таблицы на экран\n",
    "import matplotlib.pyplot as plt\n",
    "import re\n",
    "import numpy as np\n",
    "import seaborn as sns\n",
    "warnings.simplefilter(\"ignore\")\n",
    "pd.set_option('display.float_format', '{:.2f}'.format)"
   ]
  },
  {
   "cell_type": "code",
   "execution_count": null,
   "metadata": {},
   "outputs": [],
   "source": [
    "try:\n",
    "    df = pd.read_csv('/datasets/real_estate_data.csv', sep='\\t')\n",
    "except:\n",
    "    df = pd.read_csv('C:\\\\python\\\\real_estate_data.csv', sep='\\t')"
   ]
  },
  {
   "cell_type": "markdown",
   "metadata": {},
   "source": [
    "**Выведем первые 20 строчек датафрейма**"
   ]
  },
  {
   "cell_type": "code",
   "execution_count": null,
   "metadata": {
    "scrolled": false
   },
   "outputs": [],
   "source": [
    "df.head(20)"
   ]
  },
  {
   "cell_type": "markdown",
   "metadata": {},
   "source": [
    "Вводим переменную old_size для того, чтобы после удаления пропусков и аномалий посчитать отношение нового размера датафрейма к старому."
   ]
  },
  {
   "cell_type": "code",
   "execution_count": null,
   "metadata": {},
   "outputs": [],
   "source": [
    "old_size = df.shape[0]  # сохраняем размер датафрейма до изменений"
   ]
  },
  {
   "cell_type": "markdown",
   "metadata": {},
   "source": [
    "**Выведем основную информацию о датафрейме с помощью метода info()**"
   ]
  },
  {
   "cell_type": "code",
   "execution_count": null,
   "metadata": {},
   "outputs": [],
   "source": [
    "df.info()"
   ]
  },
  {
   "cell_type": "markdown",
   "metadata": {},
   "source": [
    "**Приведем название столбца 'cityCenters_nearest' к \"змеиному\" регистру, переименовав в 'distance_to_center'**"
   ]
  },
  {
   "cell_type": "code",
   "execution_count": null,
   "metadata": {},
   "outputs": [],
   "source": [
    "df = df.rename(columns={'cityCenters_nearest':'distance_to_center'})"
   ]
  },
  {
   "cell_type": "markdown",
   "metadata": {},
   "source": [
    "**Построим гистограмму для всех числовых столбцов таблицы на одном графике**"
   ]
  },
  {
   "cell_type": "code",
   "execution_count": null,
   "metadata": {
    "scrolled": false
   },
   "outputs": [],
   "source": [
    "df.hist(figsize=(15, 20), color='dodgerblue');"
   ]
  },
  {
   "cell_type": "markdown",
   "metadata": {},
   "source": [
    "### Описание данных"
   ]
  },
  {
   "cell_type": "markdown",
   "metadata": {},
   "source": [
    "**Для исследования нам предоставлены данные о продажах квартир в Санкт-Петербурге за 6 лет — с 2014 по 2019 годы. Данные содержат 23699 строк в 22 столбцах:**\n",
    "- airports_nearest — расстояние до ближайшего аэропорта в метрах (м)\n",
    "\n",
    "- balcony — число балконов\n",
    "\n",
    "- ceiling_height — высота потолков (м)\n",
    "\n",
    "- cityCenters_nearest — расстояние до центра города (м)\n",
    "\n",
    "- days_exposition — сколько дней было размещено объявление (от публикации до снятия)\n",
    "\n",
    "- first_day_exposition — дата публикации\n",
    "\n",
    "- floor — этаж\n",
    "\n",
    "- floors_total — всего этажей в доме\n",
    "\n",
    "- is_apartment — апартаменты (булев тип)\n",
    "\n",
    "- kitchen_area — площадь кухни в квадратных метрах (м²)\n",
    "\n",
    "- last_price — цена на момент снятия с публикации\n",
    "\n",
    "- living_area — жилая площадь в квадратных метрах (м²)\n",
    "\n",
    "- locality_name — название населённого пункта\n",
    "\n",
    "- open_plan — свободная планировка (булев тип)\n",
    "\n",
    "- parks_around3000 — число парков в радиусе 3 км\n",
    "\n",
    "- parks_nearest — расстояние до ближайшего парка (м)\n",
    "\n",
    "- ponds_around3000 — число водоёмов в радиусе 3 км\n",
    "\n",
    "- ponds_nearest — расстояние до ближайшего водоёма (м)\n",
    "\n",
    "- rooms — число комнат\n",
    "\n",
    "- studio — квартира-студия (булев тип)\n",
    "\n",
    "- total_area — общая площадь квартиры в квадратных метрах (м²)\n",
    "\n",
    "- total_images — число фотографий квартиры в объявлении\n",
    "\n",
    "**В 14 столбцах есть пропуски. По ходу работы над проектом мы более подробно познакомимся с данными, рассмотрим каждый столблец, в котором есть пропущенные значения: часть пропусковмы заполним, часть оставим без изменений. Также обработаем, где возможно, аномальные значения. Пропуски в данных могут появиться вследствие человеческого или технического фактора. Например, при создании объявления о продаже квартиры пользователь оставил поле \"апартаменты\" или \"количество балконов\" пустым, так как квартира не является апартаментами или не имеет балконов. Также возможны ошибки или частичная утрата данных при выгрузке. Большое количество пропусков в столбцах, заполняемых автоматически на основе данных геосервисов, могут появиться вследвие некорректной работы последних.**"
   ]
  },
  {
   "cell_type": "markdown",
   "metadata": {
    "id": "-O5NtivEAwb9"
   },
   "source": [
    "## Предобработка данных"
   ]
  },
  {
   "cell_type": "markdown",
   "metadata": {},
   "source": [
    "### Удаление пропусков"
   ]
  },
  {
   "cell_type": "markdown",
   "metadata": {},
   "source": [
    "**Выведем количество пропущенных значений для каждого столбца**"
   ]
  },
  {
   "cell_type": "code",
   "execution_count": null,
   "metadata": {
    "id": "7v3vAeTuAwb-"
   },
   "outputs": [],
   "source": [
    "df.isna().sum()"
   ]
  },
  {
   "cell_type": "markdown",
   "metadata": {},
   "source": [
    "**Пропуски есть в 14 столбцах:**\n",
    "\n",
    "**По каждой квартире на продажу доступны два вида данных. Первые вписаны пользователем, вторые — получены автоматически на основе картографических данных. Пропуски в следующих столбцах могли появиться в связи с тем, что пользователи не указали в объявлении соответствующую информацию. \n",
    "Пропуски в столбце с количеством балконов, вероятно, означают, что балкона в квартире нет. Заменим пропущенные значения на 0. Далее заполним пропуски в следующих столбцах:** \n",
    "\n",
    "- balcony                 11519\n",
    "\n",
    "- is_apartment            20924\n",
    "\n",
    "- ceiling_height           9195\n",
    "\n",
    "- living_area              1903\n",
    "\n",
    "- kitchen_area             2278\n",
    "\n",
    "**Пропуски в столбце floors_total оставим без изменений, их всего 86, погоды они не сыграют.**\n",
    "\n",
    "**Пропуски в следующих столбцах относятся в другому виду данных — полученных автоматически на основе картографических данных. Такие данные как расстояние до ближайшего аэропорта, центра и других объектов, количество парков и водоёмов — автоматически получены из геосервисов. Пропуски в соответствующих объявлениях могут быть связаны с большой удаленностью от объектов, отсутствием данных или ошибками при обработке и выгрузке данных. Оставим пропуски в следующих столбцах без изменений:**\n",
    "\n",
    "- locality_name              49\n",
    "\n",
    "- distance_to_center      5519\n",
    "\n",
    "- parks_around3000         5518\n",
    "\n",
    "- parks_nearest           15620\n",
    "\n",
    "- ponds_around3000         5518\n",
    "\n",
    "- ponds_nearest           14589\n",
    "\n",
    "- days_exposition          3181\n",
    "\n",
    "- airports_nearest         5542\n"
   ]
  },
  {
   "cell_type": "markdown",
   "metadata": {},
   "source": [
    "**Посмотрим, какие значения есть в столбце с количеством балконов**"
   ]
  },
  {
   "cell_type": "code",
   "execution_count": null,
   "metadata": {
    "scrolled": true
   },
   "outputs": [],
   "source": [
    "df['balcony'].value_counts()"
   ]
  },
  {
   "cell_type": "markdown",
   "metadata": {},
   "source": [
    "**Заполним пропуски нулями и изменим тип данных столбца на int64**"
   ]
  },
  {
   "cell_type": "code",
   "execution_count": null,
   "metadata": {},
   "outputs": [],
   "source": [
    "df['balcony'] = df['balcony'].fillna(0) \n",
    "df['balcony'] = df['balcony'].astype('int64')"
   ]
  },
  {
   "cell_type": "markdown",
   "metadata": {},
   "source": [
    "**Изучим информацию о столбце is_apartment**"
   ]
  },
  {
   "cell_type": "code",
   "execution_count": null,
   "metadata": {
    "scrolled": true
   },
   "outputs": [],
   "source": [
    "df['is_apartment'].value_counts()"
   ]
  },
  {
   "cell_type": "markdown",
   "metadata": {},
   "source": [
    "**Видим, что апартаментами являются только 50 объектов на продажу. Количество незаполненных строк в столбце is_apartment более 20000. Логично предположить, что такое большое количество объектов не может быть апартаментами. Заполним пропуски значением False.**"
   ]
  },
  {
   "cell_type": "code",
   "execution_count": null,
   "metadata": {},
   "outputs": [],
   "source": [
    "df['is_apartment'] = df['is_apartment'].fillna(False)"
   ]
  },
  {
   "cell_type": "markdown",
   "metadata": {},
   "source": [
    "**Посмотрим уникальные значения в столбце ceiling_height** (количество пропусков — 9195)"
   ]
  },
  {
   "cell_type": "code",
   "execution_count": null,
   "metadata": {},
   "outputs": [],
   "source": [
    "np.sort(df['ceiling_height'].unique())"
   ]
  },
  {
   "cell_type": "markdown",
   "metadata": {},
   "source": [
    "**В столбце наблюдаем выбросы: значения высоты потолков 100 метров, 20-32 метра, 14, 10, а также значения менее 2 метров. Вероятно, при заполнении или выгрузке данных были допущены ошибки, вследствие которых появились значения более 20 метров. Эти значения исправим путем деления на 10. Строки, в которых указана высота потолков больше 7 метров и строки, в которых потолки ниже 2 метров, удалим.** "
   ]
  },
  {
   "cell_type": "code",
   "execution_count": null,
   "metadata": {},
   "outputs": [],
   "source": [
    "df.loc[df['ceiling_height'] >= 20, 'ceiling_height'] = df.loc[df['ceiling_height'] >= 20, 'ceiling_height'] / 10"
   ]
  },
  {
   "cell_type": "code",
   "execution_count": null,
   "metadata": {},
   "outputs": [],
   "source": [
    "df = df[(df['ceiling_height'] < 1) | (df['ceiling_height'] >= 2) | df['ceiling_height'].isna()]"
   ]
  },
  {
   "cell_type": "code",
   "execution_count": null,
   "metadata": {},
   "outputs": [],
   "source": [
    "df = df[(df['ceiling_height'] < 7) | df['ceiling_height'].isna()]"
   ]
  },
  {
   "cell_type": "markdown",
   "metadata": {},
   "source": [
    "**В центре Санкт-Петербурга сохранилось много зданий дореволюционной постройки, а также так называемые \"сталинки\". Дома современной постройки, находящиеся в центре города или недалеко от него, будут относиться к премиальному классу жилья, поэтому потолки там тоже высокие. Рассмотрим корреляцию отдаленности квартиры от центра и высоты потолков.**"
   ]
  },
  {
   "cell_type": "code",
   "execution_count": null,
   "metadata": {},
   "outputs": [],
   "source": [
    "df['ceiling_height'].corr(df['distance_to_center'])\n",
    "df.plot(x='distance_to_center', y='ceiling_height', kind='scatter', \n",
    "        title='Зависимость высоты потолков от удаленности объекта от центра города', color='dodgerblue', alpha=0.5); "
   ]
  },
  {
   "cell_type": "markdown",
   "metadata": {},
   "source": [
    "**Наблюдаем уменьшение высоты потолков по мере удаления от центра города. С помощью функции категоризируем объекты по расстоянию до центра и заполним пропуски. На графике видно, что имеется небольшое количество выбросов (значения 4,5-6 метров), поэтому для заполнения пропусков используем медиану, так как она более устойчива к аномальным значениям.**"
   ]
  },
  {
   "cell_type": "markdown",
   "metadata": {},
   "source": [
    "**Выделим категории следующим образом:**\n",
    "\n",
    "- 0-2км от центра — 'самый центр';\n",
    "- 2-5км от центра — 'центр';\n",
    "- 5-17км от центра — 'в пределах города';\n",
    "- более 17км от центра — 'область'."
   ]
  },
  {
   "cell_type": "code",
   "execution_count": null,
   "metadata": {},
   "outputs": [],
   "source": [
    "def categorize_distance(distance):\n",
    "    try:\n",
    "        if distance < 2000:\n",
    "            return 'самый центр'\n",
    "        if distance < 5000:\n",
    "            return 'центр'\n",
    "        if distance <= 17000:\n",
    "            return 'в пределах города'\n",
    "        if distance > 17000:\n",
    "            return 'область'\n",
    "    except:\n",
    "        pass        "
   ]
  },
  {
   "cell_type": "code",
   "execution_count": null,
   "metadata": {},
   "outputs": [],
   "source": [
    "df['center_remoteness_cat'] = df['distance_to_center'].apply(categorize_distance) # применим функцию"
   ]
  },
  {
   "cell_type": "markdown",
   "metadata": {},
   "source": [
    "**Посмотрим, что получилось:**"
   ]
  },
  {
   "cell_type": "code",
   "execution_count": null,
   "metadata": {},
   "outputs": [],
   "source": [
    "df[['locality_name','distance_to_center','center_remoteness_cat']].head(10)"
   ]
  },
  {
   "cell_type": "markdown",
   "metadata": {},
   "source": [
    "**В функции мы прописали except-pass, поэтому объектам с пропущенным расстоянием до центра категория не присвоится — некоторое количество пропусков в столбце \"высота потолка\" все же останется. Заполним пропуски в столбце ceiling_height медианным значением по категории отдаленности от центра.**"
   ]
  },
  {
   "cell_type": "code",
   "execution_count": null,
   "metadata": {},
   "outputs": [],
   "source": [
    "for c in df['center_remoteness_cat'].unique():\n",
    "    df.loc[(df['center_remoteness_cat'] == c) & (df['ceiling_height'].isna()), 'ceiling_height'] = \\\n",
    "    df.loc[(df['center_remoteness_cat'] == c), 'ceiling_height'].median()\n"
   ]
  },
  {
   "cell_type": "markdown",
   "metadata": {},
   "source": [
    "**Посмотрим, сколько осталось пропусков:**"
   ]
  },
  {
   "cell_type": "code",
   "execution_count": null,
   "metadata": {
    "scrolled": true
   },
   "outputs": [],
   "source": [
    "df['ceiling_height'].isna().sum()"
   ]
  },
  {
   "cell_type": "markdown",
   "metadata": {},
   "source": [
    "**И распределение высоты потолков по удаленности от центра:**"
   ]
  },
  {
   "cell_type": "code",
   "execution_count": null,
   "metadata": {},
   "outputs": [],
   "source": [
    "df.groupby('center_remoteness_cat')['ceiling_height'].mean().sort_values(ascending=False)"
   ]
  },
  {
   "cell_type": "markdown",
   "metadata": {},
   "source": [
    "**Уже лучше. Оставшиеся пропуски оставим без изменений. Посмотрим столбец \"площадь кухни\":**\n",
    "\n",
    "- kitchen_area 2278"
   ]
  },
  {
   "cell_type": "code",
   "execution_count": null,
   "metadata": {
    "scrolled": true
   },
   "outputs": [],
   "source": [
    "np.sort(df['kitchen_area'].unique())"
   ]
  },
  {
   "cell_type": "markdown",
   "metadata": {},
   "source": [
    "**Посмотрим, указана ли площадь кухни в объявлениях о продаже квартир-студий:**"
   ]
  },
  {
   "cell_type": "code",
   "execution_count": null,
   "metadata": {},
   "outputs": [],
   "source": [
    "studio = df[df['studio'] == True]\n",
    "print('Количество пропусков в объявлениях о продаже студий:', studio['kitchen_area'].isnull().sum())"
   ]
  },
  {
   "cell_type": "markdown",
   "metadata": {},
   "source": [
    "**Заполним нулями**"
   ]
  },
  {
   "cell_type": "code",
   "execution_count": null,
   "metadata": {},
   "outputs": [],
   "source": [
    "df.loc[(df['studio'] == True) & (df['kitchen_area'].isna()), 'kitchen_area'] = 0"
   ]
  },
  {
   "cell_type": "markdown",
   "metadata": {},
   "source": [
    "**Посмотрим корреляцию и построим матрицу рассеяния, чтобы проследить взаимосвязь площади кухни, общей площади и жилой площади объекта**"
   ]
  },
  {
   "cell_type": "code",
   "execution_count": null,
   "metadata": {
    "scrolled": false
   },
   "outputs": [],
   "source": [
    "pd.plotting.scatter_matrix(df[['kitchen_area', 'living_area', 'total_area']], figsize=(10,10), color='dodgerblue', alpha=0.5)\n",
    "df[['kitchen_area', 'living_area', 'total_area']].corr()"
   ]
  },
  {
   "cell_type": "markdown",
   "metadata": {},
   "source": [
    "**Видим на графике, что с ростом общей и жилой площади квартиры также увеличивается и площадь кухни. Корреляция площади кухни и жилой площади составляет 0,4, а корреляция площади кухни и общей площади составляет 0,6. Используем эту зависимость для заполнения пропусков в столбце kitchen_area: как и в прошлый раз, категоризируем объекты по общей площади и заполним пропуски в столбце kitchen_area средним значением. \n",
    "Также на матрице видим высокую корреляцию общей и жилой площади — ее значение составляет 0,9. Используем это для заполнения пропусков в столбце living_area.**"
   ]
  },
  {
   "cell_type": "code",
   "execution_count": null,
   "metadata": {},
   "outputs": [],
   "source": [
    "df['total_area'].plot(color='dodgerblue');"
   ]
  },
  {
   "cell_type": "code",
   "execution_count": null,
   "metadata": {
    "scrolled": true
   },
   "outputs": [],
   "source": [
    "df['total_area'].hist(range=(10,200), color='dodgerblue');"
   ]
  },
  {
   "cell_type": "markdown",
   "metadata": {},
   "source": [
    "**Видим на графиках, что площади квартир варьируются от 10 до 800 квадратных метров. Для удобства разделим объекты на категории:**\n",
    "- до 25 квадратных метров;\n",
    "- от 25 до 50 квадратных метров;\n",
    "- от 50 до 100 квадратных метров;\n",
    "- от 100 до 200 квадратных метров;\n",
    "- больше 200 квадратных метров. "
   ]
  },
  {
   "cell_type": "code",
   "execution_count": null,
   "metadata": {},
   "outputs": [],
   "source": [
    "def categorize_total_area(total_area):\n",
    "    try:\n",
    "        if total_area < 50:\n",
    "            return 'до 50 м.кв.'\n",
    "        if total_area < 100:\n",
    "            return 'от 50 до 100 м.кв.'\n",
    "        if total_area <= 200:\n",
    "            return 'от 100 до 200 м.кв.'\n",
    "        if total_area > 200:\n",
    "            return 'больше 200 м.кв.'\n",
    "    except:\n",
    "        pass   "
   ]
  },
  {
   "cell_type": "markdown",
   "metadata": {},
   "source": [
    "**Добавим столбец total_area_cat, применив к данным функцию categorize_total_area**"
   ]
  },
  {
   "cell_type": "code",
   "execution_count": null,
   "metadata": {},
   "outputs": [],
   "source": [
    "df['total_area_cat'] = df['total_area'].apply(categorize_total_area)"
   ]
  },
  {
   "cell_type": "markdown",
   "metadata": {},
   "source": [
    "**Посмотрим распределение и среднюю площадь по каждой категории.**"
   ]
  },
  {
   "cell_type": "code",
   "execution_count": null,
   "metadata": {
    "scrolled": true
   },
   "outputs": [],
   "source": [
    "df['total_area_cat'].value_counts().sort_values(ascending=False) # сколько квартир в каждой категории"
   ]
  },
  {
   "cell_type": "code",
   "execution_count": null,
   "metadata": {},
   "outputs": [],
   "source": [
    "df.groupby('total_area_cat')['total_area'].mean().sort_values(ascending=False) # средняя площадь квартиры в категории"
   ]
  },
  {
   "cell_type": "markdown",
   "metadata": {},
   "source": [
    "**Заполняем пропуски в столбце \"площадь кухни\" средним значением нового столбца**"
   ]
  },
  {
   "cell_type": "code",
   "execution_count": null,
   "metadata": {},
   "outputs": [],
   "source": [
    "for a in df['total_area_cat'].unique():\n",
    "    df.loc[(df['total_area_cat'] == a) & (df['kitchen_area'].isna()), 'kitchen_area'] = \\\n",
    "    df.loc[(df['total_area_cat'] == a), 'kitchen_area'].mean()"
   ]
  },
  {
   "cell_type": "markdown",
   "metadata": {},
   "source": [
    "**Посмотрим среднюю площадь кухни по каждой категории:**"
   ]
  },
  {
   "cell_type": "code",
   "execution_count": null,
   "metadata": {
    "scrolled": false
   },
   "outputs": [],
   "source": [
    "df.groupby('total_area_cat')['kitchen_area'].mean().sort_values(ascending=False)"
   ]
  },
  {
   "cell_type": "markdown",
   "metadata": {},
   "source": [
    "**Аналогичным образом заполним пропуски в столбце living_area — средним значением по категории**"
   ]
  },
  {
   "cell_type": "code",
   "execution_count": null,
   "metadata": {},
   "outputs": [],
   "source": [
    "for liv in df['total_area_cat'].unique():\n",
    "    df.loc[(df['total_area_cat'] == liv) & (df['living_area'].isna()), 'living_area'] = \\\n",
    "    df.loc[(df['total_area_cat'] == liv), 'living_area'].mean()"
   ]
  },
  {
   "cell_type": "markdown",
   "metadata": {},
   "source": [
    "**Посмотрим распределение средней жилой площади по каждой категории:**"
   ]
  },
  {
   "cell_type": "code",
   "execution_count": null,
   "metadata": {
    "scrolled": true
   },
   "outputs": [],
   "source": [
    "df.groupby('total_area_cat')['living_area'].mean().sort_values(ascending=False)"
   ]
  },
  {
   "cell_type": "markdown",
   "metadata": {},
   "source": [
    "### Изменение типов данных"
   ]
  },
  {
   "cell_type": "markdown",
   "metadata": {},
   "source": [
    "**Изменим тип данных в следующих столбцах:**\n",
    "\n",
    "- floors_total, parks_around3000, ponds_around3000, days_exposition с float64 на int64\n",
    "\n",
    "- first_day_exposition с object64 на datetime64 для удобства дальнейшей работы с данными этого столбца\n",
    "\n",
    "- living_area и kitchen_area тип данных оставим без изменений, но преобразуем до значения с 1 знаком после запятой\n",
    "\n",
    "- last_price итоговую цену переведем в тысячи для более удобного восприятия\n",
    "\n",
    "- airports_nearest и distance_to_center переведем в километры, приведем к типу данных int64 \n"
   ]
  },
  {
   "cell_type": "code",
   "execution_count": null,
   "metadata": {},
   "outputs": [],
   "source": [
    "df[['airports_nearest', 'distance_to_center', 'last_price']] = df[['airports_nearest', 'distance_to_center', 'last_price']] / 1000"
   ]
  },
  {
   "cell_type": "code",
   "execution_count": null,
   "metadata": {
    "scrolled": true
   },
   "outputs": [],
   "source": [
    "to_int_list = ['last_price', 'floors_total', 'parks_around3000', 'ponds_around3000', 'days_exposition', 'airports_nearest', 'distance_to_center']\n",
    "  \n",
    "try:\n",
    "    for column in to_int_list:\n",
    "        df[column] = df[df[column].notnull()][column].astype('int64')\n",
    "except:\n",
    "    pass"
   ]
  },
  {
   "cell_type": "code",
   "execution_count": null,
   "metadata": {},
   "outputs": [],
   "source": [
    "df[['living_area', 'total_area', 'kitchen_area']] = df[['living_area', 'total_area', 'kitchen_area']].round(1)"
   ]
  },
  {
   "cell_type": "code",
   "execution_count": null,
   "metadata": {},
   "outputs": [],
   "source": [
    "df['first_day_exposition'] = pd.to_datetime(df['first_day_exposition'])"
   ]
  },
  {
   "cell_type": "code",
   "execution_count": null,
   "metadata": {
    "scrolled": true
   },
   "outputs": [],
   "source": [
    "df.head(10)"
   ]
  },
  {
   "cell_type": "markdown",
   "metadata": {},
   "source": [
    "### Устранение неявных дубликатов"
   ]
  },
  {
   "cell_type": "markdown",
   "metadata": {},
   "source": [
    "**Проверим наличие строк-дубликатов:**"
   ]
  },
  {
   "cell_type": "code",
   "execution_count": null,
   "metadata": {
    "scrolled": true
   },
   "outputs": [],
   "source": [
    "df.duplicated().sum()"
   ]
  },
  {
   "cell_type": "markdown",
   "metadata": {},
   "source": [
    "Явных дубликатов нет, едем дальше."
   ]
  },
  {
   "cell_type": "markdown",
   "metadata": {},
   "source": [
    "**Просмотрим уникальные значения столбца locality_name для поиска и устранения неявных дубликатов:**"
   ]
  },
  {
   "cell_type": "code",
   "execution_count": null,
   "metadata": {},
   "outputs": [],
   "source": [
    "df['locality_name'].unique()"
   ]
  },
  {
   "cell_type": "code",
   "execution_count": null,
   "metadata": {
    "scrolled": true
   },
   "outputs": [],
   "source": [
    "df['locality_name'] = df['locality_name'].str.replace('ё', 'е')\n",
    "\n",
    "df['locality_name'] = df['locality_name'].apply(lambda x: re.sub(r'^(деревня|село|поселок городского типа|городской поселок|коттеджный поселок|\\\n",
    "                                                                 поселок станции|поселок при железнодорожной станции|поселок|садовое товарищество|\\\n",
    "                                                                 садоводческое некоммерческое товарищество)\\s', '', str(x)))\n",
    "\n",
    "# Проверка результата\n",
    "df['locality_name'].unique()\n"
   ]
  },
  {
   "cell_type": "markdown",
   "metadata": {
    "id": "QCcvyY6YAwb-"
   },
   "source": [
    "### Добавление в таблицу новых столбцов"
   ]
  },
  {
   "cell_type": "markdown",
   "metadata": {},
   "source": [
    "\n",
    "**Цена одного квадратного метра**"
   ]
  },
  {
   "cell_type": "code",
   "execution_count": null,
   "metadata": {
    "scrolled": true
   },
   "outputs": [],
   "source": [
    "df.loc[:, 'meter2_price'] = round((df['last_price'] / df['total_area']), 2)"
   ]
  },
  {
   "cell_type": "markdown",
   "metadata": {},
   "source": [
    "**День недели публикации объявления (0 — понедельник, 1 — вторник и так далее)**"
   ]
  },
  {
   "cell_type": "code",
   "execution_count": null,
   "metadata": {},
   "outputs": [],
   "source": [
    "df.loc[:, 'day_of_exposition'] = df['first_day_exposition'].dt.weekday"
   ]
  },
  {
   "cell_type": "markdown",
   "metadata": {},
   "source": [
    "**Месяц публикации объявления**"
   ]
  },
  {
   "cell_type": "code",
   "execution_count": null,
   "metadata": {},
   "outputs": [],
   "source": [
    "df.loc[:, 'month_of_exposition'] = df['first_day_exposition'].dt.month"
   ]
  },
  {
   "cell_type": "markdown",
   "metadata": {},
   "source": [
    "**Год публикации объявления**"
   ]
  },
  {
   "cell_type": "code",
   "execution_count": null,
   "metadata": {},
   "outputs": [],
   "source": [
    "df.loc[:, 'year_of_exposition'] = df['first_day_exposition'].dt.year\n",
    "np.sort(df['year_of_exposition'].unique())"
   ]
  },
  {
   "cell_type": "markdown",
   "metadata": {},
   "source": [
    "**Тип этажа квартиры (значения — «первый», «последний», «другой»)**"
   ]
  },
  {
   "cell_type": "code",
   "execution_count": null,
   "metadata": {},
   "outputs": [],
   "source": [
    "np.sort(df['floors_total'].unique())"
   ]
  },
  {
   "cell_type": "markdown",
   "metadata": {},
   "source": [
    "60 этажей — неожиданный результат. Пока оставим так для добавления столбца, позже обработаем аномальные значения. Создадим функцию:"
   ]
  },
  {
   "cell_type": "code",
   "execution_count": null,
   "metadata": {},
   "outputs": [],
   "source": [
    "try:\n",
    "    def categorize_floor(row):\n",
    "        if row['floor'] == 1:\n",
    "            return 'первый'\n",
    "        elif row['floor'] == row['floors_total']:\n",
    "            return 'последний'\n",
    "        else:\n",
    "            return 'другой'\n",
    "except: \n",
    "    pass"
   ]
  },
  {
   "cell_type": "code",
   "execution_count": null,
   "metadata": {
    "scrolled": true
   },
   "outputs": [],
   "source": [
    "df['floor_type'] = df.apply(categorize_floor, axis=1) # применяем функцию к датафрейму"
   ]
  },
  {
   "cell_type": "markdown",
   "metadata": {},
   "source": [
    "**Посмотрим на результат:**"
   ]
  },
  {
   "cell_type": "code",
   "execution_count": null,
   "metadata": {},
   "outputs": [],
   "source": [
    "df[['meter2_price', 'day_of_exposition', 'month_of_exposition', 'year_of_exposition', 'floor_type']].head()"
   ]
  },
  {
   "cell_type": "markdown",
   "metadata": {},
   "source": [
    "### Вывод"
   ]
  },
  {
   "cell_type": "markdown",
   "metadata": {},
   "source": [
    "**Как мы увидели, данные достаточно загрязнены:**\n",
    "- ошибками (высота потолков записана в целочисленном формате вместо вещественного, что привело к появлению квартир с потолками высотой 20-30 метров);\n",
    "\n",
    "- пропусками, как в данных, предоставляемых пользователями, так и в данных, заполняемых автоматически;\n",
    "\n",
    "- неявными дубликатами в столбце 'locality_name': имеются повторяющиеся названия населенных пунктов: «поселок Рябово» и «поселок городского типа Рябово», «поселок Тельмана» и «посёлок Тельмана» и так далее;\n",
    "\n",
    "- несоответствием форматов.\n",
    "\n",
    "**В ходе предварительной обработки были выполнены следующие действия:**\n",
    "1. Обработаны пропуски в столбцах\n",
    "\n",
    "- balcony заменены на 0\n",
    "\n",
    "- is_apartment заменены на False\n",
    "\n",
    "- ceiling_height произведена категоризация объектов по удаленности от центра города, пропуски заполнены медианным значением по категории\n",
    "\n",
    "- living_area и kitchen_area заполнены средним значением по категории \"общая площадь\" в связи с высокой корреляцией данных показателей\n",
    "\n",
    "2. Изменили тип и представление данных в следующих столбцах:\n",
    "\n",
    "- floors_total, parks_around3000, ponds_around3000, days_exposition с float64 на int64\n",
    "\n",
    "- first_day_exposition с object64 на datetime64 для удобства дальнейшей работы с данными этого столбца\n",
    "\n",
    "- living_area и kitchen_area преобразовали до значения с 1 знаком после запятой\n",
    "\n",
    "- last_price итоговую цену перевели в тысячи для более удобного восприятия\n",
    "\n",
    "- airports_nearest и distance_to_center перевели в километры, привели к типу данных int64 \n",
    "\n",
    "3. Добавили в талицу новые столбцы:\n",
    "\n",
    "- meter2_price средняя цена за квадратный метр\n",
    "\n",
    "- day_of_exposition\tдень недели, когда было размещено объявление\n",
    "\n",
    "- month_of_exposition месяц публикации объявления\n",
    "\n",
    "- year_of_exposition год публикации объявления\n",
    "\n",
    "- floor_type тип этажа квартиры (первый, последний, другой)\n",
    "\n",
    "**Теперь данные готовы для дальнейшего анализа.**"
   ]
  },
  {
   "cell_type": "markdown",
   "metadata": {
    "id": "pPyxrKWTAwb-"
   },
   "source": [
    "## Исследовательский анализ данных"
   ]
  },
  {
   "cell_type": "markdown",
   "metadata": {
    "id": "V2f0D3kLAwb-"
   },
   "source": [
    "**В этом блоке изучим перечисленные ниже параметры объектов. По возможности удалим аномалии. \n",
    "Список параметров:**\n",
    "- общая площадь;\n",
    "- жилая площадь;\n",
    "- площадь кухни;\n",
    "- цена объекта;\n",
    "- количество комнат;\n",
    "- высота потолков;\n",
    "- тип этажа квартиры («первый», «последний», «другой»);\n",
    "- общее количество этажей в доме;\n",
    "- расстояние до центра города в метрах;\n",
    "- расстояние до ближайшего парка**\n",
    "\n",
    "**Изучим, как быстро продавались квартиры (столбец days_exposition). Этот параметр показывает, сколько дней было размещено каждое объявление.\n",
    "Посмотрим, сколько времени обычно занимает продажа: какие продажи можно считать быстрыми, а какие — необычно долгими?\n",
    "Определим факторы, которые больше всего влияют на общую (полную) стоимость объекта.\n",
    "Изучим, зависит ли цена от:**\n",
    "- общей площади;\n",
    "- жилой площади;\n",
    "- площади кухни;\n",
    "- количества комнат;\n",
    "- этажа, на котором расположена квартира (первый, последний, другой);\n",
    "- даты размещения (день недели, месяц, год).**\n",
    "\n",
    "**Посчитаем среднюю цену одного квадратного метра в 10 населённых пунктах с наибольшим числом объявлений. Выделим населённые пункты с самой высокой и низкой стоимостью квадратного метра.**\n",
    "\n",
    "**Ранее мы посчитали расстояние до центра в километрах. Теперь вычислим среднюю стоимость квартир на разном удалении от центра Санкт-Петербурга. Опишем, как стоимость объектов зависит от расстояния до центра города.**"
   ]
  },
  {
   "cell_type": "markdown",
   "metadata": {},
   "source": [
    "### Изучаем данные на предмет наличия аномальных значений"
   ]
  },
  {
   "cell_type": "markdown",
   "metadata": {},
   "source": [
    "**Изучим данные столбцов 'total_area', 'living_area', 'kitchen_area', 'last_price' и построим диаграмму размаха.**"
   ]
  },
  {
   "cell_type": "code",
   "execution_count": null,
   "metadata": {},
   "outputs": [],
   "source": [
    "df[['total_area', 'living_area', 'kitchen_area', 'last_price']].describe()"
   ]
  },
  {
   "cell_type": "code",
   "execution_count": null,
   "metadata": {
    "scrolled": false
   },
   "outputs": [],
   "source": [
    "rows = 2\n",
    "cols = 2\n",
    "fig, axes = plt.subplots(rows, cols, figsize=(50,25))\n",
    "column_list = ['total_area', 'living_area', 'kitchen_area', 'last_price']\n",
    "ylims = [300, 200, 45, 20000]\n",
    "count = 0\n",
    "for r in range(rows):\n",
    "    for c in range(cols):\n",
    "        ax = df.boxplot(column=column_list[count], ax=axes[r,c], fontsize=40)\n",
    "        ax.set_ylim([0, ylims[count]])\n",
    "        count += 1"
   ]
  },
  {
   "cell_type": "markdown",
   "metadata": {},
   "source": [
    "**Значения распределяются следующим образом:**\n",
    "- 'total_area' — в размах \"усов\" падает метраж от 12 до 120 м.кв. Имеется большое количество выбросов — квартиры общей площадью 300-600 кв.метров и даже больше. Например, максимальное значение, полученное при вызове метода decsribe выдало такой результат: общая площадь 900.000000, жилая площадь 409.700000, площадь кухни 112.000000, стоимость\t763000.000000. Посмотрим, какое в данных количество квартир общей площадью более 300 м.кв.\n",
    "- 'living_area' — нормальные значения находятся в диапазоне от 2 до 75 м.кв. \n",
    "- 'kitchen_area' — нормальные значения в диапазоне от 1 до 18 м.кв. Также встречаются значения 0 — это квартиры-студии.\n",
    "- 'last_price' — нормальные значения находятся в диапазоне от 0 до 12 млн.ед."
   ]
  },
  {
   "cell_type": "code",
   "execution_count": null,
   "metadata": {
    "scrolled": false
   },
   "outputs": [],
   "source": [
    "df['total_area'].hist(figsize=(10,6), range=(300,900), bins=50, color='dodgerblue');"
   ]
  },
  {
   "cell_type": "markdown",
   "metadata": {},
   "source": [
    "**На гистограмме видно, что в представленной выборке имеется небольшое количество квартир общей площадью 300-400 м.кв. (около 40), 400-500 м.кв (примерно 15 таких квартир), 4 квартиры площадью более 600 м.кв. Аномалии могут существенно влиять на среднее значение и стандартное отклонение в наборе данных, что может привести к неверным прогнозам или выводам. Удалим строки с квартирами общей площадью более 300 м.кв., чтобы избежать искажения результатов анализа. Посмотрим на выбросы в столбце last_price.**"
   ]
  },
  {
   "cell_type": "code",
   "execution_count": null,
   "metadata": {
    "scrolled": false
   },
   "outputs": [],
   "source": [
    "df['last_price'].hist(figsize=(10,6), range=(20000,77000), bins=50, color='dodgerblue');"
   ]
  },
  {
   "cell_type": "markdown",
   "metadata": {},
   "source": [
    "**В данных имеются квартиры стоимостью 20-30 млн.ед. (примерно 300 таких), 30-40 млн.ед. — порядка 150 квартир и дороже 40 млн. — 182 квартиры. Для более точного анализа оставим объявления о квартирах стоимостью до 20 млн., и еще удалим строку, в которой  указана стоимость 12 тысяч.**"
   ]
  },
  {
   "cell_type": "markdown",
   "metadata": {},
   "source": [
    "**Дальше посмотрим столбцы 'rooms' и'ceiling_height'. Ранее мы обработали аномальные значения в столбце с высотой потолка.**"
   ]
  },
  {
   "cell_type": "code",
   "execution_count": null,
   "metadata": {},
   "outputs": [],
   "source": [
    "df[['rooms', 'ceiling_height']].describe()"
   ]
  },
  {
   "cell_type": "code",
   "execution_count": null,
   "metadata": {
    "scrolled": false
   },
   "outputs": [],
   "source": [
    "plt.ylim(0, 10)\n",
    "df[['rooms', 'ceiling_height']].boxplot();"
   ]
  },
  {
   "cell_type": "markdown",
   "metadata": {},
   "source": [
    "**Наблюдаем:**\n",
    "- 'rooms' нормальные значения от 0 до 6 комнат, максимальное значение 19. \n",
    "- 'ceiling_height' — нормальные значения в диапазоне от 2,6 до 2,75 м. Встречаются значения меньше (2-2,5 метра) и больше — до 6 м."
   ]
  },
  {
   "cell_type": "code",
   "execution_count": null,
   "metadata": {
    "scrolled": true
   },
   "outputs": [],
   "source": [
    "len(df[df['rooms'] > 6]) "
   ]
  },
  {
   "cell_type": "markdown",
   "metadata": {},
   "source": [
    "**Общее количество квартир, в которых больше 6 комнат — 90. Удалим их, чтобы не искажали результаты анализа.**"
   ]
  },
  {
   "cell_type": "code",
   "execution_count": null,
   "metadata": {
    "scrolled": true
   },
   "outputs": [],
   "source": [
    "df = df[(df['last_price'] > 100) & (df['last_price'] < 20000) & (df['total_area'] < 300) & (df['rooms'] < 6)]        "
   ]
  },
  {
   "cell_type": "markdown",
   "metadata": {},
   "source": [
    "Посмотрим отношение нового размера к старому, чтобы узнать, как изменился размер датафрейма."
   ]
  },
  {
   "cell_type": "code",
   "execution_count": null,
   "metadata": {},
   "outputs": [],
   "source": [
    "new_size = df.shape[0]\n",
    "round((new_size / old_size)*100, 2)"
   ]
  },
  {
   "cell_type": "markdown",
   "metadata": {},
   "source": [
    "В пределах допустимых значений. Можно продолжать."
   ]
  },
  {
   "cell_type": "markdown",
   "metadata": {},
   "source": [
    "**Посмотрим распределение типов этажа квартиры («первый», «последний», «другой»)**"
   ]
  },
  {
   "cell_type": "code",
   "execution_count": null,
   "metadata": {},
   "outputs": [],
   "source": [
    "floor_count = df['floor_type'].value_counts()\n",
    "plt.figure(figsize=(10, 6))\n",
    "plt.pie(floor_count, labels=floor_count.index, autopct='%1.1f%%')\n",
    "plt.title('Распределение типов этажей')\n",
    "plt.show()"
   ]
  },
  {
   "cell_type": "markdown",
   "metadata": {},
   "source": [
    "**12,5 % квартир находятся на 1 этаже, 13,8 % — на последнем. Большая часть объектов (73,6 %) располагается на других этажах.**"
   ]
  },
  {
   "cell_type": "markdown",
   "metadata": {},
   "source": [
    "**Посмотрим распределение общего количества этажей в доме**"
   ]
  },
  {
   "cell_type": "code",
   "execution_count": null,
   "metadata": {},
   "outputs": [],
   "source": [
    "df['floors_total'].describe()"
   ]
  },
  {
   "cell_type": "code",
   "execution_count": null,
   "metadata": {},
   "outputs": [],
   "source": [
    "df['floors_total'].hist(range=(1,37), bins=37, color='dodgerblue');"
   ]
  },
  {
   "cell_type": "markdown",
   "metadata": {},
   "source": [
    "**Большинство квартир находятся в пятиэтажных домах, на втором месте — девятиэтажки. Дальше идут 16-ти и 25-этажные дома. Самый высокий дом в Санкт-Петербурге в ЖК Князь Александр Невский — 37 этажей. удалим строки с количеством этажей больше 37.**"
   ]
  },
  {
   "cell_type": "code",
   "execution_count": null,
   "metadata": {},
   "outputs": [],
   "source": [
    "df = df[(df['floors_total'] < 37) | df['floors_total'].isna()]"
   ]
  },
  {
   "cell_type": "markdown",
   "metadata": {},
   "source": [
    "**Расстояние до центра города в метрах**"
   ]
  },
  {
   "cell_type": "code",
   "execution_count": null,
   "metadata": {
    "scrolled": false
   },
   "outputs": [],
   "source": [
    "df[['distance_to_center', 'parks_nearest']].describe()"
   ]
  },
  {
   "cell_type": "code",
   "execution_count": null,
   "metadata": {
    "scrolled": false
   },
   "outputs": [],
   "source": [
    "df['distance_to_center'].hist(bins=50, color='dodgerblue');"
   ]
  },
  {
   "cell_type": "markdown",
   "metadata": {},
   "source": [
    "**Значения расстояния до центра в диапазоне от 180 м до 66 км. Больше всего квартир находятся на расстоянии от 10 до 20 км от центра Санкт-Петербурга.**"
   ]
  },
  {
   "cell_type": "code",
   "execution_count": null,
   "metadata": {},
   "outputs": [],
   "source": [
    "df[df['distance_to_center'] < 0.2]"
   ]
  },
  {
   "cell_type": "markdown",
   "metadata": {},
   "source": [
    "**Вполне правдоподобно, можно оставить. Дальше посмотрим расстояние до ближайшего парка**"
   ]
  },
  {
   "cell_type": "code",
   "execution_count": null,
   "metadata": {},
   "outputs": [],
   "source": [
    "df['parks_nearest'].hist(color='dodgerblue');"
   ]
  },
  {
   "cell_type": "markdown",
   "metadata": {},
   "source": [
    "**Если в радиусе 3000 метров от квартиры есть парк, то чаще всего он в радиусе 1000 метров. Похоже, что данные, заполняемые автоматически с помощью геосервиса, заполнены корректно (без выбросов), за исключением пропусков.**"
   ]
  },
  {
   "cell_type": "markdown",
   "metadata": {},
   "source": [
    "### Анализ времени продажи квартир (столбец days_exposition)"
   ]
  },
  {
   "cell_type": "markdown",
   "metadata": {},
   "source": [
    "**Построим гистограмму, чтобы посмотреть за сколько дней продавались квартиры.**"
   ]
  },
  {
   "cell_type": "code",
   "execution_count": null,
   "metadata": {
    "scrolled": false
   },
   "outputs": [],
   "source": [
    "df['days_exposition'].hist(bins=50, color='dodgerblue');"
   ]
  },
  {
   "cell_type": "markdown",
   "metadata": {},
   "source": [
    "**Более 4000 квартир были проданы меньше, чем за 100 дней. После отметки 100 идет резкий спуск и хвост гистограммы. Посмотрим поближе на пиковые значения.**"
   ]
  },
  {
   "cell_type": "code",
   "execution_count": null,
   "metadata": {
    "scrolled": false
   },
   "outputs": [],
   "source": [
    "df['days_exposition'].hist(range=(0,200), bins=50, color='dodgerblue');"
   ]
  },
  {
   "cell_type": "markdown",
   "metadata": {},
   "source": [
    "**На гистограмме видим пики в районе 45 и 60 дней, небольшой пик в районе 85; устойчивое равномерное снижение числа продаж с 5 до 200 дня с момента размещения объявления. По правилам Яндекс.Недвижимости объявления автоматически снимаются с публикции как раз на 45й и 60й день, в зависимости от типа. Посмотрим среднее и медиану.**"
   ]
  },
  {
   "cell_type": "code",
   "execution_count": null,
   "metadata": {},
   "outputs": [],
   "source": [
    "df['days_exposition'].mean()"
   ]
  },
  {
   "cell_type": "code",
   "execution_count": null,
   "metadata": {},
   "outputs": [],
   "source": [
    "df['days_exposition'].median()"
   ]
  },
  {
   "cell_type": "code",
   "execution_count": null,
   "metadata": {},
   "outputs": [],
   "source": [
    "df['days_exposition'].describe()"
   ]
  },
  {
   "cell_type": "markdown",
   "metadata": {},
   "source": [
    "**Среднее время продажи составляет примерно 181 день. Однако стандартное отклонение достаточно велико (220 дней), что указывает на значительное разнообразие в данных.**\n",
    "\n",
    "Быстрые продажи: Если мы рассмотрим первый квартиль, то увидим, что 25% всех продаж были совершены за 44 дней или меньше.\n",
    "\n",
    "Средние продажи: Медианное значение составляет 93 дней. Это означает, что половина всех продаж была совершена за 93 дней или меньше.\n",
    "\n",
    "Необычно долгие продажи: Если мы рассмотрим третий квартиль, то увидим, что 75% всех продаж были совершены за 226 дней или меньше. Продажи, которые занимают больше времени, можно считать необычно долгими.\n",
    "\n",
    "Максимальное значение в данных составляет 1580 дней, что является очень долгим временем для продажи. Однако это максимальное значение, и такие случаи скорее исключение, чем правило."
   ]
  },
  {
   "cell_type": "markdown",
   "metadata": {},
   "source": [
    "### Изучение зависимости цены объекта от различных факторов. "
   ]
  },
  {
   "cell_type": "markdown",
   "metadata": {},
   "source": [
    "**Чтобы узнать, зависит ли цена от: общей площади; жилой площади; площади кухни; количества комнат; этажа, на котором расположена квартира (первый, последний, другой); даты размещения (день недели, месяц, год), построим матрицу рассеяния.**"
   ]
  },
  {
   "cell_type": "code",
   "execution_count": null,
   "metadata": {
    "scrolled": false
   },
   "outputs": [],
   "source": [
    "columns = ['last_price', 'total_area', 'living_area', 'kitchen_area', 'rooms']\n",
    "df_matrix = df[columns]\n",
    "pd.plotting.scatter_matrix(df_matrix, figsize=(10,10), color='dodgerblue');"
   ]
  },
  {
   "cell_type": "code",
   "execution_count": null,
   "metadata": {
    "scrolled": true
   },
   "outputs": [],
   "source": [
    "df[['last_price', 'total_area', 'living_area', 'kitchen_area', 'rooms']].corr()"
   ]
  },
  {
   "cell_type": "markdown",
   "metadata": {},
   "source": [
    "**Проанализируем взаимосвязи:**\n",
    "- total_area: Коэффициент корреляции составляет 0.768, что указывает на сильную положительную взаимосвязь. Это означает, что с увеличением общей площади, цена на недвижимость также, как правило, увеличивается.\n",
    "- living_area: Коэффициент корреляции составляет 0.654, что также указывает на положительную взаимосвязь, хотя и не такую сильную, как с total_area. Это означает, что с увеличением жилой площади, цена на недвижимость обычно также увеличивается.\n",
    "- kitchen_area: Коэффициент корреляции составляет 0.571, что указывает на умеренную положительную взаимосвязь. Это означает, что с увеличением площади кухни, цена на недвижимость обычно также увеличивается, хотя эта связь не такая сильная, как с total_area или living_area.\n",
    "- rooms: Коэффициент корреляции составляет 0.491, что указывает на слабую положительную взаимосвязь. Это означает, что с увеличением количества комнат, цена на недвижимость обычно также увеличивается, но эта связь слабее, чем с другими признаками."
   ]
  },
  {
   "cell_type": "markdown",
   "metadata": {},
   "source": [
    "**Изучим зависимость стоимости квартиры от дня, месяца и года публикации объявления.**"
   ]
  },
  {
   "cell_type": "code",
   "execution_count": null,
   "metadata": {
    "scrolled": false
   },
   "outputs": [],
   "source": [
    "# columns = ['last_price', 'day_of_exposition', 'month_of_exposition', 'year_of_exposition']\n",
    "\n",
    "mean_price_per_day = df.groupby('day_of_exposition')['last_price'].mean()\n",
    "mean_price_per_month = df.groupby('month_of_exposition')['last_price'].mean()\n",
    "mean_price_per_year = df.groupby('year_of_exposition')['last_price'].mean()\n",
    "\n",
    "fig, ax = plt.subplots(3, 1, figsize=(10, 15))\n",
    "mean_price_per_day.plot(kind='bar', ax=ax[0])\n",
    "ax[0].set_title('Зависимость средней цены от дня недели')\n",
    "ax[0].set_xlabel('День недели')\n",
    "ax[0].set_ylabel('Средняя цена')\n",
    "\n",
    "# График зависимости средней цены от месяца\n",
    "mean_price_per_month.plot(kind='bar', ax=ax[1])\n",
    "ax[1].set_title('Зависимость средней цены от месяца')\n",
    "ax[1].set_xlabel('Месяц')\n",
    "ax[1].set_ylabel('Средняя цена')\n",
    "\n",
    "# График зависимости средней цены от года\n",
    "mean_price_per_year.plot(kind='bar', ax=ax[2])\n",
    "ax[2].set_title('Зависимость средней цены от года')\n",
    "ax[2].set_xlabel('Год')\n",
    "ax[2].set_ylabel('Средняя цена')\n",
    "\n",
    "plt.tight_layout()\n",
    "plt.show()"
   ]
  },
  {
   "cell_type": "markdown",
   "metadata": {},
   "source": [
    "**Итак:**\n",
    "- стоимость квартиры от дня недели публикации практически никак не зависит;\n",
    "- зависимость цены от месяца публикации: цены на квартиры, чьи объявления о продаже были опубликованы в апреле и сентябре, немного выше, чем по остальным месяцам;\n",
    "- зависимость цены от года публикации — в 2014 году цены на квартиры были самые высокие, в 2015-2017 годах можно наблюдать плавное снижение цен, в 2018 году цены на квартиры остаются примерно на том же уровне, а в 2019 году наблюдаем рост цен на недвижимость.\n"
   ]
  },
  {
   "cell_type": "markdown",
   "metadata": {},
   "source": [
    "**Связь этажа и стоимости квартиры**"
   ]
  },
  {
   "cell_type": "code",
   "execution_count": null,
   "metadata": {},
   "outputs": [],
   "source": [
    "plt.figure(figsize=(6,4))\n",
    "sns.barplot(x='floor_type', y='last_price', data=df)\n",
    "\n",
    "plt.title('Взаимосвязь между last_price и floor_type')\n",
    "plt.show()"
   ]
  },
  {
   "cell_type": "markdown",
   "metadata": {},
   "source": [
    "**Наблюдаем, что квартиры на последнем этаже самые дорогие, немного  меньше стоят квартиры на остальных этажах и самые низкие цены на квартиры, находящиеся на первом этаже.**"
   ]
  },
  {
   "cell_type": "markdown",
   "metadata": {},
   "source": [
    "**Посчитаем среднюю цену одного квадратного метра в 10 населённых пунктах с наибольшим числом объявлений — построим сводную таблицу с количеством объявлений и средней ценой квадратного метра для этих населенных пунктов.**"
   ]
  },
  {
   "cell_type": "code",
   "execution_count": null,
   "metadata": {},
   "outputs": [],
   "source": [
    "grouped = df.groupby('locality_name').agg({'meter2_price': 'mean', 'locality_name': 'count'})\n",
    "grouped.columns = ['Средняя стоимость квадратного метра', 'Количество объявлений']\n",
    "top_10_localities = grouped.sort_values('Количество объявлений', ascending=False).head(10)\n",
    "top_10_localities.sort_values('Средняя стоимость квадратного метра', ascending=False)"
   ]
  },
  {
   "cell_type": "code",
   "execution_count": null,
   "metadata": {},
   "outputs": [],
   "source": [
    "plt.figure(figsize=(10,6))\n",
    "top_10_localities['Средняя стоимость квадратного метра'].sort_values(ascending=False).plot(kind='bar');"
   ]
  },
  {
   "cell_type": "markdown",
   "metadata": {},
   "source": [
    "**Самая высокая стоимость квадратного метра в Санкт-Петербурге и Пушкине. Самая низкая цена за квадратный метр в Выборге и Всеволожске.**"
   ]
  },
  {
   "cell_type": "markdown",
   "metadata": {},
   "source": [
    "Ранее мы посчитали расстояние до центра в километрах. Теперь выделим квартиры в Санкт-Петербурге с помощью столбца locality_name и вычислим их среднюю стоимость на разном удалении от центра. "
   ]
  },
  {
   "cell_type": "code",
   "execution_count": null,
   "metadata": {
    "scrolled": true
   },
   "outputs": [],
   "source": [
    "center_price = df[df['locality_name'] == 'Санкт-Петербург']\n",
    "center_price.loc[:, 'distance_to_center_km'] = np.round(center_price['distance_to_center'])\n",
    "average_center_price = center_price.groupby('distance_to_center_km')['last_price'].mean().round(1)\n",
    "average_center_price.columns = ['Расстояние до центра, км', 'Средняя стоимость']\n",
    "average_center_price.head(10)"
   ]
  },
  {
   "cell_type": "markdown",
   "metadata": {},
   "source": [
    "**Посмотрим на графике, как изменяется средняя стоимость квартир по мере удаления от центра Санкт-Петербурга:**"
   ]
  },
  {
   "cell_type": "code",
   "execution_count": null,
   "metadata": {},
   "outputs": [],
   "source": [
    "average_center_price_plt = average_center_price.head(10)\n",
    "plt.title('Зависимость средней стоимости квартиры от удаленности от центра Санкт-Петербурга')\n",
    "plt.xlabel('расстояние до центра, км')\n",
    "plt.ylabel('средняя стоимость')\n",
    "plt.xticks(np.arange(0, 10, step=1)) # изменим шаг на оси x \n",
    "plt.plot(average_center_price_plt);\n",
    "\n",
    "\n"
   ]
  },
  {
   "cell_type": "markdown",
   "metadata": {},
   "source": [
    "**Из данных видно, что стоимость квартиры в Санкт-Петербурге зависит от расстояния до центра города:**\n",
    "\n",
    "- квартиры, расположенные в центре города (0 км), имеют самую высокую среднюю стоимость, равную 31449.1.\n",
    "- с увеличением расстояния до центра города средняя стоимость квартир уменьшается. Например, квартиры, расположенные на расстоянии 1 км от центра, имеют среднюю стоимость 10098.5, а квартиры на расстоянии 2 км -  9447.8.\n",
    "- однако есть некоторые исключения из этого общего тренда. Например, средняя стоимость квартир, расположенных на расстоянии 4 км от центра (9529.4), выше, чем стоимость квартир на расстоянии 3 км (8877.0). Вероятно, это Василеостровский район дает такой показатель.\n",
    "- квартиры, расположенные на расстоянии 9 км от центра, имеют самую низкую среднюю стоимость, равную 6018.8."
   ]
  },
  {
   "cell_type": "markdown",
   "metadata": {},
   "source": [
    "### Вывод"
   ]
  },
  {
   "cell_type": "markdown",
   "metadata": {},
   "source": [
    "В этом блоке изучили перечисленные ниже параметры объектов. \n",
    "Значения распределяются следующим образом:\n",
    "\n",
    "- 'total_area' — в размах \"усов\" падает метраж от 12 до 120 м.кв. Удалили строки со значениями выше 300 м.кв.\n",
    "- 'living_area' — нормальные значения находятся в диапазоне от 2 до 75 м.кв.\n",
    "- 'kitchen_area' — нормальные значения в диапазоне от 1 до 18 м.кв. Также встречаются значения 0 — это квартиры-студии.\n",
    "- 'last_price' — нормальные значения находятся в диапазоне от 0 до 12 млн.ед. Квартиры стоимостью больше 20 млн.ед. удалили из выборки для более точного анализа. \n",
    "- 'rooms' нормальные значения от 0 до 6 комнат, максимальное значение 19. Удалили строки со значением выше 6\n",
    "- 'ceiling_height' — нормальные значения в диапазоне от 2,6 до 2,75 м. \n",
    "- 'floor' — 12,5 % квартир находятся на 1 этаже, 13,8 % — на последнем. Большая часть объектов (73,6 %) располагается на других этажах.\n",
    "- 'floors_total' — большинство квартир находятся в пятиэтажных домах, на втором месте — девятиэтажки. Дальше идут 16-ти и 25-этажные дома. Удалили аномальные значения в столбце.\n",
    "- 'distance_to_center' — значения расстояния до центра в диапазоне от 180 м до 66 км. Больше всего квартир находятся на расстоянии от 10 до 20 км от центра Санкт-Петербурга.\n",
    "- parks_nearest — если в радиусе 3000 метров от квартиры есть парк, то чаще всего он в радиусе 1000 метров. \n",
    "\n",
    "Изучили, как быстро продавались квартиры (столбец days_exposition). Среднее время продажи составляет примерно 181 день. Однако стандартное отклонение достаточно велико (220 дней), что указывает на значительное разнообразие в данных. Быстрые продажи: 25% всех продаж были совершены за 44 дней или меньше. Средние продажи: половина всех продаж была совершена за 93 дней или меньше. Необычно долгие продажи: 75% всех продаж были совершены за 226 дней или меньше. Продажи, которые занимают больше времени, можно считать необычно долгими. Максимальное значение в данных составляет 1580 дней, что является очень долгим временем для продажи. Однако это максимальное значение, и такие случаи скорее исключение, чем правило. \n",
    "\n",
    "Узнали, зависит ли цена от: общей площади; жилой площади; площади кухни; количества комнат; этажа, на котором расположена квартира (первый, последний, другой); даты размещения (день недели, месяц, год).\n",
    "\n",
    "- total_area: Коэффициент корреляции составляет 0.768, что указывает на сильную положительную взаимосвязь. Это означает, что с увеличением общей площади, цена на недвижимость также, как правило, увеличивается.\n",
    "- living_area: Коэффициент корреляции составляет 0.654, что также указывает на положительную взаимосвязь, хотя и не такую сильную, как с total_area. Это означает, что с увеличением жилой площади, цена на недвижимость обычно также увеличивается.\n",
    "- kitchen_area: Коэффициент корреляции составляет 0.571, что указывает на умеренную положительную взаимосвязь. Это означает, что с увеличением площади кухни, цена на недвижимость обычно также увеличивается, хотя эта связь не такая сильная, как с total_area или living_area.\n",
    "- rooms: Коэффициент корреляции составляет 0.491, что указывает на слабую положительную взаимосвязь. Это означает, что с увеличением количества комнат, цена на недвижимость обычно также увеличивается, но эта связь слабее, чем с другими признаками.\n",
    "\n",
    "Изучили зависимость стоимости квартиры от дня, месяца и года публикации объявлени.\n",
    "\n",
    "- стоимость квартиры от дня недели публикации практически никак не зависит;\n",
    "- зависимость цены от месяца публикации: цены на квартиры, чьи объявления о продаже были опубликованы в апреле и сентябре, немного выше, чем по остальным месяцам;\n",
    "- зависимость цены от года публикации — в 2014 году цены на квартиры были самые высокие, в 2015-2017 годах можно наблюдать плавное снижение цен, в 2018 году цены на квартиры остаются примерно на том же уровне, а в 2019 году наблюдаем рост цен на недвижимость.\n",
    "\n",
    "Наблюдаем, что квартиры на последнем этаже самые дорогие, немного меньше стоят квартиры на остальных этажах и самые низкие цены на квартиры, находящиеся на первом этаже. \n",
    "\n",
    "Из данных видно, что стоимость квартиры в Санкт-Петербурге зависит от расстояния до центра города:\n",
    "\n",
    "- квартиры, расположенные в центре города (0 км), имеют самую высокую среднюю стоимость, равную 31449.1.\n",
    "- с увеличением расстояния до центра города средняя стоимость квартир уменьшается. Например, квартиры, расположенные на расстоянии 1 км от центра, имеют среднюю стоимость 10098.5, а квартиры на расстоянии 2 км -  9447.8.\n",
    "- однако есть некоторые исключения из этого общего тренда. Например, средняя стоимость квартир, расположенных на расстоянии 4 км от центра (9529.4), выше, чем стоимость квартир на расстоянии 3 км (8877.0). Вероятно, это Василеостровский район дает такой показатель.\n",
    "- квартиры, расположенные на расстоянии 9 км от центра, имеют самую низкую среднюю стоимость, равную 6018.8."
   ]
  },
  {
   "cell_type": "markdown",
   "metadata": {
    "id": "h7VpzkIDAwb-"
   },
   "source": [
    "### Общий вывод"
   ]
  },
  {
   "cell_type": "markdown",
   "metadata": {},
   "source": [
    "**Предварительная обработка данных**\n",
    "\n",
    "Для исследования предоставлены данные о продажах квартир в Санкт-Петербурге за 6 лет — с 2014 по 2019 годы. Данные содержат 23699 строк в 22 столбцах:\n",
    "\n",
    "- airports_nearest — расстояние до ближайшего аэропорта в метрах (м)\n",
    "\n",
    "- balcony — число балконов\n",
    "\n",
    "- ceiling_height — высота потолков (м)\n",
    "\n",
    "- cityCenters_nearest — расстояние до центра города (м)\n",
    "\n",
    "- days_exposition — сколько дней было размещено объявление (от публикации до снятия)\n",
    "\n",
    "- first_day_exposition — дата публикации\n",
    "\n",
    "- floor — этаж\n",
    "\n",
    "- floors_total — всего этажей в доме\n",
    "\n",
    "- is_apartment — апартаменты (булев тип)\n",
    "\n",
    "- kitchen_area — площадь кухни в квадратных метрах (м²)\n",
    "\n",
    "- last_price — цена на момент снятия с публикации\n",
    "\n",
    "- living_area — жилая площадь в квадратных метрах (м²)\n",
    "\n",
    "- locality_name — название населённого пункта\n",
    "\n",
    "- open_plan — свободная планировка (булев тип)\n",
    "\n",
    "- parks_around3000 — число парков в радиусе 3 км\n",
    "\n",
    "- parks_nearest — расстояние до ближайшего парка (м)\n",
    "\n",
    "- ponds_around3000 — число водоёмов в радиусе 3 км\n",
    "\n",
    "- ponds_nearest — расстояние до ближайшего водоёма (м)\n",
    "\n",
    "- rooms — число комнат\n",
    "\n",
    "- studio — квартира-студия (булев тип)\n",
    "\n",
    "- total_area — общая площадь квартиры в квадратных метрах (м²)\n",
    "\n",
    "- total_images — число фотографий квартиры в объявлении\n",
    "\n",
    "В 14 столбцах были обнаружены пропуски. Пропуски в данных могут появиться вследствие человеческого или технического фактора. Например, при создании объявления о продаже квартиры пользователь оставил поле \"апартаменты\" или \"количество балконов\" пустым, так как квартира не является апартаментами или не имеет балконов. Также возможны ошибки или частичная утрата данных при выгрузке. Большое количество пропусков в столбцах, заполняемых автоматически на основе данных геосервисов, могут появиться вследвие некорректной работы последних.\n",
    "Представленные данные достаточно загрязнены:\n",
    "\n",
    "- ошибками (высота потолков записана в целочисленном формате вместо вещественного, что привело к появлению квартир с потолками высотой 20-30 метров);\n",
    "\n",
    "- пропусками, как в данных, предоставляемых пользователями, так и в данных, заполняемых автоматически;\n",
    "\n",
    "- неявными дубликатами в столбце 'locality_name': имеются повторяющиеся названия населенных пунктов: «поселок Рябово» и «поселок городского типа Рябово», «поселок Тельмана» и «посёлок Тельмана» и так далее;\n",
    "\n",
    "- несоответствием форматов.\n",
    "\n",
    "В ходе предварительной обработки были выполнены следующие действия:\n",
    "\n",
    "Обработаны пропуски в столбцах\n",
    "- balcony заменены на 0\n",
    "\n",
    "- is_apartment заменены на False\n",
    "\n",
    "- ceiling_height произведена категоризация объектов по удаленности от центра города, пропуски заполнены медианным значением по категории\n",
    "\n",
    "- living_area и kitchen_area заполнены средним значением по категории \"общая площадь\" в связи с высокой корреляцией данных показателей.\n",
    "\n",
    "\n",
    "Изменили тип и представление данных в следующих столбцах:\n",
    "\n",
    "- floors_total, parks_around3000, ponds_around3000, days_exposition с float64 на int64\n",
    "\n",
    "- first_day_exposition с object64 на datetime64 для удобства дальнейшей работы с данными этого столбца\n",
    "\n",
    "- living_area и kitchen_area преобразовали до значения с 1 знаком после запятой\n",
    "\n",
    "- last_price итоговую цену перевели в тысячи для более удобного восприятия\n",
    "\n",
    "- airports_nearest и distance_to_center перевели в километры, привели к типу данных int64\n"
   ]
  },
  {
   "cell_type": "markdown",
   "metadata": {},
   "source": [
    "**Проведен исследовательский анализ данных. Параметры объектов распределяются следующим образом:**\n",
    "\n",
    "- 'total_area' — в размах \"усов\" падает метраж от 12 до 120 м.кв. Удалили строки со значениями выше 300 м.кв.\n",
    "- 'living_area' — нормальные значения находятся в диапазоне от 2 до 75 м.кв.\n",
    "- 'kitchen_area' — нормальные значения в диапазоне от 1 до 18 м.кв. Также встречаются значения 0 — это квартиры-студии.\n",
    "- 'last_price' — нормальные значения находятся в диапазоне от 0 до 12 млн.ед. Квартиры стоимостью больше 20 млн.ед. удалили из выборки для более точного анализа. \n",
    "- 'rooms' нормальные значения от 0 до 6 комнат, максимальное значение 19 \n",
    "- 'ceiling_height' — нормальные значения в диапазоне от 2,6 до 2,75 м. \n",
    "- 'floor' — 12,5 % квартир находятся на 1 этаже, 13,8 % — на последнем. Большая часть объектов (73,6 %) располагается на других этажах.\n",
    "- 'floors_total' — большинство квартир находятся в пятиэтажных домах, на втором месте — девятиэтажки. Дальше идут 16-ти и 25-этажные дома. Удалили аномальные значения в столбце.\n",
    "- 'distance_to_center' — значения расстояния до центра в диапазоне от 180 м до 66 км. Больше всего квартир находятся на расстоянии от 10 до 20 км от центра Санкт-Петербурга.\n",
    "- parks_nearest — если в радиусе 3000 метров от квартиры есть парк, то чаще всего он в радиусе 1000 метров. \n",
    "\n",
    "Среднее время продажи составляет примерно 181 день. Однако стандартное отклонение достаточно велико (220 дней), что указывает на значительное разнообразие в данных. Быстрые продажи: 25% всех продаж были совершены за 44 дней или меньше. Средние продажи: половина всех продаж была совершена за 93 дней или меньше. Необычно долгие продажи: 75% всех продаж были совершены за 226 дней или меньше. Продажи, которые занимают больше времени, можно считать необычно долгими. Максимальное значение в данных составляет 1580 дней, что является очень долгим временем для продажи. Однако это максимальное значение, и такие случаи скорее исключение, чем правило. \n",
    "\n",
    "Взаимосвязь стоимости квартиры и различных параметров:\n",
    "\n",
    "- total_area: Коэффициент корреляции составляет 0.768, что указывает на сильную положительную взаимосвязь. Это означает, что с увеличением общей площади, цена на недвижимость также, как правило, увеличивается.\n",
    "- living_area: Коэффициент корреляции составляет 0.654, что также указывает на положительную взаимосвязь, хотя и не такую сильную, как с total_area. Это означает, что с увеличением жилой площади, цена на недвижимость обычно также увеличивается.\n",
    "- kitchen_area: Коэффициент корреляции составляет 0.571, что указывает на умеренную положительную взаимосвязь. Это означает, что с увеличением площади кухни, цена на недвижимость обычно также увеличивается, хотя эта связь не такая сильная, как с total_area или living_area.\n",
    "- rooms: Коэффициент корреляции составляет 0.491, что указывает на слабую положительную взаимосвязь. Это означает, что с увеличением количества комнат, цена на недвижимость обычно также увеличивается, но эта связь слабее, чем с другими признаками.\n",
    "\n",
    "Изучили зависимость стоимости квартиры от дня, месяца и года публикации объявлени.\n",
    "\n",
    "- стоимость квартиры от дня недели публикации практически никак не зависит;\n",
    "- зависимость цены от месяца публикации: цены на квартиры, чьи объявления о продаже были опубликованы в апреле и сентябре, немного выше, чем по остальным месяцам;\n",
    "- зависимость цены от года публикации — в 2014 году цены на квартиры были самые высокие, в 2015-2017 годах можно наблюдать плавное снижение цен, в 2018 году цены на квартиры остаются примерно на том же уровне, а в 2019 году наблюдаем рост цен на недвижимость.\n",
    "\n",
    "Квартиры на последнем этаже самые дорогие, немного меньше стоят квартиры на остальных этажах и самые низкие цены на квартиры, находящиеся на первом этаже. \n",
    "\n",
    "Из данных видно, что стоимость квартиры в Санкт-Петербурге зависит от расстояния до центра города:\n",
    "\n",
    "- квартиры, расположенные в центре города (0 км), имеют самую высокую среднюю стоимость, равную 31449.1.\n",
    "- с увеличением расстояния до центра города средняя стоимость квартир уменьшается. Например, квартиры, расположенные на расстоянии 1 км от центра, имеют среднюю стоимость 10098.5, а квартиры на расстоянии 2 км -  9447.8.\n",
    "- однако есть некоторые исключения из этого общего тренда. Например, средняя стоимость квартир, расположенных на расстоянии 4 км от центра (9529.4), выше, чем стоимость квартир на расстоянии 3 км (8877.0). Вероятно, это Василеостровский район дает такой показатель.\n",
    "- квартиры, расположенные на расстоянии 9 км от центра, имеют самую низкую среднюю стоимость, равную 6018.8."
   ]
  },
  {
   "cell_type": "markdown",
   "metadata": {},
   "source": [
    "**Рекомендации по сбору данных**\n",
    "\n",
    "Загрязненные данные усложняют работу и снижают точность анализа, поэтому для более качественного сбора данных рекомендуется:\n",
    "- столбец locality_name заполнять не вручную, а выбирать наименование населенного пункта из выпадающего списка. Это решит проблему неявных дубликатов в столбце. \n",
    "- сделать некоторые поля обязательными для заполнения пользователем, например ceiling_height, либо предусмотреть автоматическое запонение нулями таких полей как kitchen_area и balcony.\n",
    "- проверить функционирование геосервиса, чтобы в строках, заполняемых автоматически не было пропусков. \n",
    "\n"
   ]
  },
  {
   "cell_type": "code",
   "execution_count": null,
   "metadata": {},
   "outputs": [],
   "source": []
  }
 ],
 "metadata": {
  "ExecuteTimeLog": [
   {
    "duration": 2421,
    "start_time": "2024-02-07T07:04:56.790Z"
   },
   {
    "duration": 42,
    "start_time": "2024-02-07T07:04:59.260Z"
   },
   {
    "duration": 18,
    "start_time": "2024-02-07T07:04:59.358Z"
   },
   {
    "duration": 5,
    "start_time": "2024-02-07T07:04:59.377Z"
   },
   {
    "duration": 4528,
    "start_time": "2024-02-07T07:04:59.384Z"
   },
   {
    "duration": 49,
    "start_time": "2024-02-07T07:05:03.914Z"
   },
   {
    "duration": 27,
    "start_time": "2024-02-07T07:05:03.964Z"
   },
   {
    "duration": 67,
    "start_time": "2024-02-07T07:05:03.993Z"
   },
   {
    "duration": 18,
    "start_time": "2024-02-07T07:05:04.062Z"
   },
   {
    "duration": 86,
    "start_time": "2024-02-07T07:05:04.082Z"
   },
   {
    "duration": 90,
    "start_time": "2024-02-07T07:05:04.169Z"
   },
   {
    "duration": 29,
    "start_time": "2024-02-07T07:05:04.261Z"
   },
   {
    "duration": 19,
    "start_time": "2024-02-07T07:05:04.291Z"
   },
   {
    "duration": 448,
    "start_time": "2024-02-07T07:05:04.313Z"
   },
   {
    "duration": 4,
    "start_time": "2024-02-07T07:05:04.763Z"
   },
   {
    "duration": 17,
    "start_time": "2024-02-07T07:05:04.769Z"
   },
   {
    "duration": 72,
    "start_time": "2024-02-07T07:05:04.787Z"
   },
   {
    "duration": 23,
    "start_time": "2024-02-07T07:05:04.860Z"
   },
   {
    "duration": 4,
    "start_time": "2024-02-07T07:05:04.885Z"
   },
   {
    "duration": 70,
    "start_time": "2024-02-07T07:05:04.891Z"
   },
   {
    "duration": 12,
    "start_time": "2024-02-07T07:05:04.963Z"
   },
   {
    "duration": 6,
    "start_time": "2024-02-07T07:05:04.977Z"
   },
   {
    "duration": 6,
    "start_time": "2024-02-07T07:05:04.984Z"
   },
   {
    "duration": 2218,
    "start_time": "2024-02-07T07:05:05.059Z"
   },
   {
    "duration": 308,
    "start_time": "2024-02-07T07:05:07.279Z"
   },
   {
    "duration": 300,
    "start_time": "2024-02-07T07:05:07.588Z"
   },
   {
    "duration": 3,
    "start_time": "2024-02-07T07:05:07.890Z"
   },
   {
    "duration": 64,
    "start_time": "2024-02-07T07:05:07.895Z"
   },
   {
    "duration": 8,
    "start_time": "2024-02-07T07:05:07.961Z"
   },
   {
    "duration": 11,
    "start_time": "2024-02-07T07:05:07.970Z"
   },
   {
    "duration": 86,
    "start_time": "2024-02-07T07:05:07.983Z"
   },
   {
    "duration": 8,
    "start_time": "2024-02-07T07:05:08.071Z"
   },
   {
    "duration": 78,
    "start_time": "2024-02-07T07:05:08.080Z"
   },
   {
    "duration": 9,
    "start_time": "2024-02-07T07:05:08.160Z"
   },
   {
    "duration": 3112,
    "start_time": "2024-02-07T07:05:08.171Z"
   },
   {
    "duration": 10,
    "start_time": "2024-02-07T07:05:11.284Z"
   },
   {
    "duration": 65,
    "start_time": "2024-02-07T07:05:11.295Z"
   },
   {
    "duration": 9,
    "start_time": "2024-02-07T07:05:11.363Z"
   },
   {
    "duration": 9,
    "start_time": "2024-02-07T07:05:11.375Z"
   },
   {
    "duration": 86,
    "start_time": "2024-02-07T07:05:11.386Z"
   },
   {
    "duration": 7,
    "start_time": "2024-02-07T07:05:11.477Z"
   },
   {
    "duration": 14,
    "start_time": "2024-02-07T07:05:11.485Z"
   },
   {
    "duration": 81,
    "start_time": "2024-02-07T07:05:11.501Z"
   },
   {
    "duration": 94,
    "start_time": "2024-02-07T07:05:11.584Z"
   },
   {
    "duration": 10,
    "start_time": "2024-02-07T07:05:11.680Z"
   },
   {
    "duration": 104,
    "start_time": "2024-02-07T07:05:11.692Z"
   },
   {
    "duration": 64,
    "start_time": "2024-02-07T07:05:11.798Z"
   },
   {
    "duration": 10,
    "start_time": "2024-02-07T07:05:11.864Z"
   },
   {
    "duration": 8,
    "start_time": "2024-02-07T07:05:11.875Z"
   },
   {
    "duration": 10,
    "start_time": "2024-02-07T07:05:11.885Z"
   },
   {
    "duration": 67,
    "start_time": "2024-02-07T07:05:11.896Z"
   },
   {
    "duration": 24,
    "start_time": "2024-02-07T07:05:11.965Z"
   },
   {
    "duration": 971,
    "start_time": "2024-02-07T07:05:11.991Z"
   },
   {
    "duration": 19,
    "start_time": "2024-02-07T07:05:12.964Z"
   },
   {
    "duration": 101,
    "start_time": "2024-02-07T07:05:12.986Z"
   },
   {
    "duration": 2117,
    "start_time": "2024-02-07T07:05:13.089Z"
   },
   {
    "duration": 72,
    "start_time": "2024-02-07T07:05:15.208Z"
   },
   {
    "duration": 80,
    "start_time": "2024-02-07T07:05:15.283Z"
   },
   {
    "duration": 26,
    "start_time": "2024-02-07T07:05:15.365Z"
   },
   {
    "duration": 365,
    "start_time": "2024-02-07T07:05:15.393Z"
   },
   {
    "duration": 512,
    "start_time": "2024-02-07T07:05:15.762Z"
   },
   {
    "duration": 12,
    "start_time": "2024-02-07T07:05:16.276Z"
   },
   {
    "duration": 475,
    "start_time": "2024-02-07T07:05:16.290Z"
   },
   {
    "duration": 8,
    "start_time": "2024-02-07T07:05:16.767Z"
   },
   {
    "duration": 82,
    "start_time": "2024-02-07T07:05:16.777Z"
   },
   {
    "duration": 441,
    "start_time": "2024-02-07T07:05:16.861Z"
   },
   {
    "duration": 77,
    "start_time": "2024-02-07T07:05:17.304Z"
   },
   {
    "duration": 322,
    "start_time": "2024-02-07T07:05:17.383Z"
   },
   {
    "duration": 426,
    "start_time": "2024-02-07T07:05:17.757Z"
   },
   {
    "duration": 518,
    "start_time": "2024-02-07T07:05:18.185Z"
   },
   {
    "duration": 6,
    "start_time": "2024-02-07T07:05:18.758Z"
   },
   {
    "duration": 6,
    "start_time": "2024-02-07T07:05:18.766Z"
   },
   {
    "duration": 19,
    "start_time": "2024-02-07T07:05:18.774Z"
   },
   {
    "duration": 6205,
    "start_time": "2024-02-07T07:05:18.795Z"
   },
   {
    "duration": 67,
    "start_time": "2024-02-07T07:05:25.002Z"
   },
   {
    "duration": 3733,
    "start_time": "2024-02-07T07:05:25.070Z"
   },
   {
    "duration": 17,
    "start_time": "2024-02-07T07:05:28.858Z"
   },
   {
    "duration": 897,
    "start_time": "2024-02-07T07:05:28.878Z"
   },
   {
    "duration": 17,
    "start_time": "2024-02-07T07:05:29.776Z"
   },
   {
    "duration": 72,
    "start_time": "2024-02-07T07:05:29.795Z"
   },
   {
    "duration": 391,
    "start_time": "2024-02-07T07:05:29.870Z"
   },
   {
    "duration": 8,
    "start_time": "2024-02-07T07:08:50.820Z"
   },
   {
    "duration": 109,
    "start_time": "2024-02-07T07:10:13.052Z"
   },
   {
    "duration": 94,
    "start_time": "2024-02-07T07:10:15.070Z"
   },
   {
    "duration": 46,
    "start_time": "2024-02-07T07:53:26.102Z"
   },
   {
    "duration": 1328,
    "start_time": "2024-02-07T07:53:38.869Z"
   },
   {
    "duration": 296,
    "start_time": "2024-02-07T07:53:40.200Z"
   },
   {
    "duration": 38,
    "start_time": "2024-02-07T07:53:40.498Z"
   },
   {
    "duration": 14,
    "start_time": "2024-02-07T07:53:40.537Z"
   },
   {
    "duration": 4,
    "start_time": "2024-02-07T07:53:40.553Z"
   },
   {
    "duration": 1873,
    "start_time": "2024-02-07T07:53:40.559Z"
   },
   {
    "duration": 8,
    "start_time": "2024-02-07T07:53:42.434Z"
   },
   {
    "duration": 6,
    "start_time": "2024-02-07T07:53:42.443Z"
   },
   {
    "duration": 5,
    "start_time": "2024-02-07T07:53:42.450Z"
   },
   {
    "duration": 6,
    "start_time": "2024-02-07T07:53:42.457Z"
   },
   {
    "duration": 8,
    "start_time": "2024-02-07T07:53:42.464Z"
   },
   {
    "duration": 8,
    "start_time": "2024-02-07T07:53:42.474Z"
   },
   {
    "duration": 7,
    "start_time": "2024-02-07T07:53:42.483Z"
   },
   {
    "duration": 9,
    "start_time": "2024-02-07T07:53:42.491Z"
   },
   {
    "duration": 212,
    "start_time": "2024-02-07T07:53:42.502Z"
   },
   {
    "duration": 3,
    "start_time": "2024-02-07T07:53:42.716Z"
   },
   {
    "duration": 16,
    "start_time": "2024-02-07T07:53:42.721Z"
   },
   {
    "duration": 28,
    "start_time": "2024-02-07T07:53:42.738Z"
   },
   {
    "duration": 22,
    "start_time": "2024-02-07T07:53:42.768Z"
   },
   {
    "duration": 6,
    "start_time": "2024-02-07T07:53:42.792Z"
   },
   {
    "duration": 11,
    "start_time": "2024-02-07T07:53:42.799Z"
   },
   {
    "duration": 19,
    "start_time": "2024-02-07T07:53:42.811Z"
   },
   {
    "duration": 35,
    "start_time": "2024-02-07T07:53:42.832Z"
   },
   {
    "duration": 4,
    "start_time": "2024-02-07T07:53:42.869Z"
   },
   {
    "duration": 935,
    "start_time": "2024-02-07T07:53:42.875Z"
   },
   {
    "duration": 129,
    "start_time": "2024-02-07T07:53:43.812Z"
   },
   {
    "duration": 146,
    "start_time": "2024-02-07T07:53:43.943Z"
   },
   {
    "duration": 3,
    "start_time": "2024-02-07T07:53:44.094Z"
   },
   {
    "duration": 12,
    "start_time": "2024-02-07T07:53:44.099Z"
   },
   {
    "duration": 8,
    "start_time": "2024-02-07T07:53:44.112Z"
   },
   {
    "duration": 7,
    "start_time": "2024-02-07T07:53:44.122Z"
   },
   {
    "duration": 41,
    "start_time": "2024-02-07T07:53:44.130Z"
   },
   {
    "duration": 7,
    "start_time": "2024-02-07T07:53:44.173Z"
   },
   {
    "duration": 18,
    "start_time": "2024-02-07T07:53:44.181Z"
   },
   {
    "duration": 7,
    "start_time": "2024-02-07T07:53:44.201Z"
   },
   {
    "duration": 1317,
    "start_time": "2024-02-07T07:53:44.209Z"
   },
   {
    "duration": 9,
    "start_time": "2024-02-07T07:53:45.527Z"
   },
   {
    "duration": 4,
    "start_time": "2024-02-07T07:53:45.537Z"
   },
   {
    "duration": 6,
    "start_time": "2024-02-07T07:53:45.543Z"
   },
   {
    "duration": 9,
    "start_time": "2024-02-07T07:53:45.564Z"
   },
   {
    "duration": 24,
    "start_time": "2024-02-07T07:53:45.575Z"
   },
   {
    "duration": 8,
    "start_time": "2024-02-07T07:53:45.601Z"
   },
   {
    "duration": 7,
    "start_time": "2024-02-07T07:53:45.610Z"
   },
   {
    "duration": 47,
    "start_time": "2024-02-07T07:53:45.619Z"
   },
   {
    "duration": 26,
    "start_time": "2024-02-07T07:53:45.668Z"
   },
   {
    "duration": 6,
    "start_time": "2024-02-07T07:53:45.695Z"
   },
   {
    "duration": 66,
    "start_time": "2024-02-07T07:53:45.703Z"
   },
   {
    "duration": 5,
    "start_time": "2024-02-07T07:53:45.770Z"
   },
   {
    "duration": 7,
    "start_time": "2024-02-07T07:53:45.777Z"
   },
   {
    "duration": 6,
    "start_time": "2024-02-07T07:53:45.785Z"
   },
   {
    "duration": 7,
    "start_time": "2024-02-07T07:53:45.793Z"
   },
   {
    "duration": 5,
    "start_time": "2024-02-07T07:53:45.801Z"
   },
   {
    "duration": 11,
    "start_time": "2024-02-07T07:53:45.807Z"
   },
   {
    "duration": 402,
    "start_time": "2024-02-07T07:53:45.819Z"
   },
   {
    "duration": 16,
    "start_time": "2024-02-07T07:53:46.222Z"
   },
   {
    "duration": 33,
    "start_time": "2024-02-07T07:53:46.239Z"
   },
   {
    "duration": 775,
    "start_time": "2024-02-07T07:53:46.274Z"
   },
   {
    "duration": 24,
    "start_time": "2024-02-07T07:53:47.051Z"
   },
   {
    "duration": 7,
    "start_time": "2024-02-07T07:53:47.077Z"
   },
   {
    "duration": 16,
    "start_time": "2024-02-07T07:53:47.085Z"
   },
   {
    "duration": 142,
    "start_time": "2024-02-07T07:53:47.102Z"
   },
   {
    "duration": 206,
    "start_time": "2024-02-07T07:53:47.245Z"
   },
   {
    "duration": 14,
    "start_time": "2024-02-07T07:53:47.452Z"
   },
   {
    "duration": 165,
    "start_time": "2024-02-07T07:53:47.467Z"
   },
   {
    "duration": 7,
    "start_time": "2024-02-07T07:53:47.633Z"
   },
   {
    "duration": 27,
    "start_time": "2024-02-07T07:53:47.641Z"
   },
   {
    "duration": 203,
    "start_time": "2024-02-07T07:53:47.670Z"
   },
   {
    "duration": 25,
    "start_time": "2024-02-07T07:53:47.875Z"
   },
   {
    "duration": 149,
    "start_time": "2024-02-07T07:53:47.902Z"
   },
   {
    "duration": 181,
    "start_time": "2024-02-07T07:53:48.053Z"
   },
   {
    "duration": 183,
    "start_time": "2024-02-07T07:53:48.235Z"
   },
   {
    "duration": 4,
    "start_time": "2024-02-07T07:53:48.420Z"
   },
   {
    "duration": 5,
    "start_time": "2024-02-07T07:53:48.425Z"
   },
   {
    "duration": 8,
    "start_time": "2024-02-07T07:53:48.431Z"
   },
   {
    "duration": 3125,
    "start_time": "2024-02-07T07:53:48.440Z"
   },
   {
    "duration": 12,
    "start_time": "2024-02-07T07:53:51.567Z"
   },
   {
    "duration": 1701,
    "start_time": "2024-02-07T07:53:51.580Z"
   },
   {
    "duration": 11,
    "start_time": "2024-02-07T07:53:53.283Z"
   },
   {
    "duration": 279,
    "start_time": "2024-02-07T07:53:53.295Z"
   },
   {
    "duration": 15,
    "start_time": "2024-02-07T07:53:53.575Z"
   },
   {
    "duration": 14,
    "start_time": "2024-02-07T07:53:53.591Z"
   },
   {
    "duration": 151,
    "start_time": "2024-02-07T07:53:53.610Z"
   },
   {
    "duration": 125,
    "start_time": "2024-02-07T08:06:47.256Z"
   },
   {
    "duration": 153,
    "start_time": "2024-02-07T08:07:46.289Z"
   },
   {
    "duration": 166,
    "start_time": "2024-02-07T08:07:52.016Z"
   },
   {
    "duration": 129,
    "start_time": "2024-02-07T08:11:59.100Z"
   },
   {
    "duration": 2566,
    "start_time": "2024-02-07T08:12:22.225Z"
   },
   {
    "duration": 1665,
    "start_time": "2024-02-07T08:12:57.569Z"
   },
   {
    "duration": 126,
    "start_time": "2024-02-07T08:13:35.539Z"
   },
   {
    "duration": 90,
    "start_time": "2024-02-07T08:15:16.465Z"
   },
   {
    "duration": 5,
    "start_time": "2024-02-07T08:15:21.473Z"
   },
   {
    "duration": 184,
    "start_time": "2024-02-07T08:15:43.010Z"
   },
   {
    "duration": 15,
    "start_time": "2024-02-07T08:16:31.442Z"
   },
   {
    "duration": 4,
    "start_time": "2024-02-07T08:17:10.745Z"
   },
   {
    "duration": 6,
    "start_time": "2024-02-07T08:20:59.826Z"
   },
   {
    "duration": 16,
    "start_time": "2024-02-07T08:21:08.562Z"
   },
   {
    "duration": 6,
    "start_time": "2024-02-07T08:24:37.515Z"
   },
   {
    "duration": 109,
    "start_time": "2024-02-07T08:25:07.171Z"
   },
   {
    "duration": 3,
    "start_time": "2024-02-07T08:45:26.072Z"
   },
   {
    "duration": 11,
    "start_time": "2024-02-07T09:03:21.067Z"
   },
   {
    "duration": 9,
    "start_time": "2024-02-07T09:03:54.900Z"
   },
   {
    "duration": 39,
    "start_time": "2024-02-07T09:11:24.653Z"
   },
   {
    "duration": 46,
    "start_time": "2024-02-07T09:11:41.996Z"
   },
   {
    "duration": 105,
    "start_time": "2024-02-07T09:12:11.719Z"
   },
   {
    "duration": 16,
    "start_time": "2024-02-07T09:12:17.500Z"
   },
   {
    "duration": 1204,
    "start_time": "2024-02-07T09:13:00.746Z"
   },
   {
    "duration": 98,
    "start_time": "2024-02-07T09:13:01.951Z"
   },
   {
    "duration": 37,
    "start_time": "2024-02-07T09:13:02.051Z"
   },
   {
    "duration": 15,
    "start_time": "2024-02-07T09:13:02.089Z"
   },
   {
    "duration": 4,
    "start_time": "2024-02-07T09:13:02.105Z"
   },
   {
    "duration": 1822,
    "start_time": "2024-02-07T09:13:02.110Z"
   },
   {
    "duration": 10,
    "start_time": "2024-02-07T09:13:03.933Z"
   },
   {
    "duration": 6,
    "start_time": "2024-02-07T09:13:03.944Z"
   },
   {
    "duration": 7,
    "start_time": "2024-02-07T09:13:03.951Z"
   },
   {
    "duration": 7,
    "start_time": "2024-02-07T09:13:03.966Z"
   },
   {
    "duration": 7,
    "start_time": "2024-02-07T09:13:03.974Z"
   },
   {
    "duration": 5,
    "start_time": "2024-02-07T09:13:03.983Z"
   },
   {
    "duration": 6,
    "start_time": "2024-02-07T09:13:03.990Z"
   },
   {
    "duration": 8,
    "start_time": "2024-02-07T09:13:03.997Z"
   },
   {
    "duration": 6,
    "start_time": "2024-02-07T09:13:04.006Z"
   },
   {
    "duration": 205,
    "start_time": "2024-02-07T09:13:04.013Z"
   },
   {
    "duration": 4,
    "start_time": "2024-02-07T09:13:04.219Z"
   },
   {
    "duration": 11,
    "start_time": "2024-02-07T09:13:04.224Z"
   },
   {
    "duration": 23,
    "start_time": "2024-02-07T09:13:04.237Z"
   },
   {
    "duration": 20,
    "start_time": "2024-02-07T09:13:04.264Z"
   },
   {
    "duration": 5,
    "start_time": "2024-02-07T09:13:04.285Z"
   },
   {
    "duration": 16,
    "start_time": "2024-02-07T09:13:04.291Z"
   },
   {
    "duration": 10,
    "start_time": "2024-02-07T09:13:04.309Z"
   },
   {
    "duration": 5,
    "start_time": "2024-02-07T09:13:04.321Z"
   },
   {
    "duration": 6,
    "start_time": "2024-02-07T09:13:04.327Z"
   },
   {
    "duration": 954,
    "start_time": "2024-02-07T09:13:04.334Z"
   },
   {
    "duration": 122,
    "start_time": "2024-02-07T09:13:05.289Z"
   },
   {
    "duration": 134,
    "start_time": "2024-02-07T09:13:05.416Z"
   },
   {
    "duration": 4,
    "start_time": "2024-02-07T09:13:05.552Z"
   },
   {
    "duration": 9,
    "start_time": "2024-02-07T09:13:05.564Z"
   },
   {
    "duration": 15,
    "start_time": "2024-02-07T09:13:05.574Z"
   },
   {
    "duration": 8,
    "start_time": "2024-02-07T09:13:05.590Z"
   },
   {
    "duration": 19,
    "start_time": "2024-02-07T09:13:05.599Z"
   },
   {
    "duration": 7,
    "start_time": "2024-02-07T09:13:05.619Z"
   },
   {
    "duration": 42,
    "start_time": "2024-02-07T09:13:05.628Z"
   },
   {
    "duration": 8,
    "start_time": "2024-02-07T09:13:05.672Z"
   },
   {
    "duration": 7,
    "start_time": "2024-02-07T09:13:05.681Z"
   },
   {
    "duration": 40,
    "start_time": "2024-02-07T09:13:05.689Z"
   },
   {
    "duration": 42,
    "start_time": "2024-02-07T09:13:05.730Z"
   },
   {
    "duration": 6,
    "start_time": "2024-02-07T09:13:05.773Z"
   },
   {
    "duration": 7,
    "start_time": "2024-02-07T09:13:05.780Z"
   },
   {
    "duration": 41,
    "start_time": "2024-02-07T09:13:05.788Z"
   },
   {
    "duration": 42,
    "start_time": "2024-02-07T09:13:05.830Z"
   },
   {
    "duration": 6,
    "start_time": "2024-02-07T09:13:05.873Z"
   },
   {
    "duration": 39,
    "start_time": "2024-02-07T09:13:05.880Z"
   },
   {
    "duration": 105,
    "start_time": "2024-02-07T09:13:05.921Z"
   },
   {
    "duration": 1,
    "start_time": "2024-02-07T09:13:06.027Z"
   },
   {
    "duration": 0,
    "start_time": "2024-02-07T09:13:06.029Z"
   },
   {
    "duration": 0,
    "start_time": "2024-02-07T09:13:06.031Z"
   },
   {
    "duration": 0,
    "start_time": "2024-02-07T09:13:06.032Z"
   },
   {
    "duration": 0,
    "start_time": "2024-02-07T09:13:06.033Z"
   },
   {
    "duration": 0,
    "start_time": "2024-02-07T09:13:06.035Z"
   },
   {
    "duration": 0,
    "start_time": "2024-02-07T09:13:06.036Z"
   },
   {
    "duration": 0,
    "start_time": "2024-02-07T09:13:06.037Z"
   },
   {
    "duration": 0,
    "start_time": "2024-02-07T09:13:06.039Z"
   },
   {
    "duration": 0,
    "start_time": "2024-02-07T09:13:06.040Z"
   },
   {
    "duration": 0,
    "start_time": "2024-02-07T09:13:06.042Z"
   },
   {
    "duration": 0,
    "start_time": "2024-02-07T09:13:06.064Z"
   },
   {
    "duration": 0,
    "start_time": "2024-02-07T09:13:06.066Z"
   },
   {
    "duration": 0,
    "start_time": "2024-02-07T09:13:06.067Z"
   },
   {
    "duration": 0,
    "start_time": "2024-02-07T09:13:06.068Z"
   },
   {
    "duration": 0,
    "start_time": "2024-02-07T09:13:06.070Z"
   },
   {
    "duration": 0,
    "start_time": "2024-02-07T09:13:06.071Z"
   },
   {
    "duration": 0,
    "start_time": "2024-02-07T09:13:06.072Z"
   },
   {
    "duration": 0,
    "start_time": "2024-02-07T09:13:06.073Z"
   },
   {
    "duration": 0,
    "start_time": "2024-02-07T09:13:06.075Z"
   },
   {
    "duration": 0,
    "start_time": "2024-02-07T09:13:06.076Z"
   },
   {
    "duration": 0,
    "start_time": "2024-02-07T09:13:06.077Z"
   },
   {
    "duration": 0,
    "start_time": "2024-02-07T09:13:06.079Z"
   },
   {
    "duration": 0,
    "start_time": "2024-02-07T09:13:06.080Z"
   },
   {
    "duration": 0,
    "start_time": "2024-02-07T09:13:06.082Z"
   },
   {
    "duration": 0,
    "start_time": "2024-02-07T09:13:06.083Z"
   },
   {
    "duration": 0,
    "start_time": "2024-02-07T09:13:06.084Z"
   },
   {
    "duration": 0,
    "start_time": "2024-02-07T09:13:06.086Z"
   },
   {
    "duration": 0,
    "start_time": "2024-02-07T09:13:06.087Z"
   },
   {
    "duration": 0,
    "start_time": "2024-02-07T09:13:06.089Z"
   },
   {
    "duration": 0,
    "start_time": "2024-02-07T09:13:06.091Z"
   },
   {
    "duration": 0,
    "start_time": "2024-02-07T09:13:06.092Z"
   },
   {
    "duration": 0,
    "start_time": "2024-02-07T09:13:06.093Z"
   },
   {
    "duration": 0,
    "start_time": "2024-02-07T09:13:06.094Z"
   },
   {
    "duration": 10,
    "start_time": "2024-02-07T09:14:15.568Z"
   },
   {
    "duration": 10,
    "start_time": "2024-02-07T09:14:47.180Z"
   },
   {
    "duration": 4,
    "start_time": "2024-02-07T09:14:56.548Z"
   },
   {
    "duration": 6,
    "start_time": "2024-02-07T09:15:22.084Z"
   },
   {
    "duration": 11,
    "start_time": "2024-02-07T09:15:52.093Z"
   },
   {
    "duration": 13,
    "start_time": "2024-02-07T09:18:30.934Z"
   },
   {
    "duration": 11,
    "start_time": "2024-02-07T09:18:54.853Z"
   },
   {
    "duration": 11,
    "start_time": "2024-02-07T09:20:43.437Z"
   },
   {
    "duration": 3,
    "start_time": "2024-02-07T09:23:26.207Z"
   },
   {
    "duration": 41,
    "start_time": "2024-02-07T09:24:24.975Z"
   },
   {
    "duration": 4,
    "start_time": "2024-02-07T09:24:50.758Z"
   },
   {
    "duration": 6,
    "start_time": "2024-02-07T09:25:01.686Z"
   },
   {
    "duration": 11,
    "start_time": "2024-02-07T09:25:08.293Z"
   },
   {
    "duration": 11,
    "start_time": "2024-02-07T09:25:28.278Z"
   },
   {
    "duration": 3,
    "start_time": "2024-02-07T09:25:57.007Z"
   },
   {
    "duration": 3,
    "start_time": "2024-02-07T09:29:59.888Z"
   },
   {
    "duration": 679,
    "start_time": "2024-02-07T09:30:01.311Z"
   },
   {
    "duration": 0,
    "start_time": "2024-02-07T09:30:01.992Z"
   },
   {
    "duration": 3,
    "start_time": "2024-02-07T09:31:32.129Z"
   },
   {
    "duration": 659,
    "start_time": "2024-02-07T09:31:38.370Z"
   },
   {
    "duration": 672,
    "start_time": "2024-02-07T09:32:00.240Z"
   },
   {
    "duration": 13,
    "start_time": "2024-02-07T09:32:41.087Z"
   },
   {
    "duration": 3,
    "start_time": "2024-02-07T09:33:43.321Z"
   },
   {
    "duration": 91,
    "start_time": "2024-02-07T09:33:43.326Z"
   },
   {
    "duration": 47,
    "start_time": "2024-02-07T09:33:43.419Z"
   },
   {
    "duration": 15,
    "start_time": "2024-02-07T09:33:43.468Z"
   },
   {
    "duration": 4,
    "start_time": "2024-02-07T09:33:43.485Z"
   },
   {
    "duration": 1910,
    "start_time": "2024-02-07T09:33:43.491Z"
   },
   {
    "duration": 10,
    "start_time": "2024-02-07T09:33:45.403Z"
   },
   {
    "duration": 6,
    "start_time": "2024-02-07T09:33:45.414Z"
   },
   {
    "duration": 5,
    "start_time": "2024-02-07T09:33:45.421Z"
   },
   {
    "duration": 6,
    "start_time": "2024-02-07T09:33:45.427Z"
   },
   {
    "duration": 29,
    "start_time": "2024-02-07T09:33:45.436Z"
   },
   {
    "duration": 5,
    "start_time": "2024-02-07T09:33:45.467Z"
   },
   {
    "duration": 12,
    "start_time": "2024-02-07T09:33:45.473Z"
   },
   {
    "duration": 7,
    "start_time": "2024-02-07T09:33:45.486Z"
   },
   {
    "duration": 7,
    "start_time": "2024-02-07T09:33:45.494Z"
   },
   {
    "duration": 203,
    "start_time": "2024-02-07T09:33:45.502Z"
   },
   {
    "duration": 3,
    "start_time": "2024-02-07T09:33:45.707Z"
   },
   {
    "duration": 17,
    "start_time": "2024-02-07T09:33:45.711Z"
   },
   {
    "duration": 13,
    "start_time": "2024-02-07T09:33:45.729Z"
   },
   {
    "duration": 37,
    "start_time": "2024-02-07T09:33:45.744Z"
   },
   {
    "duration": 5,
    "start_time": "2024-02-07T09:33:45.783Z"
   },
   {
    "duration": 8,
    "start_time": "2024-02-07T09:33:45.789Z"
   },
   {
    "duration": 10,
    "start_time": "2024-02-07T09:33:45.799Z"
   },
   {
    "duration": 5,
    "start_time": "2024-02-07T09:33:45.810Z"
   },
   {
    "duration": 17,
    "start_time": "2024-02-07T09:33:45.817Z"
   },
   {
    "duration": 1048,
    "start_time": "2024-02-07T09:33:45.836Z"
   },
   {
    "duration": 132,
    "start_time": "2024-02-07T09:33:46.886Z"
   },
   {
    "duration": 136,
    "start_time": "2024-02-07T09:33:47.019Z"
   },
   {
    "duration": 3,
    "start_time": "2024-02-07T09:33:47.158Z"
   },
   {
    "duration": 10,
    "start_time": "2024-02-07T09:33:47.164Z"
   },
   {
    "duration": 9,
    "start_time": "2024-02-07T09:33:47.176Z"
   },
   {
    "duration": 17,
    "start_time": "2024-02-07T09:33:47.186Z"
   },
   {
    "duration": 25,
    "start_time": "2024-02-07T09:33:47.204Z"
   },
   {
    "duration": 7,
    "start_time": "2024-02-07T09:33:47.231Z"
   },
   {
    "duration": 29,
    "start_time": "2024-02-07T09:33:47.240Z"
   },
   {
    "duration": 7,
    "start_time": "2024-02-07T09:33:47.271Z"
   },
   {
    "duration": 6,
    "start_time": "2024-02-07T09:33:47.280Z"
   },
   {
    "duration": 20,
    "start_time": "2024-02-07T09:33:47.288Z"
   },
   {
    "duration": 0,
    "start_time": "2024-02-07T09:33:47.309Z"
   },
   {
    "duration": 0,
    "start_time": "2024-02-07T09:33:47.311Z"
   },
   {
    "duration": 0,
    "start_time": "2024-02-07T09:33:47.312Z"
   },
   {
    "duration": 0,
    "start_time": "2024-02-07T09:33:47.313Z"
   },
   {
    "duration": 0,
    "start_time": "2024-02-07T09:33:47.314Z"
   },
   {
    "duration": 0,
    "start_time": "2024-02-07T09:33:47.315Z"
   },
   {
    "duration": 0,
    "start_time": "2024-02-07T09:33:47.316Z"
   },
   {
    "duration": 0,
    "start_time": "2024-02-07T09:33:47.317Z"
   },
   {
    "duration": 0,
    "start_time": "2024-02-07T09:33:47.318Z"
   },
   {
    "duration": 0,
    "start_time": "2024-02-07T09:33:47.319Z"
   },
   {
    "duration": 0,
    "start_time": "2024-02-07T09:33:47.321Z"
   },
   {
    "duration": 0,
    "start_time": "2024-02-07T09:33:47.322Z"
   },
   {
    "duration": 0,
    "start_time": "2024-02-07T09:33:47.366Z"
   },
   {
    "duration": 0,
    "start_time": "2024-02-07T09:33:47.367Z"
   },
   {
    "duration": 382,
    "start_time": "2024-02-07T09:34:32.106Z"
   },
   {
    "duration": 10,
    "start_time": "2024-02-07T09:34:32.835Z"
   },
   {
    "duration": 150,
    "start_time": "2024-02-07T09:35:09.498Z"
   },
   {
    "duration": 62,
    "start_time": "2024-02-07T09:35:27.297Z"
   },
   {
    "duration": 3,
    "start_time": "2024-02-07T09:35:42.601Z"
   },
   {
    "duration": 83,
    "start_time": "2024-02-07T09:35:46.857Z"
   },
   {
    "duration": 10,
    "start_time": "2024-02-07T09:35:47.825Z"
   },
   {
    "duration": 17,
    "start_time": "2024-02-07T09:40:45.660Z"
   },
   {
    "duration": 3,
    "start_time": "2024-02-07T09:41:37.331Z"
   },
   {
    "duration": 91,
    "start_time": "2024-02-07T09:41:40.714Z"
   },
   {
    "duration": 10,
    "start_time": "2024-02-07T09:41:41.530Z"
   },
   {
    "duration": 132,
    "start_time": "2024-02-07T09:57:22.312Z"
   },
   {
    "duration": 4,
    "start_time": "2024-02-07T10:22:23.453Z"
   },
   {
    "duration": 322,
    "start_time": "2024-02-07T10:22:26.635Z"
   },
   {
    "duration": 10,
    "start_time": "2024-02-07T10:22:27.243Z"
   },
   {
    "duration": 3,
    "start_time": "2024-02-07T10:24:05.243Z"
   },
   {
    "duration": 292,
    "start_time": "2024-02-07T10:24:07.965Z"
   },
   {
    "duration": 83,
    "start_time": "2024-02-07T10:26:34.364Z"
   },
   {
    "duration": 4,
    "start_time": "2024-02-07T10:29:37.013Z"
   },
   {
    "duration": 316,
    "start_time": "2024-02-07T10:29:39.636Z"
   },
   {
    "duration": 317,
    "start_time": "2024-02-07T10:31:03.204Z"
   },
   {
    "duration": 210,
    "start_time": "2024-02-07T10:31:35.076Z"
   },
   {
    "duration": 10,
    "start_time": "2024-02-07T10:31:36.732Z"
   },
   {
    "duration": 89,
    "start_time": "2024-02-07T10:43:21.960Z"
   },
   {
    "duration": 3,
    "start_time": "2024-02-07T10:44:45.279Z"
   },
   {
    "duration": 31,
    "start_time": "2024-02-07T10:44:49.767Z"
   },
   {
    "duration": 3,
    "start_time": "2024-02-07T10:45:06.920Z"
   },
   {
    "duration": 96,
    "start_time": "2024-02-07T10:45:06.925Z"
   },
   {
    "duration": 46,
    "start_time": "2024-02-07T10:45:07.023Z"
   },
   {
    "duration": 14,
    "start_time": "2024-02-07T10:45:07.070Z"
   },
   {
    "duration": 6,
    "start_time": "2024-02-07T10:45:07.085Z"
   },
   {
    "duration": 1931,
    "start_time": "2024-02-07T10:45:07.093Z"
   },
   {
    "duration": 9,
    "start_time": "2024-02-07T10:45:09.026Z"
   },
   {
    "duration": 6,
    "start_time": "2024-02-07T10:45:09.037Z"
   },
   {
    "duration": 24,
    "start_time": "2024-02-07T10:45:09.044Z"
   },
   {
    "duration": 7,
    "start_time": "2024-02-07T10:45:09.069Z"
   },
   {
    "duration": 6,
    "start_time": "2024-02-07T10:45:09.078Z"
   },
   {
    "duration": 9,
    "start_time": "2024-02-07T10:45:09.086Z"
   },
   {
    "duration": 5,
    "start_time": "2024-02-07T10:45:09.096Z"
   },
   {
    "duration": 8,
    "start_time": "2024-02-07T10:45:09.102Z"
   },
   {
    "duration": 6,
    "start_time": "2024-02-07T10:45:09.111Z"
   },
   {
    "duration": 208,
    "start_time": "2024-02-07T10:45:09.118Z"
   },
   {
    "duration": 4,
    "start_time": "2024-02-07T10:45:09.327Z"
   },
   {
    "duration": 13,
    "start_time": "2024-02-07T10:45:09.332Z"
   },
   {
    "duration": 25,
    "start_time": "2024-02-07T10:45:09.346Z"
   },
   {
    "duration": 22,
    "start_time": "2024-02-07T10:45:09.373Z"
   },
   {
    "duration": 4,
    "start_time": "2024-02-07T10:45:09.397Z"
   },
   {
    "duration": 9,
    "start_time": "2024-02-07T10:45:09.402Z"
   },
   {
    "duration": 18,
    "start_time": "2024-02-07T10:45:09.412Z"
   },
   {
    "duration": 6,
    "start_time": "2024-02-07T10:45:09.431Z"
   },
   {
    "duration": 31,
    "start_time": "2024-02-07T10:45:09.438Z"
   },
   {
    "duration": 1007,
    "start_time": "2024-02-07T10:45:09.471Z"
   },
   {
    "duration": 125,
    "start_time": "2024-02-07T10:45:10.480Z"
   },
   {
    "duration": 130,
    "start_time": "2024-02-07T10:45:10.607Z"
   },
   {
    "duration": 3,
    "start_time": "2024-02-07T10:45:10.740Z"
   },
   {
    "duration": 21,
    "start_time": "2024-02-07T10:45:10.745Z"
   },
   {
    "duration": 8,
    "start_time": "2024-02-07T10:45:10.767Z"
   },
   {
    "duration": 8,
    "start_time": "2024-02-07T10:45:10.776Z"
   },
   {
    "duration": 18,
    "start_time": "2024-02-07T10:45:10.786Z"
   },
   {
    "duration": 7,
    "start_time": "2024-02-07T10:45:10.806Z"
   },
   {
    "duration": 18,
    "start_time": "2024-02-07T10:45:10.815Z"
   },
   {
    "duration": 35,
    "start_time": "2024-02-07T10:45:10.835Z"
   },
   {
    "duration": 17,
    "start_time": "2024-02-07T10:45:10.871Z"
   },
   {
    "duration": 21,
    "start_time": "2024-02-07T10:45:10.889Z"
   },
   {
    "duration": 0,
    "start_time": "2024-02-07T10:45:10.912Z"
   },
   {
    "duration": 0,
    "start_time": "2024-02-07T10:45:10.913Z"
   },
   {
    "duration": 0,
    "start_time": "2024-02-07T10:45:10.914Z"
   },
   {
    "duration": 0,
    "start_time": "2024-02-07T10:45:10.915Z"
   },
   {
    "duration": 0,
    "start_time": "2024-02-07T10:45:10.916Z"
   },
   {
    "duration": 0,
    "start_time": "2024-02-07T10:45:10.917Z"
   },
   {
    "duration": 0,
    "start_time": "2024-02-07T10:45:10.918Z"
   },
   {
    "duration": 0,
    "start_time": "2024-02-07T10:45:10.920Z"
   },
   {
    "duration": 0,
    "start_time": "2024-02-07T10:45:10.920Z"
   },
   {
    "duration": 0,
    "start_time": "2024-02-07T10:45:10.922Z"
   },
   {
    "duration": 0,
    "start_time": "2024-02-07T10:45:10.923Z"
   },
   {
    "duration": 0,
    "start_time": "2024-02-07T10:45:10.924Z"
   },
   {
    "duration": 0,
    "start_time": "2024-02-07T10:45:10.925Z"
   },
   {
    "duration": 0,
    "start_time": "2024-02-07T10:45:10.926Z"
   },
   {
    "duration": 30,
    "start_time": "2024-02-07T10:45:16.040Z"
   },
   {
    "duration": 359,
    "start_time": "2024-02-07T10:46:09.663Z"
   },
   {
    "duration": 412,
    "start_time": "2024-02-07T10:46:16.184Z"
   },
   {
    "duration": 11,
    "start_time": "2024-02-07T10:46:18.144Z"
   },
   {
    "duration": 86,
    "start_time": "2024-02-07T10:48:48.464Z"
   },
   {
    "duration": 11,
    "start_time": "2024-02-07T10:48:49.479Z"
   },
   {
    "duration": 12,
    "start_time": "2024-02-07T10:53:43.088Z"
   },
   {
    "duration": 11,
    "start_time": "2024-02-07T10:53:59.817Z"
   },
   {
    "duration": 3,
    "start_time": "2024-02-07T10:55:22.086Z"
   },
   {
    "duration": 88,
    "start_time": "2024-02-07T10:55:22.091Z"
   },
   {
    "duration": 10,
    "start_time": "2024-02-07T10:55:22.193Z"
   },
   {
    "duration": 11,
    "start_time": "2024-02-07T10:55:37.409Z"
   },
   {
    "duration": 5,
    "start_time": "2024-02-07T14:23:49.114Z"
   },
   {
    "duration": 2,
    "start_time": "2024-02-07T14:23:49.896Z"
   },
   {
    "duration": 280,
    "start_time": "2024-02-07T14:23:51.497Z"
   },
   {
    "duration": 220,
    "start_time": "2024-02-07T14:24:30.345Z"
   },
   {
    "duration": 11,
    "start_time": "2024-02-07T14:24:31.370Z"
   },
   {
    "duration": 1369,
    "start_time": "2024-02-07T16:55:25.821Z"
   },
   {
    "duration": 145,
    "start_time": "2024-02-07T16:55:27.192Z"
   },
   {
    "duration": 39,
    "start_time": "2024-02-07T16:55:27.339Z"
   },
   {
    "duration": 15,
    "start_time": "2024-02-07T16:55:27.379Z"
   },
   {
    "duration": 4,
    "start_time": "2024-02-07T16:55:27.396Z"
   },
   {
    "duration": 1946,
    "start_time": "2024-02-07T16:55:27.402Z"
   },
   {
    "duration": 10,
    "start_time": "2024-02-07T16:55:29.349Z"
   },
   {
    "duration": 17,
    "start_time": "2024-02-07T16:55:29.361Z"
   },
   {
    "duration": 6,
    "start_time": "2024-02-07T16:55:29.380Z"
   },
   {
    "duration": 7,
    "start_time": "2024-02-07T16:55:29.387Z"
   },
   {
    "duration": 8,
    "start_time": "2024-02-07T16:55:29.396Z"
   },
   {
    "duration": 9,
    "start_time": "2024-02-07T16:55:29.406Z"
   },
   {
    "duration": 6,
    "start_time": "2024-02-07T16:55:29.417Z"
   },
   {
    "duration": 8,
    "start_time": "2024-02-07T16:55:29.425Z"
   },
   {
    "duration": 6,
    "start_time": "2024-02-07T16:55:29.435Z"
   },
   {
    "duration": 229,
    "start_time": "2024-02-07T16:55:29.443Z"
   },
   {
    "duration": 3,
    "start_time": "2024-02-07T16:55:29.673Z"
   },
   {
    "duration": 11,
    "start_time": "2024-02-07T16:55:29.686Z"
   },
   {
    "duration": 24,
    "start_time": "2024-02-07T16:55:29.699Z"
   },
   {
    "duration": 25,
    "start_time": "2024-02-07T16:55:29.724Z"
   },
   {
    "duration": 18,
    "start_time": "2024-02-07T16:55:29.750Z"
   },
   {
    "duration": 17,
    "start_time": "2024-02-07T16:55:29.770Z"
   },
   {
    "duration": 14,
    "start_time": "2024-02-07T16:55:29.788Z"
   },
   {
    "duration": 30,
    "start_time": "2024-02-07T16:55:29.804Z"
   },
   {
    "duration": 13,
    "start_time": "2024-02-07T16:55:29.836Z"
   },
   {
    "duration": 1041,
    "start_time": "2024-02-07T16:55:29.851Z"
   },
   {
    "duration": 134,
    "start_time": "2024-02-07T16:55:30.894Z"
   },
   {
    "duration": 135,
    "start_time": "2024-02-07T16:55:31.030Z"
   },
   {
    "duration": 4,
    "start_time": "2024-02-07T16:55:31.166Z"
   },
   {
    "duration": 38,
    "start_time": "2024-02-07T16:55:31.171Z"
   },
   {
    "duration": 30,
    "start_time": "2024-02-07T16:55:31.211Z"
   },
   {
    "duration": 71,
    "start_time": "2024-02-07T16:55:31.243Z"
   },
   {
    "duration": 37,
    "start_time": "2024-02-07T16:55:31.315Z"
   },
   {
    "duration": 26,
    "start_time": "2024-02-07T16:55:31.354Z"
   },
   {
    "duration": 59,
    "start_time": "2024-02-07T16:55:31.382Z"
   },
   {
    "duration": 46,
    "start_time": "2024-02-07T16:55:31.443Z"
   },
   {
    "duration": 34,
    "start_time": "2024-02-07T16:55:31.491Z"
   },
   {
    "duration": 135,
    "start_time": "2024-02-07T16:55:31.527Z"
   },
   {
    "duration": 0,
    "start_time": "2024-02-07T16:55:31.664Z"
   },
   {
    "duration": 0,
    "start_time": "2024-02-07T16:55:31.666Z"
   },
   {
    "duration": 0,
    "start_time": "2024-02-07T16:55:31.667Z"
   },
   {
    "duration": 0,
    "start_time": "2024-02-07T16:55:31.668Z"
   },
   {
    "duration": 0,
    "start_time": "2024-02-07T16:55:31.670Z"
   },
   {
    "duration": 0,
    "start_time": "2024-02-07T16:55:31.671Z"
   },
   {
    "duration": 0,
    "start_time": "2024-02-07T16:55:31.672Z"
   },
   {
    "duration": 0,
    "start_time": "2024-02-07T16:55:31.673Z"
   },
   {
    "duration": 0,
    "start_time": "2024-02-07T16:55:31.687Z"
   },
   {
    "duration": 0,
    "start_time": "2024-02-07T16:55:31.688Z"
   },
   {
    "duration": 0,
    "start_time": "2024-02-07T16:55:31.689Z"
   },
   {
    "duration": 0,
    "start_time": "2024-02-07T16:55:31.690Z"
   },
   {
    "duration": 0,
    "start_time": "2024-02-07T16:55:31.692Z"
   },
   {
    "duration": 0,
    "start_time": "2024-02-07T16:55:31.692Z"
   },
   {
    "duration": 0,
    "start_time": "2024-02-07T16:55:31.693Z"
   },
   {
    "duration": 0,
    "start_time": "2024-02-07T16:55:31.695Z"
   },
   {
    "duration": 0,
    "start_time": "2024-02-07T16:55:31.696Z"
   },
   {
    "duration": 0,
    "start_time": "2024-02-07T16:55:31.697Z"
   },
   {
    "duration": 0,
    "start_time": "2024-02-07T16:55:31.698Z"
   },
   {
    "duration": 0,
    "start_time": "2024-02-07T16:55:31.699Z"
   },
   {
    "duration": 0,
    "start_time": "2024-02-07T16:55:31.700Z"
   },
   {
    "duration": 0,
    "start_time": "2024-02-07T16:55:31.701Z"
   },
   {
    "duration": 0,
    "start_time": "2024-02-07T16:55:31.703Z"
   },
   {
    "duration": 0,
    "start_time": "2024-02-07T16:55:31.704Z"
   },
   {
    "duration": 0,
    "start_time": "2024-02-07T16:55:31.705Z"
   },
   {
    "duration": 0,
    "start_time": "2024-02-07T16:55:31.707Z"
   },
   {
    "duration": 0,
    "start_time": "2024-02-07T16:55:31.708Z"
   },
   {
    "duration": 0,
    "start_time": "2024-02-07T16:55:31.709Z"
   },
   {
    "duration": 0,
    "start_time": "2024-02-07T16:55:31.710Z"
   },
   {
    "duration": 0,
    "start_time": "2024-02-07T16:55:31.711Z"
   },
   {
    "duration": 0,
    "start_time": "2024-02-07T16:55:31.712Z"
   },
   {
    "duration": 0,
    "start_time": "2024-02-07T16:55:31.714Z"
   },
   {
    "duration": 0,
    "start_time": "2024-02-07T16:55:31.717Z"
   },
   {
    "duration": 0,
    "start_time": "2024-02-07T16:55:31.718Z"
   },
   {
    "duration": 0,
    "start_time": "2024-02-07T16:55:31.720Z"
   },
   {
    "duration": 0,
    "start_time": "2024-02-07T16:55:31.721Z"
   },
   {
    "duration": 0,
    "start_time": "2024-02-07T16:55:31.722Z"
   },
   {
    "duration": 0,
    "start_time": "2024-02-07T16:55:31.723Z"
   },
   {
    "duration": 0,
    "start_time": "2024-02-07T16:55:31.788Z"
   },
   {
    "duration": 0,
    "start_time": "2024-02-07T16:55:31.789Z"
   },
   {
    "duration": 0,
    "start_time": "2024-02-07T16:55:31.790Z"
   },
   {
    "duration": 0,
    "start_time": "2024-02-07T16:55:31.790Z"
   },
   {
    "duration": 1190,
    "start_time": "2024-02-07T17:00:48.974Z"
   },
   {
    "duration": 7,
    "start_time": "2024-02-07T17:31:23.366Z"
   },
   {
    "duration": 26,
    "start_time": "2024-02-07T17:31:40.636Z"
   },
   {
    "duration": 4,
    "start_time": "2024-02-07T17:33:01.861Z"
   },
   {
    "duration": 10,
    "start_time": "2024-02-07T17:33:35.200Z"
   },
   {
    "duration": 3,
    "start_time": "2024-02-07T17:33:42.251Z"
   },
   {
    "duration": 103,
    "start_time": "2024-02-07T17:33:42.256Z"
   },
   {
    "duration": 56,
    "start_time": "2024-02-07T17:33:42.360Z"
   },
   {
    "duration": 14,
    "start_time": "2024-02-07T17:33:42.418Z"
   },
   {
    "duration": 6,
    "start_time": "2024-02-07T17:33:42.433Z"
   },
   {
    "duration": 1966,
    "start_time": "2024-02-07T17:33:42.440Z"
   },
   {
    "duration": 12,
    "start_time": "2024-02-07T17:33:44.408Z"
   },
   {
    "duration": 10,
    "start_time": "2024-02-07T17:33:44.421Z"
   },
   {
    "duration": 6,
    "start_time": "2024-02-07T17:33:44.434Z"
   },
   {
    "duration": 9,
    "start_time": "2024-02-07T17:33:44.441Z"
   },
   {
    "duration": 36,
    "start_time": "2024-02-07T17:33:44.452Z"
   },
   {
    "duration": 7,
    "start_time": "2024-02-07T17:33:44.490Z"
   },
   {
    "duration": 10,
    "start_time": "2024-02-07T17:33:44.498Z"
   },
   {
    "duration": 9,
    "start_time": "2024-02-07T17:33:44.509Z"
   },
   {
    "duration": 5,
    "start_time": "2024-02-07T17:33:44.519Z"
   },
   {
    "duration": 211,
    "start_time": "2024-02-07T17:33:44.525Z"
   },
   {
    "duration": 3,
    "start_time": "2024-02-07T17:33:44.737Z"
   },
   {
    "duration": 17,
    "start_time": "2024-02-07T17:33:44.742Z"
   },
   {
    "duration": 12,
    "start_time": "2024-02-07T17:33:44.761Z"
   },
   {
    "duration": 43,
    "start_time": "2024-02-07T17:33:44.775Z"
   },
   {
    "duration": 4,
    "start_time": "2024-02-07T17:33:44.819Z"
   },
   {
    "duration": 13,
    "start_time": "2024-02-07T17:33:44.825Z"
   },
   {
    "duration": 127,
    "start_time": "2024-02-07T17:33:44.839Z"
   },
   {
    "duration": 5,
    "start_time": "2024-02-07T17:33:44.969Z"
   },
   {
    "duration": 23,
    "start_time": "2024-02-07T17:33:44.975Z"
   },
   {
    "duration": 1151,
    "start_time": "2024-02-07T17:33:45.002Z"
   },
   {
    "duration": 137,
    "start_time": "2024-02-07T17:33:46.154Z"
   },
   {
    "duration": 135,
    "start_time": "2024-02-07T17:33:46.293Z"
   },
   {
    "duration": 3,
    "start_time": "2024-02-07T17:33:46.430Z"
   },
   {
    "duration": 10,
    "start_time": "2024-02-07T17:33:46.435Z"
   },
   {
    "duration": 8,
    "start_time": "2024-02-07T17:33:46.447Z"
   },
   {
    "duration": 20,
    "start_time": "2024-02-07T17:33:46.456Z"
   },
   {
    "duration": 28,
    "start_time": "2024-02-07T17:33:46.488Z"
   },
   {
    "duration": 7,
    "start_time": "2024-02-07T17:33:46.517Z"
   },
   {
    "duration": 21,
    "start_time": "2024-02-07T17:33:46.526Z"
   },
   {
    "duration": 8,
    "start_time": "2024-02-07T17:33:46.548Z"
   },
   {
    "duration": 34,
    "start_time": "2024-02-07T17:33:46.557Z"
   },
   {
    "duration": 12,
    "start_time": "2024-02-07T17:33:46.593Z"
   },
   {
    "duration": 19,
    "start_time": "2024-02-07T17:33:46.607Z"
   },
   {
    "duration": 11,
    "start_time": "2024-02-07T17:33:46.627Z"
   },
   {
    "duration": 29,
    "start_time": "2024-02-07T17:33:46.639Z"
   },
   {
    "duration": 40,
    "start_time": "2024-02-07T17:33:46.669Z"
   },
   {
    "duration": 6,
    "start_time": "2024-02-07T17:33:46.710Z"
   },
   {
    "duration": 57,
    "start_time": "2024-02-07T17:33:46.717Z"
   },
   {
    "duration": 3,
    "start_time": "2024-02-07T17:33:46.776Z"
   },
   {
    "duration": 9,
    "start_time": "2024-02-07T17:33:46.780Z"
   },
   {
    "duration": 8,
    "start_time": "2024-02-07T17:33:46.791Z"
   },
   {
    "duration": 9,
    "start_time": "2024-02-07T17:33:46.802Z"
   },
   {
    "duration": 4,
    "start_time": "2024-02-07T17:33:46.812Z"
   },
   {
    "duration": 5,
    "start_time": "2024-02-07T17:33:46.818Z"
   },
   {
    "duration": 4,
    "start_time": "2024-02-07T17:33:46.824Z"
   },
   {
    "duration": 331,
    "start_time": "2024-02-07T17:33:46.829Z"
   },
   {
    "duration": 90,
    "start_time": "2024-02-07T17:34:52.936Z"
   },
   {
    "duration": 11,
    "start_time": "2024-02-07T17:34:59.045Z"
   },
   {
    "duration": 10,
    "start_time": "2024-02-07T17:39:00.850Z"
   },
   {
    "duration": 4,
    "start_time": "2024-02-07T17:39:21.766Z"
   },
   {
    "duration": 6,
    "start_time": "2024-02-07T17:39:26.681Z"
   },
   {
    "duration": 6,
    "start_time": "2024-02-07T17:39:27.311Z"
   },
   {
    "duration": 8,
    "start_time": "2024-02-07T17:39:27.980Z"
   },
   {
    "duration": 4,
    "start_time": "2024-02-07T17:39:28.779Z"
   },
   {
    "duration": 3,
    "start_time": "2024-02-07T17:39:29.463Z"
   },
   {
    "duration": 2,
    "start_time": "2024-02-07T17:39:29.885Z"
   },
   {
    "duration": 357,
    "start_time": "2024-02-07T17:39:30.812Z"
   },
   {
    "duration": 10,
    "start_time": "2024-02-07T17:39:31.797Z"
   },
   {
    "duration": 28,
    "start_time": "2024-02-07T17:42:03.556Z"
   },
   {
    "duration": 6,
    "start_time": "2024-02-07T17:42:04.061Z"
   },
   {
    "duration": 15,
    "start_time": "2024-02-07T17:42:04.417Z"
   },
   {
    "duration": 28,
    "start_time": "2024-02-07T17:42:04.833Z"
   },
   {
    "duration": 871,
    "start_time": "2024-02-07T18:07:11.491Z"
   },
   {
    "duration": 10,
    "start_time": "2024-02-07T18:07:20.753Z"
   },
   {
    "duration": 6,
    "start_time": "2024-02-07T18:07:28.330Z"
   },
   {
    "duration": 17,
    "start_time": "2024-02-07T18:07:30.641Z"
   },
   {
    "duration": 134,
    "start_time": "2024-02-07T18:07:43.843Z"
   },
   {
    "duration": 127,
    "start_time": "2024-02-07T18:07:55.693Z"
   },
   {
    "duration": 892,
    "start_time": "2024-02-07T18:08:08.210Z"
   },
   {
    "duration": 1182,
    "start_time": "2024-02-07T18:09:32.494Z"
   },
   {
    "duration": 96,
    "start_time": "2024-02-07T18:09:33.677Z"
   },
   {
    "duration": 45,
    "start_time": "2024-02-07T18:09:33.775Z"
   },
   {
    "duration": 15,
    "start_time": "2024-02-07T18:09:33.822Z"
   },
   {
    "duration": 7,
    "start_time": "2024-02-07T18:09:33.838Z"
   },
   {
    "duration": 2094,
    "start_time": "2024-02-07T18:09:33.846Z"
   },
   {
    "duration": 9,
    "start_time": "2024-02-07T18:09:35.941Z"
   },
   {
    "duration": 5,
    "start_time": "2024-02-07T18:09:35.952Z"
   },
   {
    "duration": 16,
    "start_time": "2024-02-07T18:09:35.958Z"
   },
   {
    "duration": 7,
    "start_time": "2024-02-07T18:09:35.976Z"
   },
   {
    "duration": 17,
    "start_time": "2024-02-07T18:09:35.984Z"
   },
   {
    "duration": 6,
    "start_time": "2024-02-07T18:09:36.002Z"
   },
   {
    "duration": 5,
    "start_time": "2024-02-07T18:09:36.010Z"
   },
   {
    "duration": 8,
    "start_time": "2024-02-07T18:09:36.016Z"
   },
   {
    "duration": 5,
    "start_time": "2024-02-07T18:09:36.025Z"
   },
   {
    "duration": 199,
    "start_time": "2024-02-07T18:09:36.031Z"
   },
   {
    "duration": 4,
    "start_time": "2024-02-07T18:09:36.232Z"
   },
   {
    "duration": 14,
    "start_time": "2024-02-07T18:09:36.237Z"
   },
   {
    "duration": 11,
    "start_time": "2024-02-07T18:09:36.252Z"
   },
   {
    "duration": 45,
    "start_time": "2024-02-07T18:09:36.265Z"
   },
   {
    "duration": 3,
    "start_time": "2024-02-07T18:09:36.312Z"
   },
   {
    "duration": 8,
    "start_time": "2024-02-07T18:09:36.317Z"
   },
   {
    "duration": 10,
    "start_time": "2024-02-07T18:09:36.327Z"
   },
   {
    "duration": 5,
    "start_time": "2024-02-07T18:09:36.338Z"
   },
   {
    "duration": 5,
    "start_time": "2024-02-07T18:09:36.344Z"
   },
   {
    "duration": 1067,
    "start_time": "2024-02-07T18:09:36.350Z"
   },
   {
    "duration": 142,
    "start_time": "2024-02-07T18:09:37.419Z"
   },
   {
    "duration": 139,
    "start_time": "2024-02-07T18:09:37.565Z"
   },
   {
    "duration": 3,
    "start_time": "2024-02-07T18:09:37.706Z"
   },
   {
    "duration": 10,
    "start_time": "2024-02-07T18:09:37.711Z"
   },
   {
    "duration": 12,
    "start_time": "2024-02-07T18:09:37.722Z"
   },
   {
    "duration": 11,
    "start_time": "2024-02-07T18:09:37.735Z"
   },
   {
    "duration": 42,
    "start_time": "2024-02-07T18:09:37.747Z"
   },
   {
    "duration": 11,
    "start_time": "2024-02-07T18:09:37.792Z"
   },
   {
    "duration": 21,
    "start_time": "2024-02-07T18:09:37.806Z"
   },
   {
    "duration": 7,
    "start_time": "2024-02-07T18:09:37.828Z"
   },
   {
    "duration": 6,
    "start_time": "2024-02-07T18:09:37.836Z"
   },
   {
    "duration": 57,
    "start_time": "2024-02-07T18:09:37.843Z"
   },
   {
    "duration": 7,
    "start_time": "2024-02-07T18:09:37.903Z"
   },
   {
    "duration": 7,
    "start_time": "2024-02-07T18:09:37.911Z"
   },
   {
    "duration": 35,
    "start_time": "2024-02-07T18:09:37.920Z"
   },
   {
    "duration": 39,
    "start_time": "2024-02-07T18:09:37.957Z"
   },
   {
    "duration": 8,
    "start_time": "2024-02-07T18:09:37.998Z"
   },
   {
    "duration": 44,
    "start_time": "2024-02-07T18:09:38.008Z"
   },
   {
    "duration": 5,
    "start_time": "2024-02-07T18:09:38.053Z"
   },
   {
    "duration": 30,
    "start_time": "2024-02-07T18:09:38.059Z"
   },
   {
    "duration": 10,
    "start_time": "2024-02-07T18:09:38.091Z"
   },
   {
    "duration": 9,
    "start_time": "2024-02-07T18:09:38.103Z"
   },
   {
    "duration": 21,
    "start_time": "2024-02-07T18:09:38.113Z"
   },
   {
    "duration": 3,
    "start_time": "2024-02-07T18:09:38.136Z"
   },
   {
    "duration": 206,
    "start_time": "2024-02-07T18:09:38.140Z"
   },
   {
    "duration": 0,
    "start_time": "2024-02-07T18:09:38.347Z"
   },
   {
    "duration": 0,
    "start_time": "2024-02-07T18:09:38.348Z"
   },
   {
    "duration": 0,
    "start_time": "2024-02-07T18:09:38.349Z"
   },
   {
    "duration": 0,
    "start_time": "2024-02-07T18:09:38.350Z"
   },
   {
    "duration": 0,
    "start_time": "2024-02-07T18:09:38.351Z"
   },
   {
    "duration": 0,
    "start_time": "2024-02-07T18:09:38.352Z"
   },
   {
    "duration": 0,
    "start_time": "2024-02-07T18:09:38.353Z"
   },
   {
    "duration": 0,
    "start_time": "2024-02-07T18:09:38.354Z"
   },
   {
    "duration": 0,
    "start_time": "2024-02-07T18:09:38.355Z"
   },
   {
    "duration": 0,
    "start_time": "2024-02-07T18:09:38.356Z"
   },
   {
    "duration": 0,
    "start_time": "2024-02-07T18:09:38.357Z"
   },
   {
    "duration": 0,
    "start_time": "2024-02-07T18:09:38.358Z"
   },
   {
    "duration": 0,
    "start_time": "2024-02-07T18:09:38.360Z"
   },
   {
    "duration": 0,
    "start_time": "2024-02-07T18:09:38.361Z"
   },
   {
    "duration": 0,
    "start_time": "2024-02-07T18:09:38.362Z"
   },
   {
    "duration": 0,
    "start_time": "2024-02-07T18:09:38.391Z"
   },
   {
    "duration": 0,
    "start_time": "2024-02-07T18:09:38.392Z"
   },
   {
    "duration": 0,
    "start_time": "2024-02-07T18:09:38.392Z"
   },
   {
    "duration": 0,
    "start_time": "2024-02-07T18:09:38.394Z"
   },
   {
    "duration": 0,
    "start_time": "2024-02-07T18:09:38.395Z"
   },
   {
    "duration": 0,
    "start_time": "2024-02-07T18:09:38.395Z"
   },
   {
    "duration": 0,
    "start_time": "2024-02-07T18:09:38.396Z"
   },
   {
    "duration": 0,
    "start_time": "2024-02-07T18:09:38.397Z"
   },
   {
    "duration": 0,
    "start_time": "2024-02-07T18:09:38.399Z"
   },
   {
    "duration": 0,
    "start_time": "2024-02-07T18:09:38.400Z"
   },
   {
    "duration": 0,
    "start_time": "2024-02-07T18:09:38.402Z"
   },
   {
    "duration": 0,
    "start_time": "2024-02-07T18:09:38.550Z"
   },
   {
    "duration": 0,
    "start_time": "2024-02-07T18:09:38.551Z"
   },
   {
    "duration": 214,
    "start_time": "2024-02-07T18:14:29.851Z"
   },
   {
    "duration": 180,
    "start_time": "2024-02-07T18:14:42.799Z"
   },
   {
    "duration": 190,
    "start_time": "2024-02-07T18:14:57.055Z"
   },
   {
    "duration": 3,
    "start_time": "2024-02-07T18:17:21.752Z"
   },
   {
    "duration": 336,
    "start_time": "2024-02-07T18:17:24.333Z"
   },
   {
    "duration": 4,
    "start_time": "2024-02-07T18:24:30.590Z"
   },
   {
    "duration": 149,
    "start_time": "2024-02-07T18:24:30.596Z"
   },
   {
    "duration": 40,
    "start_time": "2024-02-07T18:24:30.747Z"
   },
   {
    "duration": 24,
    "start_time": "2024-02-07T18:24:30.790Z"
   },
   {
    "duration": 4,
    "start_time": "2024-02-07T18:24:30.816Z"
   },
   {
    "duration": 1947,
    "start_time": "2024-02-07T18:24:30.821Z"
   },
   {
    "duration": 9,
    "start_time": "2024-02-07T18:24:32.769Z"
   },
   {
    "duration": 7,
    "start_time": "2024-02-07T18:24:32.787Z"
   },
   {
    "duration": 7,
    "start_time": "2024-02-07T18:24:32.798Z"
   },
   {
    "duration": 30,
    "start_time": "2024-02-07T18:24:32.806Z"
   },
   {
    "duration": 20,
    "start_time": "2024-02-07T18:24:32.838Z"
   },
   {
    "duration": 9,
    "start_time": "2024-02-07T18:24:32.859Z"
   },
   {
    "duration": 16,
    "start_time": "2024-02-07T18:24:32.869Z"
   },
   {
    "duration": 15,
    "start_time": "2024-02-07T18:24:32.886Z"
   },
   {
    "duration": 5,
    "start_time": "2024-02-07T18:24:32.903Z"
   },
   {
    "duration": 193,
    "start_time": "2024-02-07T18:24:32.909Z"
   },
   {
    "duration": 2,
    "start_time": "2024-02-07T18:24:33.104Z"
   },
   {
    "duration": 18,
    "start_time": "2024-02-07T18:24:33.108Z"
   },
   {
    "duration": 9,
    "start_time": "2024-02-07T18:24:33.127Z"
   },
   {
    "duration": 19,
    "start_time": "2024-02-07T18:24:33.138Z"
   },
   {
    "duration": 4,
    "start_time": "2024-02-07T18:24:33.158Z"
   },
   {
    "duration": 25,
    "start_time": "2024-02-07T18:24:33.163Z"
   },
   {
    "duration": 14,
    "start_time": "2024-02-07T18:24:33.190Z"
   },
   {
    "duration": 8,
    "start_time": "2024-02-07T18:24:33.205Z"
   },
   {
    "duration": 6,
    "start_time": "2024-02-07T18:24:33.214Z"
   },
   {
    "duration": 1034,
    "start_time": "2024-02-07T18:24:33.222Z"
   },
   {
    "duration": 125,
    "start_time": "2024-02-07T18:24:34.258Z"
   },
   {
    "duration": 157,
    "start_time": "2024-02-07T18:24:34.387Z"
   },
   {
    "duration": 112,
    "start_time": "2024-02-07T18:24:34.547Z"
   },
   {
    "duration": 21,
    "start_time": "2024-02-07T18:24:34.661Z"
   },
   {
    "duration": 20,
    "start_time": "2024-02-07T18:24:34.683Z"
   },
   {
    "duration": 38,
    "start_time": "2024-02-07T18:24:34.705Z"
   },
   {
    "duration": 35,
    "start_time": "2024-02-07T18:24:34.745Z"
   },
   {
    "duration": 21,
    "start_time": "2024-02-07T18:24:34.782Z"
   },
   {
    "duration": 36,
    "start_time": "2024-02-07T18:24:34.805Z"
   },
   {
    "duration": 9,
    "start_time": "2024-02-07T18:24:34.842Z"
   },
   {
    "duration": 27,
    "start_time": "2024-02-07T18:24:34.852Z"
   },
   {
    "duration": 32,
    "start_time": "2024-02-07T18:24:34.881Z"
   },
   {
    "duration": 7,
    "start_time": "2024-02-07T18:24:34.915Z"
   },
   {
    "duration": 14,
    "start_time": "2024-02-07T18:24:34.924Z"
   },
   {
    "duration": 40,
    "start_time": "2024-02-07T18:24:34.940Z"
   },
   {
    "duration": 35,
    "start_time": "2024-02-07T18:24:34.982Z"
   },
   {
    "duration": 6,
    "start_time": "2024-02-07T18:24:35.018Z"
   },
   {
    "duration": 59,
    "start_time": "2024-02-07T18:24:35.026Z"
   },
   {
    "duration": 6,
    "start_time": "2024-02-07T18:24:35.087Z"
   },
   {
    "duration": 9,
    "start_time": "2024-02-07T18:24:35.096Z"
   },
   {
    "duration": 6,
    "start_time": "2024-02-07T18:24:35.106Z"
   },
   {
    "duration": 7,
    "start_time": "2024-02-07T18:24:35.114Z"
   },
   {
    "duration": 15,
    "start_time": "2024-02-07T18:24:35.123Z"
   },
   {
    "duration": 6,
    "start_time": "2024-02-07T18:24:35.140Z"
   },
   {
    "duration": 344,
    "start_time": "2024-02-07T18:24:35.147Z"
   },
   {
    "duration": 12,
    "start_time": "2024-02-07T18:24:35.493Z"
   },
   {
    "duration": 23,
    "start_time": "2024-02-07T18:24:35.507Z"
   },
   {
    "duration": 829,
    "start_time": "2024-02-07T18:24:35.531Z"
   },
   {
    "duration": 27,
    "start_time": "2024-02-07T18:24:36.362Z"
   },
   {
    "duration": 9,
    "start_time": "2024-02-07T18:24:36.391Z"
   },
   {
    "duration": 16,
    "start_time": "2024-02-07T18:24:36.402Z"
   },
   {
    "duration": 134,
    "start_time": "2024-02-07T18:24:36.420Z"
   },
   {
    "duration": 103,
    "start_time": "2024-02-07T18:24:36.556Z"
   },
   {
    "duration": 7,
    "start_time": "2024-02-07T18:24:36.661Z"
   },
   {
    "duration": 168,
    "start_time": "2024-02-07T18:24:36.670Z"
   },
   {
    "duration": 6,
    "start_time": "2024-02-07T18:24:36.839Z"
   },
   {
    "duration": 16,
    "start_time": "2024-02-07T18:24:36.847Z"
   },
   {
    "duration": 190,
    "start_time": "2024-02-07T18:24:36.865Z"
   },
   {
    "duration": 45,
    "start_time": "2024-02-07T18:24:37.056Z"
   },
   {
    "duration": 140,
    "start_time": "2024-02-07T18:24:37.103Z"
   },
   {
    "duration": 191,
    "start_time": "2024-02-07T18:24:37.245Z"
   },
   {
    "duration": 259,
    "start_time": "2024-02-07T18:24:37.437Z"
   },
   {
    "duration": 6,
    "start_time": "2024-02-07T18:24:37.698Z"
   },
   {
    "duration": 5,
    "start_time": "2024-02-07T18:24:37.705Z"
   },
   {
    "duration": 8,
    "start_time": "2024-02-07T18:24:37.711Z"
   },
   {
    "duration": 2536,
    "start_time": "2024-02-07T18:24:37.720Z"
   },
   {
    "duration": 12,
    "start_time": "2024-02-07T18:24:40.257Z"
   },
   {
    "duration": 1776,
    "start_time": "2024-02-07T18:24:40.271Z"
   },
   {
    "duration": 9,
    "start_time": "2024-02-07T18:24:42.049Z"
   },
   {
    "duration": 318,
    "start_time": "2024-02-07T18:24:42.060Z"
   },
   {
    "duration": 18,
    "start_time": "2024-02-07T18:24:42.380Z"
   },
   {
    "duration": 13,
    "start_time": "2024-02-07T18:24:42.400Z"
   },
   {
    "duration": 154,
    "start_time": "2024-02-07T18:24:42.414Z"
   },
   {
    "duration": 2669,
    "start_time": "2024-02-07T18:25:14.507Z"
   },
   {
    "duration": 177,
    "start_time": "2024-02-07T18:40:23.483Z"
   },
   {
    "duration": 158,
    "start_time": "2024-02-07T18:40:41.550Z"
   },
   {
    "duration": 147,
    "start_time": "2024-02-07T18:42:51.094Z"
   },
   {
    "duration": 147,
    "start_time": "2024-02-07T18:43:17.823Z"
   },
   {
    "duration": 160,
    "start_time": "2024-02-07T18:45:03.273Z"
   },
   {
    "duration": 182,
    "start_time": "2024-02-07T18:45:20.693Z"
   },
   {
    "duration": 269,
    "start_time": "2024-02-07T18:45:26.798Z"
   },
   {
    "duration": 168,
    "start_time": "2024-02-07T18:52:55.412Z"
   },
   {
    "duration": 182,
    "start_time": "2024-02-07T18:53:04.446Z"
   },
   {
    "duration": 178,
    "start_time": "2024-02-07T18:54:11.184Z"
   },
   {
    "duration": 5,
    "start_time": "2024-02-07T18:58:21.321Z"
   },
   {
    "duration": 4,
    "start_time": "2024-02-07T18:58:43.123Z"
   },
   {
    "duration": 4,
    "start_time": "2024-02-07T18:59:03.588Z"
   },
   {
    "duration": 6,
    "start_time": "2024-02-07T18:59:06.034Z"
   },
   {
    "duration": 5,
    "start_time": "2024-02-07T18:59:52.422Z"
   },
   {
    "duration": 163,
    "start_time": "2024-02-07T19:03:26.966Z"
   },
   {
    "duration": 5,
    "start_time": "2024-02-07T19:06:18.534Z"
   },
   {
    "duration": 8,
    "start_time": "2024-02-07T19:06:43.879Z"
   },
   {
    "duration": 4,
    "start_time": "2024-02-07T19:06:51.721Z"
   },
   {
    "duration": 1138,
    "start_time": "2024-02-07T19:07:29.697Z"
   },
   {
    "duration": 92,
    "start_time": "2024-02-07T19:07:30.837Z"
   },
   {
    "duration": 35,
    "start_time": "2024-02-07T19:07:30.930Z"
   },
   {
    "duration": 16,
    "start_time": "2024-02-07T19:07:30.967Z"
   },
   {
    "duration": 8,
    "start_time": "2024-02-07T19:07:30.987Z"
   },
   {
    "duration": 1827,
    "start_time": "2024-02-07T19:07:30.997Z"
   },
   {
    "duration": 9,
    "start_time": "2024-02-07T19:07:32.825Z"
   },
   {
    "duration": 24,
    "start_time": "2024-02-07T19:07:32.835Z"
   },
   {
    "duration": 23,
    "start_time": "2024-02-07T19:07:32.861Z"
   },
   {
    "duration": 16,
    "start_time": "2024-02-07T19:07:32.886Z"
   },
   {
    "duration": 16,
    "start_time": "2024-02-07T19:07:32.903Z"
   },
   {
    "duration": 9,
    "start_time": "2024-02-07T19:07:32.920Z"
   },
   {
    "duration": 32,
    "start_time": "2024-02-07T19:07:32.930Z"
   },
   {
    "duration": 22,
    "start_time": "2024-02-07T19:07:32.963Z"
   },
   {
    "duration": 32,
    "start_time": "2024-02-07T19:07:32.986Z"
   },
   {
    "duration": 191,
    "start_time": "2024-02-07T19:07:33.019Z"
   },
   {
    "duration": 3,
    "start_time": "2024-02-07T19:07:33.211Z"
   },
   {
    "duration": 32,
    "start_time": "2024-02-07T19:07:33.216Z"
   },
   {
    "duration": 31,
    "start_time": "2024-02-07T19:07:33.250Z"
   },
   {
    "duration": 42,
    "start_time": "2024-02-07T19:07:33.282Z"
   },
   {
    "duration": 13,
    "start_time": "2024-02-07T19:07:33.326Z"
   },
   {
    "duration": 31,
    "start_time": "2024-02-07T19:07:33.340Z"
   },
   {
    "duration": 12,
    "start_time": "2024-02-07T19:07:33.372Z"
   },
   {
    "duration": 22,
    "start_time": "2024-02-07T19:07:33.386Z"
   },
   {
    "duration": 18,
    "start_time": "2024-02-07T19:07:33.409Z"
   },
   {
    "duration": 947,
    "start_time": "2024-02-07T19:07:33.428Z"
   },
   {
    "duration": 148,
    "start_time": "2024-02-07T19:07:34.377Z"
   },
   {
    "duration": 131,
    "start_time": "2024-02-07T19:07:34.528Z"
   },
   {
    "duration": 3,
    "start_time": "2024-02-07T19:07:34.660Z"
   },
   {
    "duration": 23,
    "start_time": "2024-02-07T19:07:34.664Z"
   },
   {
    "duration": 22,
    "start_time": "2024-02-07T19:07:34.688Z"
   },
   {
    "duration": 23,
    "start_time": "2024-02-07T19:07:34.711Z"
   },
   {
    "duration": 31,
    "start_time": "2024-02-07T19:07:34.735Z"
   },
   {
    "duration": 22,
    "start_time": "2024-02-07T19:07:34.767Z"
   },
   {
    "duration": 27,
    "start_time": "2024-02-07T19:07:34.791Z"
   },
   {
    "duration": 17,
    "start_time": "2024-02-07T19:07:34.820Z"
   },
   {
    "duration": 20,
    "start_time": "2024-02-07T19:07:34.838Z"
   },
   {
    "duration": 46,
    "start_time": "2024-02-07T19:07:34.860Z"
   },
   {
    "duration": 7,
    "start_time": "2024-02-07T19:07:34.908Z"
   },
   {
    "duration": 35,
    "start_time": "2024-02-07T19:07:34.916Z"
   },
   {
    "duration": 61,
    "start_time": "2024-02-07T19:07:34.952Z"
   },
   {
    "duration": 38,
    "start_time": "2024-02-07T19:07:35.015Z"
   },
   {
    "duration": 6,
    "start_time": "2024-02-07T19:07:35.054Z"
   },
   {
    "duration": 52,
    "start_time": "2024-02-07T19:07:35.062Z"
   },
   {
    "duration": 5,
    "start_time": "2024-02-07T19:07:35.115Z"
   },
   {
    "duration": 7,
    "start_time": "2024-02-07T19:07:35.121Z"
   },
   {
    "duration": 5,
    "start_time": "2024-02-07T19:07:35.129Z"
   },
   {
    "duration": 7,
    "start_time": "2024-02-07T19:07:35.135Z"
   },
   {
    "duration": 4,
    "start_time": "2024-02-07T19:07:35.143Z"
   },
   {
    "duration": 5,
    "start_time": "2024-02-07T19:07:35.148Z"
   },
   {
    "duration": 347,
    "start_time": "2024-02-07T19:07:35.156Z"
   },
   {
    "duration": 10,
    "start_time": "2024-02-07T19:07:35.504Z"
   },
   {
    "duration": 21,
    "start_time": "2024-02-07T19:07:35.515Z"
   },
   {
    "duration": 854,
    "start_time": "2024-02-07T19:07:35.537Z"
   },
   {
    "duration": 194,
    "start_time": "2024-02-07T19:07:36.393Z"
   },
   {
    "duration": 170,
    "start_time": "2024-02-07T19:07:36.588Z"
   },
   {
    "duration": 5,
    "start_time": "2024-02-07T19:07:36.759Z"
   },
   {
    "duration": 6,
    "start_time": "2024-02-07T19:07:36.765Z"
   },
   {
    "duration": 27,
    "start_time": "2024-02-07T19:07:36.773Z"
   },
   {
    "duration": 123,
    "start_time": "2024-02-07T19:07:36.801Z"
   },
   {
    "duration": 88,
    "start_time": "2024-02-07T19:07:36.925Z"
   },
   {
    "duration": 8,
    "start_time": "2024-02-07T19:07:37.014Z"
   },
   {
    "duration": 158,
    "start_time": "2024-02-07T19:07:37.023Z"
   },
   {
    "duration": 7,
    "start_time": "2024-02-07T19:07:37.183Z"
   },
   {
    "duration": 21,
    "start_time": "2024-02-07T19:07:37.192Z"
   },
   {
    "duration": 162,
    "start_time": "2024-02-07T19:07:37.214Z"
   },
   {
    "duration": 41,
    "start_time": "2024-02-07T19:07:37.377Z"
   },
   {
    "duration": 132,
    "start_time": "2024-02-07T19:07:37.420Z"
   },
   {
    "duration": 176,
    "start_time": "2024-02-07T19:07:37.553Z"
   },
   {
    "duration": 243,
    "start_time": "2024-02-07T19:07:37.730Z"
   },
   {
    "duration": 4,
    "start_time": "2024-02-07T19:07:38.010Z"
   },
   {
    "duration": 5,
    "start_time": "2024-02-07T19:07:38.016Z"
   },
   {
    "duration": 8,
    "start_time": "2024-02-07T19:07:38.023Z"
   },
   {
    "duration": 2405,
    "start_time": "2024-02-07T19:07:38.032Z"
   },
   {
    "duration": 11,
    "start_time": "2024-02-07T19:07:40.439Z"
   },
   {
    "duration": 1638,
    "start_time": "2024-02-07T19:07:40.452Z"
   },
   {
    "duration": 11,
    "start_time": "2024-02-07T19:07:42.091Z"
   },
   {
    "duration": 297,
    "start_time": "2024-02-07T19:07:42.103Z"
   },
   {
    "duration": 14,
    "start_time": "2024-02-07T19:07:42.401Z"
   },
   {
    "duration": 13,
    "start_time": "2024-02-07T19:07:42.416Z"
   },
   {
    "duration": 156,
    "start_time": "2024-02-07T19:07:42.430Z"
   },
   {
    "duration": 3,
    "start_time": "2024-02-07T19:08:31.114Z"
   },
   {
    "duration": 95,
    "start_time": "2024-02-07T19:08:31.165Z"
   },
   {
    "duration": 39,
    "start_time": "2024-02-07T19:08:31.263Z"
   },
   {
    "duration": 38,
    "start_time": "2024-02-07T19:08:31.303Z"
   },
   {
    "duration": 28,
    "start_time": "2024-02-07T19:08:31.345Z"
   },
   {
    "duration": 1827,
    "start_time": "2024-02-07T19:08:31.375Z"
   },
   {
    "duration": 10,
    "start_time": "2024-02-07T19:08:33.204Z"
   },
   {
    "duration": 6,
    "start_time": "2024-02-07T19:08:33.217Z"
   },
   {
    "duration": 5,
    "start_time": "2024-02-07T19:08:33.225Z"
   },
   {
    "duration": 7,
    "start_time": "2024-02-07T19:08:33.232Z"
   },
   {
    "duration": 5,
    "start_time": "2024-02-07T19:08:33.241Z"
   },
   {
    "duration": 40,
    "start_time": "2024-02-07T19:08:33.248Z"
   },
   {
    "duration": 5,
    "start_time": "2024-02-07T19:08:33.290Z"
   },
   {
    "duration": 34,
    "start_time": "2024-02-07T19:08:33.296Z"
   },
   {
    "duration": 5,
    "start_time": "2024-02-07T19:08:33.332Z"
   },
   {
    "duration": 170,
    "start_time": "2024-02-07T19:08:33.339Z"
   },
   {
    "duration": 3,
    "start_time": "2024-02-07T19:08:34.962Z"
   },
   {
    "duration": 28,
    "start_time": "2024-02-07T19:08:34.967Z"
   },
   {
    "duration": 14,
    "start_time": "2024-02-07T19:08:34.997Z"
   },
   {
    "duration": 31,
    "start_time": "2024-02-07T19:08:35.013Z"
   },
   {
    "duration": 5,
    "start_time": "2024-02-07T19:08:35.046Z"
   },
   {
    "duration": 12,
    "start_time": "2024-02-07T19:08:35.052Z"
   },
   {
    "duration": 21,
    "start_time": "2024-02-07T19:08:35.066Z"
   },
   {
    "duration": 4,
    "start_time": "2024-02-07T19:08:35.089Z"
   },
   {
    "duration": 10,
    "start_time": "2024-02-07T19:08:35.095Z"
   },
   {
    "duration": 946,
    "start_time": "2024-02-07T19:08:35.106Z"
   },
   {
    "duration": 121,
    "start_time": "2024-02-07T19:08:36.053Z"
   },
   {
    "duration": 216,
    "start_time": "2024-02-07T19:08:36.176Z"
   },
   {
    "duration": 3,
    "start_time": "2024-02-07T19:08:36.394Z"
   },
   {
    "duration": 9,
    "start_time": "2024-02-07T19:08:36.398Z"
   },
   {
    "duration": 6,
    "start_time": "2024-02-07T19:08:36.409Z"
   },
   {
    "duration": 24,
    "start_time": "2024-02-07T19:08:36.417Z"
   },
   {
    "duration": 19,
    "start_time": "2024-02-07T19:08:38.044Z"
   },
   {
    "duration": 7,
    "start_time": "2024-02-07T19:08:38.064Z"
   },
   {
    "duration": 23,
    "start_time": "2024-02-07T19:08:38.072Z"
   },
   {
    "duration": 7,
    "start_time": "2024-02-07T19:08:47.529Z"
   },
   {
    "duration": 5,
    "start_time": "2024-02-07T19:08:47.538Z"
   },
   {
    "duration": 28,
    "start_time": "2024-02-07T19:08:47.544Z"
   },
   {
    "duration": 6,
    "start_time": "2024-02-07T19:08:47.573Z"
   },
   {
    "duration": 17,
    "start_time": "2024-02-07T19:08:47.581Z"
   },
   {
    "duration": 26,
    "start_time": "2024-02-07T19:08:47.600Z"
   },
   {
    "duration": 26,
    "start_time": "2024-02-07T19:08:47.628Z"
   },
   {
    "duration": 6,
    "start_time": "2024-02-07T19:08:47.656Z"
   },
   {
    "duration": 52,
    "start_time": "2024-02-07T19:08:47.664Z"
   },
   {
    "duration": 6,
    "start_time": "2024-02-07T19:08:49.445Z"
   },
   {
    "duration": 12,
    "start_time": "2024-02-07T19:08:49.453Z"
   },
   {
    "duration": 6,
    "start_time": "2024-02-07T19:08:49.467Z"
   },
   {
    "duration": 8,
    "start_time": "2024-02-07T19:08:49.474Z"
   },
   {
    "duration": 5,
    "start_time": "2024-02-07T19:08:49.484Z"
   },
   {
    "duration": 3,
    "start_time": "2024-02-07T19:08:49.491Z"
   },
   {
    "duration": 298,
    "start_time": "2024-02-07T19:08:49.496Z"
   },
   {
    "duration": 10,
    "start_time": "2024-02-07T19:08:49.796Z"
   },
   {
    "duration": 22,
    "start_time": "2024-02-07T19:08:49.808Z"
   },
   {
    "duration": 721,
    "start_time": "2024-02-07T19:08:59.245Z"
   },
   {
    "duration": 196,
    "start_time": "2024-02-07T19:08:59.967Z"
   },
   {
    "duration": 191,
    "start_time": "2024-02-07T19:09:00.165Z"
   },
   {
    "duration": 5,
    "start_time": "2024-02-07T19:09:00.358Z"
   },
   {
    "duration": 62,
    "start_time": "2024-02-07T19:09:00.364Z"
   },
   {
    "duration": 35,
    "start_time": "2024-02-07T19:09:00.428Z"
   },
   {
    "duration": 125,
    "start_time": "2024-02-07T19:09:03.779Z"
   },
   {
    "duration": 85,
    "start_time": "2024-02-07T19:09:03.906Z"
   },
   {
    "duration": 9,
    "start_time": "2024-02-07T19:09:03.993Z"
   },
   {
    "duration": 235,
    "start_time": "2024-02-07T19:09:04.003Z"
   },
   {
    "duration": 6,
    "start_time": "2024-02-07T19:09:04.240Z"
   },
   {
    "duration": 18,
    "start_time": "2024-02-07T19:09:04.247Z"
   },
   {
    "duration": 207,
    "start_time": "2024-02-07T19:09:04.266Z"
   },
   {
    "duration": 47,
    "start_time": "2024-02-07T19:09:04.475Z"
   },
   {
    "duration": 134,
    "start_time": "2024-02-07T19:09:04.523Z"
   },
   {
    "duration": 180,
    "start_time": "2024-02-07T19:09:04.658Z"
   },
   {
    "duration": 179,
    "start_time": "2024-02-07T19:09:04.839Z"
   },
   {
    "duration": 4,
    "start_time": "2024-02-07T19:09:05.019Z"
   },
   {
    "duration": 15,
    "start_time": "2024-02-07T19:09:05.025Z"
   },
   {
    "duration": 7,
    "start_time": "2024-02-07T19:09:05.042Z"
   },
   {
    "duration": 2510,
    "start_time": "2024-02-07T19:09:05.051Z"
   },
   {
    "duration": 12,
    "start_time": "2024-02-07T19:09:07.563Z"
   },
   {
    "duration": 1587,
    "start_time": "2024-02-07T19:09:07.587Z"
   },
   {
    "duration": 15,
    "start_time": "2024-02-07T19:09:09.175Z"
   },
   {
    "duration": 404,
    "start_time": "2024-02-07T19:09:15.185Z"
   },
   {
    "duration": 16,
    "start_time": "2024-02-07T19:09:15.590Z"
   },
   {
    "duration": 14,
    "start_time": "2024-02-07T19:09:15.607Z"
   },
   {
    "duration": 153,
    "start_time": "2024-02-07T19:09:15.622Z"
   },
   {
    "duration": 5,
    "start_time": "2024-02-07T19:11:57.612Z"
   },
   {
    "duration": 106,
    "start_time": "2024-02-07T19:13:05.596Z"
   },
   {
    "duration": 5,
    "start_time": "2024-02-07T19:13:28.453Z"
   },
   {
    "duration": 6,
    "start_time": "2024-02-07T19:13:34.079Z"
   },
   {
    "duration": 5,
    "start_time": "2024-02-07T19:13:41.013Z"
   },
   {
    "duration": 5,
    "start_time": "2024-02-07T19:13:45.447Z"
   },
   {
    "duration": 20,
    "start_time": "2024-02-07T19:20:26.466Z"
   },
   {
    "duration": 8,
    "start_time": "2024-02-07T19:21:54.333Z"
   },
   {
    "duration": 6,
    "start_time": "2024-02-07T19:22:20.739Z"
   },
   {
    "duration": 7,
    "start_time": "2024-02-07T19:22:35.635Z"
   },
   {
    "duration": 5,
    "start_time": "2024-02-07T19:22:37.088Z"
   },
   {
    "duration": 7,
    "start_time": "2024-02-07T19:25:31.370Z"
   },
   {
    "duration": 16,
    "start_time": "2024-02-07T19:25:33.106Z"
   },
   {
    "duration": 5,
    "start_time": "2024-02-07T19:26:13.853Z"
   },
   {
    "duration": 5,
    "start_time": "2024-02-07T19:26:22.263Z"
   },
   {
    "duration": 2,
    "start_time": "2024-02-07T19:31:28.598Z"
   },
   {
    "duration": 15,
    "start_time": "2024-02-07T19:32:26.894Z"
   },
   {
    "duration": 2,
    "start_time": "2024-02-07T19:32:31.269Z"
   },
   {
    "duration": 16,
    "start_time": "2024-02-07T19:33:37.018Z"
   },
   {
    "duration": 120,
    "start_time": "2024-02-07T19:33:38.235Z"
   },
   {
    "duration": 4,
    "start_time": "2024-02-07T19:35:49.144Z"
   },
   {
    "duration": 14,
    "start_time": "2024-02-07T19:37:48.123Z"
   },
   {
    "duration": 12,
    "start_time": "2024-02-07T19:38:13.017Z"
   },
   {
    "duration": 3,
    "start_time": "2024-02-07T19:38:26.320Z"
   },
   {
    "duration": 89,
    "start_time": "2024-02-07T19:38:26.325Z"
   },
   {
    "duration": 32,
    "start_time": "2024-02-07T19:38:26.416Z"
   },
   {
    "duration": 4,
    "start_time": "2024-02-07T19:38:26.449Z"
   },
   {
    "duration": 33,
    "start_time": "2024-02-07T19:38:26.455Z"
   },
   {
    "duration": 4,
    "start_time": "2024-02-07T19:38:26.489Z"
   },
   {
    "duration": 1760,
    "start_time": "2024-02-07T19:38:26.494Z"
   },
   {
    "duration": 11,
    "start_time": "2024-02-07T19:38:28.256Z"
   },
   {
    "duration": 6,
    "start_time": "2024-02-07T19:38:28.268Z"
   },
   {
    "duration": 22,
    "start_time": "2024-02-07T19:38:28.275Z"
   },
   {
    "duration": 16,
    "start_time": "2024-02-07T19:38:28.300Z"
   },
   {
    "duration": 14,
    "start_time": "2024-02-07T19:38:28.318Z"
   },
   {
    "duration": 20,
    "start_time": "2024-02-07T19:38:28.333Z"
   },
   {
    "duration": 16,
    "start_time": "2024-02-07T19:38:28.354Z"
   },
   {
    "duration": 17,
    "start_time": "2024-02-07T19:38:28.371Z"
   },
   {
    "duration": 11,
    "start_time": "2024-02-07T19:38:28.389Z"
   },
   {
    "duration": 173,
    "start_time": "2024-02-07T19:38:28.401Z"
   },
   {
    "duration": 3,
    "start_time": "2024-02-07T19:38:28.575Z"
   },
   {
    "duration": 19,
    "start_time": "2024-02-07T19:38:28.580Z"
   },
   {
    "duration": 9,
    "start_time": "2024-02-07T19:38:28.601Z"
   },
   {
    "duration": 21,
    "start_time": "2024-02-07T19:38:28.612Z"
   },
   {
    "duration": 4,
    "start_time": "2024-02-07T19:38:28.634Z"
   },
   {
    "duration": 23,
    "start_time": "2024-02-07T19:38:28.639Z"
   },
   {
    "duration": 19,
    "start_time": "2024-02-07T19:38:28.663Z"
   },
   {
    "duration": 7,
    "start_time": "2024-02-07T19:38:28.683Z"
   },
   {
    "duration": 19,
    "start_time": "2024-02-07T19:38:28.692Z"
   },
   {
    "duration": 953,
    "start_time": "2024-02-07T19:38:28.713Z"
   },
   {
    "duration": 114,
    "start_time": "2024-02-07T19:38:29.667Z"
   },
   {
    "duration": 122,
    "start_time": "2024-02-07T19:38:29.786Z"
   },
   {
    "duration": 3,
    "start_time": "2024-02-07T19:38:29.909Z"
   },
   {
    "duration": 22,
    "start_time": "2024-02-07T19:38:29.913Z"
   },
   {
    "duration": 15,
    "start_time": "2024-02-07T19:38:29.936Z"
   },
   {
    "duration": 10,
    "start_time": "2024-02-07T19:38:29.953Z"
   },
   {
    "duration": 35,
    "start_time": "2024-02-07T19:38:29.964Z"
   },
   {
    "duration": 7,
    "start_time": "2024-02-07T19:38:30.000Z"
   },
   {
    "duration": 34,
    "start_time": "2024-02-07T19:38:30.009Z"
   },
   {
    "duration": 14,
    "start_time": "2024-02-07T19:38:30.045Z"
   },
   {
    "duration": 92,
    "start_time": "2024-02-07T19:38:30.061Z"
   },
   {
    "duration": 52,
    "start_time": "2024-02-07T19:38:30.154Z"
   },
   {
    "duration": 34,
    "start_time": "2024-02-07T19:38:30.208Z"
   },
   {
    "duration": 69,
    "start_time": "2024-02-07T19:38:30.244Z"
   },
   {
    "duration": 83,
    "start_time": "2024-02-07T19:38:30.314Z"
   },
   {
    "duration": 50,
    "start_time": "2024-02-07T19:38:30.399Z"
   },
   {
    "duration": 24,
    "start_time": "2024-02-07T19:38:30.450Z"
   },
   {
    "duration": 66,
    "start_time": "2024-02-07T19:38:30.476Z"
   },
   {
    "duration": 31,
    "start_time": "2024-02-07T19:38:30.543Z"
   },
   {
    "duration": 49,
    "start_time": "2024-02-07T19:38:30.576Z"
   },
   {
    "duration": 72,
    "start_time": "2024-02-07T19:38:30.627Z"
   },
   {
    "duration": 45,
    "start_time": "2024-02-07T19:38:30.701Z"
   },
   {
    "duration": 43,
    "start_time": "2024-02-07T19:38:30.748Z"
   },
   {
    "duration": 31,
    "start_time": "2024-02-07T19:38:30.793Z"
   },
   {
    "duration": 321,
    "start_time": "2024-02-07T19:38:30.826Z"
   },
   {
    "duration": 9,
    "start_time": "2024-02-07T19:38:31.149Z"
   },
   {
    "duration": 117,
    "start_time": "2024-02-07T19:38:31.159Z"
   },
   {
    "duration": 854,
    "start_time": "2024-02-07T19:38:31.277Z"
   },
   {
    "duration": 176,
    "start_time": "2024-02-07T19:38:32.132Z"
   },
   {
    "duration": 168,
    "start_time": "2024-02-07T19:38:32.310Z"
   },
   {
    "duration": 22,
    "start_time": "2024-02-07T19:38:32.480Z"
   },
   {
    "duration": 145,
    "start_time": "2024-02-07T19:38:32.503Z"
   },
   {
    "duration": 5,
    "start_time": "2024-02-07T19:38:32.649Z"
   },
   {
    "duration": 34,
    "start_time": "2024-02-07T19:38:32.656Z"
   },
   {
    "duration": 9,
    "start_time": "2024-02-07T19:38:45.451Z"
   },
   {
    "duration": 3,
    "start_time": "2024-02-07T19:43:07.875Z"
   },
   {
    "duration": 3,
    "start_time": "2024-02-07T19:44:16.039Z"
   },
   {
    "duration": 5,
    "start_time": "2024-02-07T19:44:32.405Z"
   },
   {
    "duration": 4,
    "start_time": "2024-02-07T19:45:38.534Z"
   },
   {
    "duration": 120,
    "start_time": "2024-02-07T19:51:42.008Z"
   },
   {
    "duration": 115,
    "start_time": "2024-02-07T19:51:46.664Z"
   },
   {
    "duration": 881,
    "start_time": "2024-02-07T20:13:45.187Z"
   },
   {
    "duration": 220,
    "start_time": "2024-02-07T20:18:53.257Z"
   },
   {
    "duration": 197,
    "start_time": "2024-02-07T20:19:27.356Z"
   },
   {
    "duration": 227,
    "start_time": "2024-02-07T20:19:31.184Z"
   },
   {
    "duration": 159,
    "start_time": "2024-02-07T20:20:34.095Z"
   },
   {
    "duration": 200,
    "start_time": "2024-02-07T20:21:44.770Z"
   },
   {
    "duration": 15,
    "start_time": "2024-02-07T20:21:58.800Z"
   },
   {
    "duration": 172,
    "start_time": "2024-02-07T20:23:06.188Z"
   },
   {
    "duration": 161,
    "start_time": "2024-02-07T20:23:12.733Z"
   },
   {
    "duration": 683,
    "start_time": "2024-02-07T20:31:01.122Z"
   },
   {
    "duration": 15,
    "start_time": "2024-02-07T20:35:00.167Z"
   },
   {
    "duration": 23,
    "start_time": "2024-02-07T20:48:34.394Z"
   },
   {
    "duration": 1148,
    "start_time": "2024-02-07T20:49:07.364Z"
   },
   {
    "duration": 93,
    "start_time": "2024-02-07T20:49:08.514Z"
   },
   {
    "duration": 35,
    "start_time": "2024-02-07T20:49:08.608Z"
   },
   {
    "duration": 2,
    "start_time": "2024-02-07T20:49:08.645Z"
   },
   {
    "duration": 18,
    "start_time": "2024-02-07T20:49:08.648Z"
   },
   {
    "duration": 20,
    "start_time": "2024-02-07T20:49:08.667Z"
   },
   {
    "duration": 1815,
    "start_time": "2024-02-07T20:49:08.689Z"
   },
   {
    "duration": 10,
    "start_time": "2024-02-07T20:49:10.505Z"
   },
   {
    "duration": 19,
    "start_time": "2024-02-07T20:49:10.517Z"
   },
   {
    "duration": 6,
    "start_time": "2024-02-07T20:49:10.539Z"
   },
   {
    "duration": 23,
    "start_time": "2024-02-07T20:49:10.546Z"
   },
   {
    "duration": 6,
    "start_time": "2024-02-07T20:49:10.570Z"
   },
   {
    "duration": 18,
    "start_time": "2024-02-07T20:49:10.578Z"
   },
   {
    "duration": 5,
    "start_time": "2024-02-07T20:49:10.597Z"
   },
   {
    "duration": 19,
    "start_time": "2024-02-07T20:49:10.604Z"
   },
   {
    "duration": 5,
    "start_time": "2024-02-07T20:49:10.625Z"
   },
   {
    "duration": 172,
    "start_time": "2024-02-07T20:49:10.632Z"
   },
   {
    "duration": 3,
    "start_time": "2024-02-07T20:49:10.805Z"
   },
   {
    "duration": 11,
    "start_time": "2024-02-07T20:49:10.810Z"
   },
   {
    "duration": 11,
    "start_time": "2024-02-07T20:49:10.823Z"
   },
   {
    "duration": 20,
    "start_time": "2024-02-07T20:49:10.835Z"
   },
   {
    "duration": 5,
    "start_time": "2024-02-07T20:49:10.856Z"
   },
   {
    "duration": 8,
    "start_time": "2024-02-07T20:49:10.888Z"
   },
   {
    "duration": 22,
    "start_time": "2024-02-07T20:49:10.897Z"
   },
   {
    "duration": 5,
    "start_time": "2024-02-07T20:49:10.921Z"
   },
   {
    "duration": 12,
    "start_time": "2024-02-07T20:49:10.927Z"
   },
   {
    "duration": 935,
    "start_time": "2024-02-07T20:49:10.940Z"
   },
   {
    "duration": 116,
    "start_time": "2024-02-07T20:49:11.878Z"
   },
   {
    "duration": 132,
    "start_time": "2024-02-07T20:49:11.996Z"
   },
   {
    "duration": 3,
    "start_time": "2024-02-07T20:49:12.130Z"
   },
   {
    "duration": 23,
    "start_time": "2024-02-07T20:49:12.135Z"
   },
   {
    "duration": 10,
    "start_time": "2024-02-07T20:49:12.160Z"
   },
   {
    "duration": 17,
    "start_time": "2024-02-07T20:49:12.171Z"
   },
   {
    "duration": 21,
    "start_time": "2024-02-07T20:49:12.189Z"
   },
   {
    "duration": 8,
    "start_time": "2024-02-07T20:49:12.212Z"
   },
   {
    "duration": 20,
    "start_time": "2024-02-07T20:49:12.221Z"
   },
   {
    "duration": 7,
    "start_time": "2024-02-07T20:49:12.243Z"
   },
   {
    "duration": 35,
    "start_time": "2024-02-07T20:49:12.252Z"
   },
   {
    "duration": 29,
    "start_time": "2024-02-07T20:49:12.289Z"
   },
   {
    "duration": 7,
    "start_time": "2024-02-07T20:49:12.319Z"
   },
   {
    "duration": 7,
    "start_time": "2024-02-07T20:49:12.328Z"
   },
   {
    "duration": 26,
    "start_time": "2024-02-07T20:49:12.337Z"
   },
   {
    "duration": 42,
    "start_time": "2024-02-07T20:49:12.364Z"
   },
   {
    "duration": 6,
    "start_time": "2024-02-07T20:49:12.407Z"
   },
   {
    "duration": 76,
    "start_time": "2024-02-07T20:49:12.415Z"
   },
   {
    "duration": 5,
    "start_time": "2024-02-07T20:49:12.492Z"
   },
   {
    "duration": 19,
    "start_time": "2024-02-07T20:49:12.498Z"
   },
   {
    "duration": 5,
    "start_time": "2024-02-07T20:49:12.519Z"
   },
   {
    "duration": 19,
    "start_time": "2024-02-07T20:49:12.525Z"
   },
   {
    "duration": 34,
    "start_time": "2024-02-07T20:49:12.545Z"
   },
   {
    "duration": 18,
    "start_time": "2024-02-07T20:49:12.580Z"
   },
   {
    "duration": 320,
    "start_time": "2024-02-07T20:49:12.600Z"
   },
   {
    "duration": 10,
    "start_time": "2024-02-07T20:49:12.922Z"
   },
   {
    "duration": 23,
    "start_time": "2024-02-07T20:49:12.933Z"
   },
   {
    "duration": 905,
    "start_time": "2024-02-07T20:49:12.957Z"
   },
   {
    "duration": 207,
    "start_time": "2024-02-07T20:49:13.863Z"
   },
   {
    "duration": 195,
    "start_time": "2024-02-07T20:49:14.072Z"
   },
   {
    "duration": 20,
    "start_time": "2024-02-07T20:49:14.268Z"
   },
   {
    "duration": 143,
    "start_time": "2024-02-07T20:49:14.290Z"
   },
   {
    "duration": 8,
    "start_time": "2024-02-07T20:49:14.435Z"
   },
   {
    "duration": 21,
    "start_time": "2024-02-07T20:49:14.445Z"
   },
   {
    "duration": 8,
    "start_time": "2024-02-07T20:49:14.468Z"
   },
   {
    "duration": 90,
    "start_time": "2024-02-07T20:49:14.487Z"
   },
   {
    "duration": 17,
    "start_time": "2024-02-07T20:49:14.579Z"
   },
   {
    "duration": 182,
    "start_time": "2024-02-07T20:49:14.598Z"
   },
   {
    "duration": 11,
    "start_time": "2024-02-07T20:49:14.781Z"
   },
   {
    "duration": 31,
    "start_time": "2024-02-07T20:49:14.793Z"
   },
   {
    "duration": 163,
    "start_time": "2024-02-07T20:49:14.826Z"
   },
   {
    "duration": 70,
    "start_time": "2024-02-07T20:49:14.991Z"
   },
   {
    "duration": 147,
    "start_time": "2024-02-07T20:49:15.062Z"
   },
   {
    "duration": 234,
    "start_time": "2024-02-07T20:49:15.211Z"
   },
   {
    "duration": 281,
    "start_time": "2024-02-07T20:49:15.447Z"
   },
   {
    "duration": 5,
    "start_time": "2024-02-07T20:49:15.729Z"
   },
   {
    "duration": 5,
    "start_time": "2024-02-07T20:49:15.735Z"
   },
   {
    "duration": 8,
    "start_time": "2024-02-07T20:49:15.741Z"
   },
   {
    "duration": 3145,
    "start_time": "2024-02-07T20:49:15.751Z"
   },
   {
    "duration": 12,
    "start_time": "2024-02-07T20:49:18.898Z"
   },
   {
    "duration": 643,
    "start_time": "2024-02-07T20:49:18.912Z"
   },
   {
    "duration": 335,
    "start_time": "2024-02-07T20:49:19.556Z"
   },
   {
    "duration": 14,
    "start_time": "2024-02-07T20:49:19.893Z"
   },
   {
    "duration": 161,
    "start_time": "2024-02-07T20:49:19.908Z"
   },
   {
    "duration": 23,
    "start_time": "2024-02-07T20:49:20.074Z"
   },
   {
    "duration": 145,
    "start_time": "2024-02-07T20:49:20.098Z"
   },
   {
    "duration": 21,
    "start_time": "2024-02-07T21:13:40.496Z"
   },
   {
    "duration": 15,
    "start_time": "2024-02-07T21:16:05.089Z"
   },
   {
    "duration": 143,
    "start_time": "2024-02-07T21:16:09.196Z"
   },
   {
    "duration": 1163,
    "start_time": "2024-02-07T21:26:18.776Z"
   },
   {
    "duration": 93,
    "start_time": "2024-02-07T21:26:19.940Z"
   },
   {
    "duration": 36,
    "start_time": "2024-02-07T21:26:20.035Z"
   },
   {
    "duration": 2,
    "start_time": "2024-02-07T21:26:20.073Z"
   },
   {
    "duration": 54,
    "start_time": "2024-02-07T21:26:20.077Z"
   },
   {
    "duration": 5,
    "start_time": "2024-02-07T21:26:20.133Z"
   },
   {
    "duration": 2077,
    "start_time": "2024-02-07T21:26:20.139Z"
   },
   {
    "duration": 10,
    "start_time": "2024-02-07T21:26:22.217Z"
   },
   {
    "duration": 8,
    "start_time": "2024-02-07T21:26:22.228Z"
   },
   {
    "duration": 9,
    "start_time": "2024-02-07T21:26:22.238Z"
   },
   {
    "duration": 40,
    "start_time": "2024-02-07T21:26:22.248Z"
   },
   {
    "duration": 6,
    "start_time": "2024-02-07T21:26:22.290Z"
   },
   {
    "duration": 14,
    "start_time": "2024-02-07T21:26:22.297Z"
   },
   {
    "duration": 8,
    "start_time": "2024-02-07T21:26:22.312Z"
   },
   {
    "duration": 8,
    "start_time": "2024-02-07T21:26:22.321Z"
   },
   {
    "duration": 58,
    "start_time": "2024-02-07T21:26:22.330Z"
   },
   {
    "duration": 335,
    "start_time": "2024-02-07T21:26:22.389Z"
   },
   {
    "duration": 3,
    "start_time": "2024-02-07T21:26:22.725Z"
   },
   {
    "duration": 60,
    "start_time": "2024-02-07T21:26:22.730Z"
   },
   {
    "duration": 10,
    "start_time": "2024-02-07T21:26:22.792Z"
   },
   {
    "duration": 50,
    "start_time": "2024-02-07T21:26:22.803Z"
   },
   {
    "duration": 4,
    "start_time": "2024-02-07T21:26:22.887Z"
   },
   {
    "duration": 12,
    "start_time": "2024-02-07T21:26:22.892Z"
   },
   {
    "duration": 10,
    "start_time": "2024-02-07T21:26:22.906Z"
   },
   {
    "duration": 6,
    "start_time": "2024-02-07T21:26:22.917Z"
   },
   {
    "duration": 10,
    "start_time": "2024-02-07T21:26:22.925Z"
   },
   {
    "duration": 961,
    "start_time": "2024-02-07T21:26:22.936Z"
   },
   {
    "duration": 119,
    "start_time": "2024-02-07T21:26:23.901Z"
   },
   {
    "duration": 115,
    "start_time": "2024-02-07T21:26:24.021Z"
   },
   {
    "duration": 3,
    "start_time": "2024-02-07T21:26:24.138Z"
   },
   {
    "duration": 13,
    "start_time": "2024-02-07T21:26:24.143Z"
   },
   {
    "duration": 18,
    "start_time": "2024-02-07T21:26:24.157Z"
   },
   {
    "duration": 32,
    "start_time": "2024-02-07T21:26:24.176Z"
   },
   {
    "duration": 24,
    "start_time": "2024-02-07T21:26:24.209Z"
   },
   {
    "duration": 10,
    "start_time": "2024-02-07T21:26:24.234Z"
   },
   {
    "duration": 31,
    "start_time": "2024-02-07T21:26:24.245Z"
   },
   {
    "duration": 7,
    "start_time": "2024-02-07T21:26:24.278Z"
   },
   {
    "duration": 25,
    "start_time": "2024-02-07T21:26:24.286Z"
   },
   {
    "duration": 37,
    "start_time": "2024-02-07T21:26:24.313Z"
   },
   {
    "duration": 7,
    "start_time": "2024-02-07T21:26:24.351Z"
   },
   {
    "duration": 11,
    "start_time": "2024-02-07T21:26:24.360Z"
   },
   {
    "duration": 30,
    "start_time": "2024-02-07T21:26:24.372Z"
   },
   {
    "duration": 48,
    "start_time": "2024-02-07T21:26:24.404Z"
   },
   {
    "duration": 8,
    "start_time": "2024-02-07T21:26:24.454Z"
   },
   {
    "duration": 66,
    "start_time": "2024-02-07T21:26:24.463Z"
   },
   {
    "duration": 5,
    "start_time": "2024-02-07T21:26:24.530Z"
   },
   {
    "duration": 12,
    "start_time": "2024-02-07T21:26:24.536Z"
   },
   {
    "duration": 18,
    "start_time": "2024-02-07T21:26:24.549Z"
   },
   {
    "duration": 22,
    "start_time": "2024-02-07T21:26:24.568Z"
   },
   {
    "duration": 20,
    "start_time": "2024-02-07T21:26:24.591Z"
   },
   {
    "duration": 20,
    "start_time": "2024-02-07T21:26:24.612Z"
   },
   {
    "duration": 325,
    "start_time": "2024-02-07T21:26:24.633Z"
   },
   {
    "duration": 9,
    "start_time": "2024-02-07T21:26:24.960Z"
   },
   {
    "duration": 70,
    "start_time": "2024-02-07T21:26:24.970Z"
   },
   {
    "duration": 869,
    "start_time": "2024-02-07T21:26:25.042Z"
   },
   {
    "duration": 179,
    "start_time": "2024-02-07T21:26:25.913Z"
   },
   {
    "duration": 173,
    "start_time": "2024-02-07T21:26:26.094Z"
   },
   {
    "duration": 29,
    "start_time": "2024-02-07T21:26:26.268Z"
   },
   {
    "duration": 127,
    "start_time": "2024-02-07T21:26:26.298Z"
   },
   {
    "duration": 5,
    "start_time": "2024-02-07T21:26:26.427Z"
   },
   {
    "duration": 21,
    "start_time": "2024-02-07T21:26:26.433Z"
   },
   {
    "duration": 4,
    "start_time": "2024-02-07T21:26:26.455Z"
   },
   {
    "duration": 89,
    "start_time": "2024-02-07T21:26:26.460Z"
   },
   {
    "duration": 8,
    "start_time": "2024-02-07T21:26:26.551Z"
   },
   {
    "duration": 152,
    "start_time": "2024-02-07T21:26:26.560Z"
   },
   {
    "duration": 6,
    "start_time": "2024-02-07T21:26:26.713Z"
   },
   {
    "duration": 49,
    "start_time": "2024-02-07T21:26:26.720Z"
   },
   {
    "duration": 165,
    "start_time": "2024-02-07T21:26:26.770Z"
   },
   {
    "duration": 73,
    "start_time": "2024-02-07T21:26:26.936Z"
   },
   {
    "duration": 130,
    "start_time": "2024-02-07T21:26:27.011Z"
   },
   {
    "duration": 179,
    "start_time": "2024-02-07T21:26:27.143Z"
   },
   {
    "duration": 259,
    "start_time": "2024-02-07T21:26:27.323Z"
   },
   {
    "duration": 6,
    "start_time": "2024-02-07T21:26:27.583Z"
   },
   {
    "duration": 20,
    "start_time": "2024-02-07T21:26:27.590Z"
   },
   {
    "duration": 26,
    "start_time": "2024-02-07T21:26:27.611Z"
   },
   {
    "duration": 2373,
    "start_time": "2024-02-07T21:26:27.638Z"
   },
   {
    "duration": 12,
    "start_time": "2024-02-07T21:26:30.013Z"
   },
   {
    "duration": 624,
    "start_time": "2024-02-07T21:26:30.027Z"
   },
   {
    "duration": 275,
    "start_time": "2024-02-07T21:26:30.653Z"
   },
   {
    "duration": 14,
    "start_time": "2024-02-07T21:26:30.930Z"
   },
   {
    "duration": 157,
    "start_time": "2024-02-07T21:26:30.946Z"
   },
   {
    "duration": 14,
    "start_time": "2024-02-07T21:26:31.108Z"
   },
   {
    "duration": 169,
    "start_time": "2024-02-07T21:26:31.123Z"
   },
   {
    "duration": 1226,
    "start_time": "2024-02-08T06:05:11.104Z"
   },
   {
    "duration": 108,
    "start_time": "2024-02-08T06:05:12.332Z"
   },
   {
    "duration": 46,
    "start_time": "2024-02-08T06:05:12.442Z"
   },
   {
    "duration": 3,
    "start_time": "2024-02-08T06:05:12.490Z"
   },
   {
    "duration": 38,
    "start_time": "2024-02-08T06:05:12.494Z"
   },
   {
    "duration": 6,
    "start_time": "2024-02-08T06:05:12.534Z"
   },
   {
    "duration": 2161,
    "start_time": "2024-02-08T06:05:12.542Z"
   },
   {
    "duration": 11,
    "start_time": "2024-02-08T06:05:14.704Z"
   },
   {
    "duration": 7,
    "start_time": "2024-02-08T06:05:14.716Z"
   },
   {
    "duration": 34,
    "start_time": "2024-02-08T06:05:14.725Z"
   },
   {
    "duration": 8,
    "start_time": "2024-02-08T06:05:14.760Z"
   },
   {
    "duration": 6,
    "start_time": "2024-02-08T06:05:14.770Z"
   },
   {
    "duration": 8,
    "start_time": "2024-02-08T06:05:14.778Z"
   },
   {
    "duration": 6,
    "start_time": "2024-02-08T06:05:14.787Z"
   },
   {
    "duration": 14,
    "start_time": "2024-02-08T06:05:14.795Z"
   },
   {
    "duration": 15,
    "start_time": "2024-02-08T06:05:14.811Z"
   },
   {
    "duration": 236,
    "start_time": "2024-02-08T06:05:14.827Z"
   },
   {
    "duration": 4,
    "start_time": "2024-02-08T06:05:15.064Z"
   },
   {
    "duration": 32,
    "start_time": "2024-02-08T06:05:15.069Z"
   },
   {
    "duration": 52,
    "start_time": "2024-02-08T06:05:15.103Z"
   },
   {
    "duration": 42,
    "start_time": "2024-02-08T06:05:15.157Z"
   },
   {
    "duration": 12,
    "start_time": "2024-02-08T06:05:15.201Z"
   },
   {
    "duration": 38,
    "start_time": "2024-02-08T06:05:15.215Z"
   },
   {
    "duration": 23,
    "start_time": "2024-02-08T06:05:15.255Z"
   },
   {
    "duration": 6,
    "start_time": "2024-02-08T06:05:15.280Z"
   },
   {
    "duration": 22,
    "start_time": "2024-02-08T06:05:15.288Z"
   },
   {
    "duration": 1117,
    "start_time": "2024-02-08T06:05:15.312Z"
   },
   {
    "duration": 157,
    "start_time": "2024-02-08T06:05:16.436Z"
   },
   {
    "duration": 147,
    "start_time": "2024-02-08T06:05:16.595Z"
   },
   {
    "duration": 3,
    "start_time": "2024-02-08T06:05:16.744Z"
   },
   {
    "duration": 10,
    "start_time": "2024-02-08T06:05:16.758Z"
   },
   {
    "duration": 8,
    "start_time": "2024-02-08T06:05:16.770Z"
   },
   {
    "duration": 9,
    "start_time": "2024-02-08T06:05:16.780Z"
   },
   {
    "duration": 40,
    "start_time": "2024-02-08T06:05:16.791Z"
   },
   {
    "duration": 8,
    "start_time": "2024-02-08T06:05:16.833Z"
   },
   {
    "duration": 40,
    "start_time": "2024-02-08T06:05:16.843Z"
   },
   {
    "duration": 17,
    "start_time": "2024-02-08T06:05:16.884Z"
   },
   {
    "duration": 18,
    "start_time": "2024-02-08T06:05:16.903Z"
   },
   {
    "duration": 40,
    "start_time": "2024-02-08T06:05:16.922Z"
   },
   {
    "duration": 9,
    "start_time": "2024-02-08T06:05:16.963Z"
   },
   {
    "duration": 9,
    "start_time": "2024-02-08T06:05:16.974Z"
   },
   {
    "duration": 31,
    "start_time": "2024-02-08T06:05:16.985Z"
   },
   {
    "duration": 48,
    "start_time": "2024-02-08T06:05:17.018Z"
   },
   {
    "duration": 6,
    "start_time": "2024-02-08T06:05:17.068Z"
   },
   {
    "duration": 48,
    "start_time": "2024-02-08T06:05:17.076Z"
   },
   {
    "duration": 33,
    "start_time": "2024-02-08T06:05:17.126Z"
   },
   {
    "duration": 7,
    "start_time": "2024-02-08T06:05:17.161Z"
   },
   {
    "duration": 14,
    "start_time": "2024-02-08T06:05:17.169Z"
   },
   {
    "duration": 8,
    "start_time": "2024-02-08T06:05:17.186Z"
   },
   {
    "duration": 5,
    "start_time": "2024-02-08T06:05:17.196Z"
   },
   {
    "duration": 21,
    "start_time": "2024-02-08T06:05:17.203Z"
   },
   {
    "duration": 387,
    "start_time": "2024-02-08T06:05:17.225Z"
   },
   {
    "duration": 12,
    "start_time": "2024-02-08T06:05:17.614Z"
   },
   {
    "duration": 41,
    "start_time": "2024-02-08T06:05:17.627Z"
   },
   {
    "duration": 1037,
    "start_time": "2024-02-08T06:05:17.669Z"
   },
   {
    "duration": 226,
    "start_time": "2024-02-08T06:05:18.708Z"
   },
   {
    "duration": 222,
    "start_time": "2024-02-08T06:05:18.936Z"
   },
   {
    "duration": 18,
    "start_time": "2024-02-08T06:05:19.160Z"
   },
   {
    "duration": 155,
    "start_time": "2024-02-08T06:05:19.180Z"
   },
   {
    "duration": 5,
    "start_time": "2024-02-08T06:05:19.337Z"
   },
   {
    "duration": 16,
    "start_time": "2024-02-08T06:05:19.344Z"
   },
   {
    "duration": 24,
    "start_time": "2024-02-08T06:05:19.361Z"
   },
   {
    "duration": 103,
    "start_time": "2024-02-08T06:05:19.386Z"
   },
   {
    "duration": 9,
    "start_time": "2024-02-08T06:05:19.491Z"
   },
   {
    "duration": 176,
    "start_time": "2024-02-08T06:05:19.502Z"
   },
   {
    "duration": 6,
    "start_time": "2024-02-08T06:05:19.680Z"
   },
   {
    "duration": 42,
    "start_time": "2024-02-08T06:05:19.688Z"
   },
   {
    "duration": 182,
    "start_time": "2024-02-08T06:05:19.732Z"
   },
   {
    "duration": 80,
    "start_time": "2024-02-08T06:05:19.916Z"
   },
   {
    "duration": 180,
    "start_time": "2024-02-08T06:05:19.997Z"
   },
   {
    "duration": 217,
    "start_time": "2024-02-08T06:05:20.179Z"
   },
   {
    "duration": 294,
    "start_time": "2024-02-08T06:05:20.398Z"
   },
   {
    "duration": 5,
    "start_time": "2024-02-08T06:05:20.694Z"
   },
   {
    "duration": 14,
    "start_time": "2024-02-08T06:05:20.701Z"
   },
   {
    "duration": 28,
    "start_time": "2024-02-08T06:05:20.717Z"
   },
   {
    "duration": 2870,
    "start_time": "2024-02-08T06:05:20.747Z"
   },
   {
    "duration": 14,
    "start_time": "2024-02-08T06:05:23.619Z"
   },
   {
    "duration": 736,
    "start_time": "2024-02-08T06:05:23.635Z"
   },
   {
    "duration": 334,
    "start_time": "2024-02-08T06:05:24.373Z"
   },
   {
    "duration": 17,
    "start_time": "2024-02-08T06:05:24.709Z"
   },
   {
    "duration": 202,
    "start_time": "2024-02-08T06:05:24.728Z"
   },
   {
    "duration": 24,
    "start_time": "2024-02-08T06:05:24.936Z"
   },
   {
    "duration": 188,
    "start_time": "2024-02-08T06:05:24.962Z"
   },
   {
    "duration": 88,
    "start_time": "2024-02-08T06:06:09.991Z"
   },
   {
    "duration": 7,
    "start_time": "2024-02-08T06:06:38.256Z"
   },
   {
    "duration": 100,
    "start_time": "2024-02-08T06:07:09.899Z"
   }
  ],
  "colab": {
   "provenance": []
  },
  "kernelspec": {
   "display_name": "Python 3 (ipykernel)",
   "language": "python",
   "name": "python3"
  },
  "language_info": {
   "codemirror_mode": {
    "name": "ipython",
    "version": 3
   },
   "file_extension": ".py",
   "mimetype": "text/x-python",
   "name": "python",
   "nbconvert_exporter": "python",
   "pygments_lexer": "ipython3",
   "version": "3.11.5"
  },
  "toc": {
   "base_numbering": 1,
   "nav_menu": {},
   "number_sections": true,
   "sideBar": true,
   "skip_h1_title": true,
   "title_cell": "Table of Contents",
   "title_sidebar": "Contents",
   "toc_cell": false,
   "toc_position": {
    "height": "calc(100% - 180px)",
    "left": "10px",
    "top": "150px",
    "width": "248.575px"
   },
   "toc_section_display": true,
   "toc_window_display": true
  }
 },
 "nbformat": 4,
 "nbformat_minor": 1
}
